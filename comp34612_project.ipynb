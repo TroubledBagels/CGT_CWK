{
  "cells": [
    {
      "cell_type": "markdown",
      "metadata": {
        "id": "3XK1cooYe2X-"
      },
      "source": [
        "# Project Description"
      ]
    },
    {
      "cell_type": "markdown",
      "metadata": {
        "id": "91UIz8lSZPeE"
      },
      "source": [
        "##**Overview**\n",
        "Your task is to create a program that plays a repeated 2-person Stackelberg pricing games as the leader, under conditions of imperfect information.\n",
        "\n"
      ]
    },
    {
      "cell_type": "markdown",
      "metadata": {
        "id": "z8wKUBCGTuiM"
      },
      "source": [
        "## **Specifications**"
      ]
    },
    {
      "cell_type": "markdown",
      "metadata": {
        "id": "qCQi02j4fKN3"
      },
      "source": [
        "**Followers’ Specifications**\n",
        "\n",
        "*   There are three different followers, named as MK1, MK2, and MK3.\n",
        "*   The payoff function and strategy spaces of these followers are unknown. However, historical data from 100 days of previous games between the leader and each follower is available and provided."
      ]
    },
    {
      "cell_type": "markdown",
      "metadata": {
        "id": "tPzKFX9wfMvK"
      },
      "source": [
        "**Leader’s Specifications**\n",
        "\n",
        "Assume that the leader’s strategy (i.e., price) is $u_L$ and the follower’s strategy (i.e., price) is $u_F$. The specifics regarding the leader’s strategy and profits are as follows:\n",
        "*   **Unit cost**: $c_L=£1.00$\n",
        "*   **Strategy space**:\n",
        "      1.   When playing with MK1 and MK2, the leader’s strategy space is $U_L = [1.00, +∞)$\n",
        "      2.   When playing with MK3, the leader’s strategy space is $U_L = [1.00, 2.00]$     \n",
        "* \t**Demand Model** (i.e., price-sale relationship): $S_L(u_L, u_F)=2 - u_L + 0.3u_F$    \n",
        "*   **Daily Profit**: $(u_L - c_L)S_L(u_L, u_F)$\n",
        "*   **Objective**: The leader’s objective of playing is to maximise the accumulated profit for the next 30 days.\n",
        "*   **Assumption**: For simplicity, it is assumed that the leader’s unit cost, strategy space, and the demand model remain unchanged throughout the entire period of 130 days."
      ]
    },
    {
      "cell_type": "markdown",
      "metadata": {
        "id": "8FhASqXkT7Xo"
      },
      "source": [
        "## **Game Rules and Playing Scenarios**"
      ]
    },
    {
      "cell_type": "markdown",
      "metadata": {
        "id": "e6_isrDZfWPn"
      },
      "source": [
        "**Game Rules**\n",
        "\n",
        "On day $t$, the leader announces the price, $u_L (t)$, first. After learning the leader’s price, the follower will choose the responding price, $u_F (t)$. This process occurs over a period of $t=1,2,…,130$, where $t=1,2,…,100$ corresponds to the days for which historical data is available, and $t=101,102,…,130$ are the days during which the game will be played repeatedly.\n"
      ]
    },
    {
      "cell_type": "markdown",
      "metadata": {
        "id": "vS4WZ0D1gC2W"
      },
      "source": [
        "**Game Playing Scenarios**\n",
        "\n",
        "In this setup, your program, acting as the leader, will engage in three separate games against three different competitors, identified as followers MK1, MK2, and MK3.\n",
        "\n",
        "For each of the repeated game, the leader selects his learning method to learn the follower’s reaction function based on the provided set of historical data which spans from $t=1,2,…,100$. During the next 30 days ($t=101,102,…,130$), the leader announces a price, $u_L (t)$, to the game platform daily. After the leader's price is announced, the follower will respond with the price, $u_F (t)$. Upon receiving the follower's price, $u_F (t)$, from the game platform, the leader may use this new information to refine their knowledge/ update the learned reaction function and decide his price of the next day. In the other words, the leader (i.e., your program) should be able to take the follower’s price of the previous day from the game platform for updating, and then decide and send his price of the next day to the game platform.\n",
        "\n",
        "It should be emphasised that the follower’s strategy and payoff function is subject to the changing and time varying environment. That is, the parameters in the follower’s payoff function may not be the same every day.\n",
        "\n"
      ]
    },
    {
      "cell_type": "markdown",
      "metadata": {
        "id": "B1RpBx7FDNQ1"
      },
      "source": [
        "## **Implementation Options**\n",
        "1.\t**Single Leader Approach**: You may choose to design and implement a single leader algorithm that competes against all three followers, adapting its strategy based on the opponent being faced.\n",
        "2.\t**Multiple Leaders Approach**: Alternatively, you could design and implement three distinct leaders, each tailored to play against one of the followers. This approach allows for specialised strategies to be developed for each follower type.\n",
        "\n",
        "Whichever method you choose, it's crucial to document in this notebook section [Your Leader](#your-leader) which leader(s) is designed to play against each follower. This clarity will help in understanding the design choices and strategies implemented in your program.\n"
      ]
    },
    {
      "cell_type": "markdown",
      "metadata": {
        "id": "eBQDvQldUHHm"
      },
      "source": [
        "## **Project Timeline and Support**"
      ]
    },
    {
      "cell_type": "markdown",
      "metadata": {
        "id": "Om4Z5FdiF3nu"
      },
      "source": [
        "**Project Timeline**\n",
        "\n",
        "*\t**Week 7 (Starting 10 March)**: Start to work on your project and project planning.\n",
        "*\t**Week 11 (28 April – 2 May)**: Group presentations telling us what you have done.\n",
        "*\t**Deadline (2 May at 6:00pm)**: Deadline to submit codes and supporting document.\n"
      ]
    },
    {
      "cell_type": "markdown",
      "metadata": {
        "id": "cC_yPWtjGGSp"
      },
      "source": [
        "**Support**\n",
        "\n",
        "*\t**Weekly Support Sessions**: Project support sessions are scheduled every Wednesday from 11:00 am to 12:00 noon between Weeks 7 and 10. These sessions will be held at <u>Booth Street East -TH A (G.10)</u>. You are encouraged to attend if you have questions, need clarification, or seek guidance on any aspect of the project. Attendance is optional and based on your needs for support.\n",
        "*\t**Email**: In addition to the weekly sessions, you are welcome to ask questions or seek support via email at any time. If you encounter any issues with installing or running the game platform, or if you have any other project-related inquiries, do not hesitate to contact the teaching assistants by email for support.\n"
      ]
    },
    {
      "cell_type": "markdown",
      "metadata": {
        "id": "_x-VgyqaUdfr"
      },
      "source": [
        "## **Assessment Criteria and Submission**"
      ]
    },
    {
      "cell_type": "markdown",
      "metadata": {
        "id": "0boMLY1WGgHp"
      },
      "source": [
        "**Assessment Criteria**\n",
        "\n",
        "The project is a significant component of your final grade, accounting for 50% of the total mark, with the remaining 50% coming from the final examination. The project mark is distributed as follows:\n",
        "1.\t**Content of the Approach (50% of this project mark)**:\n",
        "  *\tPresentation (40%): Your grade in this category is based on the presentation you give in Week 11. This includes the originality of your idea, how well it integrates knowledge from the course, and any relevant external literature or research you have incorporated.\n",
        "  *\tWritten Materials (10%): This is based on the documentation you submit to your group journal on Blackboard. It evaluates the depth and clarity of your written explanation of the approach, including the rationale behind your strategies and methods.\n",
        "2.\t**Performance of the Approach (50% of this project mark)**:\n",
        "  *\tThis evaluates the effectiveness of your submitted program by looking at how well it performs in the game platform, that is, the accumulated profit generated by your submitted codes.\n",
        "3.\t**Group Mark Distribution**:\n",
        "  *\tThe overall group mark will be allocated to individual group members based on self-assessment and the demonstration of knowledge during the presentation.\n"
      ]
    },
    {
      "cell_type": "markdown",
      "metadata": {
        "id": "85CORLj_GxRs"
      },
      "source": [
        "**Presentation**\n",
        "\n",
        "During the presentation week of Semester 2, every group is scheduled to present their project to the lecturers. It is important for each group member to actively participate in speaking and answering questions. This participation allows us to evaluate each member's contributions to the project. The assessment criteria focus solely on the content of your presentation, including the activities your group undertook and the lessons learned through the project process. Presentation skills are not part of the evaluation, so the emphasis should not be on creating a polished presentation but on effectively communicating your project's substance and outcomes.\n"
      ]
    },
    {
      "cell_type": "markdown",
      "metadata": {
        "id": "qIQkFXQvG4Zg"
      },
      "source": [
        "**Performance of the Approach – Assessment Details**\n",
        "\n",
        "*\t**Step 1**. We will run your submitted codes against MK1, MK2, and MK3 and get the accumulated profit for the days $101 – 130$. These profits will be used as the performance of your submitted codes against MK1, MK2 and MK3\n",
        "*\t**Step 2**. We have also designed 3 further followers MK4, MK5, and MK6, which are created by slightly changes of the parameters of MK1, MK2, and MK3 respectively. That is, MK1 and MK4 are very similar, MK2 and MK5 are very similar, MK3 and MK6 are very similar. No data about MK$i$ ($i=4, 5, 6$) is provided. That is, they are invisible followers to you. But the setting of each MK$i$ ($i=4,5,6$) is the same as the provided followers, with 100 historical data and we will run your codes to get the accumulated profit for days $101 – 130$, which will be used as the performance of your submitted codes against MK4, MK5 and MK6.\n",
        "*\t**Step 3**. Based on the accumulated profits for MK1 and MK4 and compared with the best possible performances of MK1 and Mk4, your codes will get a percentage mark; Similarly you will get a percentage mark from MK2 and MK5, and then a percentage mark from MK3 and MK6. Finally your performance mark will be the average of these 3 percentage marks.\n",
        "\n",
        "**Remark**. The creation of MK4, MK5, and MK6 is a new assessment component for this year and so we are happy to hear any feedback, and change if necessary. The motivation and justification are as follows:\n",
        "*\tWe have run the codes submitted by the project groups of the last year to MK 4, MK5, and MK6, and noticed various issues, such as some submissions were hard coded for some parameters rather than via the learning; Some were invalid such as out of the price bounds; Some have the running errors etc.\n",
        "*\tIn real applications such as petrol station pricing, it is impossible to many many experiments and tests for each station, but we need a piece of software usable across a large numbers of petrol stations. The creation of MK4, MK5, and Mk6 is to simulate and test such a need from a real application point of view.\n",
        "*\tIn the last year, many groups produced very similar performance due to the limited test cases. The creation of MK4, MK5, and MK6 will provide more testing cases and help distinguishing the performance of different approaches.\n",
        "*\tAs MK4, MK5, and MK6 are invisible to you, this should not add your workload for the project.      \n"
      ]
    },
    {
      "cell_type": "markdown",
      "metadata": {
        "id": "zGyeiJeQIKBb"
      },
      "source": [
        "**Submission**\n",
        "\n",
        "All submissions will be marked using the free version of Google Colaboratory.\n",
        "* Make sure your implementation works within this environment.\n",
        "* Avoid using any external dependencies that might not be available.\n",
        "\n",
        "Please download this notebook for submission by clicking “File” in the top left corner, then selecting “Download” followed by “Download .ipynb”. If your notebook requires any external files to run, ensure that you submit them along with your notebook. Submission will be done through Blackboard, and further details will be provided later.\n"
      ]
    },
    {
      "cell_type": "markdown",
      "metadata": {
        "id": "J-qdogBfSO4i"
      },
      "source": [
        "## **Game Platform**"
      ]
    },
    {
      "cell_type": "markdown",
      "metadata": {
        "id": "YvDxER68UuGR"
      },
      "source": [
        "The project will be run on Google Colaboratory, which is a hosted Jupyter Notebook service. This is done to avoid compatibility issues across different operating systems and to provide a collaborative environment where group members can work effectively using Colab’s sharing functionality. Follow the steps below to set up and use Google Colaboratory for your project.\n"
      ]
    },
    {
      "cell_type": "markdown",
      "metadata": {
        "id": "zPVhHWzYTqPE"
      },
      "source": [
        "**Using Google Colaboratory for the Project**\n",
        "* Running Code\n",
        "  * Click on a cell and press Shift + Enter, or\n",
        "  * Click the Play button on the left side of the cell\n",
        "* Adding Cell\n",
        "  * Hover over an existing cell and click “+ Code” or “+ Text” where needed\n",
        "* Stopping a Running C→ell:\n",
        "  * From the top menu, click “Runtime” → “Interrupt execution”.\n",
        "* Restarting Runtime\n",
        "  * Click “Runtime” → “Restart session”.\n",
        "  * This will clear all variables.\n",
        "* Disconnecting and Deleting the Runtime\n",
        "  * Click “Runtime” → “Disconnect and delete session”.\n",
        "  * This will reset the Colaboratory environment completely.\n",
        "*\tSharing with Group Members\n",
        "  *\tYou can share your notebook with your group members by clicking “Share” in the top-right corner.\n",
        "  *\tBe careful when saving, if multiple people edit the notebook at the same time, you may overwrite each other’s work.\n",
        "*\tFor More Functionalities, please visit [this link](https://colab.research.google.com)."
      ]
    },
    {
      "cell_type": "markdown",
      "metadata": {
        "id": "87IPuwM3S4j4"
      },
      "source": [
        "**Understanding the Notebook Structure**\n",
        "\n",
        "The notebook is structured into several sections. You can click the first icon on the top left to open the “Table of contents” and navigate through different sections.\n",
        "1.\tProject Description: This section provides an overview of the project.\n",
        "2.\tInstall and Import: This section installs, imports necessary packages, and unzips comp34612.zip.\n",
        "3.\tBase Leader and Example Leader: This section contains the base leader class and an example leader implementation.\n",
        "4.\tYour Leader: In this section,\n",
        "\t*\tFirst write your group number as an integer.\n",
        "\t*\tThen implement your leader(s) based on the project requirements.\n",
        "\t*\tClearly document:\n",
        "      *\tWhich implementation approach you choose (single or multiple).\n",
        "      *\tWhich leader is designed to play against each follower.\n",
        "5.\tSimulation: This section provides an interface to simulate the pricing game between your selected leader and selected follower.\n"
      ]
    },
    {
      "cell_type": "markdown",
      "metadata": {
        "id": "wrdXoxQfRc9t"
      },
      "source": [
        "# Install and Import"
      ]
    },
    {
      "cell_type": "code",
      "execution_count": 1,
      "metadata": {
        "colab": {
          "base_uri": "https://localhost:8080/"
        },
        "id": "pwEA-WPoXA5-",
        "outputId": "6d9c6645-358b-403c-8fbf-7adb7715d869"
      },
      "outputs": [
        {
          "output_type": "stream",
          "name": "stdout",
          "text": [
            "Collecting xlsxwriter\n",
            "  Downloading XlsxWriter-3.2.3-py3-none-any.whl.metadata (2.7 kB)\n",
            "Downloading XlsxWriter-3.2.3-py3-none-any.whl (169 kB)\n",
            "\u001b[2K   \u001b[90m━━━━━━━━━━━━━━━━━━━━━━━━━━━━━━━━━━━━━━━━\u001b[0m \u001b[32m169.4/169.4 kB\u001b[0m \u001b[31m3.2 MB/s\u001b[0m eta \u001b[36m0:00:00\u001b[0m\n",
            "\u001b[?25hInstalling collected packages: xlsxwriter\n",
            "Successfully installed xlsxwriter-3.2.3\n"
          ]
        }
      ],
      "source": [
        "!pip install xlsxwriter"
      ]
    },
    {
      "cell_type": "code",
      "execution_count": 2,
      "metadata": {
        "id": "Hng6pqrylpxp"
      },
      "outputs": [],
      "source": [
        "import zipfile\n",
        "import os\n",
        "import random\n",
        "import gc\n",
        "from IPython.display import Javascript\n",
        "import pandas as pd\n",
        "pd.set_option('display.max_rows', None)\n",
        "pd.set_option('display.max_columns', None)"
      ]
    },
    {
      "cell_type": "code",
      "execution_count": 3,
      "metadata": {
        "id": "p4IhoMtcqal3"
      },
      "outputs": [],
      "source": [
        "extract_path = \".\"\n",
        "zip_filename = \"comp34612.zip\"\n",
        "\n",
        "os.makedirs(extract_path, exist_ok=True)\n",
        "\n",
        "# this has been changed from their default file cos their given code dont extract properly for the next imports to work\n",
        "with zipfile.ZipFile(zip_filename, \"r\") as zip_ref:\n",
        "    # Extract files manually to avoid recreating the top-level folder\n",
        "    for member in zip_ref.namelist():\n",
        "        member_path = member.split(\"/\", 1)[-1]\n",
        "        if member_path:  #ignore top level comp3... folder to just read its contents\n",
        "            zip_ref.extract(member, extract_path)\n",
        "            try:\n",
        "                os.rename(os.path.join(extract_path, member), os.path.join(extract_path, member_path))\n",
        "            except:\n",
        "                pass\n"
      ]
    },
    {
      "cell_type": "code",
      "execution_count": 4,
      "metadata": {
        "id": "a9vALA_KXC5D"
      },
      "outputs": [],
      "source": [
        "from engine import Engine\n",
        "from gui import GUI"
      ]
    },
    {
      "cell_type": "markdown",
      "metadata": {
        "id": "IicR1K3HPuq8"
      },
      "source": [
        "Please import the necessary packages here or use `!pip install *package_name*` if they are not already installed."
      ]
    },
    {
      "cell_type": "code",
      "execution_count": 4,
      "metadata": {
        "id": "Xqxk3fp-Qfr1"
      },
      "outputs": [],
      "source": []
    },
    {
      "cell_type": "markdown",
      "metadata": {
        "id": "KBvbZ_HOXLnw"
      },
      "source": [
        "# Base Leader and Example Leader"
      ]
    },
    {
      "cell_type": "markdown",
      "metadata": {
        "id": "gbUkLBfbclfY"
      },
      "source": [
        "## Base Leader"
      ]
    },
    {
      "cell_type": "markdown",
      "metadata": {
        "id": "QSTzajwQN-ul"
      },
      "source": [
        "This is the base class for all leader subclasses."
      ]
    },
    {
      "cell_type": "code",
      "execution_count": 5,
      "metadata": {
        "id": "4ywrl6-2P9HQ"
      },
      "outputs": [],
      "source": [
        "class Leader:\n",
        "    _subclass_registry = {}\n",
        "\n",
        "    def __init__(self, name, engine):\n",
        "        self.name = name\n",
        "        self.engine = engine\n",
        "\n",
        "    @classmethod\n",
        "    def cleanup_old_subclasses(cls):\n",
        "        \"\"\"\n",
        "        A function to remove old subclasses before defining new ones.\n",
        "        \"\"\"\n",
        "        existing_subclasses = list(cls.__subclasses__())\n",
        "\n",
        "        for subclass in existing_subclasses:\n",
        "            subclass_name = subclass.__name__\n",
        "            if subclass_name in cls._subclass_registry:\n",
        "                del cls._subclass_registry[subclass_name]\n",
        "                del subclass\n",
        "        gc.collect()\n",
        "\n",
        "    @classmethod\n",
        "    def update_subclass_registry(cls):\n",
        "        \"\"\"\n",
        "        A function to update registry after cleaning up old subclasses.\n",
        "        \"\"\"\n",
        "        cls.cleanup_old_subclasses()\n",
        "        cls._subclass_registry = {subclass.__name__: subclass for subclass in cls.__subclasses__()}\n",
        "\n",
        "    def new_price(self, date):\n",
        "        \"\"\"\n",
        "        A function for setting the new price of each day.\n",
        "        :param date: date of the day to be updated\n",
        "        :return: (float) price for the day\n",
        "        \"\"\"\n",
        "        pass\n",
        "\n",
        "    def get_price_from_date(self, date):\n",
        "        \"\"\"\n",
        "        A function for getting the price set on a date.\n",
        "        :param date: (int) date to get the price from\n",
        "        :return: a tuple (leader_price, follower_price)\n",
        "        \"\"\"\n",
        "        return self.engine.exposed_get_price(date)\n",
        "\n",
        "\n",
        "    def start_simulation(self):\n",
        "        \"\"\"\n",
        "        A function runs at the beginning of the simulation.\n",
        "        \"\"\"\n",
        "        pass\n",
        "\n",
        "    def end_simulation(self):\n",
        "        \"\"\"\n",
        "        A function runs at the beginning of the simulation.\n",
        "        \"\"\"\n",
        "        pass"
      ]
    },
    {
      "cell_type": "markdown",
      "metadata": {
        "id": "f3KUnys4cn-c"
      },
      "source": [
        "## Example Leader"
      ]
    },
    {
      "cell_type": "markdown",
      "metadata": {
        "id": "6i9DFkB5OFu0"
      },
      "source": [
        "This is a simple example leader subclass."
      ]
    },
    {
      "cell_type": "code",
      "execution_count": 6,
      "metadata": {
        "id": "nHoNCHFgXXNk"
      },
      "outputs": [],
      "source": [
        "import time\n",
        "\n",
        "class SimpleLeader(Leader):\n",
        "    def __init__(self, name, engine):\n",
        "        super().__init__(name, engine)\n",
        "\n",
        "    def new_price(self, date: int):\n",
        "        return 1.5 + random.random() * 0.1"
      ]
    },
    {
      "cell_type": "markdown",
      "metadata": {
        "id": "Es5sl3xeY-RC"
      },
      "source": [
        "<a name=\"your-leader\"></a>\n",
        "# Your Leader"
      ]
    },
    {
      "cell_type": "markdown",
      "metadata": {
        "id": "DOFA97hMPakW"
      },
      "source": [
        "Please write your group number below in type int."
      ]
    },
    {
      "cell_type": "code",
      "execution_count": 7,
      "metadata": {
        "id": "DAkMa8owPVHS"
      },
      "outputs": [],
      "source": [
        "group_num = 1\n",
        "assert isinstance(group_num, int), f\"Expected an integer for group_num, but got {type(group_num).__name__}\""
      ]
    },
    {
      "cell_type": "markdown",
      "metadata": {
        "id": "cXlrH9XrFaIH"
      },
      "source": [
        "Please implement your leaders below. Please clearly document:\n",
        "*   Which implementation approach you choose (single leader approach or multiple leaders approach)\n",
        "*   State which leader(s) is designed to play against each follower."
      ]
    },
    {
      "cell_type": "markdown",
      "metadata": {
        "id": "sYHeuEsB6hZJ"
      },
      "source": [
        "# Leader for Follower Mk1 (Linear Regression over Date and Follower Price)"
      ]
    },
    {
      "cell_type": "code",
      "execution_count": 8,
      "metadata": {
        "id": "t_omEQy_vZZ-"
      },
      "outputs": [],
      "source": [
        "import os\n",
        "import numpy as np\n",
        "from sklearn.model_selection import KFold\n",
        "from sklearn.preprocessing import PolynomialFeatures\n",
        "from sklearn.linear_model import LinearRegression\n",
        "\n",
        "class MK1Leader1(Leader):\n",
        "    def __init__(self, name, engine):\n",
        "        super().__init__(name, engine)\n",
        "        self.c_L = 1 # given\n",
        "        self.import_data(data_path='./data.xlsx')\n",
        "        self.train_follower_model(max_degree=5)\n",
        "\n",
        "    def demand_L(self, u_L, u_F):\n",
        "      return 2 - u_L + (0.3 * u_F)\n",
        "\n",
        "    def profit_L(self, u_L, u_F):\n",
        "      return (u_L - self.c_L) * self.demand_L(u_L, u_F)\n",
        "\n",
        "    def import_data(self, data_path):\n",
        "      if not os.path.exists(data_path):\n",
        "        raise FileNotFoundError(f\"Data file not found at path: {data_path}\")\n",
        "\n",
        "      xls = pd.ExcelFile(data_path)\n",
        "      self.historical_data = pd.read_excel(xls, 'Follower_Mk1')\n",
        "      new_names = {\"Leader's Price\": 'u_L', \"Follower's Price\": 'u_F', \"Date\": 't'}\n",
        "      self.historical_data.rename(columns=new_names, inplace=True)\n",
        "      print(f'Columns: {self.historical_data.columns}')\n",
        "\n",
        "    def train_follower_model(self, max_degree=5, num_splits=5):\n",
        "      \"\"\"\n",
        "      Train a model to predict the follower's best response given the leader's price u_L.\n",
        "      We train polynomial models up to degree max_degree and choose that which gives the best performance by minimising the mean squared error.\n",
        "      Trained using K_fold cross validation.\n",
        "\n",
        "      Args:\n",
        "          max_degree (int): The maximum degree of the polynomial model to be trained.\n",
        "          num_splits (int): The number of splits for K_fold cross validation.\n",
        "      \"\"\"\n",
        "      degrees = range(1, max_degree+1)\n",
        "      follower_models = {}\n",
        "      best_mse = float('inf')\n",
        "\n",
        "      kf = KFold(n_splits=num_splits, shuffle=True)\n",
        "      X = self.historical_data[['u_L', 't']].values\n",
        "      y = self.historical_data['u_F'].values\n",
        "\n",
        "      for degree in degrees:\n",
        "        mse_scores = []\n",
        "        poly = PolynomialFeatures(degree)\n",
        "        X_poly = poly.fit_transform(X)\n",
        "\n",
        "        for train_index, test_index in kf.split(self.historical_data):\n",
        "          X_train, X_val = X_poly[train_index], X_poly[test_index]\n",
        "          y_train, y_val = y[train_index], y[test_index]\n",
        "\n",
        "          model = LinearRegression()\n",
        "          model.fit(X_train, y_train)\n",
        "          y_pred = model.predict(X_val)\n",
        "          mse = np.mean((y_val - y_pred)**2)\n",
        "          mse_scores.append(mse)\n",
        "\n",
        "        avg_mse = np.mean(mse_scores)\n",
        "        if avg_mse < best_mse:\n",
        "          best_mse = avg_mse\n",
        "          best_model = model\n",
        "          best_poly = poly\n",
        "\n",
        "      self.follower_model = best_model\n",
        "      self.follower_model_poly = best_poly\n",
        "      self.follower_best_mse = best_mse\n",
        "\n",
        "      print(f\"Selected follower model:\\n{self.follower_model_poly}:\\n{self.follower_model}\")\n",
        "\n",
        "    def new_price(self, date: int):\n",
        "        return 1.5 + random.random() * 0.1"
      ]
    },
    {
      "cell_type": "markdown",
      "source": [
        "# Leader for Follower Mk1 (Stochastic Gradient Descent)"
      ],
      "metadata": {
        "id": "WLKcimhbs2bN"
      }
    },
    {
      "cell_type": "code",
      "source": [
        "import numpy as np\n",
        "import pandas as pd\n",
        "from sklearn.linear_model import SGDRegressor\n",
        "from sklearn.preprocessing import PolynomialFeatures, StandardScaler\n",
        "from sklearn.pipeline import make_pipeline\n",
        "\n",
        "class Mk1Leader2(Leader):\n",
        "  def __init__(self, name, engine):\n",
        "    super().__init__(name, engine)\n",
        "\n",
        "    self.c_L = 1 # given unit cost\n",
        "    self.polynomial_degree = 3 # vary to capture non-linear patterns\n",
        "    self.poly = PolynomialFeatures(degree=self.polynomial_degree, include_bias=True)\n",
        "    self.scaler = StandardScaler()\n",
        "    self.regressor = SGDRegressor(max_iter=1000, tol=1e-3, learning_rate='invscaling', eta0=0.01, random_state=42, verbose=0)\n",
        "\n",
        "    self.import_data('./data.xlsx')\n",
        "    self._initial_fit_follower_model()\n",
        "\n",
        "  def import_data(self, data_path):\n",
        "    if not os.path.exists(data_path):\n",
        "      raise FileNotFoundError(f\"Data file not found at path: {data_path}\")\n",
        "\n",
        "    xls = pd.ExcelFile(data_path)\n",
        "    self.historical_data = pd.read_excel(xls, 'Follower_Mk1')\n",
        "    new_names = {\"Leader's Price\": 'u_L', \"Follower's Price\": 'u_F', \"Date\": 't'}\n",
        "    self.historical_data.rename(columns=new_names, inplace=True)\n",
        "    self.historical_data.set_index('t', inplace=True)\n",
        "\n",
        "  def _initial_fit_follower_model(self):\n",
        "    data = self.historical_data.sort_index()\n",
        "    X = data[['u_L']].values\n",
        "    y = data['u_F'].values\n",
        "\n",
        "    X_poly = self.poly.fit_transform(X)\n",
        "    X_scaled = self.scaler.fit_transform(X_poly)\n",
        "\n",
        "    self.regressor.partial_fit(X_scaled, y)\n",
        "    print('Initial training complete.')\n",
        "\n",
        "  def _update_follower_model(self, date):\n",
        "    try:\n",
        "      u_L, u_F = self.get_price_from_date(date-1)\n",
        "    except:\n",
        "      print(f'No data available for date {date}')\n",
        "      return\n",
        "\n",
        "    X = np.array([[u_L]])\n",
        "    y = np.array([u_F])\n",
        "\n",
        "    X_poly = self.poly.transform(X)\n",
        "    X_scaled = self.scaler.transform(X_poly)\n",
        "\n",
        "    self.regressor.partial_fit(X_scaled, y)\n",
        "\n",
        "  def _predict_follower_price(self, u_L):\n",
        "    X_poly = self.poly.transform([[u_L]])\n",
        "    X_scaled = self.scaler.transform(X_poly)\n",
        "    return float(self.regressor.predict(X_scaled)[0])\n",
        "\n",
        "  def _demand_L(self, u_L, u_F):\n",
        "        return 2 - u_L + 0.3 * u_F\n",
        "\n",
        "  def _profit_L(self, u_L):\n",
        "      u_F = self._predict_follower_price(u_L)\n",
        "      return (u_L - self.c_L) * self._demand_L(u_L, u_F)\n",
        "\n",
        "  def new_price(self, date):\n",
        "    if date > 101:\n",
        "      self._update_follower_model(date)\n",
        "\n",
        "    # Find best price\n",
        "    candidates = np.linspace(1.0, 5.0, 1000)\n",
        "    profits = [self._profit_L(p) for p in candidates]\n",
        "    best_price = candidates[np.argmax(profits)]\n",
        "    print(f'Best price found: {best_price}')\n",
        "    return best_price\n"
      ],
      "metadata": {
        "id": "VPofb5Nds6is"
      },
      "execution_count": 9,
      "outputs": []
    },
    {
      "cell_type": "markdown",
      "source": [
        "# Leader for Follower Mk2 (Symbolic Derivative)"
      ],
      "metadata": {
        "id": "ZulLfhcON79c"
      }
    },
    {
      "cell_type": "code",
      "source": [
        "import numpy as np\n",
        "import sympy as sp\n",
        "import sys\n",
        "from tqdm import tqdm\n",
        "\n",
        "class MK2Leader1(Leader):\n",
        "    \"\"\"\n",
        "    The Follower Mk2 Agent has a strong correlation between date and follower's price.\n",
        "    Informed by the visualisations, we formulate the follower's reaction function as a polynomial model based on the date.\n",
        "    \"\"\"\n",
        "    def __init__(self, name, engine):\n",
        "        super().__init__(name, engine)\n",
        "        self.c_L = 1 # given\n",
        "        self.import_data(data_path='./data.xlsx')\n",
        "        self.alpha = self.optimise_alpha()\n",
        "        self.train_follower_model(max_degree=5)\n",
        "        self.lower_bound = 1\n",
        "        self.upper_bound = 1000 # very large (in proportion) to model infinity without overflow\n",
        "\n",
        "    def demand_L(self, u_L, u_F):\n",
        "        return 2 - u_L + (0.3 * u_F)\n",
        "\n",
        "    def profit_L(self, u_L, u_F):\n",
        "        return (u_L - self.c_L) * self.demand_L(u_L, u_F)\n",
        "\n",
        "    def import_data(self, data_path):\n",
        "        if not os.path.exists(data_path):\n",
        "            raise FileNotFoundError(f\"Data file not found at path: {data_path}\")\n",
        "\n",
        "        xls = pd.ExcelFile(data_path)\n",
        "        self.historical_data = pd.read_excel(xls, 'Follower_Mk1')\n",
        "        new_names = {\"Leader's Price\": 'u_L', \"Follower's Price\": 'u_F', \"Date\": 't'}\n",
        "        self.historical_data.rename(columns=new_names, inplace=True)\n",
        "\n",
        "    def optimise_alpha(self, max_degree=5, num_splits=5):\n",
        "      \"\"\"\n",
        "      Finds the optimal alpha (recency weight decay factor) via cross-validation.\n",
        "\n",
        "      Args:\n",
        "          alpha_values (list): A list of alpha values to test.\n",
        "          max_degree (int): Maximum degree for polynomial features.\n",
        "          num_splits (int): Number of splits for K-Fold cross-validation.\n",
        "\n",
        "      Returns:\n",
        "          float: Best alpha value based on lowest cross-validated MSE.\n",
        "      \"\"\"\n",
        "      alpha_values = np.logspace(-4, 0, 10)  # 0.0001 to 1\n",
        "\n",
        "      X = self.historical_data[['u_L', 't']].values\n",
        "      y = self.historical_data['u_F'].values\n",
        "      t_min = self.historical_data['t'].min()\n",
        "\n",
        "      best_alpha = None\n",
        "      best_mse = float('inf')\n",
        "\n",
        "      for alpha in tqdm(alpha_values, desc='Optimising Alpha'):\n",
        "          kf = KFold(n_splits=num_splits, shuffle=True)\n",
        "          poly = PolynomialFeatures(max_degree)\n",
        "          X_poly = poly.fit_transform(X)\n",
        "\n",
        "          time_diff = self.historical_data['t'] - t_min\n",
        "          sample_weights = np.exp(alpha * time_diff)\n",
        "\n",
        "          mse_scores = []\n",
        "\n",
        "          for train_index, test_index in kf.split(X_poly):\n",
        "              X_train, X_val = X_poly[train_index], X_poly[test_index]\n",
        "              y_train, y_val = y[train_index], y[test_index]\n",
        "              weights_train = sample_weights.iloc[train_index]\n",
        "\n",
        "              model = LinearRegression()\n",
        "              model.fit(X_train, y_train, sample_weight=weights_train)\n",
        "              y_pred = model.predict(X_val)\n",
        "              mse = np.mean((y_val - y_pred) ** 2)\n",
        "              mse_scores.append(mse)\n",
        "\n",
        "          avg_mse = np.mean(mse_scores)\n",
        "\n",
        "          if avg_mse < best_mse:\n",
        "              best_mse = avg_mse\n",
        "              best_alpha = alpha\n",
        "\n",
        "      print(f\"\\nBest alpha: {best_alpha} with MSE: {best_mse:.5f}\")\n",
        "      return best_alpha\n",
        "\n",
        "    def train_follower_model(self, max_degree=5, num_splits=5):\n",
        "        degrees = range(2, max_degree+1)\n",
        "        follower_models = {}\n",
        "        best_mse = float('inf')\n",
        "\n",
        "        kf = KFold(n_splits=num_splits, shuffle=True)\n",
        "        X = self.historical_data[['u_L', 't']].values\n",
        "        y = self.historical_data['u_F'].values\n",
        "\n",
        "        for degree in degrees:\n",
        "          mse_scores = []\n",
        "          poly = PolynomialFeatures(degree)\n",
        "          X_poly = poly.fit_transform(X)\n",
        "\n",
        "          t_min = self.historical_data['t'].min()\n",
        "          time_diffs = self.historical_data['t'] - t_min\n",
        "          sample_weights = np.exp(self.alpha * time_diffs)\n",
        "\n",
        "          for train_index, test_index in kf.split(self.historical_data):\n",
        "            X_train, X_val = X_poly[train_index], X_poly[test_index]\n",
        "            y_train, y_val = y[train_index], y[test_index]\n",
        "\n",
        "            weights = sample_weights[train_index]\n",
        "\n",
        "            model = LinearRegression()\n",
        "            model.fit(X_train, y_train, sample_weight=weights)\n",
        "            y_pred = model.predict(X_val)\n",
        "            mse = np.mean((y_val - y_pred)**2)\n",
        "            mse_scores.append(mse)\n",
        "\n",
        "          avg_mse = np.mean(mse_scores)\n",
        "          if avg_mse < best_mse:\n",
        "            best_mse = avg_mse\n",
        "            best_model = model\n",
        "            best_poly = poly\n",
        "            best_degree = degree\n",
        "\n",
        "        self.follower_model = best_model\n",
        "        self.follower_model_poly = best_poly\n",
        "        self.follower_best_mse = best_mse\n",
        "        print(f'Best model degree: {degree}')\n",
        "\n",
        "    def get_derivatives(self, model, poly):\n",
        "        \"\"\"\n",
        "        Compute the first and second derivatives of the trained follower's reaction function.\n",
        "        Differentiate with respect to u_L.\n",
        "        \"\"\"\n",
        "        u_L, t = sp.symbols(\"u_L t\")\n",
        "\n",
        "        X_sample = poly.fit_transform([[1, 1]])\n",
        "        feature_names = poly.get_feature_names_out(['u_L', 't'])\n",
        "\n",
        "        eq = sum(coef * sp.sympify(term.replace(\"^\", \"**\").replace(\" \", \"*\"))\n",
        "                for coef, term in zip(model.coef_, feature_names))\n",
        "\n",
        "        first_derivative = sp.diff(eq, u_L)\n",
        "        second_derivative = sp.diff(first_derivative, u_L)\n",
        "        return first_derivative, second_derivative\n",
        "\n",
        "    def new_price(self, date: int):\n",
        "        \"\"\"\n",
        "        We predict the follower's price based on the leader's price and date.\n",
        "        We differentiate the follower's learned reaction function to maximise the leader's profit.\n",
        "\n",
        "        The process for choosing the leader's price is:\n",
        "          1. Differentiate the follower's reaction function with respect to u_L\n",
        "          2. Find any local maxima within the pricing bounds - [1.00, +inf) for Follower Mk2\n",
        "          3. Find profit at each local maxima, and the boundaries\n",
        "          4. Choose the point with the highest leader profit.\n",
        "\n",
        "        Args:\n",
        "            date (int): The current date.\n",
        "\n",
        "        Returns:\n",
        "            float: The chosen leader's price.\n",
        "        \"\"\"\n",
        "        u_L, t = sp.symbols(\"u_L t\")\n",
        "\n",
        "        # Construct follower reaction function u_F = f(u_L, t)\n",
        "        feature_names = self.follower_model_poly.get_feature_names_out(['u_L', 't'])\n",
        "        follower_expr = sum(\n",
        "            coef * sp.sympify(term.replace(\"^\", \"**\").replace(\" \", \"*\"))\n",
        "            for coef, term in zip(self.follower_model.coef_, feature_names)\n",
        "        ) + self.follower_model.intercept_\n",
        "\n",
        "        # Plug into the profit function\n",
        "        profit_expr = (u_L - self.c_L) * (2 - u_L + 0.3 * follower_expr)\n",
        "\n",
        "        # Derivative of profit\n",
        "        profit_derivative = sp.diff(profit_expr, u_L)\n",
        "\n",
        "        extrema = sp.solve(profit_derivative.subs(t, date), u_L)\n",
        "\n",
        "        candidates = [\n",
        "            self.lower_bound,\n",
        "            self.upper_bound\n",
        "        ]\n",
        "\n",
        "        extrema = sp.solve(profit_derivative, sp.Symbol(\"u_L\"))\n",
        "\n",
        "        for ext in extrema:\n",
        "          ext_value = ext.subs(sp.Symbol(\"t\"), date)\n",
        "          if ext_value.is_real and self.lower_bound <= ext_value <= self.upper_bound:\n",
        "            candidates.append(float(ext_value))\n",
        "\n",
        "        profits = {}\n",
        "        for u_L in candidates:\n",
        "          u_F = self.follower_model.predict(self.follower_model_poly.fit_transform([[u_L, date]]))[0]\n",
        "          profits[u_L] = self.profit_L(u_L, u_F)\n",
        "\n",
        "        best_u_L = max(profits, key=profits.get)\n",
        "\n",
        "        return best_u_L"
      ],
      "metadata": {
        "id": "8r1ry33GOAuF"
      },
      "execution_count": 10,
      "outputs": []
    },
    {
      "cell_type": "markdown",
      "metadata": {
        "id": "GAlvXgsT6d5b"
      },
      "source": [
        "# Leader for Follower Mk2 (Derivation) - With Weights"
      ]
    },
    {
      "cell_type": "code",
      "execution_count": 20,
      "metadata": {
        "id": "jHsWYuhVM4nL"
      },
      "outputs": [],
      "source": [
        "import numpy as np\n",
        "import sympy as sp\n",
        "import sys\n",
        "from scipy.optimize import minimize_scalar\n",
        "from tqdm import tqdm\n",
        "\n",
        "class MK2Leader2(Leader):\n",
        "    \"\"\"\n",
        "    The Follower Mk2 Agent has a strong correlation between date and follower's price.\n",
        "    Informed by the visualisations, we formulate the follower's reaction function as a polynomial model based on the date.\n",
        "    \"\"\"\n",
        "    def __init__(self, name, engine):\n",
        "        super().__init__(name, engine)\n",
        "        self.c_L = 1 # given\n",
        "        self.import_data(data_path='./data.xlsx')\n",
        "        self.random_state = 42\n",
        "        self.alpha = self.optimise_alpha()\n",
        "        self.train_follower_model(max_degree=5)\n",
        "        self.lower_bound = 1\n",
        "        self.upper_bound = max(self.historical_data['u_L']) * 1.5\n",
        "\n",
        "    def demand_L(self, u_L, u_F):\n",
        "        return 2 - u_L + (0.3 * u_F)\n",
        "\n",
        "    def profit_L(self, u_L, u_F):\n",
        "        return (u_L - self.c_L) * self.demand_L(u_L, u_F)\n",
        "\n",
        "    def import_data(self, data_path):\n",
        "        if not os.path.exists(data_path):\n",
        "            raise FileNotFoundError(f\"Data file not found at path: {data_path}\")\n",
        "\n",
        "        xls = pd.ExcelFile(data_path)\n",
        "        self.historical_data = pd.read_excel(xls, 'Follower_Mk1')\n",
        "        new_names = {\"Leader's Price\": 'u_L', \"Follower's Price\": 'u_F', \"Date\": 't'}\n",
        "        self.historical_data.rename(columns=new_names, inplace=True)\n",
        "\n",
        "    def optimise_alpha(self, max_degree=5, num_splits=5):\n",
        "      \"\"\"\n",
        "      Finds the optimal alpha (recency weight decay factor) via cross-validation.\n",
        "\n",
        "      Args:\n",
        "          alpha_values (list): A list of alpha values to test.\n",
        "          max_degree (int): Maximum degree for polynomial features.\n",
        "          num_splits (int): Number of splits for K-Fold cross-validation.\n",
        "\n",
        "      Returns:\n",
        "          float: Best alpha value based on lowest cross-validated MSE.\n",
        "      \"\"\"\n",
        "      alpha_values = np.logspace(-4, 0, 10)  # 0.0001 to 1\n",
        "\n",
        "      X = self.historical_data[['u_L', 't']].values\n",
        "      y = self.historical_data['u_F'].values\n",
        "      t_min = self.historical_data['t'].min()\n",
        "\n",
        "      best_alpha = None\n",
        "      best_mse = float('inf')\n",
        "\n",
        "      for alpha in tqdm(alpha_values, desc='Optimising Alpha'):\n",
        "          kf = KFold(n_splits=num_splits, shuffle=True, random_state=self.random_state)\n",
        "          poly = PolynomialFeatures(max_degree)\n",
        "          X_poly = poly.fit_transform(X)\n",
        "\n",
        "          time_diff = self.historical_data['t'] - t_min\n",
        "          sample_weights = np.exp(alpha * time_diff)\n",
        "\n",
        "          mse_scores = []\n",
        "\n",
        "          for train_index, test_index in kf.split(X_poly):\n",
        "              X_train, X_val = X_poly[train_index], X_poly[test_index]\n",
        "              y_train, y_val = y[train_index], y[test_index]\n",
        "              weights_train = sample_weights.iloc[train_index]\n",
        "\n",
        "              model = LinearRegression()\n",
        "              model.fit(X_train, y_train, sample_weight=weights_train)\n",
        "              y_pred = model.predict(X_val)\n",
        "              mse = np.mean((y_val - y_pred) ** 2)\n",
        "              mse_scores.append(mse)\n",
        "\n",
        "          avg_mse = np.mean(mse_scores)\n",
        "\n",
        "          if avg_mse < best_mse:\n",
        "              best_mse = avg_mse\n",
        "              best_alpha = alpha\n",
        "\n",
        "      print(f\"\\nBest alpha: {best_alpha} with MSE: {best_mse:.5f}\")\n",
        "      return best_alpha\n",
        "\n",
        "    def train_follower_model(self, max_degree=5, num_splits=5):\n",
        "        degrees = range(2, max_degree+1)\n",
        "        follower_models = {}\n",
        "        best_mse = float('inf')\n",
        "\n",
        "        kf = KFold(n_splits=num_splits, shuffle=True, random_state=self.random_state)\n",
        "        X = self.historical_data[['u_L', 't']].values\n",
        "        y = self.historical_data['u_F'].values\n",
        "\n",
        "        for degree in degrees:\n",
        "          mse_scores = []\n",
        "          poly = PolynomialFeatures(degree)\n",
        "          X_poly = poly.fit_transform(X)\n",
        "\n",
        "          t_min = self.historical_data['t'].min()\n",
        "          time_diffs = self.historical_data['t'] - t_min\n",
        "          sample_weights = np.exp(self.alpha * time_diffs)\n",
        "\n",
        "          for train_index, test_index in kf.split(self.historical_data):\n",
        "            X_train, X_val = X_poly[train_index], X_poly[test_index]\n",
        "            y_train, y_val = y[train_index], y[test_index]\n",
        "\n",
        "            weights = sample_weights[train_index]\n",
        "\n",
        "            model = LinearRegression()\n",
        "            model.fit(X_train, y_train, sample_weight=weights)\n",
        "            y_pred = model.predict(X_val)\n",
        "            mse = np.mean((y_val - y_pred)**2)\n",
        "            mse_scores.append(mse)\n",
        "\n",
        "          avg_mse = np.mean(mse_scores)\n",
        "          if avg_mse < best_mse:\n",
        "            best_mse = avg_mse\n",
        "            best_model = model\n",
        "            best_poly = poly\n",
        "            best_degree = degree\n",
        "\n",
        "        self.follower_model = best_model\n",
        "        self.follower_model_poly = best_poly\n",
        "        self.follower_best_mse = best_mse\n",
        "        print(f'Best model degree: {degree}')\n",
        "\n",
        "    def new_price(self, date: int):\n",
        "        \"\"\"\n",
        "        We predict the follower's price based on the leader's price and date.\n",
        "        We differentiate the follower's learned reaction function to maximise the leader's profit.\n",
        "\n",
        "        The process for choosing the leader's price is:\n",
        "          1. Differentiate the follower's reaction function with respect to u_L\n",
        "          2. Find any local maxima within the pricing bounds - [1.00, +inf) for Follower Mk2\n",
        "          3. Find profit at each local maxima, and the boundaries\n",
        "          4. Choose the point with the highest leader profit.\n",
        "\n",
        "        Args:\n",
        "            date (int): The current date.\n",
        "\n",
        "        Returns:\n",
        "            float: The chosen leader's price.\n",
        "        \"\"\"\n",
        "\n",
        "        def follower_price(u_L):\n",
        "            X_poly = self.follower_model_poly.fit_transform([[u_L, date]])\n",
        "            return self.follower_model.predict(X_poly)[0]\n",
        "\n",
        "        def profit(u_L):\n",
        "            u_F = follower_price(u_L)\n",
        "            return self.profit_L(u_L, u_F)\n",
        "\n",
        "        res = minimize_scalar(lambda u_L: -profit(u_L), bounds=(self.lower_bound, self.upper_bound))\n",
        "\n",
        "        candidate_prices = [\n",
        "            self.lower_bound,\n",
        "            self.upper_bound\n",
        "        ]\n",
        "\n",
        "        profits = {price: profit(price) for price in candidate_prices}\n",
        "\n",
        "        if res.success:\n",
        "            profits[res.x] = profit(res.x)\n",
        "\n",
        "        best_u_L = max(profits, key=profits.get)\n",
        "        return best_u_L"
      ]
    },
    {
      "cell_type": "markdown",
      "source": [
        "# Leader for"
      ],
      "metadata": {
        "id": "tb0DQXNBM7Ad"
      }
    },
    {
      "cell_type": "markdown",
      "metadata": {
        "id": "d8G2tQmAYzCk"
      },
      "source": [
        "# Simulation"
      ]
    },
    {
      "cell_type": "markdown",
      "metadata": {
        "id": "VhbFqRH2Q6eh"
      },
      "source": [
        "Below is the GUI interface. Please select a leader from the dropdown menu and a follower from the dropdown menu, then click “Connect.” Once the status updates to “Connected to *your_selected_leader* and *your_selected_follower*” click “Start Simulation” to begin. If you wish to save the generated data, click “Export Data.” The dataset will be saved in the “run” folder."
      ]
    },
    {
      "cell_type": "code",
      "execution_count": 21,
      "metadata": {
        "colab": {
          "base_uri": "https://localhost:8080/",
          "height": 1508,
          "referenced_widgets": [
            "9bb4779e0eb54a90886176549763a2a0",
            "d23490c8dc214b65b3953cc11a73e522",
            "46001027128645d385b4f2dab8a4d72f",
            "a57b0bf9be73493a976a533edf310fec",
            "de18bc590fae494a8297c5368116e762",
            "cf76dd8719964e8faf0623b7ca09260e",
            "e9538a3a1dec47c5af7a5cfe063861e7",
            "2320e246e314488e806c6c44a149bfe1",
            "cb074f539dd44d4182547491d817ddaf",
            "ba9db6a594d643ebb1ad84102804546e",
            "0a03531d34604cbebe7a632c091314fb",
            "5253b324d0fa426f9110d50f2664ee31",
            "5de4fc54f2df4ce6a72aed123b7956cb",
            "02a52845b86e48faa0134a5b5e5a0152",
            "3032365d109e4f4d9b32176f190d4ec6",
            "03c72a7338a54e5ba5a9c41472ebab54",
            "404c94401f6141e4b88a83194f2a069f",
            "bc6137803c784820a731b8befc84c75d",
            "60a9f6b1d68147a29100b6cf23bc5bc0",
            "66f9cb2b176e4e00aba94ea080b1ca6d",
            "3ae4d7f404aa4e69bb123d2afed4ad70",
            "82e188d8db1c47788e919f757dc3d082",
            "92f67a1991fb4685890321cd862cb552",
            "a25934962ce14776bb613f0e1bbe4eef",
            "429bae9994994b399905e3fd2de76974",
            "61fcf657d9904bd389f45e09abca7397",
            "10407ab78e7849a68aa8ab329a08e7c7",
            "3f2a0e6de6604bcb8f13f1b0355d68d1",
            "366533a756a449e580c4deed2e786843",
            "3c3685bd457f41e6ba626de788c07bd7",
            "664d74e8b22041a489d33a6d6a4cb728",
            "4e885d7c5c024ef6818d5a44cd49aa08",
            "cfd8f2d9b22147baa0b1330791cc3e64",
            "e79edfaffd184568b25e75dd1b09b620",
            "2333ae9c020d42e98df347f2176a628f",
            "a313e61aa8df427486d2c3170c1bbc6e",
            "cef14c77fc6447a8a46f618a334d3fa2",
            "dc9147868d544fae9cbafa4b4e33ddcb",
            "a349a4fb00ae478e8ac7991bec535811",
            "5d95856dd3ba4cf6b51f87fd5ad12311",
            "5f7ea25be3904b0e905673ba3e50778e",
            "4ea47fcf353e4e4184dc34b4545c6944",
            "89969636aab04a02b3fc11b7dd2e08c8",
            "5ed72e8878e74c158af0343f3b46d76d",
            "aa032b4bb444410280644cfc640ccbfe",
            "e8374d91cb574842bbd8fadc47446d44",
            "287a7f2fc59b415bb8b43296d84f5cc4",
            "99e2849510994f6db9c1519b06bed79b",
            "e9e697d3e5c34b0da7e100d45fefc9ca",
            "bbd6990ac8db460d959fb1a6bdf8bd47",
            "e0a3002bb2db4d6d9d75e80b460bdbb6",
            "cde6b137578e4c959d13206cccbfdfa0",
            "a94cdb39332c4f388b4feff74f16956f",
            "b9515df6f4b2488c965986556608cc73",
            "73f7231669774b69a0bfb6f3b71fab17",
            "729a735a48ca4b49b6cadb0bb0126a92"
          ]
        },
        "id": "wxAO4hV3DQJg",
        "outputId": "34e6259f-af38-4b18-c942-d1ae761dcff2"
      },
      "outputs": [
        {
          "output_type": "display_data",
          "data": {
            "text/plain": [
              "<IPython.core.display.Javascript object>"
            ],
            "application/javascript": [
              "google.colab.output.setIframeHeight(0, true, {maxHeight: 5000})"
            ]
          },
          "metadata": {}
        },
        {
          "output_type": "display_data",
          "data": {
            "text/plain": [
              "VBox(children=(Dropdown(description='Leader:  ', layout=Layout(width='250px'), options=('SimpleLeader', 'MK1Le…"
            ],
            "application/vnd.jupyter.widget-view+json": {
              "version_major": 2,
              "version_minor": 0,
              "model_id": "9bb4779e0eb54a90886176549763a2a0"
            }
          },
          "metadata": {}
        },
        {
          "output_type": "stream",
          "name": "stderr",
          "text": [
            "Optimising Alpha: 100%|██████████| 10/10 [00:00<00:00, 108.27it/s]"
          ]
        },
        {
          "output_type": "stream",
          "name": "stdout",
          "text": [
            "\n",
            "Best alpha: 0.0001 with MSE: 0.00087\n",
            "Best model degree: 5\n"
          ]
        },
        {
          "output_type": "stream",
          "name": "stderr",
          "text": [
            "\n",
            "Optimising Alpha: 100%|██████████| 10/10 [00:00<00:00, 110.26it/s]"
          ]
        },
        {
          "output_type": "stream",
          "name": "stdout",
          "text": [
            "\n",
            "Best alpha: 0.0001 with MSE: 0.00087\n",
            "Best model degree: 5\n"
          ]
        },
        {
          "output_type": "stream",
          "name": "stderr",
          "text": [
            "\n",
            "Optimising Alpha: 100%|██████████| 10/10 [00:00<00:00, 109.62it/s]"
          ]
        },
        {
          "output_type": "stream",
          "name": "stdout",
          "text": [
            "\n",
            "Best alpha: 0.0001 with MSE: 0.00087\n",
            "Best model degree: 5\n"
          ]
        },
        {
          "output_type": "stream",
          "name": "stderr",
          "text": [
            "\n",
            "Optimising Alpha: 100%|██████████| 10/10 [00:00<00:00, 85.82it/s]"
          ]
        },
        {
          "output_type": "stream",
          "name": "stdout",
          "text": [
            "\n",
            "Best alpha: 0.0001 with MSE: 0.00087\n",
            "Best model degree: 5\n"
          ]
        },
        {
          "output_type": "stream",
          "name": "stderr",
          "text": [
            "\n"
          ]
        }
      ],
      "source": [
        "display(Javascript('''google.colab.output.setIframeHeight(0, true, {maxHeight: 5000})'''))\n",
        "engine = Engine()\n",
        "app = GUI(engine, Leader, group_num)"
      ]
    }
  ],
  "metadata": {
    "colab": {
      "collapsed_sections": [
        "sYHeuEsB6hZJ"
      ],
      "provenance": []
    },
    "kernelspec": {
      "display_name": "Python 3",
      "name": "python3"
    },
    "language_info": {
      "codemirror_mode": {
        "name": "ipython",
        "version": 3
      },
      "file_extension": ".py",
      "mimetype": "text/x-python",
      "name": "python",
      "nbconvert_exporter": "python",
      "pygments_lexer": "ipython3",
      "version": "3.10.0"
    },
    "widgets": {
      "application/vnd.jupyter.widget-state+json": {
        "9bb4779e0eb54a90886176549763a2a0": {
          "model_module": "@jupyter-widgets/controls",
          "model_name": "VBoxModel",
          "model_module_version": "1.5.0",
          "state": {
            "_dom_classes": [],
            "_model_module": "@jupyter-widgets/controls",
            "_model_module_version": "1.5.0",
            "_model_name": "VBoxModel",
            "_view_count": null,
            "_view_module": "@jupyter-widgets/controls",
            "_view_module_version": "1.5.0",
            "_view_name": "VBoxView",
            "box_style": "",
            "children": [
              "IPY_MODEL_d23490c8dc214b65b3953cc11a73e522",
              "IPY_MODEL_46001027128645d385b4f2dab8a4d72f",
              "IPY_MODEL_a57b0bf9be73493a976a533edf310fec",
              "IPY_MODEL_de18bc590fae494a8297c5368116e762",
              "IPY_MODEL_cf76dd8719964e8faf0623b7ca09260e",
              "IPY_MODEL_e9538a3a1dec47c5af7a5cfe063861e7",
              "IPY_MODEL_2320e246e314488e806c6c44a149bfe1"
            ],
            "layout": "IPY_MODEL_cb074f539dd44d4182547491d817ddaf"
          }
        },
        "d23490c8dc214b65b3953cc11a73e522": {
          "model_module": "@jupyter-widgets/controls",
          "model_name": "DropdownModel",
          "model_module_version": "1.5.0",
          "state": {
            "_dom_classes": [],
            "_model_module": "@jupyter-widgets/controls",
            "_model_module_version": "1.5.0",
            "_model_name": "DropdownModel",
            "_options_labels": [
              "SimpleLeader",
              "MK1Leader1",
              "Mk1Leader2",
              "MK2Leader1",
              "MK2Leader2"
            ],
            "_view_count": null,
            "_view_module": "@jupyter-widgets/controls",
            "_view_module_version": "1.5.0",
            "_view_name": "DropdownView",
            "description": "Leader:  ",
            "description_tooltip": null,
            "disabled": false,
            "index": 4,
            "layout": "IPY_MODEL_ba9db6a594d643ebb1ad84102804546e",
            "style": "IPY_MODEL_0a03531d34604cbebe7a632c091314fb"
          }
        },
        "46001027128645d385b4f2dab8a4d72f": {
          "model_module": "@jupyter-widgets/controls",
          "model_name": "DropdownModel",
          "model_module_version": "1.5.0",
          "state": {
            "_dom_classes": [],
            "_model_module": "@jupyter-widgets/controls",
            "_model_module_version": "1.5.0",
            "_model_name": "DropdownModel",
            "_options_labels": [
              "MK1",
              "MK2",
              "MK3"
            ],
            "_view_count": null,
            "_view_module": "@jupyter-widgets/controls",
            "_view_module_version": "1.5.0",
            "_view_name": "DropdownView",
            "description": "Follower:",
            "description_tooltip": null,
            "disabled": false,
            "index": 0,
            "layout": "IPY_MODEL_5253b324d0fa426f9110d50f2664ee31",
            "style": "IPY_MODEL_5de4fc54f2df4ce6a72aed123b7956cb"
          }
        },
        "a57b0bf9be73493a976a533edf310fec": {
          "model_module": "@jupyter-widgets/controls",
          "model_name": "IntSliderModel",
          "model_module_version": "1.5.0",
          "state": {
            "_dom_classes": [],
            "_model_module": "@jupyter-widgets/controls",
            "_model_module_version": "1.5.0",
            "_model_name": "IntSliderModel",
            "_view_count": null,
            "_view_module": "@jupyter-widgets/controls",
            "_view_module_version": "1.5.0",
            "_view_name": "IntSliderView",
            "continuous_update": true,
            "description": "Start Date:",
            "description_tooltip": null,
            "disabled": false,
            "layout": "IPY_MODEL_02a52845b86e48faa0134a5b5e5a0152",
            "max": 130,
            "min": 101,
            "orientation": "horizontal",
            "readout": true,
            "readout_format": "d",
            "step": 1,
            "style": "IPY_MODEL_3032365d109e4f4d9b32176f190d4ec6",
            "value": 101
          }
        },
        "de18bc590fae494a8297c5368116e762": {
          "model_module": "@jupyter-widgets/controls",
          "model_name": "IntSliderModel",
          "model_module_version": "1.5.0",
          "state": {
            "_dom_classes": [],
            "_model_module": "@jupyter-widgets/controls",
            "_model_module_version": "1.5.0",
            "_model_name": "IntSliderModel",
            "_view_count": null,
            "_view_module": "@jupyter-widgets/controls",
            "_view_module_version": "1.5.0",
            "_view_name": "IntSliderView",
            "continuous_update": true,
            "description": "End Date:  ",
            "description_tooltip": null,
            "disabled": false,
            "layout": "IPY_MODEL_03c72a7338a54e5ba5a9c41472ebab54",
            "max": 130,
            "min": 101,
            "orientation": "horizontal",
            "readout": true,
            "readout_format": "d",
            "step": 1,
            "style": "IPY_MODEL_404c94401f6141e4b88a83194f2a069f",
            "value": 130
          }
        },
        "cf76dd8719964e8faf0623b7ca09260e": {
          "model_module": "@jupyter-widgets/controls",
          "model_name": "HBoxModel",
          "model_module_version": "1.5.0",
          "state": {
            "_dom_classes": [],
            "_model_module": "@jupyter-widgets/controls",
            "_model_module_version": "1.5.0",
            "_model_name": "HBoxModel",
            "_view_count": null,
            "_view_module": "@jupyter-widgets/controls",
            "_view_module_version": "1.5.0",
            "_view_name": "HBoxView",
            "box_style": "",
            "children": [
              "IPY_MODEL_bc6137803c784820a731b8befc84c75d",
              "IPY_MODEL_60a9f6b1d68147a29100b6cf23bc5bc0"
            ],
            "layout": "IPY_MODEL_66f9cb2b176e4e00aba94ea080b1ca6d"
          }
        },
        "e9538a3a1dec47c5af7a5cfe063861e7": {
          "model_module": "@jupyter-widgets/controls",
          "model_name": "HBoxModel",
          "model_module_version": "1.5.0",
          "state": {
            "_dom_classes": [],
            "_model_module": "@jupyter-widgets/controls",
            "_model_module_version": "1.5.0",
            "_model_name": "HBoxModel",
            "_view_count": null,
            "_view_module": "@jupyter-widgets/controls",
            "_view_module_version": "1.5.0",
            "_view_name": "HBoxView",
            "box_style": "",
            "children": [
              "IPY_MODEL_3ae4d7f404aa4e69bb123d2afed4ad70",
              "IPY_MODEL_82e188d8db1c47788e919f757dc3d082"
            ],
            "layout": "IPY_MODEL_92f67a1991fb4685890321cd862cb552"
          }
        },
        "2320e246e314488e806c6c44a149bfe1": {
          "model_module": "@jupyter-widgets/output",
          "model_name": "OutputModel",
          "model_module_version": "1.0.0",
          "state": {
            "_dom_classes": [],
            "_model_module": "@jupyter-widgets/output",
            "_model_module_version": "1.0.0",
            "_model_name": "OutputModel",
            "_view_count": null,
            "_view_module": "@jupyter-widgets/output",
            "_view_module_version": "1.0.0",
            "_view_name": "OutputView",
            "layout": "IPY_MODEL_4e885d7c5c024ef6818d5a44cd49aa08",
            "msg_id": "",
            "outputs": [
              {
                "output_type": "display_data",
                "data": {
                  "text/plain": "HBox(children=(Output(), Output()), layout=Layout(justify_content='initial'))",
                  "application/vnd.jupyter.widget-view+json": {
                    "version_major": 2,
                    "version_minor": 0,
                    "model_id": "e0a3002bb2db4d6d9d75e80b460bdbb6"
                  }
                },
                "metadata": {}
              }
            ]
          }
        },
        "cb074f539dd44d4182547491d817ddaf": {
          "model_module": "@jupyter-widgets/base",
          "model_name": "LayoutModel",
          "model_module_version": "1.2.0",
          "state": {
            "_model_module": "@jupyter-widgets/base",
            "_model_module_version": "1.2.0",
            "_model_name": "LayoutModel",
            "_view_count": null,
            "_view_module": "@jupyter-widgets/base",
            "_view_module_version": "1.2.0",
            "_view_name": "LayoutView",
            "align_content": null,
            "align_items": null,
            "align_self": null,
            "border": null,
            "bottom": null,
            "display": null,
            "flex": null,
            "flex_flow": null,
            "grid_area": null,
            "grid_auto_columns": null,
            "grid_auto_flow": null,
            "grid_auto_rows": null,
            "grid_column": null,
            "grid_gap": null,
            "grid_row": null,
            "grid_template_areas": null,
            "grid_template_columns": null,
            "grid_template_rows": null,
            "height": null,
            "justify_content": null,
            "justify_items": null,
            "left": null,
            "margin": null,
            "max_height": null,
            "max_width": null,
            "min_height": null,
            "min_width": null,
            "object_fit": null,
            "object_position": null,
            "order": null,
            "overflow": null,
            "overflow_x": null,
            "overflow_y": null,
            "padding": null,
            "right": null,
            "top": null,
            "visibility": null,
            "width": null
          }
        },
        "ba9db6a594d643ebb1ad84102804546e": {
          "model_module": "@jupyter-widgets/base",
          "model_name": "LayoutModel",
          "model_module_version": "1.2.0",
          "state": {
            "_model_module": "@jupyter-widgets/base",
            "_model_module_version": "1.2.0",
            "_model_name": "LayoutModel",
            "_view_count": null,
            "_view_module": "@jupyter-widgets/base",
            "_view_module_version": "1.2.0",
            "_view_name": "LayoutView",
            "align_content": null,
            "align_items": null,
            "align_self": null,
            "border": null,
            "bottom": null,
            "display": null,
            "flex": null,
            "flex_flow": null,
            "grid_area": null,
            "grid_auto_columns": null,
            "grid_auto_flow": null,
            "grid_auto_rows": null,
            "grid_column": null,
            "grid_gap": null,
            "grid_row": null,
            "grid_template_areas": null,
            "grid_template_columns": null,
            "grid_template_rows": null,
            "height": null,
            "justify_content": null,
            "justify_items": null,
            "left": null,
            "margin": null,
            "max_height": null,
            "max_width": null,
            "min_height": null,
            "min_width": null,
            "object_fit": null,
            "object_position": null,
            "order": null,
            "overflow": null,
            "overflow_x": null,
            "overflow_y": null,
            "padding": null,
            "right": null,
            "top": null,
            "visibility": null,
            "width": "250px"
          }
        },
        "0a03531d34604cbebe7a632c091314fb": {
          "model_module": "@jupyter-widgets/controls",
          "model_name": "DescriptionStyleModel",
          "model_module_version": "1.5.0",
          "state": {
            "_model_module": "@jupyter-widgets/controls",
            "_model_module_version": "1.5.0",
            "_model_name": "DescriptionStyleModel",
            "_view_count": null,
            "_view_module": "@jupyter-widgets/base",
            "_view_module_version": "1.2.0",
            "_view_name": "StyleView",
            "description_width": "initial"
          }
        },
        "5253b324d0fa426f9110d50f2664ee31": {
          "model_module": "@jupyter-widgets/base",
          "model_name": "LayoutModel",
          "model_module_version": "1.2.0",
          "state": {
            "_model_module": "@jupyter-widgets/base",
            "_model_module_version": "1.2.0",
            "_model_name": "LayoutModel",
            "_view_count": null,
            "_view_module": "@jupyter-widgets/base",
            "_view_module_version": "1.2.0",
            "_view_name": "LayoutView",
            "align_content": null,
            "align_items": null,
            "align_self": null,
            "border": null,
            "bottom": null,
            "display": null,
            "flex": null,
            "flex_flow": null,
            "grid_area": null,
            "grid_auto_columns": null,
            "grid_auto_flow": null,
            "grid_auto_rows": null,
            "grid_column": null,
            "grid_gap": null,
            "grid_row": null,
            "grid_template_areas": null,
            "grid_template_columns": null,
            "grid_template_rows": null,
            "height": null,
            "justify_content": null,
            "justify_items": null,
            "left": null,
            "margin": null,
            "max_height": null,
            "max_width": null,
            "min_height": null,
            "min_width": null,
            "object_fit": null,
            "object_position": null,
            "order": null,
            "overflow": null,
            "overflow_x": null,
            "overflow_y": null,
            "padding": null,
            "right": null,
            "top": null,
            "visibility": null,
            "width": "250px"
          }
        },
        "5de4fc54f2df4ce6a72aed123b7956cb": {
          "model_module": "@jupyter-widgets/controls",
          "model_name": "DescriptionStyleModel",
          "model_module_version": "1.5.0",
          "state": {
            "_model_module": "@jupyter-widgets/controls",
            "_model_module_version": "1.5.0",
            "_model_name": "DescriptionStyleModel",
            "_view_count": null,
            "_view_module": "@jupyter-widgets/base",
            "_view_module_version": "1.2.0",
            "_view_name": "StyleView",
            "description_width": "initial"
          }
        },
        "02a52845b86e48faa0134a5b5e5a0152": {
          "model_module": "@jupyter-widgets/base",
          "model_name": "LayoutModel",
          "model_module_version": "1.2.0",
          "state": {
            "_model_module": "@jupyter-widgets/base",
            "_model_module_version": "1.2.0",
            "_model_name": "LayoutModel",
            "_view_count": null,
            "_view_module": "@jupyter-widgets/base",
            "_view_module_version": "1.2.0",
            "_view_name": "LayoutView",
            "align_content": null,
            "align_items": null,
            "align_self": null,
            "border": null,
            "bottom": null,
            "display": null,
            "flex": null,
            "flex_flow": null,
            "grid_area": null,
            "grid_auto_columns": null,
            "grid_auto_flow": null,
            "grid_auto_rows": null,
            "grid_column": null,
            "grid_gap": null,
            "grid_row": null,
            "grid_template_areas": null,
            "grid_template_columns": null,
            "grid_template_rows": null,
            "height": null,
            "justify_content": null,
            "justify_items": null,
            "left": null,
            "margin": null,
            "max_height": null,
            "max_width": null,
            "min_height": null,
            "min_width": null,
            "object_fit": null,
            "object_position": null,
            "order": null,
            "overflow": null,
            "overflow_x": null,
            "overflow_y": null,
            "padding": null,
            "right": null,
            "top": null,
            "visibility": null,
            "width": "300px"
          }
        },
        "3032365d109e4f4d9b32176f190d4ec6": {
          "model_module": "@jupyter-widgets/controls",
          "model_name": "SliderStyleModel",
          "model_module_version": "1.5.0",
          "state": {
            "_model_module": "@jupyter-widgets/controls",
            "_model_module_version": "1.5.0",
            "_model_name": "SliderStyleModel",
            "_view_count": null,
            "_view_module": "@jupyter-widgets/base",
            "_view_module_version": "1.2.0",
            "_view_name": "StyleView",
            "description_width": "initial",
            "handle_color": null
          }
        },
        "03c72a7338a54e5ba5a9c41472ebab54": {
          "model_module": "@jupyter-widgets/base",
          "model_name": "LayoutModel",
          "model_module_version": "1.2.0",
          "state": {
            "_model_module": "@jupyter-widgets/base",
            "_model_module_version": "1.2.0",
            "_model_name": "LayoutModel",
            "_view_count": null,
            "_view_module": "@jupyter-widgets/base",
            "_view_module_version": "1.2.0",
            "_view_name": "LayoutView",
            "align_content": null,
            "align_items": null,
            "align_self": null,
            "border": null,
            "bottom": null,
            "display": null,
            "flex": null,
            "flex_flow": null,
            "grid_area": null,
            "grid_auto_columns": null,
            "grid_auto_flow": null,
            "grid_auto_rows": null,
            "grid_column": null,
            "grid_gap": null,
            "grid_row": null,
            "grid_template_areas": null,
            "grid_template_columns": null,
            "grid_template_rows": null,
            "height": null,
            "justify_content": null,
            "justify_items": null,
            "left": null,
            "margin": null,
            "max_height": null,
            "max_width": null,
            "min_height": null,
            "min_width": null,
            "object_fit": null,
            "object_position": null,
            "order": null,
            "overflow": null,
            "overflow_x": null,
            "overflow_y": null,
            "padding": null,
            "right": null,
            "top": null,
            "visibility": null,
            "width": "300px"
          }
        },
        "404c94401f6141e4b88a83194f2a069f": {
          "model_module": "@jupyter-widgets/controls",
          "model_name": "SliderStyleModel",
          "model_module_version": "1.5.0",
          "state": {
            "_model_module": "@jupyter-widgets/controls",
            "_model_module_version": "1.5.0",
            "_model_name": "SliderStyleModel",
            "_view_count": null,
            "_view_module": "@jupyter-widgets/base",
            "_view_module_version": "1.2.0",
            "_view_name": "StyleView",
            "description_width": "initial",
            "handle_color": null
          }
        },
        "bc6137803c784820a731b8befc84c75d": {
          "model_module": "@jupyter-widgets/controls",
          "model_name": "HTMLModel",
          "model_module_version": "1.5.0",
          "state": {
            "_dom_classes": [],
            "_model_module": "@jupyter-widgets/controls",
            "_model_module_version": "1.5.0",
            "_model_name": "HTMLModel",
            "_view_count": null,
            "_view_module": "@jupyter-widgets/controls",
            "_view_module_version": "1.5.0",
            "_view_name": "HTMLView",
            "description": "",
            "description_tooltip": null,
            "layout": "IPY_MODEL_a25934962ce14776bb613f0e1bbe4eef",
            "placeholder": "​",
            "style": "IPY_MODEL_429bae9994994b399905e3fd2de76974",
            "value": "Status:<span style='color: green;'> Connected to MK2Leader2 and MK1"
          }
        },
        "60a9f6b1d68147a29100b6cf23bc5bc0": {
          "model_module": "@jupyter-widgets/controls",
          "model_name": "ButtonModel",
          "model_module_version": "1.5.0",
          "state": {
            "_dom_classes": [],
            "_model_module": "@jupyter-widgets/controls",
            "_model_module_version": "1.5.0",
            "_model_name": "ButtonModel",
            "_view_count": null,
            "_view_module": "@jupyter-widgets/controls",
            "_view_module_version": "1.5.0",
            "_view_name": "ButtonView",
            "button_style": "",
            "description": "Connect",
            "disabled": false,
            "icon": "",
            "layout": "IPY_MODEL_61fcf657d9904bd389f45e09abca7397",
            "style": "IPY_MODEL_10407ab78e7849a68aa8ab329a08e7c7",
            "tooltip": ""
          }
        },
        "66f9cb2b176e4e00aba94ea080b1ca6d": {
          "model_module": "@jupyter-widgets/base",
          "model_name": "LayoutModel",
          "model_module_version": "1.2.0",
          "state": {
            "_model_module": "@jupyter-widgets/base",
            "_model_module_version": "1.2.0",
            "_model_name": "LayoutModel",
            "_view_count": null,
            "_view_module": "@jupyter-widgets/base",
            "_view_module_version": "1.2.0",
            "_view_name": "LayoutView",
            "align_content": null,
            "align_items": null,
            "align_self": null,
            "border": null,
            "bottom": null,
            "display": null,
            "flex": null,
            "flex_flow": null,
            "grid_area": null,
            "grid_auto_columns": null,
            "grid_auto_flow": null,
            "grid_auto_rows": null,
            "grid_column": null,
            "grid_gap": null,
            "grid_row": null,
            "grid_template_areas": null,
            "grid_template_columns": null,
            "grid_template_rows": null,
            "height": null,
            "justify_content": null,
            "justify_items": null,
            "left": null,
            "margin": null,
            "max_height": null,
            "max_width": null,
            "min_height": null,
            "min_width": null,
            "object_fit": null,
            "object_position": null,
            "order": null,
            "overflow": null,
            "overflow_x": null,
            "overflow_y": null,
            "padding": null,
            "right": null,
            "top": null,
            "visibility": null,
            "width": null
          }
        },
        "3ae4d7f404aa4e69bb123d2afed4ad70": {
          "model_module": "@jupyter-widgets/controls",
          "model_name": "ButtonModel",
          "model_module_version": "1.5.0",
          "state": {
            "_dom_classes": [],
            "_model_module": "@jupyter-widgets/controls",
            "_model_module_version": "1.5.0",
            "_model_name": "ButtonModel",
            "_view_count": null,
            "_view_module": "@jupyter-widgets/controls",
            "_view_module_version": "1.5.0",
            "_view_name": "ButtonView",
            "button_style": "",
            "description": "Start Simulation",
            "disabled": false,
            "icon": "",
            "layout": "IPY_MODEL_3f2a0e6de6604bcb8f13f1b0355d68d1",
            "style": "IPY_MODEL_366533a756a449e580c4deed2e786843",
            "tooltip": ""
          }
        },
        "82e188d8db1c47788e919f757dc3d082": {
          "model_module": "@jupyter-widgets/controls",
          "model_name": "ButtonModel",
          "model_module_version": "1.5.0",
          "state": {
            "_dom_classes": [],
            "_model_module": "@jupyter-widgets/controls",
            "_model_module_version": "1.5.0",
            "_model_name": "ButtonModel",
            "_view_count": null,
            "_view_module": "@jupyter-widgets/controls",
            "_view_module_version": "1.5.0",
            "_view_name": "ButtonView",
            "button_style": "",
            "description": "Export Data",
            "disabled": false,
            "icon": "",
            "layout": "IPY_MODEL_3c3685bd457f41e6ba626de788c07bd7",
            "style": "IPY_MODEL_664d74e8b22041a489d33a6d6a4cb728",
            "tooltip": ""
          }
        },
        "92f67a1991fb4685890321cd862cb552": {
          "model_module": "@jupyter-widgets/base",
          "model_name": "LayoutModel",
          "model_module_version": "1.2.0",
          "state": {
            "_model_module": "@jupyter-widgets/base",
            "_model_module_version": "1.2.0",
            "_model_name": "LayoutModel",
            "_view_count": null,
            "_view_module": "@jupyter-widgets/base",
            "_view_module_version": "1.2.0",
            "_view_name": "LayoutView",
            "align_content": null,
            "align_items": null,
            "align_self": null,
            "border": null,
            "bottom": null,
            "display": null,
            "flex": null,
            "flex_flow": null,
            "grid_area": null,
            "grid_auto_columns": null,
            "grid_auto_flow": null,
            "grid_auto_rows": null,
            "grid_column": null,
            "grid_gap": null,
            "grid_row": null,
            "grid_template_areas": null,
            "grid_template_columns": null,
            "grid_template_rows": null,
            "height": null,
            "justify_content": null,
            "justify_items": null,
            "left": null,
            "margin": null,
            "max_height": null,
            "max_width": null,
            "min_height": null,
            "min_width": null,
            "object_fit": null,
            "object_position": null,
            "order": null,
            "overflow": null,
            "overflow_x": null,
            "overflow_y": null,
            "padding": null,
            "right": null,
            "top": null,
            "visibility": null,
            "width": null
          }
        },
        "a25934962ce14776bb613f0e1bbe4eef": {
          "model_module": "@jupyter-widgets/base",
          "model_name": "LayoutModel",
          "model_module_version": "1.2.0",
          "state": {
            "_model_module": "@jupyter-widgets/base",
            "_model_module_version": "1.2.0",
            "_model_name": "LayoutModel",
            "_view_count": null,
            "_view_module": "@jupyter-widgets/base",
            "_view_module_version": "1.2.0",
            "_view_name": "LayoutView",
            "align_content": null,
            "align_items": null,
            "align_self": null,
            "border": null,
            "bottom": null,
            "display": null,
            "flex": null,
            "flex_flow": null,
            "grid_area": null,
            "grid_auto_columns": null,
            "grid_auto_flow": null,
            "grid_auto_rows": null,
            "grid_column": null,
            "grid_gap": null,
            "grid_row": null,
            "grid_template_areas": null,
            "grid_template_columns": null,
            "grid_template_rows": null,
            "height": null,
            "justify_content": null,
            "justify_items": null,
            "left": null,
            "margin": null,
            "max_height": null,
            "max_width": null,
            "min_height": null,
            "min_width": null,
            "object_fit": null,
            "object_position": null,
            "order": null,
            "overflow": null,
            "overflow_x": null,
            "overflow_y": null,
            "padding": null,
            "right": null,
            "top": null,
            "visibility": null,
            "width": "300px"
          }
        },
        "429bae9994994b399905e3fd2de76974": {
          "model_module": "@jupyter-widgets/controls",
          "model_name": "DescriptionStyleModel",
          "model_module_version": "1.5.0",
          "state": {
            "_model_module": "@jupyter-widgets/controls",
            "_model_module_version": "1.5.0",
            "_model_name": "DescriptionStyleModel",
            "_view_count": null,
            "_view_module": "@jupyter-widgets/base",
            "_view_module_version": "1.2.0",
            "_view_name": "StyleView",
            "description_width": ""
          }
        },
        "61fcf657d9904bd389f45e09abca7397": {
          "model_module": "@jupyter-widgets/base",
          "model_name": "LayoutModel",
          "model_module_version": "1.2.0",
          "state": {
            "_model_module": "@jupyter-widgets/base",
            "_model_module_version": "1.2.0",
            "_model_name": "LayoutModel",
            "_view_count": null,
            "_view_module": "@jupyter-widgets/base",
            "_view_module_version": "1.2.0",
            "_view_name": "LayoutView",
            "align_content": null,
            "align_items": null,
            "align_self": null,
            "border": null,
            "bottom": null,
            "display": null,
            "flex": null,
            "flex_flow": null,
            "grid_area": null,
            "grid_auto_columns": null,
            "grid_auto_flow": null,
            "grid_auto_rows": null,
            "grid_column": null,
            "grid_gap": null,
            "grid_row": null,
            "grid_template_areas": null,
            "grid_template_columns": null,
            "grid_template_rows": null,
            "height": null,
            "justify_content": null,
            "justify_items": null,
            "left": null,
            "margin": null,
            "max_height": null,
            "max_width": null,
            "min_height": null,
            "min_width": null,
            "object_fit": null,
            "object_position": null,
            "order": null,
            "overflow": null,
            "overflow_x": null,
            "overflow_y": null,
            "padding": null,
            "right": null,
            "top": null,
            "visibility": null,
            "width": "100px"
          }
        },
        "10407ab78e7849a68aa8ab329a08e7c7": {
          "model_module": "@jupyter-widgets/controls",
          "model_name": "ButtonStyleModel",
          "model_module_version": "1.5.0",
          "state": {
            "_model_module": "@jupyter-widgets/controls",
            "_model_module_version": "1.5.0",
            "_model_name": "ButtonStyleModel",
            "_view_count": null,
            "_view_module": "@jupyter-widgets/base",
            "_view_module_version": "1.2.0",
            "_view_name": "StyleView",
            "button_color": null,
            "font_weight": ""
          }
        },
        "3f2a0e6de6604bcb8f13f1b0355d68d1": {
          "model_module": "@jupyter-widgets/base",
          "model_name": "LayoutModel",
          "model_module_version": "1.2.0",
          "state": {
            "_model_module": "@jupyter-widgets/base",
            "_model_module_version": "1.2.0",
            "_model_name": "LayoutModel",
            "_view_count": null,
            "_view_module": "@jupyter-widgets/base",
            "_view_module_version": "1.2.0",
            "_view_name": "LayoutView",
            "align_content": null,
            "align_items": null,
            "align_self": null,
            "border": null,
            "bottom": null,
            "display": null,
            "flex": null,
            "flex_flow": null,
            "grid_area": null,
            "grid_auto_columns": null,
            "grid_auto_flow": null,
            "grid_auto_rows": null,
            "grid_column": null,
            "grid_gap": null,
            "grid_row": null,
            "grid_template_areas": null,
            "grid_template_columns": null,
            "grid_template_rows": null,
            "height": null,
            "justify_content": null,
            "justify_items": null,
            "left": null,
            "margin": null,
            "max_height": null,
            "max_width": null,
            "min_height": null,
            "min_width": null,
            "object_fit": null,
            "object_position": null,
            "order": null,
            "overflow": null,
            "overflow_x": null,
            "overflow_y": null,
            "padding": null,
            "right": null,
            "top": null,
            "visibility": null,
            "width": "200px"
          }
        },
        "366533a756a449e580c4deed2e786843": {
          "model_module": "@jupyter-widgets/controls",
          "model_name": "ButtonStyleModel",
          "model_module_version": "1.5.0",
          "state": {
            "_model_module": "@jupyter-widgets/controls",
            "_model_module_version": "1.5.0",
            "_model_name": "ButtonStyleModel",
            "_view_count": null,
            "_view_module": "@jupyter-widgets/base",
            "_view_module_version": "1.2.0",
            "_view_name": "StyleView",
            "button_color": null,
            "font_weight": ""
          }
        },
        "3c3685bd457f41e6ba626de788c07bd7": {
          "model_module": "@jupyter-widgets/base",
          "model_name": "LayoutModel",
          "model_module_version": "1.2.0",
          "state": {
            "_model_module": "@jupyter-widgets/base",
            "_model_module_version": "1.2.0",
            "_model_name": "LayoutModel",
            "_view_count": null,
            "_view_module": "@jupyter-widgets/base",
            "_view_module_version": "1.2.0",
            "_view_name": "LayoutView",
            "align_content": null,
            "align_items": null,
            "align_self": null,
            "border": null,
            "bottom": null,
            "display": null,
            "flex": null,
            "flex_flow": null,
            "grid_area": null,
            "grid_auto_columns": null,
            "grid_auto_flow": null,
            "grid_auto_rows": null,
            "grid_column": null,
            "grid_gap": null,
            "grid_row": null,
            "grid_template_areas": null,
            "grid_template_columns": null,
            "grid_template_rows": null,
            "height": null,
            "justify_content": null,
            "justify_items": null,
            "left": null,
            "margin": null,
            "max_height": null,
            "max_width": null,
            "min_height": null,
            "min_width": null,
            "object_fit": null,
            "object_position": null,
            "order": null,
            "overflow": null,
            "overflow_x": null,
            "overflow_y": null,
            "padding": null,
            "right": null,
            "top": null,
            "visibility": null,
            "width": "200px"
          }
        },
        "664d74e8b22041a489d33a6d6a4cb728": {
          "model_module": "@jupyter-widgets/controls",
          "model_name": "ButtonStyleModel",
          "model_module_version": "1.5.0",
          "state": {
            "_model_module": "@jupyter-widgets/controls",
            "_model_module_version": "1.5.0",
            "_model_name": "ButtonStyleModel",
            "_view_count": null,
            "_view_module": "@jupyter-widgets/base",
            "_view_module_version": "1.2.0",
            "_view_name": "StyleView",
            "button_color": null,
            "font_weight": ""
          }
        },
        "4e885d7c5c024ef6818d5a44cd49aa08": {
          "model_module": "@jupyter-widgets/base",
          "model_name": "LayoutModel",
          "model_module_version": "1.2.0",
          "state": {
            "_model_module": "@jupyter-widgets/base",
            "_model_module_version": "1.2.0",
            "_model_name": "LayoutModel",
            "_view_count": null,
            "_view_module": "@jupyter-widgets/base",
            "_view_module_version": "1.2.0",
            "_view_name": "LayoutView",
            "align_content": null,
            "align_items": null,
            "align_self": null,
            "border": null,
            "bottom": null,
            "display": null,
            "flex": null,
            "flex_flow": null,
            "grid_area": null,
            "grid_auto_columns": null,
            "grid_auto_flow": null,
            "grid_auto_rows": null,
            "grid_column": null,
            "grid_gap": null,
            "grid_row": null,
            "grid_template_areas": null,
            "grid_template_columns": null,
            "grid_template_rows": null,
            "height": null,
            "justify_content": null,
            "justify_items": null,
            "left": null,
            "margin": null,
            "max_height": null,
            "max_width": null,
            "min_height": null,
            "min_width": null,
            "object_fit": null,
            "object_position": null,
            "order": null,
            "overflow": null,
            "overflow_x": null,
            "overflow_y": null,
            "padding": null,
            "right": null,
            "top": null,
            "visibility": null,
            "width": null
          }
        },
        "cfd8f2d9b22147baa0b1330791cc3e64": {
          "model_module": "@jupyter-widgets/controls",
          "model_name": "HBoxModel",
          "model_module_version": "1.5.0",
          "state": {
            "_dom_classes": [],
            "_model_module": "@jupyter-widgets/controls",
            "_model_module_version": "1.5.0",
            "_model_name": "HBoxModel",
            "_view_count": null,
            "_view_module": "@jupyter-widgets/controls",
            "_view_module_version": "1.5.0",
            "_view_name": "HBoxView",
            "box_style": "",
            "children": [
              "IPY_MODEL_e79edfaffd184568b25e75dd1b09b620",
              "IPY_MODEL_2333ae9c020d42e98df347f2176a628f"
            ],
            "layout": "IPY_MODEL_a313e61aa8df427486d2c3170c1bbc6e"
          }
        },
        "e79edfaffd184568b25e75dd1b09b620": {
          "model_module": "@jupyter-widgets/output",
          "model_name": "OutputModel",
          "model_module_version": "1.0.0",
          "state": {
            "_dom_classes": [],
            "_model_module": "@jupyter-widgets/output",
            "_model_module_version": "1.0.0",
            "_model_name": "OutputModel",
            "_view_count": null,
            "_view_module": "@jupyter-widgets/output",
            "_view_module_version": "1.0.0",
            "_view_name": "OutputView",
            "layout": "IPY_MODEL_cef14c77fc6447a8a46f618a334d3fa2",
            "msg_id": "",
            "outputs": [
              {
                "output_type": "display_data",
                "data": {
                  "text/plain": "      Leader Price  Follower Price  Cost\nDate                                    \n130       1.801408        1.822754   1.0\n129       1.801362        1.821664   1.0\n128       1.801316        1.820288   1.0\n127       1.801270        1.818844   1.0\n126       1.801223        1.816408   1.0\n125       1.801176        1.814879   1.0\n124       1.801128        1.814111   1.0\n123       1.801080        1.816331   1.0\n122       1.801032        1.810832   1.0\n121       1.800983        1.810548   1.0\n120       1.800934        1.808709   1.0\n119       1.800884        1.806909   1.0\n118       1.800834        1.804317   1.0\n117       1.800784        1.803779   1.0\n116       1.800733        1.801305   1.0\n115       1.800682        1.800213   1.0\n114       1.800630        1.798702   1.0\n113       1.800578        1.797990   1.0\n112       1.800526        1.794108   1.0\n111       1.800473        1.793495   1.0\n110       1.800420        1.793419   1.0\n109       1.800367        1.791693   1.0\n108       1.800313        1.788278   1.0\n107       1.800258        1.789808   1.0\n106       1.800203        1.783657   1.0\n105       1.800148        1.782539   1.0\n104       1.800093        1.780480   1.0\n103       1.800037        1.779088   1.0\n102       1.799980        1.779273   1.0\n101       1.799923        1.774433   1.0",
                  "text/html": "\n  <div id=\"df-8b3b5cd8-6f8e-4b6e-a4fe-a9ce02151d96\" class=\"colab-df-container\">\n    <div>\n<style scoped>\n    .dataframe tbody tr th:only-of-type {\n        vertical-align: middle;\n    }\n\n    .dataframe tbody tr th {\n        vertical-align: top;\n    }\n\n    .dataframe thead th {\n        text-align: right;\n    }\n</style>\n<table border=\"1\" class=\"dataframe\">\n  <thead>\n    <tr style=\"text-align: right;\">\n      <th></th>\n      <th>Leader Price</th>\n      <th>Follower Price</th>\n      <th>Cost</th>\n    </tr>\n    <tr>\n      <th>Date</th>\n      <th></th>\n      <th></th>\n      <th></th>\n    </tr>\n  </thead>\n  <tbody>\n    <tr>\n      <th>130</th>\n      <td>1.801408</td>\n      <td>1.822754</td>\n      <td>1.0</td>\n    </tr>\n    <tr>\n      <th>129</th>\n      <td>1.801362</td>\n      <td>1.821664</td>\n      <td>1.0</td>\n    </tr>\n    <tr>\n      <th>128</th>\n      <td>1.801316</td>\n      <td>1.820288</td>\n      <td>1.0</td>\n    </tr>\n    <tr>\n      <th>127</th>\n      <td>1.801270</td>\n      <td>1.818844</td>\n      <td>1.0</td>\n    </tr>\n    <tr>\n      <th>126</th>\n      <td>1.801223</td>\n      <td>1.816408</td>\n      <td>1.0</td>\n    </tr>\n    <tr>\n      <th>125</th>\n      <td>1.801176</td>\n      <td>1.814879</td>\n      <td>1.0</td>\n    </tr>\n    <tr>\n      <th>124</th>\n      <td>1.801128</td>\n      <td>1.814111</td>\n      <td>1.0</td>\n    </tr>\n    <tr>\n      <th>123</th>\n      <td>1.801080</td>\n      <td>1.816331</td>\n      <td>1.0</td>\n    </tr>\n    <tr>\n      <th>122</th>\n      <td>1.801032</td>\n      <td>1.810832</td>\n      <td>1.0</td>\n    </tr>\n    <tr>\n      <th>121</th>\n      <td>1.800983</td>\n      <td>1.810548</td>\n      <td>1.0</td>\n    </tr>\n    <tr>\n      <th>120</th>\n      <td>1.800934</td>\n      <td>1.808709</td>\n      <td>1.0</td>\n    </tr>\n    <tr>\n      <th>119</th>\n      <td>1.800884</td>\n      <td>1.806909</td>\n      <td>1.0</td>\n    </tr>\n    <tr>\n      <th>118</th>\n      <td>1.800834</td>\n      <td>1.804317</td>\n      <td>1.0</td>\n    </tr>\n    <tr>\n      <th>117</th>\n      <td>1.800784</td>\n      <td>1.803779</td>\n      <td>1.0</td>\n    </tr>\n    <tr>\n      <th>116</th>\n      <td>1.800733</td>\n      <td>1.801305</td>\n      <td>1.0</td>\n    </tr>\n    <tr>\n      <th>115</th>\n      <td>1.800682</td>\n      <td>1.800213</td>\n      <td>1.0</td>\n    </tr>\n    <tr>\n      <th>114</th>\n      <td>1.800630</td>\n      <td>1.798702</td>\n      <td>1.0</td>\n    </tr>\n    <tr>\n      <th>113</th>\n      <td>1.800578</td>\n      <td>1.797990</td>\n      <td>1.0</td>\n    </tr>\n    <tr>\n      <th>112</th>\n      <td>1.800526</td>\n      <td>1.794108</td>\n      <td>1.0</td>\n    </tr>\n    <tr>\n      <th>111</th>\n      <td>1.800473</td>\n      <td>1.793495</td>\n      <td>1.0</td>\n    </tr>\n    <tr>\n      <th>110</th>\n      <td>1.800420</td>\n      <td>1.793419</td>\n      <td>1.0</td>\n    </tr>\n    <tr>\n      <th>109</th>\n      <td>1.800367</td>\n      <td>1.791693</td>\n      <td>1.0</td>\n    </tr>\n    <tr>\n      <th>108</th>\n      <td>1.800313</td>\n      <td>1.788278</td>\n      <td>1.0</td>\n    </tr>\n    <tr>\n      <th>107</th>\n      <td>1.800258</td>\n      <td>1.789808</td>\n      <td>1.0</td>\n    </tr>\n    <tr>\n      <th>106</th>\n      <td>1.800203</td>\n      <td>1.783657</td>\n      <td>1.0</td>\n    </tr>\n    <tr>\n      <th>105</th>\n      <td>1.800148</td>\n      <td>1.782539</td>\n      <td>1.0</td>\n    </tr>\n    <tr>\n      <th>104</th>\n      <td>1.800093</td>\n      <td>1.780480</td>\n      <td>1.0</td>\n    </tr>\n    <tr>\n      <th>103</th>\n      <td>1.800037</td>\n      <td>1.779088</td>\n      <td>1.0</td>\n    </tr>\n    <tr>\n      <th>102</th>\n      <td>1.799980</td>\n      <td>1.779273</td>\n      <td>1.0</td>\n    </tr>\n    <tr>\n      <th>101</th>\n      <td>1.799923</td>\n      <td>1.774433</td>\n      <td>1.0</td>\n    </tr>\n  </tbody>\n</table>\n</div>\n    <div class=\"colab-df-buttons\">\n\n  <div class=\"colab-df-container\">\n    <button class=\"colab-df-convert\" onclick=\"convertToInteractive('df-8b3b5cd8-6f8e-4b6e-a4fe-a9ce02151d96')\"\n            title=\"Convert this dataframe to an interactive table.\"\n            style=\"display:none;\">\n\n  <svg xmlns=\"http://www.w3.org/2000/svg\" height=\"24px\" viewBox=\"0 -960 960 960\">\n    <path d=\"M120-120v-720h720v720H120Zm60-500h600v-160H180v160Zm220 220h160v-160H400v160Zm0 220h160v-160H400v160ZM180-400h160v-160H180v160Zm440 0h160v-160H620v160ZM180-180h160v-160H180v160Zm440 0h160v-160H620v160Z\"/>\n  </svg>\n    </button>\n\n  <style>\n    .colab-df-container {\n      display:flex;\n      gap: 12px;\n    }\n\n    .colab-df-convert {\n      background-color: #E8F0FE;\n      border: none;\n      border-radius: 50%;\n      cursor: pointer;\n      display: none;\n      fill: #1967D2;\n      height: 32px;\n      padding: 0 0 0 0;\n      width: 32px;\n    }\n\n    .colab-df-convert:hover {\n      background-color: #E2EBFA;\n      box-shadow: 0px 1px 2px rgba(60, 64, 67, 0.3), 0px 1px 3px 1px rgba(60, 64, 67, 0.15);\n      fill: #174EA6;\n    }\n\n    .colab-df-buttons div {\n      margin-bottom: 4px;\n    }\n\n    [theme=dark] .colab-df-convert {\n      background-color: #3B4455;\n      fill: #D2E3FC;\n    }\n\n    [theme=dark] .colab-df-convert:hover {\n      background-color: #434B5C;\n      box-shadow: 0px 1px 3px 1px rgba(0, 0, 0, 0.15);\n      filter: drop-shadow(0px 1px 2px rgba(0, 0, 0, 0.3));\n      fill: #FFFFFF;\n    }\n  </style>\n\n    <script>\n      const buttonEl =\n        document.querySelector('#df-8b3b5cd8-6f8e-4b6e-a4fe-a9ce02151d96 button.colab-df-convert');\n      buttonEl.style.display =\n        google.colab.kernel.accessAllowed ? 'block' : 'none';\n\n      async function convertToInteractive(key) {\n        const element = document.querySelector('#df-8b3b5cd8-6f8e-4b6e-a4fe-a9ce02151d96');\n        const dataTable =\n          await google.colab.kernel.invokeFunction('convertToInteractive',\n                                                    [key], {});\n        if (!dataTable) return;\n\n        const docLinkHtml = 'Like what you see? Visit the ' +\n          '<a target=\"_blank\" href=https://colab.research.google.com/notebooks/data_table.ipynb>data table notebook</a>'\n          + ' to learn more about interactive tables.';\n        element.innerHTML = '';\n        dataTable['output_type'] = 'display_data';\n        await google.colab.output.renderOutput(dataTable, element);\n        const docLink = document.createElement('div');\n        docLink.innerHTML = docLinkHtml;\n        element.appendChild(docLink);\n      }\n    </script>\n  </div>\n\n\n<div id=\"df-b1118eb1-acc6-482c-bffb-ee351c84e1e4\">\n  <button class=\"colab-df-quickchart\" onclick=\"quickchart('df-b1118eb1-acc6-482c-bffb-ee351c84e1e4')\"\n            title=\"Suggest charts\"\n            style=\"display:none;\">\n\n<svg xmlns=\"http://www.w3.org/2000/svg\" height=\"24px\"viewBox=\"0 0 24 24\"\n     width=\"24px\">\n    <g>\n        <path d=\"M19 3H5c-1.1 0-2 .9-2 2v14c0 1.1.9 2 2 2h14c1.1 0 2-.9 2-2V5c0-1.1-.9-2-2-2zM9 17H7v-7h2v7zm4 0h-2V7h2v10zm4 0h-2v-4h2v4z\"/>\n    </g>\n</svg>\n  </button>\n\n<style>\n  .colab-df-quickchart {\n      --bg-color: #E8F0FE;\n      --fill-color: #1967D2;\n      --hover-bg-color: #E2EBFA;\n      --hover-fill-color: #174EA6;\n      --disabled-fill-color: #AAA;\n      --disabled-bg-color: #DDD;\n  }\n\n  [theme=dark] .colab-df-quickchart {\n      --bg-color: #3B4455;\n      --fill-color: #D2E3FC;\n      --hover-bg-color: #434B5C;\n      --hover-fill-color: #FFFFFF;\n      --disabled-bg-color: #3B4455;\n      --disabled-fill-color: #666;\n  }\n\n  .colab-df-quickchart {\n    background-color: var(--bg-color);\n    border: none;\n    border-radius: 50%;\n    cursor: pointer;\n    display: none;\n    fill: var(--fill-color);\n    height: 32px;\n    padding: 0;\n    width: 32px;\n  }\n\n  .colab-df-quickchart:hover {\n    background-color: var(--hover-bg-color);\n    box-shadow: 0 1px 2px rgba(60, 64, 67, 0.3), 0 1px 3px 1px rgba(60, 64, 67, 0.15);\n    fill: var(--button-hover-fill-color);\n  }\n\n  .colab-df-quickchart-complete:disabled,\n  .colab-df-quickchart-complete:disabled:hover {\n    background-color: var(--disabled-bg-color);\n    fill: var(--disabled-fill-color);\n    box-shadow: none;\n  }\n\n  .colab-df-spinner {\n    border: 2px solid var(--fill-color);\n    border-color: transparent;\n    border-bottom-color: var(--fill-color);\n    animation:\n      spin 1s steps(1) infinite;\n  }\n\n  @keyframes spin {\n    0% {\n      border-color: transparent;\n      border-bottom-color: var(--fill-color);\n      border-left-color: var(--fill-color);\n    }\n    20% {\n      border-color: transparent;\n      border-left-color: var(--fill-color);\n      border-top-color: var(--fill-color);\n    }\n    30% {\n      border-color: transparent;\n      border-left-color: var(--fill-color);\n      border-top-color: var(--fill-color);\n      border-right-color: var(--fill-color);\n    }\n    40% {\n      border-color: transparent;\n      border-right-color: var(--fill-color);\n      border-top-color: var(--fill-color);\n    }\n    60% {\n      border-color: transparent;\n      border-right-color: var(--fill-color);\n    }\n    80% {\n      border-color: transparent;\n      border-right-color: var(--fill-color);\n      border-bottom-color: var(--fill-color);\n    }\n    90% {\n      border-color: transparent;\n      border-bottom-color: var(--fill-color);\n    }\n  }\n</style>\n\n  <script>\n    async function quickchart(key) {\n      const quickchartButtonEl =\n        document.querySelector('#' + key + ' button');\n      quickchartButtonEl.disabled = true;  // To prevent multiple clicks.\n      quickchartButtonEl.classList.add('colab-df-spinner');\n      try {\n        const charts = await google.colab.kernel.invokeFunction(\n            'suggestCharts', [key], {});\n      } catch (error) {\n        console.error('Error during call to suggestCharts:', error);\n      }\n      quickchartButtonEl.classList.remove('colab-df-spinner');\n      quickchartButtonEl.classList.add('colab-df-quickchart-complete');\n    }\n    (() => {\n      let quickchartButtonEl =\n        document.querySelector('#df-b1118eb1-acc6-482c-bffb-ee351c84e1e4 button');\n      quickchartButtonEl.style.display =\n        google.colab.kernel.accessAllowed ? 'block' : 'none';\n    })();\n  </script>\n</div>\n\n    </div>\n  </div>\n",
                  "application/vnd.google.colaboratory.intrinsic+json": {
                    "type": "dataframe",
                    "summary": "{\n  \"name\": \"app = GUI(engine, Leader, group_num)\",\n  \"rows\": 30,\n  \"fields\": [\n    {\n      \"column\": \"Date\",\n      \"properties\": {\n        \"dtype\": \"number\",\n        \"std\": 8,\n        \"min\": 101,\n        \"max\": 130,\n        \"num_unique_values\": 30,\n        \"samples\": [\n          103,\n          115,\n          107\n        ],\n        \"semantic_type\": \"\",\n        \"description\": \"\"\n      }\n    },\n    {\n      \"column\": \"Leader Price\",\n      \"properties\": {\n        \"dtype\": \"number\",\n        \"std\": 0.00045081873744910506,\n        \"min\": 1.7999233581768694,\n        \"max\": 1.8014076991383015,\n        \"num_unique_values\": 30,\n        \"samples\": [\n          1.800036546715705,\n          1.8006820775681678,\n          1.8002581283694115\n        ],\n        \"semantic_type\": \"\",\n        \"description\": \"\"\n      }\n    },\n    {\n      \"column\": \"Follower Price\",\n      \"properties\": {\n        \"dtype\": \"number\",\n        \"std\": 0.014378112276339384,\n        \"min\": 1.7744334782524775,\n        \"max\": 1.8227542213773964,\n        \"num_unique_values\": 30,\n        \"samples\": [\n          1.7790881406936758,\n          1.8002131553644936,\n          1.7898075136196423\n        ],\n        \"semantic_type\": \"\",\n        \"description\": \"\"\n      }\n    },\n    {\n      \"column\": \"Cost\",\n      \"properties\": {\n        \"dtype\": \"number\",\n        \"std\": 0.0,\n        \"min\": 1.0,\n        \"max\": 1.0,\n        \"num_unique_values\": 1,\n        \"samples\": [\n          1.0\n        ],\n        \"semantic_type\": \"\",\n        \"description\": \"\"\n      }\n    }\n  ]\n}"
                  }
                },
                "metadata": {}
              }
            ]
          }
        },
        "2333ae9c020d42e98df347f2176a628f": {
          "model_module": "@jupyter-widgets/output",
          "model_name": "OutputModel",
          "model_module_version": "1.0.0",
          "state": {
            "_dom_classes": [],
            "_model_module": "@jupyter-widgets/output",
            "_model_module_version": "1.0.0",
            "_model_name": "OutputModel",
            "_view_count": null,
            "_view_module": "@jupyter-widgets/output",
            "_view_module_version": "1.0.0",
            "_view_name": "OutputView",
            "layout": "IPY_MODEL_dc9147868d544fae9cbafa4b4e33ddcb",
            "msg_id": "",
            "outputs": [
              {
                "output_type": "display_data",
                "data": {
                  "text/plain": "<IPython.core.display.HTML object>",
                  "text/html": "<br><br><br><br><br><br><br><br><br><br><b style='font-size: 17px;'><u>Profit made: 17.763318266736015</u></b>"
                },
                "metadata": {}
              }
            ]
          }
        },
        "a313e61aa8df427486d2c3170c1bbc6e": {
          "model_module": "@jupyter-widgets/base",
          "model_name": "LayoutModel",
          "model_module_version": "1.2.0",
          "state": {
            "_model_module": "@jupyter-widgets/base",
            "_model_module_version": "1.2.0",
            "_model_name": "LayoutModel",
            "_view_count": null,
            "_view_module": "@jupyter-widgets/base",
            "_view_module_version": "1.2.0",
            "_view_name": "LayoutView",
            "align_content": null,
            "align_items": null,
            "align_self": null,
            "border": null,
            "bottom": null,
            "display": null,
            "flex": null,
            "flex_flow": null,
            "grid_area": null,
            "grid_auto_columns": null,
            "grid_auto_flow": null,
            "grid_auto_rows": null,
            "grid_column": null,
            "grid_gap": null,
            "grid_row": null,
            "grid_template_areas": null,
            "grid_template_columns": null,
            "grid_template_rows": null,
            "height": null,
            "justify_content": "initial",
            "justify_items": null,
            "left": null,
            "margin": null,
            "max_height": null,
            "max_width": null,
            "min_height": null,
            "min_width": null,
            "object_fit": null,
            "object_position": null,
            "order": null,
            "overflow": null,
            "overflow_x": null,
            "overflow_y": null,
            "padding": null,
            "right": null,
            "top": null,
            "visibility": null,
            "width": null
          }
        },
        "cef14c77fc6447a8a46f618a334d3fa2": {
          "model_module": "@jupyter-widgets/base",
          "model_name": "LayoutModel",
          "model_module_version": "1.2.0",
          "state": {
            "_model_module": "@jupyter-widgets/base",
            "_model_module_version": "1.2.0",
            "_model_name": "LayoutModel",
            "_view_count": null,
            "_view_module": "@jupyter-widgets/base",
            "_view_module_version": "1.2.0",
            "_view_name": "LayoutView",
            "align_content": null,
            "align_items": null,
            "align_self": null,
            "border": null,
            "bottom": null,
            "display": null,
            "flex": null,
            "flex_flow": null,
            "grid_area": null,
            "grid_auto_columns": null,
            "grid_auto_flow": null,
            "grid_auto_rows": null,
            "grid_column": null,
            "grid_gap": null,
            "grid_row": null,
            "grid_template_areas": null,
            "grid_template_columns": null,
            "grid_template_rows": null,
            "height": null,
            "justify_content": null,
            "justify_items": null,
            "left": null,
            "margin": null,
            "max_height": null,
            "max_width": null,
            "min_height": null,
            "min_width": null,
            "object_fit": null,
            "object_position": null,
            "order": null,
            "overflow": null,
            "overflow_x": null,
            "overflow_y": null,
            "padding": null,
            "right": null,
            "top": null,
            "visibility": null,
            "width": null
          }
        },
        "dc9147868d544fae9cbafa4b4e33ddcb": {
          "model_module": "@jupyter-widgets/base",
          "model_name": "LayoutModel",
          "model_module_version": "1.2.0",
          "state": {
            "_model_module": "@jupyter-widgets/base",
            "_model_module_version": "1.2.0",
            "_model_name": "LayoutModel",
            "_view_count": null,
            "_view_module": "@jupyter-widgets/base",
            "_view_module_version": "1.2.0",
            "_view_name": "LayoutView",
            "align_content": null,
            "align_items": null,
            "align_self": null,
            "border": null,
            "bottom": null,
            "display": null,
            "flex": null,
            "flex_flow": null,
            "grid_area": null,
            "grid_auto_columns": null,
            "grid_auto_flow": null,
            "grid_auto_rows": null,
            "grid_column": null,
            "grid_gap": null,
            "grid_row": null,
            "grid_template_areas": null,
            "grid_template_columns": null,
            "grid_template_rows": null,
            "height": null,
            "justify_content": null,
            "justify_items": null,
            "left": null,
            "margin": null,
            "max_height": null,
            "max_width": null,
            "min_height": null,
            "min_width": null,
            "object_fit": null,
            "object_position": null,
            "order": null,
            "overflow": null,
            "overflow_x": null,
            "overflow_y": null,
            "padding": null,
            "right": null,
            "top": null,
            "visibility": null,
            "width": null
          }
        },
        "a349a4fb00ae478e8ac7991bec535811": {
          "model_module": "@jupyter-widgets/controls",
          "model_name": "HBoxModel",
          "model_module_version": "1.5.0",
          "state": {
            "_dom_classes": [],
            "_model_module": "@jupyter-widgets/controls",
            "_model_module_version": "1.5.0",
            "_model_name": "HBoxModel",
            "_view_count": null,
            "_view_module": "@jupyter-widgets/controls",
            "_view_module_version": "1.5.0",
            "_view_name": "HBoxView",
            "box_style": "",
            "children": [
              "IPY_MODEL_5d95856dd3ba4cf6b51f87fd5ad12311",
              "IPY_MODEL_5f7ea25be3904b0e905673ba3e50778e"
            ],
            "layout": "IPY_MODEL_4ea47fcf353e4e4184dc34b4545c6944"
          }
        },
        "5d95856dd3ba4cf6b51f87fd5ad12311": {
          "model_module": "@jupyter-widgets/output",
          "model_name": "OutputModel",
          "model_module_version": "1.0.0",
          "state": {
            "_dom_classes": [],
            "_model_module": "@jupyter-widgets/output",
            "_model_module_version": "1.0.0",
            "_model_name": "OutputModel",
            "_view_count": null,
            "_view_module": "@jupyter-widgets/output",
            "_view_module_version": "1.0.0",
            "_view_name": "OutputView",
            "layout": "IPY_MODEL_89969636aab04a02b3fc11b7dd2e08c8",
            "msg_id": "",
            "outputs": [
              {
                "output_type": "display_data",
                "data": {
                  "text/plain": "      Leader Price  Follower Price  Cost\nDate                                    \n130       1.801408        1.822754   1.0\n129       1.801362        1.821664   1.0\n128       1.801316        1.820288   1.0\n127       1.801270        1.818844   1.0\n126       1.801223        1.816408   1.0\n125       1.801176        1.814879   1.0\n124       1.801128        1.814111   1.0\n123       1.801080        1.816331   1.0\n122       1.801032        1.810832   1.0\n121       1.800983        1.810548   1.0\n120       1.800934        1.808709   1.0\n119       1.800884        1.806909   1.0\n118       1.800834        1.804317   1.0\n117       1.800784        1.803779   1.0\n116       1.800733        1.801305   1.0\n115       1.800682        1.800213   1.0\n114       1.800630        1.798702   1.0\n113       1.800578        1.797990   1.0\n112       1.800526        1.794108   1.0\n111       1.800473        1.793495   1.0\n110       1.800420        1.793419   1.0\n109       1.800367        1.791693   1.0\n108       1.800313        1.788278   1.0\n107       1.800258        1.789808   1.0\n106       1.800203        1.783657   1.0\n105       1.800148        1.782539   1.0\n104       1.800093        1.780480   1.0\n103       1.800037        1.779088   1.0\n102       1.799980        1.779273   1.0\n101       1.799923        1.774433   1.0",
                  "text/html": "\n  <div id=\"df-60f03a56-06f7-4232-a835-d68a459f157a\" class=\"colab-df-container\">\n    <div>\n<style scoped>\n    .dataframe tbody tr th:only-of-type {\n        vertical-align: middle;\n    }\n\n    .dataframe tbody tr th {\n        vertical-align: top;\n    }\n\n    .dataframe thead th {\n        text-align: right;\n    }\n</style>\n<table border=\"1\" class=\"dataframe\">\n  <thead>\n    <tr style=\"text-align: right;\">\n      <th></th>\n      <th>Leader Price</th>\n      <th>Follower Price</th>\n      <th>Cost</th>\n    </tr>\n    <tr>\n      <th>Date</th>\n      <th></th>\n      <th></th>\n      <th></th>\n    </tr>\n  </thead>\n  <tbody>\n    <tr>\n      <th>130</th>\n      <td>1.801408</td>\n      <td>1.822754</td>\n      <td>1.0</td>\n    </tr>\n    <tr>\n      <th>129</th>\n      <td>1.801362</td>\n      <td>1.821664</td>\n      <td>1.0</td>\n    </tr>\n    <tr>\n      <th>128</th>\n      <td>1.801316</td>\n      <td>1.820288</td>\n      <td>1.0</td>\n    </tr>\n    <tr>\n      <th>127</th>\n      <td>1.801270</td>\n      <td>1.818844</td>\n      <td>1.0</td>\n    </tr>\n    <tr>\n      <th>126</th>\n      <td>1.801223</td>\n      <td>1.816408</td>\n      <td>1.0</td>\n    </tr>\n    <tr>\n      <th>125</th>\n      <td>1.801176</td>\n      <td>1.814879</td>\n      <td>1.0</td>\n    </tr>\n    <tr>\n      <th>124</th>\n      <td>1.801128</td>\n      <td>1.814111</td>\n      <td>1.0</td>\n    </tr>\n    <tr>\n      <th>123</th>\n      <td>1.801080</td>\n      <td>1.816331</td>\n      <td>1.0</td>\n    </tr>\n    <tr>\n      <th>122</th>\n      <td>1.801032</td>\n      <td>1.810832</td>\n      <td>1.0</td>\n    </tr>\n    <tr>\n      <th>121</th>\n      <td>1.800983</td>\n      <td>1.810548</td>\n      <td>1.0</td>\n    </tr>\n    <tr>\n      <th>120</th>\n      <td>1.800934</td>\n      <td>1.808709</td>\n      <td>1.0</td>\n    </tr>\n    <tr>\n      <th>119</th>\n      <td>1.800884</td>\n      <td>1.806909</td>\n      <td>1.0</td>\n    </tr>\n    <tr>\n      <th>118</th>\n      <td>1.800834</td>\n      <td>1.804317</td>\n      <td>1.0</td>\n    </tr>\n    <tr>\n      <th>117</th>\n      <td>1.800784</td>\n      <td>1.803779</td>\n      <td>1.0</td>\n    </tr>\n    <tr>\n      <th>116</th>\n      <td>1.800733</td>\n      <td>1.801305</td>\n      <td>1.0</td>\n    </tr>\n    <tr>\n      <th>115</th>\n      <td>1.800682</td>\n      <td>1.800213</td>\n      <td>1.0</td>\n    </tr>\n    <tr>\n      <th>114</th>\n      <td>1.800630</td>\n      <td>1.798702</td>\n      <td>1.0</td>\n    </tr>\n    <tr>\n      <th>113</th>\n      <td>1.800578</td>\n      <td>1.797990</td>\n      <td>1.0</td>\n    </tr>\n    <tr>\n      <th>112</th>\n      <td>1.800526</td>\n      <td>1.794108</td>\n      <td>1.0</td>\n    </tr>\n    <tr>\n      <th>111</th>\n      <td>1.800473</td>\n      <td>1.793495</td>\n      <td>1.0</td>\n    </tr>\n    <tr>\n      <th>110</th>\n      <td>1.800420</td>\n      <td>1.793419</td>\n      <td>1.0</td>\n    </tr>\n    <tr>\n      <th>109</th>\n      <td>1.800367</td>\n      <td>1.791693</td>\n      <td>1.0</td>\n    </tr>\n    <tr>\n      <th>108</th>\n      <td>1.800313</td>\n      <td>1.788278</td>\n      <td>1.0</td>\n    </tr>\n    <tr>\n      <th>107</th>\n      <td>1.800258</td>\n      <td>1.789808</td>\n      <td>1.0</td>\n    </tr>\n    <tr>\n      <th>106</th>\n      <td>1.800203</td>\n      <td>1.783657</td>\n      <td>1.0</td>\n    </tr>\n    <tr>\n      <th>105</th>\n      <td>1.800148</td>\n      <td>1.782539</td>\n      <td>1.0</td>\n    </tr>\n    <tr>\n      <th>104</th>\n      <td>1.800093</td>\n      <td>1.780480</td>\n      <td>1.0</td>\n    </tr>\n    <tr>\n      <th>103</th>\n      <td>1.800037</td>\n      <td>1.779088</td>\n      <td>1.0</td>\n    </tr>\n    <tr>\n      <th>102</th>\n      <td>1.799980</td>\n      <td>1.779273</td>\n      <td>1.0</td>\n    </tr>\n    <tr>\n      <th>101</th>\n      <td>1.799923</td>\n      <td>1.774433</td>\n      <td>1.0</td>\n    </tr>\n  </tbody>\n</table>\n</div>\n    <div class=\"colab-df-buttons\">\n\n  <div class=\"colab-df-container\">\n    <button class=\"colab-df-convert\" onclick=\"convertToInteractive('df-60f03a56-06f7-4232-a835-d68a459f157a')\"\n            title=\"Convert this dataframe to an interactive table.\"\n            style=\"display:none;\">\n\n  <svg xmlns=\"http://www.w3.org/2000/svg\" height=\"24px\" viewBox=\"0 -960 960 960\">\n    <path d=\"M120-120v-720h720v720H120Zm60-500h600v-160H180v160Zm220 220h160v-160H400v160Zm0 220h160v-160H400v160ZM180-400h160v-160H180v160Zm440 0h160v-160H620v160ZM180-180h160v-160H180v160Zm440 0h160v-160H620v160Z\"/>\n  </svg>\n    </button>\n\n  <style>\n    .colab-df-container {\n      display:flex;\n      gap: 12px;\n    }\n\n    .colab-df-convert {\n      background-color: #E8F0FE;\n      border: none;\n      border-radius: 50%;\n      cursor: pointer;\n      display: none;\n      fill: #1967D2;\n      height: 32px;\n      padding: 0 0 0 0;\n      width: 32px;\n    }\n\n    .colab-df-convert:hover {\n      background-color: #E2EBFA;\n      box-shadow: 0px 1px 2px rgba(60, 64, 67, 0.3), 0px 1px 3px 1px rgba(60, 64, 67, 0.15);\n      fill: #174EA6;\n    }\n\n    .colab-df-buttons div {\n      margin-bottom: 4px;\n    }\n\n    [theme=dark] .colab-df-convert {\n      background-color: #3B4455;\n      fill: #D2E3FC;\n    }\n\n    [theme=dark] .colab-df-convert:hover {\n      background-color: #434B5C;\n      box-shadow: 0px 1px 3px 1px rgba(0, 0, 0, 0.15);\n      filter: drop-shadow(0px 1px 2px rgba(0, 0, 0, 0.3));\n      fill: #FFFFFF;\n    }\n  </style>\n\n    <script>\n      const buttonEl =\n        document.querySelector('#df-60f03a56-06f7-4232-a835-d68a459f157a button.colab-df-convert');\n      buttonEl.style.display =\n        google.colab.kernel.accessAllowed ? 'block' : 'none';\n\n      async function convertToInteractive(key) {\n        const element = document.querySelector('#df-60f03a56-06f7-4232-a835-d68a459f157a');\n        const dataTable =\n          await google.colab.kernel.invokeFunction('convertToInteractive',\n                                                    [key], {});\n        if (!dataTable) return;\n\n        const docLinkHtml = 'Like what you see? Visit the ' +\n          '<a target=\"_blank\" href=https://colab.research.google.com/notebooks/data_table.ipynb>data table notebook</a>'\n          + ' to learn more about interactive tables.';\n        element.innerHTML = '';\n        dataTable['output_type'] = 'display_data';\n        await google.colab.output.renderOutput(dataTable, element);\n        const docLink = document.createElement('div');\n        docLink.innerHTML = docLinkHtml;\n        element.appendChild(docLink);\n      }\n    </script>\n  </div>\n\n\n<div id=\"df-17ccd124-8039-4f0e-9384-9f16cc2bd953\">\n  <button class=\"colab-df-quickchart\" onclick=\"quickchart('df-17ccd124-8039-4f0e-9384-9f16cc2bd953')\"\n            title=\"Suggest charts\"\n            style=\"display:none;\">\n\n<svg xmlns=\"http://www.w3.org/2000/svg\" height=\"24px\"viewBox=\"0 0 24 24\"\n     width=\"24px\">\n    <g>\n        <path d=\"M19 3H5c-1.1 0-2 .9-2 2v14c0 1.1.9 2 2 2h14c1.1 0 2-.9 2-2V5c0-1.1-.9-2-2-2zM9 17H7v-7h2v7zm4 0h-2V7h2v10zm4 0h-2v-4h2v4z\"/>\n    </g>\n</svg>\n  </button>\n\n<style>\n  .colab-df-quickchart {\n      --bg-color: #E8F0FE;\n      --fill-color: #1967D2;\n      --hover-bg-color: #E2EBFA;\n      --hover-fill-color: #174EA6;\n      --disabled-fill-color: #AAA;\n      --disabled-bg-color: #DDD;\n  }\n\n  [theme=dark] .colab-df-quickchart {\n      --bg-color: #3B4455;\n      --fill-color: #D2E3FC;\n      --hover-bg-color: #434B5C;\n      --hover-fill-color: #FFFFFF;\n      --disabled-bg-color: #3B4455;\n      --disabled-fill-color: #666;\n  }\n\n  .colab-df-quickchart {\n    background-color: var(--bg-color);\n    border: none;\n    border-radius: 50%;\n    cursor: pointer;\n    display: none;\n    fill: var(--fill-color);\n    height: 32px;\n    padding: 0;\n    width: 32px;\n  }\n\n  .colab-df-quickchart:hover {\n    background-color: var(--hover-bg-color);\n    box-shadow: 0 1px 2px rgba(60, 64, 67, 0.3), 0 1px 3px 1px rgba(60, 64, 67, 0.15);\n    fill: var(--button-hover-fill-color);\n  }\n\n  .colab-df-quickchart-complete:disabled,\n  .colab-df-quickchart-complete:disabled:hover {\n    background-color: var(--disabled-bg-color);\n    fill: var(--disabled-fill-color);\n    box-shadow: none;\n  }\n\n  .colab-df-spinner {\n    border: 2px solid var(--fill-color);\n    border-color: transparent;\n    border-bottom-color: var(--fill-color);\n    animation:\n      spin 1s steps(1) infinite;\n  }\n\n  @keyframes spin {\n    0% {\n      border-color: transparent;\n      border-bottom-color: var(--fill-color);\n      border-left-color: var(--fill-color);\n    }\n    20% {\n      border-color: transparent;\n      border-left-color: var(--fill-color);\n      border-top-color: var(--fill-color);\n    }\n    30% {\n      border-color: transparent;\n      border-left-color: var(--fill-color);\n      border-top-color: var(--fill-color);\n      border-right-color: var(--fill-color);\n    }\n    40% {\n      border-color: transparent;\n      border-right-color: var(--fill-color);\n      border-top-color: var(--fill-color);\n    }\n    60% {\n      border-color: transparent;\n      border-right-color: var(--fill-color);\n    }\n    80% {\n      border-color: transparent;\n      border-right-color: var(--fill-color);\n      border-bottom-color: var(--fill-color);\n    }\n    90% {\n      border-color: transparent;\n      border-bottom-color: var(--fill-color);\n    }\n  }\n</style>\n\n  <script>\n    async function quickchart(key) {\n      const quickchartButtonEl =\n        document.querySelector('#' + key + ' button');\n      quickchartButtonEl.disabled = true;  // To prevent multiple clicks.\n      quickchartButtonEl.classList.add('colab-df-spinner');\n      try {\n        const charts = await google.colab.kernel.invokeFunction(\n            'suggestCharts', [key], {});\n      } catch (error) {\n        console.error('Error during call to suggestCharts:', error);\n      }\n      quickchartButtonEl.classList.remove('colab-df-spinner');\n      quickchartButtonEl.classList.add('colab-df-quickchart-complete');\n    }\n    (() => {\n      let quickchartButtonEl =\n        document.querySelector('#df-17ccd124-8039-4f0e-9384-9f16cc2bd953 button');\n      quickchartButtonEl.style.display =\n        google.colab.kernel.accessAllowed ? 'block' : 'none';\n    })();\n  </script>\n</div>\n\n    </div>\n  </div>\n",
                  "application/vnd.google.colaboratory.intrinsic+json": {
                    "type": "dataframe",
                    "summary": "{\n  \"name\": \"app = GUI(engine, Leader, group_num)\",\n  \"rows\": 30,\n  \"fields\": [\n    {\n      \"column\": \"Date\",\n      \"properties\": {\n        \"dtype\": \"number\",\n        \"std\": 8,\n        \"min\": 101,\n        \"max\": 130,\n        \"num_unique_values\": 30,\n        \"samples\": [\n          103,\n          115,\n          107\n        ],\n        \"semantic_type\": \"\",\n        \"description\": \"\"\n      }\n    },\n    {\n      \"column\": \"Leader Price\",\n      \"properties\": {\n        \"dtype\": \"number\",\n        \"std\": 0.00045081873744910506,\n        \"min\": 1.7999233581768694,\n        \"max\": 1.8014076991383015,\n        \"num_unique_values\": 30,\n        \"samples\": [\n          1.800036546715705,\n          1.8006820775681678,\n          1.8002581283694115\n        ],\n        \"semantic_type\": \"\",\n        \"description\": \"\"\n      }\n    },\n    {\n      \"column\": \"Follower Price\",\n      \"properties\": {\n        \"dtype\": \"number\",\n        \"std\": 0.014378112276339384,\n        \"min\": 1.7744334782524775,\n        \"max\": 1.8227542213773964,\n        \"num_unique_values\": 30,\n        \"samples\": [\n          1.7790881406936758,\n          1.8002131553644936,\n          1.7898075136196423\n        ],\n        \"semantic_type\": \"\",\n        \"description\": \"\"\n      }\n    },\n    {\n      \"column\": \"Cost\",\n      \"properties\": {\n        \"dtype\": \"number\",\n        \"std\": 0.0,\n        \"min\": 1.0,\n        \"max\": 1.0,\n        \"num_unique_values\": 1,\n        \"samples\": [\n          1.0\n        ],\n        \"semantic_type\": \"\",\n        \"description\": \"\"\n      }\n    }\n  ]\n}"
                  }
                },
                "metadata": {}
              }
            ]
          }
        },
        "5f7ea25be3904b0e905673ba3e50778e": {
          "model_module": "@jupyter-widgets/output",
          "model_name": "OutputModel",
          "model_module_version": "1.0.0",
          "state": {
            "_dom_classes": [],
            "_model_module": "@jupyter-widgets/output",
            "_model_module_version": "1.0.0",
            "_model_name": "OutputModel",
            "_view_count": null,
            "_view_module": "@jupyter-widgets/output",
            "_view_module_version": "1.0.0",
            "_view_name": "OutputView",
            "layout": "IPY_MODEL_5ed72e8878e74c158af0343f3b46d76d",
            "msg_id": "",
            "outputs": [
              {
                "output_type": "display_data",
                "data": {
                  "text/plain": "<IPython.core.display.HTML object>",
                  "text/html": "<br><br><br><br><br><br><br><br><br><br><b style='font-size: 17px;'><u>Profit made: 17.763318266736015</u></b>"
                },
                "metadata": {}
              }
            ]
          }
        },
        "4ea47fcf353e4e4184dc34b4545c6944": {
          "model_module": "@jupyter-widgets/base",
          "model_name": "LayoutModel",
          "model_module_version": "1.2.0",
          "state": {
            "_model_module": "@jupyter-widgets/base",
            "_model_module_version": "1.2.0",
            "_model_name": "LayoutModel",
            "_view_count": null,
            "_view_module": "@jupyter-widgets/base",
            "_view_module_version": "1.2.0",
            "_view_name": "LayoutView",
            "align_content": null,
            "align_items": null,
            "align_self": null,
            "border": null,
            "bottom": null,
            "display": null,
            "flex": null,
            "flex_flow": null,
            "grid_area": null,
            "grid_auto_columns": null,
            "grid_auto_flow": null,
            "grid_auto_rows": null,
            "grid_column": null,
            "grid_gap": null,
            "grid_row": null,
            "grid_template_areas": null,
            "grid_template_columns": null,
            "grid_template_rows": null,
            "height": null,
            "justify_content": "initial",
            "justify_items": null,
            "left": null,
            "margin": null,
            "max_height": null,
            "max_width": null,
            "min_height": null,
            "min_width": null,
            "object_fit": null,
            "object_position": null,
            "order": null,
            "overflow": null,
            "overflow_x": null,
            "overflow_y": null,
            "padding": null,
            "right": null,
            "top": null,
            "visibility": null,
            "width": null
          }
        },
        "89969636aab04a02b3fc11b7dd2e08c8": {
          "model_module": "@jupyter-widgets/base",
          "model_name": "LayoutModel",
          "model_module_version": "1.2.0",
          "state": {
            "_model_module": "@jupyter-widgets/base",
            "_model_module_version": "1.2.0",
            "_model_name": "LayoutModel",
            "_view_count": null,
            "_view_module": "@jupyter-widgets/base",
            "_view_module_version": "1.2.0",
            "_view_name": "LayoutView",
            "align_content": null,
            "align_items": null,
            "align_self": null,
            "border": null,
            "bottom": null,
            "display": null,
            "flex": null,
            "flex_flow": null,
            "grid_area": null,
            "grid_auto_columns": null,
            "grid_auto_flow": null,
            "grid_auto_rows": null,
            "grid_column": null,
            "grid_gap": null,
            "grid_row": null,
            "grid_template_areas": null,
            "grid_template_columns": null,
            "grid_template_rows": null,
            "height": null,
            "justify_content": null,
            "justify_items": null,
            "left": null,
            "margin": null,
            "max_height": null,
            "max_width": null,
            "min_height": null,
            "min_width": null,
            "object_fit": null,
            "object_position": null,
            "order": null,
            "overflow": null,
            "overflow_x": null,
            "overflow_y": null,
            "padding": null,
            "right": null,
            "top": null,
            "visibility": null,
            "width": null
          }
        },
        "5ed72e8878e74c158af0343f3b46d76d": {
          "model_module": "@jupyter-widgets/base",
          "model_name": "LayoutModel",
          "model_module_version": "1.2.0",
          "state": {
            "_model_module": "@jupyter-widgets/base",
            "_model_module_version": "1.2.0",
            "_model_name": "LayoutModel",
            "_view_count": null,
            "_view_module": "@jupyter-widgets/base",
            "_view_module_version": "1.2.0",
            "_view_name": "LayoutView",
            "align_content": null,
            "align_items": null,
            "align_self": null,
            "border": null,
            "bottom": null,
            "display": null,
            "flex": null,
            "flex_flow": null,
            "grid_area": null,
            "grid_auto_columns": null,
            "grid_auto_flow": null,
            "grid_auto_rows": null,
            "grid_column": null,
            "grid_gap": null,
            "grid_row": null,
            "grid_template_areas": null,
            "grid_template_columns": null,
            "grid_template_rows": null,
            "height": null,
            "justify_content": null,
            "justify_items": null,
            "left": null,
            "margin": null,
            "max_height": null,
            "max_width": null,
            "min_height": null,
            "min_width": null,
            "object_fit": null,
            "object_position": null,
            "order": null,
            "overflow": null,
            "overflow_x": null,
            "overflow_y": null,
            "padding": null,
            "right": null,
            "top": null,
            "visibility": null,
            "width": null
          }
        },
        "aa032b4bb444410280644cfc640ccbfe": {
          "model_module": "@jupyter-widgets/controls",
          "model_name": "HBoxModel",
          "model_module_version": "1.5.0",
          "state": {
            "_dom_classes": [],
            "_model_module": "@jupyter-widgets/controls",
            "_model_module_version": "1.5.0",
            "_model_name": "HBoxModel",
            "_view_count": null,
            "_view_module": "@jupyter-widgets/controls",
            "_view_module_version": "1.5.0",
            "_view_name": "HBoxView",
            "box_style": "",
            "children": [
              "IPY_MODEL_e8374d91cb574842bbd8fadc47446d44",
              "IPY_MODEL_287a7f2fc59b415bb8b43296d84f5cc4"
            ],
            "layout": "IPY_MODEL_99e2849510994f6db9c1519b06bed79b"
          }
        },
        "e8374d91cb574842bbd8fadc47446d44": {
          "model_module": "@jupyter-widgets/output",
          "model_name": "OutputModel",
          "model_module_version": "1.0.0",
          "state": {
            "_dom_classes": [],
            "_model_module": "@jupyter-widgets/output",
            "_model_module_version": "1.0.0",
            "_model_name": "OutputModel",
            "_view_count": null,
            "_view_module": "@jupyter-widgets/output",
            "_view_module_version": "1.0.0",
            "_view_name": "OutputView",
            "layout": "IPY_MODEL_e9e697d3e5c34b0da7e100d45fefc9ca",
            "msg_id": "",
            "outputs": [
              {
                "output_type": "display_data",
                "data": {
                  "text/plain": "      Leader Price  Follower Price  Cost\nDate                                    \n130       1.801408        1.822754   1.0\n129       1.801362        1.821664   1.0\n128       1.801316        1.820288   1.0\n127       1.801270        1.818844   1.0\n126       1.801223        1.816408   1.0\n125       1.801176        1.814879   1.0\n124       1.801128        1.814111   1.0\n123       1.801080        1.816331   1.0\n122       1.801032        1.810832   1.0\n121       1.800983        1.810548   1.0\n120       1.800934        1.808709   1.0\n119       1.800884        1.806909   1.0\n118       1.800834        1.804317   1.0\n117       1.800784        1.803779   1.0\n116       1.800733        1.801305   1.0\n115       1.800682        1.800213   1.0\n114       1.800630        1.798702   1.0\n113       1.800578        1.797990   1.0\n112       1.800526        1.794108   1.0\n111       1.800473        1.793495   1.0\n110       1.800420        1.793419   1.0\n109       1.800367        1.791693   1.0\n108       1.800313        1.788278   1.0\n107       1.800258        1.789808   1.0\n106       1.800203        1.783657   1.0\n105       1.800148        1.782539   1.0\n104       1.800093        1.780480   1.0\n103       1.800037        1.779088   1.0\n102       1.799980        1.779273   1.0\n101       1.799923        1.774433   1.0",
                  "text/html": "\n  <div id=\"df-bf09decd-1aa8-4c68-af4f-ce444e5462de\" class=\"colab-df-container\">\n    <div>\n<style scoped>\n    .dataframe tbody tr th:only-of-type {\n        vertical-align: middle;\n    }\n\n    .dataframe tbody tr th {\n        vertical-align: top;\n    }\n\n    .dataframe thead th {\n        text-align: right;\n    }\n</style>\n<table border=\"1\" class=\"dataframe\">\n  <thead>\n    <tr style=\"text-align: right;\">\n      <th></th>\n      <th>Leader Price</th>\n      <th>Follower Price</th>\n      <th>Cost</th>\n    </tr>\n    <tr>\n      <th>Date</th>\n      <th></th>\n      <th></th>\n      <th></th>\n    </tr>\n  </thead>\n  <tbody>\n    <tr>\n      <th>130</th>\n      <td>1.801408</td>\n      <td>1.822754</td>\n      <td>1.0</td>\n    </tr>\n    <tr>\n      <th>129</th>\n      <td>1.801362</td>\n      <td>1.821664</td>\n      <td>1.0</td>\n    </tr>\n    <tr>\n      <th>128</th>\n      <td>1.801316</td>\n      <td>1.820288</td>\n      <td>1.0</td>\n    </tr>\n    <tr>\n      <th>127</th>\n      <td>1.801270</td>\n      <td>1.818844</td>\n      <td>1.0</td>\n    </tr>\n    <tr>\n      <th>126</th>\n      <td>1.801223</td>\n      <td>1.816408</td>\n      <td>1.0</td>\n    </tr>\n    <tr>\n      <th>125</th>\n      <td>1.801176</td>\n      <td>1.814879</td>\n      <td>1.0</td>\n    </tr>\n    <tr>\n      <th>124</th>\n      <td>1.801128</td>\n      <td>1.814111</td>\n      <td>1.0</td>\n    </tr>\n    <tr>\n      <th>123</th>\n      <td>1.801080</td>\n      <td>1.816331</td>\n      <td>1.0</td>\n    </tr>\n    <tr>\n      <th>122</th>\n      <td>1.801032</td>\n      <td>1.810832</td>\n      <td>1.0</td>\n    </tr>\n    <tr>\n      <th>121</th>\n      <td>1.800983</td>\n      <td>1.810548</td>\n      <td>1.0</td>\n    </tr>\n    <tr>\n      <th>120</th>\n      <td>1.800934</td>\n      <td>1.808709</td>\n      <td>1.0</td>\n    </tr>\n    <tr>\n      <th>119</th>\n      <td>1.800884</td>\n      <td>1.806909</td>\n      <td>1.0</td>\n    </tr>\n    <tr>\n      <th>118</th>\n      <td>1.800834</td>\n      <td>1.804317</td>\n      <td>1.0</td>\n    </tr>\n    <tr>\n      <th>117</th>\n      <td>1.800784</td>\n      <td>1.803779</td>\n      <td>1.0</td>\n    </tr>\n    <tr>\n      <th>116</th>\n      <td>1.800733</td>\n      <td>1.801305</td>\n      <td>1.0</td>\n    </tr>\n    <tr>\n      <th>115</th>\n      <td>1.800682</td>\n      <td>1.800213</td>\n      <td>1.0</td>\n    </tr>\n    <tr>\n      <th>114</th>\n      <td>1.800630</td>\n      <td>1.798702</td>\n      <td>1.0</td>\n    </tr>\n    <tr>\n      <th>113</th>\n      <td>1.800578</td>\n      <td>1.797990</td>\n      <td>1.0</td>\n    </tr>\n    <tr>\n      <th>112</th>\n      <td>1.800526</td>\n      <td>1.794108</td>\n      <td>1.0</td>\n    </tr>\n    <tr>\n      <th>111</th>\n      <td>1.800473</td>\n      <td>1.793495</td>\n      <td>1.0</td>\n    </tr>\n    <tr>\n      <th>110</th>\n      <td>1.800420</td>\n      <td>1.793419</td>\n      <td>1.0</td>\n    </tr>\n    <tr>\n      <th>109</th>\n      <td>1.800367</td>\n      <td>1.791693</td>\n      <td>1.0</td>\n    </tr>\n    <tr>\n      <th>108</th>\n      <td>1.800313</td>\n      <td>1.788278</td>\n      <td>1.0</td>\n    </tr>\n    <tr>\n      <th>107</th>\n      <td>1.800258</td>\n      <td>1.789808</td>\n      <td>1.0</td>\n    </tr>\n    <tr>\n      <th>106</th>\n      <td>1.800203</td>\n      <td>1.783657</td>\n      <td>1.0</td>\n    </tr>\n    <tr>\n      <th>105</th>\n      <td>1.800148</td>\n      <td>1.782539</td>\n      <td>1.0</td>\n    </tr>\n    <tr>\n      <th>104</th>\n      <td>1.800093</td>\n      <td>1.780480</td>\n      <td>1.0</td>\n    </tr>\n    <tr>\n      <th>103</th>\n      <td>1.800037</td>\n      <td>1.779088</td>\n      <td>1.0</td>\n    </tr>\n    <tr>\n      <th>102</th>\n      <td>1.799980</td>\n      <td>1.779273</td>\n      <td>1.0</td>\n    </tr>\n    <tr>\n      <th>101</th>\n      <td>1.799923</td>\n      <td>1.774433</td>\n      <td>1.0</td>\n    </tr>\n  </tbody>\n</table>\n</div>\n    <div class=\"colab-df-buttons\">\n\n  <div class=\"colab-df-container\">\n    <button class=\"colab-df-convert\" onclick=\"convertToInteractive('df-bf09decd-1aa8-4c68-af4f-ce444e5462de')\"\n            title=\"Convert this dataframe to an interactive table.\"\n            style=\"display:none;\">\n\n  <svg xmlns=\"http://www.w3.org/2000/svg\" height=\"24px\" viewBox=\"0 -960 960 960\">\n    <path d=\"M120-120v-720h720v720H120Zm60-500h600v-160H180v160Zm220 220h160v-160H400v160Zm0 220h160v-160H400v160ZM180-400h160v-160H180v160Zm440 0h160v-160H620v160ZM180-180h160v-160H180v160Zm440 0h160v-160H620v160Z\"/>\n  </svg>\n    </button>\n\n  <style>\n    .colab-df-container {\n      display:flex;\n      gap: 12px;\n    }\n\n    .colab-df-convert {\n      background-color: #E8F0FE;\n      border: none;\n      border-radius: 50%;\n      cursor: pointer;\n      display: none;\n      fill: #1967D2;\n      height: 32px;\n      padding: 0 0 0 0;\n      width: 32px;\n    }\n\n    .colab-df-convert:hover {\n      background-color: #E2EBFA;\n      box-shadow: 0px 1px 2px rgba(60, 64, 67, 0.3), 0px 1px 3px 1px rgba(60, 64, 67, 0.15);\n      fill: #174EA6;\n    }\n\n    .colab-df-buttons div {\n      margin-bottom: 4px;\n    }\n\n    [theme=dark] .colab-df-convert {\n      background-color: #3B4455;\n      fill: #D2E3FC;\n    }\n\n    [theme=dark] .colab-df-convert:hover {\n      background-color: #434B5C;\n      box-shadow: 0px 1px 3px 1px rgba(0, 0, 0, 0.15);\n      filter: drop-shadow(0px 1px 2px rgba(0, 0, 0, 0.3));\n      fill: #FFFFFF;\n    }\n  </style>\n\n    <script>\n      const buttonEl =\n        document.querySelector('#df-bf09decd-1aa8-4c68-af4f-ce444e5462de button.colab-df-convert');\n      buttonEl.style.display =\n        google.colab.kernel.accessAllowed ? 'block' : 'none';\n\n      async function convertToInteractive(key) {\n        const element = document.querySelector('#df-bf09decd-1aa8-4c68-af4f-ce444e5462de');\n        const dataTable =\n          await google.colab.kernel.invokeFunction('convertToInteractive',\n                                                    [key], {});\n        if (!dataTable) return;\n\n        const docLinkHtml = 'Like what you see? Visit the ' +\n          '<a target=\"_blank\" href=https://colab.research.google.com/notebooks/data_table.ipynb>data table notebook</a>'\n          + ' to learn more about interactive tables.';\n        element.innerHTML = '';\n        dataTable['output_type'] = 'display_data';\n        await google.colab.output.renderOutput(dataTable, element);\n        const docLink = document.createElement('div');\n        docLink.innerHTML = docLinkHtml;\n        element.appendChild(docLink);\n      }\n    </script>\n  </div>\n\n\n<div id=\"df-b025851c-b4f9-4650-9e8d-f7e5e520b430\">\n  <button class=\"colab-df-quickchart\" onclick=\"quickchart('df-b025851c-b4f9-4650-9e8d-f7e5e520b430')\"\n            title=\"Suggest charts\"\n            style=\"display:none;\">\n\n<svg xmlns=\"http://www.w3.org/2000/svg\" height=\"24px\"viewBox=\"0 0 24 24\"\n     width=\"24px\">\n    <g>\n        <path d=\"M19 3H5c-1.1 0-2 .9-2 2v14c0 1.1.9 2 2 2h14c1.1 0 2-.9 2-2V5c0-1.1-.9-2-2-2zM9 17H7v-7h2v7zm4 0h-2V7h2v10zm4 0h-2v-4h2v4z\"/>\n    </g>\n</svg>\n  </button>\n\n<style>\n  .colab-df-quickchart {\n      --bg-color: #E8F0FE;\n      --fill-color: #1967D2;\n      --hover-bg-color: #E2EBFA;\n      --hover-fill-color: #174EA6;\n      --disabled-fill-color: #AAA;\n      --disabled-bg-color: #DDD;\n  }\n\n  [theme=dark] .colab-df-quickchart {\n      --bg-color: #3B4455;\n      --fill-color: #D2E3FC;\n      --hover-bg-color: #434B5C;\n      --hover-fill-color: #FFFFFF;\n      --disabled-bg-color: #3B4455;\n      --disabled-fill-color: #666;\n  }\n\n  .colab-df-quickchart {\n    background-color: var(--bg-color);\n    border: none;\n    border-radius: 50%;\n    cursor: pointer;\n    display: none;\n    fill: var(--fill-color);\n    height: 32px;\n    padding: 0;\n    width: 32px;\n  }\n\n  .colab-df-quickchart:hover {\n    background-color: var(--hover-bg-color);\n    box-shadow: 0 1px 2px rgba(60, 64, 67, 0.3), 0 1px 3px 1px rgba(60, 64, 67, 0.15);\n    fill: var(--button-hover-fill-color);\n  }\n\n  .colab-df-quickchart-complete:disabled,\n  .colab-df-quickchart-complete:disabled:hover {\n    background-color: var(--disabled-bg-color);\n    fill: var(--disabled-fill-color);\n    box-shadow: none;\n  }\n\n  .colab-df-spinner {\n    border: 2px solid var(--fill-color);\n    border-color: transparent;\n    border-bottom-color: var(--fill-color);\n    animation:\n      spin 1s steps(1) infinite;\n  }\n\n  @keyframes spin {\n    0% {\n      border-color: transparent;\n      border-bottom-color: var(--fill-color);\n      border-left-color: var(--fill-color);\n    }\n    20% {\n      border-color: transparent;\n      border-left-color: var(--fill-color);\n      border-top-color: var(--fill-color);\n    }\n    30% {\n      border-color: transparent;\n      border-left-color: var(--fill-color);\n      border-top-color: var(--fill-color);\n      border-right-color: var(--fill-color);\n    }\n    40% {\n      border-color: transparent;\n      border-right-color: var(--fill-color);\n      border-top-color: var(--fill-color);\n    }\n    60% {\n      border-color: transparent;\n      border-right-color: var(--fill-color);\n    }\n    80% {\n      border-color: transparent;\n      border-right-color: var(--fill-color);\n      border-bottom-color: var(--fill-color);\n    }\n    90% {\n      border-color: transparent;\n      border-bottom-color: var(--fill-color);\n    }\n  }\n</style>\n\n  <script>\n    async function quickchart(key) {\n      const quickchartButtonEl =\n        document.querySelector('#' + key + ' button');\n      quickchartButtonEl.disabled = true;  // To prevent multiple clicks.\n      quickchartButtonEl.classList.add('colab-df-spinner');\n      try {\n        const charts = await google.colab.kernel.invokeFunction(\n            'suggestCharts', [key], {});\n      } catch (error) {\n        console.error('Error during call to suggestCharts:', error);\n      }\n      quickchartButtonEl.classList.remove('colab-df-spinner');\n      quickchartButtonEl.classList.add('colab-df-quickchart-complete');\n    }\n    (() => {\n      let quickchartButtonEl =\n        document.querySelector('#df-b025851c-b4f9-4650-9e8d-f7e5e520b430 button');\n      quickchartButtonEl.style.display =\n        google.colab.kernel.accessAllowed ? 'block' : 'none';\n    })();\n  </script>\n</div>\n\n    </div>\n  </div>\n",
                  "application/vnd.google.colaboratory.intrinsic+json": {
                    "type": "dataframe",
                    "summary": "{\n  \"name\": \"app = GUI(engine, Leader, group_num)\",\n  \"rows\": 30,\n  \"fields\": [\n    {\n      \"column\": \"Date\",\n      \"properties\": {\n        \"dtype\": \"number\",\n        \"std\": 8,\n        \"min\": 101,\n        \"max\": 130,\n        \"num_unique_values\": 30,\n        \"samples\": [\n          103,\n          115,\n          107\n        ],\n        \"semantic_type\": \"\",\n        \"description\": \"\"\n      }\n    },\n    {\n      \"column\": \"Leader Price\",\n      \"properties\": {\n        \"dtype\": \"number\",\n        \"std\": 0.00045081873744910506,\n        \"min\": 1.7999233581768694,\n        \"max\": 1.8014076991383015,\n        \"num_unique_values\": 30,\n        \"samples\": [\n          1.800036546715705,\n          1.8006820775681678,\n          1.8002581283694115\n        ],\n        \"semantic_type\": \"\",\n        \"description\": \"\"\n      }\n    },\n    {\n      \"column\": \"Follower Price\",\n      \"properties\": {\n        \"dtype\": \"number\",\n        \"std\": 0.014378112276339384,\n        \"min\": 1.7744334782524775,\n        \"max\": 1.8227542213773964,\n        \"num_unique_values\": 30,\n        \"samples\": [\n          1.7790881406936758,\n          1.8002131553644936,\n          1.7898075136196423\n        ],\n        \"semantic_type\": \"\",\n        \"description\": \"\"\n      }\n    },\n    {\n      \"column\": \"Cost\",\n      \"properties\": {\n        \"dtype\": \"number\",\n        \"std\": 0.0,\n        \"min\": 1.0,\n        \"max\": 1.0,\n        \"num_unique_values\": 1,\n        \"samples\": [\n          1.0\n        ],\n        \"semantic_type\": \"\",\n        \"description\": \"\"\n      }\n    }\n  ]\n}"
                  }
                },
                "metadata": {}
              }
            ]
          }
        },
        "287a7f2fc59b415bb8b43296d84f5cc4": {
          "model_module": "@jupyter-widgets/output",
          "model_name": "OutputModel",
          "model_module_version": "1.0.0",
          "state": {
            "_dom_classes": [],
            "_model_module": "@jupyter-widgets/output",
            "_model_module_version": "1.0.0",
            "_model_name": "OutputModel",
            "_view_count": null,
            "_view_module": "@jupyter-widgets/output",
            "_view_module_version": "1.0.0",
            "_view_name": "OutputView",
            "layout": "IPY_MODEL_bbd6990ac8db460d959fb1a6bdf8bd47",
            "msg_id": "",
            "outputs": [
              {
                "output_type": "display_data",
                "data": {
                  "text/plain": "<IPython.core.display.HTML object>",
                  "text/html": "<br><br><br><br><br><br><br><br><br><br><b style='font-size: 17px;'><u>Profit made: 17.763318266736015</u></b>"
                },
                "metadata": {}
              }
            ]
          }
        },
        "99e2849510994f6db9c1519b06bed79b": {
          "model_module": "@jupyter-widgets/base",
          "model_name": "LayoutModel",
          "model_module_version": "1.2.0",
          "state": {
            "_model_module": "@jupyter-widgets/base",
            "_model_module_version": "1.2.0",
            "_model_name": "LayoutModel",
            "_view_count": null,
            "_view_module": "@jupyter-widgets/base",
            "_view_module_version": "1.2.0",
            "_view_name": "LayoutView",
            "align_content": null,
            "align_items": null,
            "align_self": null,
            "border": null,
            "bottom": null,
            "display": null,
            "flex": null,
            "flex_flow": null,
            "grid_area": null,
            "grid_auto_columns": null,
            "grid_auto_flow": null,
            "grid_auto_rows": null,
            "grid_column": null,
            "grid_gap": null,
            "grid_row": null,
            "grid_template_areas": null,
            "grid_template_columns": null,
            "grid_template_rows": null,
            "height": null,
            "justify_content": "initial",
            "justify_items": null,
            "left": null,
            "margin": null,
            "max_height": null,
            "max_width": null,
            "min_height": null,
            "min_width": null,
            "object_fit": null,
            "object_position": null,
            "order": null,
            "overflow": null,
            "overflow_x": null,
            "overflow_y": null,
            "padding": null,
            "right": null,
            "top": null,
            "visibility": null,
            "width": null
          }
        },
        "e9e697d3e5c34b0da7e100d45fefc9ca": {
          "model_module": "@jupyter-widgets/base",
          "model_name": "LayoutModel",
          "model_module_version": "1.2.0",
          "state": {
            "_model_module": "@jupyter-widgets/base",
            "_model_module_version": "1.2.0",
            "_model_name": "LayoutModel",
            "_view_count": null,
            "_view_module": "@jupyter-widgets/base",
            "_view_module_version": "1.2.0",
            "_view_name": "LayoutView",
            "align_content": null,
            "align_items": null,
            "align_self": null,
            "border": null,
            "bottom": null,
            "display": null,
            "flex": null,
            "flex_flow": null,
            "grid_area": null,
            "grid_auto_columns": null,
            "grid_auto_flow": null,
            "grid_auto_rows": null,
            "grid_column": null,
            "grid_gap": null,
            "grid_row": null,
            "grid_template_areas": null,
            "grid_template_columns": null,
            "grid_template_rows": null,
            "height": null,
            "justify_content": null,
            "justify_items": null,
            "left": null,
            "margin": null,
            "max_height": null,
            "max_width": null,
            "min_height": null,
            "min_width": null,
            "object_fit": null,
            "object_position": null,
            "order": null,
            "overflow": null,
            "overflow_x": null,
            "overflow_y": null,
            "padding": null,
            "right": null,
            "top": null,
            "visibility": null,
            "width": null
          }
        },
        "bbd6990ac8db460d959fb1a6bdf8bd47": {
          "model_module": "@jupyter-widgets/base",
          "model_name": "LayoutModel",
          "model_module_version": "1.2.0",
          "state": {
            "_model_module": "@jupyter-widgets/base",
            "_model_module_version": "1.2.0",
            "_model_name": "LayoutModel",
            "_view_count": null,
            "_view_module": "@jupyter-widgets/base",
            "_view_module_version": "1.2.0",
            "_view_name": "LayoutView",
            "align_content": null,
            "align_items": null,
            "align_self": null,
            "border": null,
            "bottom": null,
            "display": null,
            "flex": null,
            "flex_flow": null,
            "grid_area": null,
            "grid_auto_columns": null,
            "grid_auto_flow": null,
            "grid_auto_rows": null,
            "grid_column": null,
            "grid_gap": null,
            "grid_row": null,
            "grid_template_areas": null,
            "grid_template_columns": null,
            "grid_template_rows": null,
            "height": null,
            "justify_content": null,
            "justify_items": null,
            "left": null,
            "margin": null,
            "max_height": null,
            "max_width": null,
            "min_height": null,
            "min_width": null,
            "object_fit": null,
            "object_position": null,
            "order": null,
            "overflow": null,
            "overflow_x": null,
            "overflow_y": null,
            "padding": null,
            "right": null,
            "top": null,
            "visibility": null,
            "width": null
          }
        },
        "e0a3002bb2db4d6d9d75e80b460bdbb6": {
          "model_module": "@jupyter-widgets/controls",
          "model_name": "HBoxModel",
          "model_module_version": "1.5.0",
          "state": {
            "_dom_classes": [],
            "_model_module": "@jupyter-widgets/controls",
            "_model_module_version": "1.5.0",
            "_model_name": "HBoxModel",
            "_view_count": null,
            "_view_module": "@jupyter-widgets/controls",
            "_view_module_version": "1.5.0",
            "_view_name": "HBoxView",
            "box_style": "",
            "children": [
              "IPY_MODEL_cde6b137578e4c959d13206cccbfdfa0",
              "IPY_MODEL_a94cdb39332c4f388b4feff74f16956f"
            ],
            "layout": "IPY_MODEL_b9515df6f4b2488c965986556608cc73"
          }
        },
        "cde6b137578e4c959d13206cccbfdfa0": {
          "model_module": "@jupyter-widgets/output",
          "model_name": "OutputModel",
          "model_module_version": "1.0.0",
          "state": {
            "_dom_classes": [],
            "_model_module": "@jupyter-widgets/output",
            "_model_module_version": "1.0.0",
            "_model_name": "OutputModel",
            "_view_count": null,
            "_view_module": "@jupyter-widgets/output",
            "_view_module_version": "1.0.0",
            "_view_name": "OutputView",
            "layout": "IPY_MODEL_73f7231669774b69a0bfb6f3b71fab17",
            "msg_id": "",
            "outputs": [
              {
                "output_type": "display_data",
                "data": {
                  "text/plain": "      Leader Price  Follower Price  Cost\nDate                                    \n130       1.801408        1.799126   1.0\n129       1.801362        1.860406   1.0\n128       1.801316        1.780387   1.0\n127       1.801270        1.813811   1.0\n126       1.801223        1.817242   1.0\n125       1.801176        1.817230   1.0\n124       1.801128        1.777785   1.0\n123       1.801080        1.786286   1.0\n122       1.801032        1.846699   1.0\n121       1.800983        1.788253   1.0\n120       1.800934        1.800147   1.0\n119       1.800884        1.801311   1.0\n118       1.800834        1.791135   1.0\n117       1.800784        1.788131   1.0\n116       1.800733        1.778683   1.0\n115       1.800682        1.828502   1.0\n114       1.800630        1.804734   1.0\n113       1.800578        1.775463   1.0\n112       1.800526        1.774750   1.0\n111       1.800473        1.826365   1.0\n110       1.800420        1.782931   1.0\n109       1.800367        1.849574   1.0\n108       1.800313        1.788473   1.0\n107       1.800258        1.824475   1.0\n106       1.800203        1.831276   1.0\n105       1.800148        1.843108   1.0\n104       1.800093        1.809094   1.0\n103       1.800037        1.777562   1.0\n102       1.799980        1.770658   1.0\n101       1.799923        1.844504   1.0",
                  "text/html": "\n  <div id=\"df-fd083f8b-26fe-4da9-80cb-59cb166ba459\" class=\"colab-df-container\">\n    <div>\n<style scoped>\n    .dataframe tbody tr th:only-of-type {\n        vertical-align: middle;\n    }\n\n    .dataframe tbody tr th {\n        vertical-align: top;\n    }\n\n    .dataframe thead th {\n        text-align: right;\n    }\n</style>\n<table border=\"1\" class=\"dataframe\">\n  <thead>\n    <tr style=\"text-align: right;\">\n      <th></th>\n      <th>Leader Price</th>\n      <th>Follower Price</th>\n      <th>Cost</th>\n    </tr>\n    <tr>\n      <th>Date</th>\n      <th></th>\n      <th></th>\n      <th></th>\n    </tr>\n  </thead>\n  <tbody>\n    <tr>\n      <th>130</th>\n      <td>1.801408</td>\n      <td>1.799126</td>\n      <td>1.0</td>\n    </tr>\n    <tr>\n      <th>129</th>\n      <td>1.801362</td>\n      <td>1.860406</td>\n      <td>1.0</td>\n    </tr>\n    <tr>\n      <th>128</th>\n      <td>1.801316</td>\n      <td>1.780387</td>\n      <td>1.0</td>\n    </tr>\n    <tr>\n      <th>127</th>\n      <td>1.801270</td>\n      <td>1.813811</td>\n      <td>1.0</td>\n    </tr>\n    <tr>\n      <th>126</th>\n      <td>1.801223</td>\n      <td>1.817242</td>\n      <td>1.0</td>\n    </tr>\n    <tr>\n      <th>125</th>\n      <td>1.801176</td>\n      <td>1.817230</td>\n      <td>1.0</td>\n    </tr>\n    <tr>\n      <th>124</th>\n      <td>1.801128</td>\n      <td>1.777785</td>\n      <td>1.0</td>\n    </tr>\n    <tr>\n      <th>123</th>\n      <td>1.801080</td>\n      <td>1.786286</td>\n      <td>1.0</td>\n    </tr>\n    <tr>\n      <th>122</th>\n      <td>1.801032</td>\n      <td>1.846699</td>\n      <td>1.0</td>\n    </tr>\n    <tr>\n      <th>121</th>\n      <td>1.800983</td>\n      <td>1.788253</td>\n      <td>1.0</td>\n    </tr>\n    <tr>\n      <th>120</th>\n      <td>1.800934</td>\n      <td>1.800147</td>\n      <td>1.0</td>\n    </tr>\n    <tr>\n      <th>119</th>\n      <td>1.800884</td>\n      <td>1.801311</td>\n      <td>1.0</td>\n    </tr>\n    <tr>\n      <th>118</th>\n      <td>1.800834</td>\n      <td>1.791135</td>\n      <td>1.0</td>\n    </tr>\n    <tr>\n      <th>117</th>\n      <td>1.800784</td>\n      <td>1.788131</td>\n      <td>1.0</td>\n    </tr>\n    <tr>\n      <th>116</th>\n      <td>1.800733</td>\n      <td>1.778683</td>\n      <td>1.0</td>\n    </tr>\n    <tr>\n      <th>115</th>\n      <td>1.800682</td>\n      <td>1.828502</td>\n      <td>1.0</td>\n    </tr>\n    <tr>\n      <th>114</th>\n      <td>1.800630</td>\n      <td>1.804734</td>\n      <td>1.0</td>\n    </tr>\n    <tr>\n      <th>113</th>\n      <td>1.800578</td>\n      <td>1.775463</td>\n      <td>1.0</td>\n    </tr>\n    <tr>\n      <th>112</th>\n      <td>1.800526</td>\n      <td>1.774750</td>\n      <td>1.0</td>\n    </tr>\n    <tr>\n      <th>111</th>\n      <td>1.800473</td>\n      <td>1.826365</td>\n      <td>1.0</td>\n    </tr>\n    <tr>\n      <th>110</th>\n      <td>1.800420</td>\n      <td>1.782931</td>\n      <td>1.0</td>\n    </tr>\n    <tr>\n      <th>109</th>\n      <td>1.800367</td>\n      <td>1.849574</td>\n      <td>1.0</td>\n    </tr>\n    <tr>\n      <th>108</th>\n      <td>1.800313</td>\n      <td>1.788473</td>\n      <td>1.0</td>\n    </tr>\n    <tr>\n      <th>107</th>\n      <td>1.800258</td>\n      <td>1.824475</td>\n      <td>1.0</td>\n    </tr>\n    <tr>\n      <th>106</th>\n      <td>1.800203</td>\n      <td>1.831276</td>\n      <td>1.0</td>\n    </tr>\n    <tr>\n      <th>105</th>\n      <td>1.800148</td>\n      <td>1.843108</td>\n      <td>1.0</td>\n    </tr>\n    <tr>\n      <th>104</th>\n      <td>1.800093</td>\n      <td>1.809094</td>\n      <td>1.0</td>\n    </tr>\n    <tr>\n      <th>103</th>\n      <td>1.800037</td>\n      <td>1.777562</td>\n      <td>1.0</td>\n    </tr>\n    <tr>\n      <th>102</th>\n      <td>1.799980</td>\n      <td>1.770658</td>\n      <td>1.0</td>\n    </tr>\n    <tr>\n      <th>101</th>\n      <td>1.799923</td>\n      <td>1.844504</td>\n      <td>1.0</td>\n    </tr>\n  </tbody>\n</table>\n</div>\n    <div class=\"colab-df-buttons\">\n\n  <div class=\"colab-df-container\">\n    <button class=\"colab-df-convert\" onclick=\"convertToInteractive('df-fd083f8b-26fe-4da9-80cb-59cb166ba459')\"\n            title=\"Convert this dataframe to an interactive table.\"\n            style=\"display:none;\">\n\n  <svg xmlns=\"http://www.w3.org/2000/svg\" height=\"24px\" viewBox=\"0 -960 960 960\">\n    <path d=\"M120-120v-720h720v720H120Zm60-500h600v-160H180v160Zm220 220h160v-160H400v160Zm0 220h160v-160H400v160ZM180-400h160v-160H180v160Zm440 0h160v-160H620v160ZM180-180h160v-160H180v160Zm440 0h160v-160H620v160Z\"/>\n  </svg>\n    </button>\n\n  <style>\n    .colab-df-container {\n      display:flex;\n      gap: 12px;\n    }\n\n    .colab-df-convert {\n      background-color: #E8F0FE;\n      border: none;\n      border-radius: 50%;\n      cursor: pointer;\n      display: none;\n      fill: #1967D2;\n      height: 32px;\n      padding: 0 0 0 0;\n      width: 32px;\n    }\n\n    .colab-df-convert:hover {\n      background-color: #E2EBFA;\n      box-shadow: 0px 1px 2px rgba(60, 64, 67, 0.3), 0px 1px 3px 1px rgba(60, 64, 67, 0.15);\n      fill: #174EA6;\n    }\n\n    .colab-df-buttons div {\n      margin-bottom: 4px;\n    }\n\n    [theme=dark] .colab-df-convert {\n      background-color: #3B4455;\n      fill: #D2E3FC;\n    }\n\n    [theme=dark] .colab-df-convert:hover {\n      background-color: #434B5C;\n      box-shadow: 0px 1px 3px 1px rgba(0, 0, 0, 0.15);\n      filter: drop-shadow(0px 1px 2px rgba(0, 0, 0, 0.3));\n      fill: #FFFFFF;\n    }\n  </style>\n\n    <script>\n      const buttonEl =\n        document.querySelector('#df-fd083f8b-26fe-4da9-80cb-59cb166ba459 button.colab-df-convert');\n      buttonEl.style.display =\n        google.colab.kernel.accessAllowed ? 'block' : 'none';\n\n      async function convertToInteractive(key) {\n        const element = document.querySelector('#df-fd083f8b-26fe-4da9-80cb-59cb166ba459');\n        const dataTable =\n          await google.colab.kernel.invokeFunction('convertToInteractive',\n                                                    [key], {});\n        if (!dataTable) return;\n\n        const docLinkHtml = 'Like what you see? Visit the ' +\n          '<a target=\"_blank\" href=https://colab.research.google.com/notebooks/data_table.ipynb>data table notebook</a>'\n          + ' to learn more about interactive tables.';\n        element.innerHTML = '';\n        dataTable['output_type'] = 'display_data';\n        await google.colab.output.renderOutput(dataTable, element);\n        const docLink = document.createElement('div');\n        docLink.innerHTML = docLinkHtml;\n        element.appendChild(docLink);\n      }\n    </script>\n  </div>\n\n\n<div id=\"df-c9e29581-835f-46cb-8bc4-abd917b012b8\">\n  <button class=\"colab-df-quickchart\" onclick=\"quickchart('df-c9e29581-835f-46cb-8bc4-abd917b012b8')\"\n            title=\"Suggest charts\"\n            style=\"display:none;\">\n\n<svg xmlns=\"http://www.w3.org/2000/svg\" height=\"24px\"viewBox=\"0 0 24 24\"\n     width=\"24px\">\n    <g>\n        <path d=\"M19 3H5c-1.1 0-2 .9-2 2v14c0 1.1.9 2 2 2h14c1.1 0 2-.9 2-2V5c0-1.1-.9-2-2-2zM9 17H7v-7h2v7zm4 0h-2V7h2v10zm4 0h-2v-4h2v4z\"/>\n    </g>\n</svg>\n  </button>\n\n<style>\n  .colab-df-quickchart {\n      --bg-color: #E8F0FE;\n      --fill-color: #1967D2;\n      --hover-bg-color: #E2EBFA;\n      --hover-fill-color: #174EA6;\n      --disabled-fill-color: #AAA;\n      --disabled-bg-color: #DDD;\n  }\n\n  [theme=dark] .colab-df-quickchart {\n      --bg-color: #3B4455;\n      --fill-color: #D2E3FC;\n      --hover-bg-color: #434B5C;\n      --hover-fill-color: #FFFFFF;\n      --disabled-bg-color: #3B4455;\n      --disabled-fill-color: #666;\n  }\n\n  .colab-df-quickchart {\n    background-color: var(--bg-color);\n    border: none;\n    border-radius: 50%;\n    cursor: pointer;\n    display: none;\n    fill: var(--fill-color);\n    height: 32px;\n    padding: 0;\n    width: 32px;\n  }\n\n  .colab-df-quickchart:hover {\n    background-color: var(--hover-bg-color);\n    box-shadow: 0 1px 2px rgba(60, 64, 67, 0.3), 0 1px 3px 1px rgba(60, 64, 67, 0.15);\n    fill: var(--button-hover-fill-color);\n  }\n\n  .colab-df-quickchart-complete:disabled,\n  .colab-df-quickchart-complete:disabled:hover {\n    background-color: var(--disabled-bg-color);\n    fill: var(--disabled-fill-color);\n    box-shadow: none;\n  }\n\n  .colab-df-spinner {\n    border: 2px solid var(--fill-color);\n    border-color: transparent;\n    border-bottom-color: var(--fill-color);\n    animation:\n      spin 1s steps(1) infinite;\n  }\n\n  @keyframes spin {\n    0% {\n      border-color: transparent;\n      border-bottom-color: var(--fill-color);\n      border-left-color: var(--fill-color);\n    }\n    20% {\n      border-color: transparent;\n      border-left-color: var(--fill-color);\n      border-top-color: var(--fill-color);\n    }\n    30% {\n      border-color: transparent;\n      border-left-color: var(--fill-color);\n      border-top-color: var(--fill-color);\n      border-right-color: var(--fill-color);\n    }\n    40% {\n      border-color: transparent;\n      border-right-color: var(--fill-color);\n      border-top-color: var(--fill-color);\n    }\n    60% {\n      border-color: transparent;\n      border-right-color: var(--fill-color);\n    }\n    80% {\n      border-color: transparent;\n      border-right-color: var(--fill-color);\n      border-bottom-color: var(--fill-color);\n    }\n    90% {\n      border-color: transparent;\n      border-bottom-color: var(--fill-color);\n    }\n  }\n</style>\n\n  <script>\n    async function quickchart(key) {\n      const quickchartButtonEl =\n        document.querySelector('#' + key + ' button');\n      quickchartButtonEl.disabled = true;  // To prevent multiple clicks.\n      quickchartButtonEl.classList.add('colab-df-spinner');\n      try {\n        const charts = await google.colab.kernel.invokeFunction(\n            'suggestCharts', [key], {});\n      } catch (error) {\n        console.error('Error during call to suggestCharts:', error);\n      }\n      quickchartButtonEl.classList.remove('colab-df-spinner');\n      quickchartButtonEl.classList.add('colab-df-quickchart-complete');\n    }\n    (() => {\n      let quickchartButtonEl =\n        document.querySelector('#df-c9e29581-835f-46cb-8bc4-abd917b012b8 button');\n      quickchartButtonEl.style.display =\n        google.colab.kernel.accessAllowed ? 'block' : 'none';\n    })();\n  </script>\n</div>\n\n    </div>\n  </div>\n",
                  "application/vnd.google.colaboratory.intrinsic+json": {
                    "type": "dataframe",
                    "summary": "{\n  \"name\": \"app = GUI(engine, Leader, group_num)\",\n  \"rows\": 30,\n  \"fields\": [\n    {\n      \"column\": \"Date\",\n      \"properties\": {\n        \"dtype\": \"number\",\n        \"std\": 8,\n        \"min\": 101,\n        \"max\": 130,\n        \"num_unique_values\": 30,\n        \"samples\": [\n          103,\n          115,\n          107\n        ],\n        \"semantic_type\": \"\",\n        \"description\": \"\"\n      }\n    },\n    {\n      \"column\": \"Leader Price\",\n      \"properties\": {\n        \"dtype\": \"number\",\n        \"std\": 0.00045081873744910506,\n        \"min\": 1.7999233581768694,\n        \"max\": 1.8014076991383015,\n        \"num_unique_values\": 30,\n        \"samples\": [\n          1.800036546715705,\n          1.8006820775681678,\n          1.8002581283694115\n        ],\n        \"semantic_type\": \"\",\n        \"description\": \"\"\n      }\n    },\n    {\n      \"column\": \"Follower Price\",\n      \"properties\": {\n        \"dtype\": \"number\",\n        \"std\": 0.02623003603010708,\n        \"min\": 1.770657714017363,\n        \"max\": 1.8604059552688585,\n        \"num_unique_values\": 30,\n        \"samples\": [\n          1.7775622948691645,\n          1.828502109238726,\n          1.824475447586853\n        ],\n        \"semantic_type\": \"\",\n        \"description\": \"\"\n      }\n    },\n    {\n      \"column\": \"Cost\",\n      \"properties\": {\n        \"dtype\": \"number\",\n        \"std\": 0.0,\n        \"min\": 1.0,\n        \"max\": 1.0,\n        \"num_unique_values\": 1,\n        \"samples\": [\n          1.0\n        ],\n        \"semantic_type\": \"\",\n        \"description\": \"\"\n      }\n    }\n  ]\n}"
                  }
                },
                "metadata": {}
              }
            ]
          }
        },
        "a94cdb39332c4f388b4feff74f16956f": {
          "model_module": "@jupyter-widgets/output",
          "model_name": "OutputModel",
          "model_module_version": "1.0.0",
          "state": {
            "_dom_classes": [],
            "_model_module": "@jupyter-widgets/output",
            "_model_module_version": "1.0.0",
            "_model_name": "OutputModel",
            "_view_count": null,
            "_view_module": "@jupyter-widgets/output",
            "_view_module_version": "1.0.0",
            "_view_name": "OutputView",
            "layout": "IPY_MODEL_729a735a48ca4b49b6cadb0bb0126a92",
            "msg_id": "",
            "outputs": [
              {
                "output_type": "display_data",
                "data": {
                  "text/plain": "<IPython.core.display.HTML object>",
                  "text/html": "<br><br><br><br><br><br><br><br><br><br><b style='font-size: 17px;'><u>Profit made: 17.80151128384906</u></b>"
                },
                "metadata": {}
              }
            ]
          }
        },
        "b9515df6f4b2488c965986556608cc73": {
          "model_module": "@jupyter-widgets/base",
          "model_name": "LayoutModel",
          "model_module_version": "1.2.0",
          "state": {
            "_model_module": "@jupyter-widgets/base",
            "_model_module_version": "1.2.0",
            "_model_name": "LayoutModel",
            "_view_count": null,
            "_view_module": "@jupyter-widgets/base",
            "_view_module_version": "1.2.0",
            "_view_name": "LayoutView",
            "align_content": null,
            "align_items": null,
            "align_self": null,
            "border": null,
            "bottom": null,
            "display": null,
            "flex": null,
            "flex_flow": null,
            "grid_area": null,
            "grid_auto_columns": null,
            "grid_auto_flow": null,
            "grid_auto_rows": null,
            "grid_column": null,
            "grid_gap": null,
            "grid_row": null,
            "grid_template_areas": null,
            "grid_template_columns": null,
            "grid_template_rows": null,
            "height": null,
            "justify_content": "initial",
            "justify_items": null,
            "left": null,
            "margin": null,
            "max_height": null,
            "max_width": null,
            "min_height": null,
            "min_width": null,
            "object_fit": null,
            "object_position": null,
            "order": null,
            "overflow": null,
            "overflow_x": null,
            "overflow_y": null,
            "padding": null,
            "right": null,
            "top": null,
            "visibility": null,
            "width": null
          }
        },
        "73f7231669774b69a0bfb6f3b71fab17": {
          "model_module": "@jupyter-widgets/base",
          "model_name": "LayoutModel",
          "model_module_version": "1.2.0",
          "state": {
            "_model_module": "@jupyter-widgets/base",
            "_model_module_version": "1.2.0",
            "_model_name": "LayoutModel",
            "_view_count": null,
            "_view_module": "@jupyter-widgets/base",
            "_view_module_version": "1.2.0",
            "_view_name": "LayoutView",
            "align_content": null,
            "align_items": null,
            "align_self": null,
            "border": null,
            "bottom": null,
            "display": null,
            "flex": null,
            "flex_flow": null,
            "grid_area": null,
            "grid_auto_columns": null,
            "grid_auto_flow": null,
            "grid_auto_rows": null,
            "grid_column": null,
            "grid_gap": null,
            "grid_row": null,
            "grid_template_areas": null,
            "grid_template_columns": null,
            "grid_template_rows": null,
            "height": null,
            "justify_content": null,
            "justify_items": null,
            "left": null,
            "margin": null,
            "max_height": null,
            "max_width": null,
            "min_height": null,
            "min_width": null,
            "object_fit": null,
            "object_position": null,
            "order": null,
            "overflow": null,
            "overflow_x": null,
            "overflow_y": null,
            "padding": null,
            "right": null,
            "top": null,
            "visibility": null,
            "width": null
          }
        },
        "729a735a48ca4b49b6cadb0bb0126a92": {
          "model_module": "@jupyter-widgets/base",
          "model_name": "LayoutModel",
          "model_module_version": "1.2.0",
          "state": {
            "_model_module": "@jupyter-widgets/base",
            "_model_module_version": "1.2.0",
            "_model_name": "LayoutModel",
            "_view_count": null,
            "_view_module": "@jupyter-widgets/base",
            "_view_module_version": "1.2.0",
            "_view_name": "LayoutView",
            "align_content": null,
            "align_items": null,
            "align_self": null,
            "border": null,
            "bottom": null,
            "display": null,
            "flex": null,
            "flex_flow": null,
            "grid_area": null,
            "grid_auto_columns": null,
            "grid_auto_flow": null,
            "grid_auto_rows": null,
            "grid_column": null,
            "grid_gap": null,
            "grid_row": null,
            "grid_template_areas": null,
            "grid_template_columns": null,
            "grid_template_rows": null,
            "height": null,
            "justify_content": null,
            "justify_items": null,
            "left": null,
            "margin": null,
            "max_height": null,
            "max_width": null,
            "min_height": null,
            "min_width": null,
            "object_fit": null,
            "object_position": null,
            "order": null,
            "overflow": null,
            "overflow_x": null,
            "overflow_y": null,
            "padding": null,
            "right": null,
            "top": null,
            "visibility": null,
            "width": null
          }
        }
      }
    }
  },
  "nbformat": 4,
  "nbformat_minor": 0
}