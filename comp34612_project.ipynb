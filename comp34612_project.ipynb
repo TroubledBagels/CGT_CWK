{
  "cells": [
    {
      "cell_type": "markdown",
      "metadata": {
        "id": "3XK1cooYe2X-"
      },
      "source": [
        "# Project Description"
      ]
    },
    {
      "cell_type": "markdown",
      "metadata": {
        "id": "91UIz8lSZPeE"
      },
      "source": [
        "##**Overview**\n",
        "Your task is to create a program that plays a repeated 2-person Stackelberg pricing games as the leader, under conditions of imperfect information.\n",
        "\n"
      ]
    },
    {
      "cell_type": "markdown",
      "metadata": {
        "id": "z8wKUBCGTuiM"
      },
      "source": [
        "## **Specifications**"
      ]
    },
    {
      "cell_type": "markdown",
      "metadata": {
        "id": "qCQi02j4fKN3"
      },
      "source": [
        "**Followers’ Specifications**\n",
        "\n",
        "*   There are three different followers, named as MK1, MK2, and MK3.\n",
        "*   The payoff function and strategy spaces of these followers are unknown. However, historical data from 100 days of previous games between the leader and each follower is available and provided."
      ]
    },
    {
      "cell_type": "markdown",
      "metadata": {
        "id": "tPzKFX9wfMvK"
      },
      "source": [
        "**Leader’s Specifications**\n",
        "\n",
        "Assume that the leader’s strategy (i.e., price) is $u_L$ and the follower’s strategy (i.e., price) is $u_F$. The specifics regarding the leader’s strategy and profits are as follows:\n",
        "*   **Unit cost**: $c_L=£1.00$\n",
        "*   **Strategy space**:\n",
        "      1.   When playing with MK1 and MK2, the leader’s strategy space is $U_L = [1.00, +∞)$\n",
        "      2.   When playing with MK3, the leader’s strategy space is $U_L = [1.00, 2.00]$     \n",
        "* \t**Demand Model** (i.e., price-sale relationship): $S_L(u_L, u_F)=2 - u_L + 0.3u_F$    \n",
        "*   **Daily Profit**: $(u_L - c_L)S_L(u_L, u_F)$\n",
        "*   **Objective**: The leader’s objective of playing is to maximise the accumulated profit for the next 30 days.\n",
        "*   **Assumption**: For simplicity, it is assumed that the leader’s unit cost, strategy space, and the demand model remain unchanged throughout the entire period of 130 days."
      ]
    },
    {
      "cell_type": "markdown",
      "metadata": {
        "id": "8FhASqXkT7Xo"
      },
      "source": [
        "## **Game Rules and Playing Scenarios**"
      ]
    },
    {
      "cell_type": "markdown",
      "metadata": {
        "id": "e6_isrDZfWPn"
      },
      "source": [
        "**Game Rules**\n",
        "\n",
        "On day $t$, the leader announces the price, $u_L (t)$, first. After learning the leader’s price, the follower will choose the responding price, $u_F (t)$. This process occurs over a period of $t=1,2,…,130$, where $t=1,2,…,100$ corresponds to the days for which historical data is available, and $t=101,102,…,130$ are the days during which the game will be played repeatedly.\n"
      ]
    },
    {
      "cell_type": "markdown",
      "metadata": {
        "id": "vS4WZ0D1gC2W"
      },
      "source": [
        "**Game Playing Scenarios**\n",
        "\n",
        "In this setup, your program, acting as the leader, will engage in three separate games against three different competitors, identified as followers MK1, MK2, and MK3.\n",
        "\n",
        "For each of the repeated game, the leader selects his learning method to learn the follower’s reaction function based on the provided set of historical data which spans from $t=1,2,…,100$. During the next 30 days ($t=101,102,…,130$), the leader announces a price, $u_L (t)$, to the game platform daily. After the leader's price is announced, the follower will respond with the price, $u_F (t)$. Upon receiving the follower's price, $u_F (t)$, from the game platform, the leader may use this new information to refine their knowledge/ update the learned reaction function and decide his price of the next day. In the other words, the leader (i.e., your program) should be able to take the follower’s price of the previous day from the game platform for updating, and then decide and send his price of the next day to the game platform.\n",
        "\n",
        "It should be emphasised that the follower’s strategy and payoff function is subject to the changing and time varying environment. That is, the parameters in the follower’s payoff function may not be the same every day.\n",
        "\n"
      ]
    },
    {
      "cell_type": "markdown",
      "metadata": {
        "id": "B1RpBx7FDNQ1"
      },
      "source": [
        "## **Implementation Options**\n",
        "1.\t**Single Leader Approach**: You may choose to design and implement a single leader algorithm that competes against all three followers, adapting its strategy based on the opponent being faced.\n",
        "2.\t**Multiple Leaders Approach**: Alternatively, you could design and implement three distinct leaders, each tailored to play against one of the followers. This approach allows for specialised strategies to be developed for each follower type.\n",
        "\n",
        "Whichever method you choose, it's crucial to document in this notebook section [Your Leader](#your-leader) which leader(s) is designed to play against each follower. This clarity will help in understanding the design choices and strategies implemented in your program.\n"
      ]
    },
    {
      "cell_type": "markdown",
      "metadata": {
        "id": "eBQDvQldUHHm"
      },
      "source": [
        "## **Project Timeline and Support**"
      ]
    },
    {
      "cell_type": "markdown",
      "metadata": {
        "id": "Om4Z5FdiF3nu"
      },
      "source": [
        "**Project Timeline**\n",
        "\n",
        "*\t**Week 7 (Starting 10 March)**: Start to work on your project and project planning.\n",
        "*\t**Week 11 (28 April – 2 May)**: Group presentations telling us what you have done.\n",
        "*\t**Deadline (2 May at 6:00pm)**: Deadline to submit codes and supporting document.\n"
      ]
    },
    {
      "cell_type": "markdown",
      "metadata": {
        "id": "cC_yPWtjGGSp"
      },
      "source": [
        "**Support**\n",
        "\n",
        "*\t**Weekly Support Sessions**: Project support sessions are scheduled every Wednesday from 11:00 am to 12:00 noon between Weeks 7 and 10. These sessions will be held at <u>Booth Street East -TH A (G.10)</u>. You are encouraged to attend if you have questions, need clarification, or seek guidance on any aspect of the project. Attendance is optional and based on your needs for support.\n",
        "*\t**Email**: In addition to the weekly sessions, you are welcome to ask questions or seek support via email at any time. If you encounter any issues with installing or running the game platform, or if you have any other project-related inquiries, do not hesitate to contact the teaching assistants by email for support.\n"
      ]
    },
    {
      "cell_type": "markdown",
      "metadata": {
        "id": "_x-VgyqaUdfr"
      },
      "source": [
        "## **Assessment Criteria and Submission**"
      ]
    },
    {
      "cell_type": "markdown",
      "metadata": {
        "id": "0boMLY1WGgHp"
      },
      "source": [
        "**Assessment Criteria**\n",
        "\n",
        "The project is a significant component of your final grade, accounting for 50% of the total mark, with the remaining 50% coming from the final examination. The project mark is distributed as follows:\n",
        "1.\t**Content of the Approach (50% of this project mark)**:\n",
        "  *\tPresentation (40%): Your grade in this category is based on the presentation you give in Week 11. This includes the originality of your idea, how well it integrates knowledge from the course, and any relevant external literature or research you have incorporated.\n",
        "  *\tWritten Materials (10%): This is based on the documentation you submit to your group journal on Blackboard. It evaluates the depth and clarity of your written explanation of the approach, including the rationale behind your strategies and methods.\n",
        "2.\t**Performance of the Approach (50% of this project mark)**:\n",
        "  *\tThis evaluates the effectiveness of your submitted program by looking at how well it performs in the game platform, that is, the accumulated profit generated by your submitted codes.\n",
        "3.\t**Group Mark Distribution**:\n",
        "  *\tThe overall group mark will be allocated to individual group members based on self-assessment and the demonstration of knowledge during the presentation.\n"
      ]
    },
    {
      "cell_type": "markdown",
      "metadata": {
        "id": "85CORLj_GxRs"
      },
      "source": [
        "**Presentation**\n",
        "\n",
        "During the presentation week of Semester 2, every group is scheduled to present their project to the lecturers. It is important for each group member to actively participate in speaking and answering questions. This participation allows us to evaluate each member's contributions to the project. The assessment criteria focus solely on the content of your presentation, including the activities your group undertook and the lessons learned through the project process. Presentation skills are not part of the evaluation, so the emphasis should not be on creating a polished presentation but on effectively communicating your project's substance and outcomes.\n"
      ]
    },
    {
      "cell_type": "markdown",
      "metadata": {
        "id": "qIQkFXQvG4Zg"
      },
      "source": [
        "**Performance of the Approach – Assessment Details**\n",
        "\n",
        "*\t**Step 1**. We will run your submitted codes against MK1, MK2, and MK3 and get the accumulated profit for the days $101 – 130$. These profits will be used as the performance of your submitted codes against MK1, MK2 and MK3\n",
        "*\t**Step 2**. We have also designed 3 further followers MK4, MK5, and MK6, which are created by slightly changes of the parameters of MK1, MK2, and MK3 respectively. That is, MK1 and MK4 are very similar, MK2 and MK5 are very similar, MK3 and MK6 are very similar. No data about MK$i$ ($i=4, 5, 6$) is provided. That is, they are invisible followers to you. But the setting of each MK$i$ ($i=4,5,6$) is the same as the provided followers, with 100 historical data and we will run your codes to get the accumulated profit for days $101 – 130$, which will be used as the performance of your submitted codes against MK4, MK5 and MK6.\n",
        "*\t**Step 3**. Based on the accumulated profits for MK1 and MK4 and compared with the best possible performances of MK1 and Mk4, your codes will get a percentage mark; Similarly you will get a percentage mark from MK2 and MK5, and then a percentage mark from MK3 and MK6. Finally your performance mark will be the average of these 3 percentage marks.\n",
        "\n",
        "**Remark**. The creation of MK4, MK5, and MK6 is a new assessment component for this year and so we are happy to hear any feedback, and change if necessary. The motivation and justification are as follows:\n",
        "*\tWe have run the codes submitted by the project groups of the last year to MK 4, MK5, and MK6, and noticed various issues, such as some submissions were hard coded for some parameters rather than via the learning; Some were invalid such as out of the price bounds; Some have the running errors etc.\n",
        "*\tIn real applications such as petrol station pricing, it is impossible to many many experiments and tests for each station, but we need a piece of software usable across a large numbers of petrol stations. The creation of MK4, MK5, and Mk6 is to simulate and test such a need from a real application point of view.\n",
        "*\tIn the last year, many groups produced very similar performance due to the limited test cases. The creation of MK4, MK5, and MK6 will provide more testing cases and help distinguishing the performance of different approaches.\n",
        "*\tAs MK4, MK5, and MK6 are invisible to you, this should not add your workload for the project.      \n"
      ]
    },
    {
      "cell_type": "markdown",
      "metadata": {
        "id": "zGyeiJeQIKBb"
      },
      "source": [
        "**Submission**\n",
        "\n",
        "All submissions will be marked using the free version of Google Colaboratory.\n",
        "* Make sure your implementation works within this environment.\n",
        "* Avoid using any external dependencies that might not be available.\n",
        "\n",
        "Please download this notebook for submission by clicking “File” in the top left corner, then selecting “Download” followed by “Download .ipynb”. If your notebook requires any external files to run, ensure that you submit them along with your notebook. Submission will be done through Blackboard, and further details will be provided later.\n"
      ]
    },
    {
      "cell_type": "markdown",
      "metadata": {
        "id": "J-qdogBfSO4i"
      },
      "source": [
        "## **Game Platform**"
      ]
    },
    {
      "cell_type": "markdown",
      "metadata": {
        "id": "YvDxER68UuGR"
      },
      "source": [
        "The project will be run on Google Colaboratory, which is a hosted Jupyter Notebook service. This is done to avoid compatibility issues across different operating systems and to provide a collaborative environment where group members can work effectively using Colab’s sharing functionality. Follow the steps below to set up and use Google Colaboratory for your project.\n"
      ]
    },
    {
      "cell_type": "markdown",
      "metadata": {
        "id": "zPVhHWzYTqPE"
      },
      "source": [
        "**Using Google Colaboratory for the Project**\n",
        "* Running Code\n",
        "  * Click on a cell and press Shift + Enter, or\n",
        "  * Click the Play button on the left side of the cell\n",
        "* Adding Cell\n",
        "  * Hover over an existing cell and click “+ Code” or “+ Text” where needed\n",
        "* Stopping a Running C→ell:\n",
        "  * From the top menu, click “Runtime” → “Interrupt execution”.\n",
        "* Restarting Runtime\n",
        "  * Click “Runtime” → “Restart session”.\n",
        "  * This will clear all variables.\n",
        "* Disconnecting and Deleting the Runtime\n",
        "  * Click “Runtime” → “Disconnect and delete session”.\n",
        "  * This will reset the Colaboratory environment completely.\n",
        "*\tSharing with Group Members\n",
        "  *\tYou can share your notebook with your group members by clicking “Share” in the top-right corner.\n",
        "  *\tBe careful when saving, if multiple people edit the notebook at the same time, you may overwrite each other’s work.\n",
        "*\tFor More Functionalities, please visit [this link](https://colab.research.google.com)."
      ]
    },
    {
      "cell_type": "markdown",
      "metadata": {
        "id": "87IPuwM3S4j4"
      },
      "source": [
        "**Understanding the Notebook Structure**\n",
        "\n",
        "The notebook is structured into several sections. You can click the first icon on the top left to open the “Table of contents” and navigate through different sections.\n",
        "1.\tProject Description: This section provides an overview of the project.\n",
        "2.\tInstall and Import: This section installs, imports necessary packages, and unzips comp34612.zip.\n",
        "3.\tBase Leader and Example Leader: This section contains the base leader class and an example leader implementation.\n",
        "4.\tYour Leader: In this section,\n",
        "\t*\tFirst write your group number as an integer.\n",
        "\t*\tThen implement your leader(s) based on the project requirements.\n",
        "\t*\tClearly document:\n",
        "      *\tWhich implementation approach you choose (single or multiple).\n",
        "      *\tWhich leader is designed to play against each follower.\n",
        "5.\tSimulation: This section provides an interface to simulate the pricing game between your selected leader and selected follower.\n"
      ]
    },
    {
      "cell_type": "markdown",
      "metadata": {
        "id": "wrdXoxQfRc9t"
      },
      "source": [
        "# Install and Import"
      ]
    },
    {
      "cell_type": "code",
      "execution_count": 1,
      "metadata": {
        "colab": {
          "base_uri": "https://localhost:8080/"
        },
        "id": "pwEA-WPoXA5-",
        "outputId": "5b3acd56-8a96-4e58-eb4f-41d025e6fc8f"
      },
      "outputs": [
        {
          "output_type": "stream",
          "name": "stdout",
          "text": [
            "Collecting xlsxwriter\n",
            "  Downloading XlsxWriter-3.2.2-py3-none-any.whl.metadata (2.8 kB)\n",
            "Downloading XlsxWriter-3.2.2-py3-none-any.whl (165 kB)\n",
            "\u001b[?25l   \u001b[90m━━━━━━━━━━━━━━━━━━━━━━━━━━━━━━━━━━━━━━━━\u001b[0m \u001b[32m0.0/165.1 kB\u001b[0m \u001b[31m?\u001b[0m eta \u001b[36m-:--:--\u001b[0m\r\u001b[2K   \u001b[91m━━━━━━━━━━━━━━━━━━━━━━━━━━━━━━━━━━━━━━━\u001b[0m\u001b[91m╸\u001b[0m \u001b[32m163.8/165.1 kB\u001b[0m \u001b[31m4.8 MB/s\u001b[0m eta \u001b[36m0:00:01\u001b[0m\r\u001b[2K   \u001b[90m━━━━━━━━━━━━━━━━━━━━━━━━━━━━━━━━━━━━━━━━\u001b[0m \u001b[32m165.1/165.1 kB\u001b[0m \u001b[31m3.2 MB/s\u001b[0m eta \u001b[36m0:00:00\u001b[0m\n",
            "\u001b[?25hInstalling collected packages: xlsxwriter\n",
            "Successfully installed xlsxwriter-3.2.2\n"
          ]
        }
      ],
      "source": [
        "!pip install xlsxwriter"
      ]
    },
    {
      "cell_type": "code",
      "execution_count": 2,
      "metadata": {
        "id": "Hng6pqrylpxp"
      },
      "outputs": [],
      "source": [
        "import zipfile\n",
        "import os\n",
        "import random\n",
        "import gc\n",
        "from IPython.display import Javascript\n",
        "import pandas as pd\n",
        "pd.set_option('display.max_rows', None)\n",
        "pd.set_option('display.max_columns', None)"
      ]
    },
    {
      "cell_type": "code",
      "execution_count": 3,
      "metadata": {
        "id": "p4IhoMtcqal3"
      },
      "outputs": [],
      "source": [
        "extract_path = \".\"\n",
        "zip_filename = \"comp34612.zip\"\n",
        "\n",
        "os.makedirs(extract_path, exist_ok=True)\n",
        "\n",
        "# this has been changed from their default file cos their given code dont extract properly for the next imports to work\n",
        "with zipfile.ZipFile(zip_filename, \"r\") as zip_ref:\n",
        "    # Extract files manually to avoid recreating the top-level folder\n",
        "    for member in zip_ref.namelist():\n",
        "        member_path = member.split(\"/\", 1)[-1]\n",
        "        if member_path:  #ignore top level comp3... folder to just read its contents\n",
        "            zip_ref.extract(member, extract_path)\n",
        "            try:\n",
        "                os.rename(os.path.join(extract_path, member), os.path.join(extract_path, member_path))\n",
        "            except:\n",
        "                pass\n"
      ]
    },
    {
      "cell_type": "code",
      "execution_count": 4,
      "metadata": {
        "id": "a9vALA_KXC5D"
      },
      "outputs": [],
      "source": [
        "from engine import Engine\n",
        "from gui import GUI"
      ]
    },
    {
      "cell_type": "markdown",
      "metadata": {
        "id": "IicR1K3HPuq8"
      },
      "source": [
        "Please import the necessary packages here or use `!pip install *package_name*` if they are not already installed."
      ]
    },
    {
      "cell_type": "code",
      "execution_count": 4,
      "metadata": {
        "id": "Xqxk3fp-Qfr1"
      },
      "outputs": [],
      "source": []
    },
    {
      "cell_type": "markdown",
      "metadata": {
        "id": "KBvbZ_HOXLnw"
      },
      "source": [
        "# Base Leader and Example Leader"
      ]
    },
    {
      "cell_type": "markdown",
      "metadata": {
        "id": "gbUkLBfbclfY"
      },
      "source": [
        "## Base Leader"
      ]
    },
    {
      "cell_type": "markdown",
      "metadata": {
        "id": "QSTzajwQN-ul"
      },
      "source": [
        "This is the base class for all leader subclasses."
      ]
    },
    {
      "cell_type": "code",
      "execution_count": 5,
      "metadata": {
        "id": "4ywrl6-2P9HQ"
      },
      "outputs": [],
      "source": [
        "class Leader:\n",
        "    _subclass_registry = {}\n",
        "\n",
        "    def __init__(self, name, engine):\n",
        "        self.name = name\n",
        "        self.engine = engine\n",
        "\n",
        "    @classmethod\n",
        "    def cleanup_old_subclasses(cls):\n",
        "        \"\"\"\n",
        "        A function to remove old subclasses before defining new ones.\n",
        "        \"\"\"\n",
        "        existing_subclasses = list(cls.__subclasses__())\n",
        "\n",
        "        for subclass in existing_subclasses:\n",
        "            subclass_name = subclass.__name__\n",
        "            if subclass_name in cls._subclass_registry:\n",
        "                del cls._subclass_registry[subclass_name]\n",
        "                del subclass\n",
        "        gc.collect()\n",
        "\n",
        "    @classmethod\n",
        "    def update_subclass_registry(cls):\n",
        "        \"\"\"\n",
        "        A function to update registry after cleaning up old subclasses.\n",
        "        \"\"\"\n",
        "        cls.cleanup_old_subclasses()\n",
        "        cls._subclass_registry = {subclass.__name__: subclass for subclass in cls.__subclasses__()}\n",
        "\n",
        "    def new_price(self, date):\n",
        "        \"\"\"\n",
        "        A function for setting the new price of each day.\n",
        "        :param date: date of the day to be updated\n",
        "        :return: (float) price for the day\n",
        "        \"\"\"\n",
        "        pass\n",
        "\n",
        "    def get_price_from_date(self, date):\n",
        "        \"\"\"\n",
        "        A function for getting the price set on a date.\n",
        "        :param date: (int) date to get the price from\n",
        "        :return: a tuple (leader_price, follower_price)\n",
        "        \"\"\"\n",
        "        return self.engine.exposed_get_price(date)\n",
        "\n",
        "\n",
        "    def start_simulation(self):\n",
        "        \"\"\"\n",
        "        A function runs at the beginning of the simulation.\n",
        "        \"\"\"\n",
        "        pass\n",
        "\n",
        "    def end_simulation(self):\n",
        "        \"\"\"\n",
        "        A function runs at the beginning of the simulation.\n",
        "        \"\"\"\n",
        "        pass"
      ]
    },
    {
      "cell_type": "markdown",
      "metadata": {
        "id": "f3KUnys4cn-c"
      },
      "source": [
        "## Example Leader"
      ]
    },
    {
      "cell_type": "markdown",
      "metadata": {
        "id": "6i9DFkB5OFu0"
      },
      "source": [
        "This is a simple example leader subclass."
      ]
    },
    {
      "cell_type": "code",
      "execution_count": 6,
      "metadata": {
        "id": "nHoNCHFgXXNk"
      },
      "outputs": [],
      "source": [
        "class SimpleLeader(Leader):\n",
        "    def __init__(self, name, engine):\n",
        "        super().__init__(name, engine)\n",
        "\n",
        "    def new_price(self, date: int):\n",
        "        return 1.5 + random.random() * 0.1"
      ]
    },
    {
      "cell_type": "markdown",
      "metadata": {
        "id": "Es5sl3xeY-RC"
      },
      "source": [
        "<a name=\"your-leader\"></a>\n",
        "# Your Leader"
      ]
    },
    {
      "cell_type": "markdown",
      "metadata": {
        "id": "DOFA97hMPakW"
      },
      "source": [
        "Please write your group number below in type int."
      ]
    },
    {
      "cell_type": "code",
      "execution_count": 7,
      "metadata": {
        "id": "DAkMa8owPVHS"
      },
      "outputs": [],
      "source": [
        "group_num = 1\n",
        "assert isinstance(group_num, int), f\"Expected an integer for group_num, but got {type(group_num).__name__}\""
      ]
    },
    {
      "cell_type": "markdown",
      "metadata": {
        "id": "cXlrH9XrFaIH"
      },
      "source": [
        "Please implement your leaders below. Please clearly document:\n",
        "*   Which implementation approach you choose (single leader approach or multiple leaders approach)\n",
        "*   State which leader(s) is designed to play against each follower."
      ]
    },
    {
      "cell_type": "code",
      "execution_count": 8,
      "metadata": {
        "id": "t_omEQy_vZZ-"
      },
      "outputs": [],
      "source": [
        "import os\n",
        "import numpy as np\n",
        "from sklearn.model_selection import KFold\n",
        "from sklearn.preprocessing import PolynomialFeatures\n",
        "from sklearn.linear_model import LinearRegression\n",
        "\n",
        "class MK1Leader(Leader):\n",
        "    def __init__(self, name, engine):\n",
        "        super().__init__(name, engine)\n",
        "        self.c_L = 1 # given\n",
        "        self.import_data(data_path='./data.xlsx')\n",
        "        self.train_follower_model(max_degree=5)\n",
        "\n",
        "    def demand_L(self, u_L, u_F):\n",
        "      return 2 - u_L + (0.3 * u_F)\n",
        "\n",
        "    def profit_L(self, u_L, u_F):\n",
        "      return (u_L - self.c_L) * self.demand_L(u_L, u_F)\n",
        "\n",
        "    def import_data(self, data_path):\n",
        "      if not os.path.exists(data_path):\n",
        "        raise FileNotFoundError(f\"Data file not found at path: {data_path}\")\n",
        "\n",
        "      xls = pd.ExcelFile(data_path)\n",
        "      self.historical_data = pd.read_excel(xls, 'Follower_Mk1')\n",
        "      new_names = {\"Leader's Price\": 'u_L', \"Follower's Price\": 'u_F', \"Date\": 't'}\n",
        "      self.historical_data.rename(columns=new_names, inplace=True)\n",
        "      print(f'Columns: {self.historical_data.columns}')\n",
        "\n",
        "    def train_follower_model(self, max_degree=5, num_splits=5):\n",
        "      \"\"\"\n",
        "      Train a model to predict the follower's best response given the leader's price u_L.\n",
        "      We train polynomial models up to degree max_degree and choose that which gives the best performance by minimising the mean squared error.\n",
        "      Trained using K_fold cross validation.\n",
        "\n",
        "      Args:\n",
        "          max_degree (int): The maximum degree of the polynomial model to be trained.\n",
        "          num_splits (int): The number of splits for K_fold cross validation.\n",
        "      \"\"\"\n",
        "      degrees = range(1, max_degree+1)\n",
        "      follower_models = {}\n",
        "      best_mse = float('inf')\n",
        "\n",
        "      kf = KFold(n_splits=num_splits, shuffle=True)\n",
        "      X = self.historical_data[['u_L', 't']].values\n",
        "      y = self.historical_data['u_F'].values\n",
        "\n",
        "      for degree in degrees:\n",
        "        mse_scores = []\n",
        "        poly = PolynomialFeatures(degree)\n",
        "        X_poly = poly.fit_transform(X)\n",
        "\n",
        "        for train_index, test_index in kf.split(self.historical_data):\n",
        "          X_train, X_val = X_poly[train_index], X_poly[test_index]\n",
        "          y_train, y_val = y[train_index], y[test_index]\n",
        "\n",
        "          model = LinearRegression()\n",
        "          model.fit(X_train, y_train)\n",
        "          y_pred = model.predict(X_val)\n",
        "          mse = np.mean((y_val - y_pred)**2)\n",
        "          mse_scores.append(mse)\n",
        "\n",
        "        avg_mse = np.mean(mse_scores)\n",
        "        if avg_mse < best_mse:\n",
        "          best_mse = avg_mse\n",
        "          best_model = model\n",
        "          best_poly = poly\n",
        "\n",
        "      self.follower_model = best_model\n",
        "      self.follower_model_poly = best_poly\n",
        "      self.follower_best_mse = best_mse\n",
        "\n",
        "      print(f\"Selected follower model:\\n{self.follower_model_poly}:\\n{self.follower_model}\")\n",
        "\n",
        "    def new_price(self, date: int):\n",
        "        return 1.5 + random.random() * 0.1"
      ]
    },
    {
      "cell_type": "code",
      "source": [
        "import numpy as np\n",
        "import sympy as sp\n",
        "import sys\n",
        "\n",
        "class MK2Leader(Leader):\n",
        "    \"\"\"\n",
        "    The Follower Mk2 Agent has a strong correlation between date and follower's price.\n",
        "    Informed by the visualisations, we formulate the follower's reaction function as a polynomial model based on the date.\n",
        "    \"\"\"\n",
        "    def __init__(self, name, engine):\n",
        "        super().__init__(name, engine)\n",
        "        self.c_L = 1 # given\n",
        "        self.import_data(data_path='./data.xlsx')\n",
        "        self.train_follower_model(max_degree=5)\n",
        "        self.lower_bound = 1\n",
        "        self.upper_bound = 1000 # very large (in proportion) to model infinity without overflow\n",
        "\n",
        "    def demand_L(self, u_L, u_F):\n",
        "        return 2 - u_L + (0.3 * u_F)\n",
        "\n",
        "    def profit_L(self, u_L, u_F):\n",
        "        return (u_L - self.c_L) * self.demand_L(u_L, u_F)\n",
        "\n",
        "    def import_data(self, data_path):\n",
        "        if not os.path.exists(data_path):\n",
        "            raise FileNotFoundError(f\"Data file not found at path: {data_path}\")\n",
        "\n",
        "        xls = pd.ExcelFile(data_path)\n",
        "        self.historical_data = pd.read_excel(xls, 'Follower_Mk1')\n",
        "        new_names = {\"Leader's Price\": 'u_L', \"Follower's Price\": 'u_F', \"Date\": 't'}\n",
        "        self.historical_data.rename(columns=new_names, inplace=True)\n",
        "\n",
        "    def train_follower_model(self, max_degree=5, num_splits=5):\n",
        "        degrees = range(2, max_degree+1)\n",
        "        follower_models = {}\n",
        "        best_mse = float('inf')\n",
        "\n",
        "        kf = KFold(n_splits=num_splits, shuffle=True)\n",
        "        X = self.historical_data[['u_L', 't']].values\n",
        "        y = self.historical_data['u_F'].values\n",
        "\n",
        "        for degree in degrees:\n",
        "          mse_scores = []\n",
        "          poly = PolynomialFeatures(degree)\n",
        "          X_poly = poly.fit_transform(X)\n",
        "\n",
        "          for train_index, test_index in kf.split(self.historical_data):\n",
        "            X_train, X_val = X_poly[train_index], X_poly[test_index]\n",
        "            y_train, y_val = y[train_index], y[test_index]\n",
        "\n",
        "            model = LinearRegression()\n",
        "            model.fit(X_train, y_train)\n",
        "            y_pred = model.predict(X_val)\n",
        "            mse = np.mean((y_val - y_pred)**2)\n",
        "            mse_scores.append(mse)\n",
        "\n",
        "          avg_mse = np.mean(mse_scores)\n",
        "          if avg_mse < best_mse:\n",
        "            best_mse = avg_mse\n",
        "            best_model = model\n",
        "            best_poly = poly\n",
        "\n",
        "        self.follower_model = best_model\n",
        "        self.follower_model_poly = best_poly\n",
        "        self.follower_best_mse = best_mse\n",
        "\n",
        "    def get_derivatives(self, model, poly):\n",
        "        \"\"\"\n",
        "        Compute the first and second derivatives of the trained follower's reaction function.\n",
        "        Differentiate with respect to u_L.\n",
        "        \"\"\"\n",
        "        u_L, t = sp.symbols(\"u_L t\")\n",
        "\n",
        "        X_sample = poly.fit_transform([[1, 1]]) # get feature mapping\n",
        "        feature_names = poly.get_feature_names_out(['u_L', 't'])\n",
        "\n",
        "        eq = sum(coef * sp.sympify(term.replace(\"^\", \"**\").replace(\" \", \"*\"))\n",
        "                for coef, term in zip(model.coef_, feature_names))\n",
        "\n",
        "        first_derivative = sp.diff(eq, u_L)\n",
        "        second_derivative = sp.diff(first_derivative, u_L)\n",
        "        return first_derivative, second_derivative\n",
        "\n",
        "    def new_price(self, date: int):\n",
        "        \"\"\"\n",
        "        We predict the follower's price based on the leader's price and date.\n",
        "        We differentiate the follower's learned reaction function to maximise the leader's profit.\n",
        "\n",
        "        The process for choosing the leader's price is:\n",
        "          1. Differentiate the follower's reaction function with respect to u_L\n",
        "          2. Find any local maxima within the pricing bounds - [1.00, +inf) for Follower Mk2\n",
        "          3. Find profit at each local maxima, and the boundaries\n",
        "          4. Choose the point with the highest leader profit.\n",
        "\n",
        "        Args:\n",
        "            date (int): The current date.\n",
        "\n",
        "        Returns:\n",
        "            float: The chosen leader's price.\n",
        "        \"\"\"\n",
        "        first_derivative, second_derivative = self.get_derivatives(self.follower_model, self.follower_model_poly)\n",
        "\n",
        "        candidates = [\n",
        "            self.lower_bound,\n",
        "            self.upper_bound\n",
        "        ]\n",
        "\n",
        "        extrema = sp.solve(first_derivative, sp.Symbol(\"u_L\"))\n",
        "\n",
        "        for ext in extrema:\n",
        "          ext_value = ext.subs(sp.Symbol(\"t\"), date)\n",
        "          if ext_value.is_real and self.lower_bound <= ext_value <= self.upper_bound:\n",
        "            candidates.append(float(ext_value))\n",
        "\n",
        "        profits = {}\n",
        "        for u_L in candidates:\n",
        "          u_F = self.follower_model.predict(self.follower_model_poly.fit_transform([[u_L, date]]))[0]\n",
        "          profits[u_L] = self.profit_L(u_L, u_F)\n",
        "\n",
        "        best_u_L = max(profits, key=profits.get)\n",
        "\n",
        "        return best_u_L"
      ],
      "metadata": {
        "id": "jHsWYuhVM4nL"
      },
      "execution_count": 72,
      "outputs": []
    },
    {
      "cell_type": "markdown",
      "metadata": {
        "id": "d8G2tQmAYzCk"
      },
      "source": [
        "# Simulation"
      ]
    },
    {
      "cell_type": "markdown",
      "metadata": {
        "id": "VhbFqRH2Q6eh"
      },
      "source": [
        "Below is the GUI interface. Please select a leader from the dropdown menu and a follower from the dropdown menu, then click “Connect.” Once the status updates to “Connected to *your_selected_leader* and *your_selected_follower*” click “Start Simulation” to begin. If you wish to save the generated data, click “Export Data.” The dataset will be saved in the “run” folder."
      ]
    },
    {
      "cell_type": "code",
      "execution_count": 74,
      "metadata": {
        "colab": {
          "base_uri": "https://localhost:8080/",
          "height": 1213,
          "referenced_widgets": [
            "98a519d2857c4e4b99feeae7a60a41cd",
            "04831e5eeb484a99a9219f05dcccd569",
            "cd981fedb64649f6b942ad8c7ba5c347",
            "d2f451d2fb2942349aa7e2e5651d2a52",
            "af902ce227ad46dc94cfa806dda2e5ae",
            "9970fb3df1924adaabc462cdc068c037",
            "72e1781da8d54e93969e8ad1cf692ded",
            "016ae3d29f2942d1b710f56d9231f351",
            "4c73883eeda645009b73fd2500ba201f",
            "17418487b9b845e2868a33fb7fa94572",
            "852cb191a0984773b2dda16505e162d5",
            "689cf108d0694967a3a4d7bf2d337dc9",
            "37b14a96dd604d6a9b677ff0b6c2d353",
            "eacee9cff8e74deb910f480591505011",
            "d14d0fcd17a44ea598923109aa261e3d",
            "5ec6d283908643f5829cb90233708d92",
            "594389fe97d14912b27c81b0edf881ef",
            "88a928da470e4170846d49687070cf8a",
            "7f43516d6edd42118f946f5b65d37065",
            "66959c93f175441295f104bee7ad66b1",
            "a28daf94bb044b3297e6ee39ee152c06",
            "73df0f3a33c8470084cf00f36f3d1c58",
            "b210c2bccd494f0e8f2d3692c72cd97b",
            "51a2bcca6aa445cab7aacabc6898b964",
            "1eeb26cf911d4315b085546542339608",
            "dd92ed9103844559961a855aa1c86df0",
            "a79cdf3c96ce444187b429b1c4eb6c01",
            "7227b3bdf0cc4caaa2205d2a901a4792",
            "44739e9523a84fea95f1bc5697104048",
            "96285d12563943acba2a5042682328ee",
            "c0b3f21e50c44f7c834594156fefbeb3",
            "888009fc053f442bb382556fc02a5284",
            "fb81ef8fd0e64bd7a890991071ab5110",
            "a327e879ff534de3bc2a1b8e7e334a5e",
            "2c353c42522e4472811860ad2c9a3fd4",
            "bda4e8d95516454195c3ea6643a4be90",
            "22d173b139244f498113adce3e64692d",
            "acbe4760881449bc9d27690f66e19d10",
            "16bd7be36d7448a2a5dd57e183d84e41",
            "cea18c0be85b40c9bbefb3cd53d366c2",
            "84288456cc8e4726862b4b2653d9b4b3",
            "535cf00ce6fe40d399b98743afca073a",
            "e530613fc3b340588a61d18a93b25669",
            "485cfae9fa224254bfe8a0843850df9e",
            "e10d47eae3e14e1988847a71c0d69935",
            "2e256ccb03e64e628913aef59cb6d36e",
            "f207094f5aaf4e359a6a1f0b40fb1b8e",
            "6b497cda66a548a184e2aaeefa6a77b6",
            "9dec21e58e9a41418cce2d371c1b45ae",
            "438d056bce134d62b59d7927fe738836",
            "0dede4f0bc3d43eea9164e209d47471e",
            "8221f5b641164c9c89d219306458dcab",
            "974dac8e222c45e983503b2a1b228437",
            "f7a135b676a044f8af7fe0e47653c5f5",
            "502ab0028d604227bc2c3bc141c6bf34",
            "04a4d1cd11db4b2dbbd2c790d21db80e",
            "8c3c6bad636a41718f384120078dfa1f",
            "e5307339e94344b0ae92bda20fe98eaf",
            "0354f99db985488d8fa0f7be851cd93d",
            "b4687a95c68d4a448e583724e5905584",
            "51b533e9b98c4f2f9327fa5a667d019c",
            "1020f61e3eeb4c40b80164986d1739f1",
            "d2db0092b5b9461fb601d70277bfa224",
            "14417c77bf67432d9e176b9819b3fc15",
            "94d8d1a139b34f0d9f6c300e6c32f1d6",
            "51df3d13895040ccb75c8cd486bd80d9",
            "2d6c1f51e57f4126b8c026d5b7058e5a",
            "963c4e426665496b8973cdbd8baa099e",
            "c236b699b52b4045b4d656fe1c5bd746",
            "945f09e21f8246e6af63454ffad3b6d6",
            "7a4cef8088cf444c915c4f3e75ca8033",
            "94a78e1656c049d0bd004e2d2c7a389b",
            "200a86d8b151413e883c1b0564e4a0c9",
            "324a08a78a3d47298b8e6bb026c17352"
          ]
        },
        "id": "wxAO4hV3DQJg",
        "outputId": "5847fad4-950d-43c4-f2aa-79f093830d37"
      },
      "outputs": [
        {
          "output_type": "display_data",
          "data": {
            "text/plain": [
              "<IPython.core.display.Javascript object>"
            ],
            "application/javascript": [
              "google.colab.output.setIframeHeight(0, true, {maxHeight: 5000})"
            ]
          },
          "metadata": {}
        },
        {
          "output_type": "display_data",
          "data": {
            "text/plain": [
              "VBox(children=(Dropdown(description='Leader:  ', layout=Layout(width='250px'), options=('SimpleLeader', 'MK1Le…"
            ],
            "application/vnd.jupyter.widget-view+json": {
              "version_major": 2,
              "version_minor": 0,
              "model_id": "98a519d2857c4e4b99feeae7a60a41cd"
            }
          },
          "metadata": {}
        }
      ],
      "source": [
        "display(Javascript('''google.colab.output.setIframeHeight(0, true, {maxHeight: 5000})'''))\n",
        "engine = Engine()\n",
        "app = GUI(engine, Leader, group_num)"
      ]
    }
  ],
  "metadata": {
    "colab": {
      "provenance": []
    },
    "kernelspec": {
      "display_name": "Python 3",
      "name": "python3"
    },
    "language_info": {
      "codemirror_mode": {
        "name": "ipython",
        "version": 3
      },
      "file_extension": ".py",
      "mimetype": "text/x-python",
      "name": "python",
      "nbconvert_exporter": "python",
      "pygments_lexer": "ipython3",
      "version": "3.12.9"
    },
    "widgets": {
      "application/vnd.jupyter.widget-state+json": {
        "98a519d2857c4e4b99feeae7a60a41cd": {
          "model_module": "@jupyter-widgets/controls",
          "model_name": "VBoxModel",
          "model_module_version": "1.5.0",
          "state": {
            "_dom_classes": [],
            "_model_module": "@jupyter-widgets/controls",
            "_model_module_version": "1.5.0",
            "_model_name": "VBoxModel",
            "_view_count": null,
            "_view_module": "@jupyter-widgets/controls",
            "_view_module_version": "1.5.0",
            "_view_name": "VBoxView",
            "box_style": "",
            "children": [
              "IPY_MODEL_04831e5eeb484a99a9219f05dcccd569",
              "IPY_MODEL_cd981fedb64649f6b942ad8c7ba5c347",
              "IPY_MODEL_d2f451d2fb2942349aa7e2e5651d2a52",
              "IPY_MODEL_af902ce227ad46dc94cfa806dda2e5ae",
              "IPY_MODEL_9970fb3df1924adaabc462cdc068c037",
              "IPY_MODEL_72e1781da8d54e93969e8ad1cf692ded",
              "IPY_MODEL_016ae3d29f2942d1b710f56d9231f351"
            ],
            "layout": "IPY_MODEL_4c73883eeda645009b73fd2500ba201f"
          }
        },
        "04831e5eeb484a99a9219f05dcccd569": {
          "model_module": "@jupyter-widgets/controls",
          "model_name": "DropdownModel",
          "model_module_version": "1.5.0",
          "state": {
            "_dom_classes": [],
            "_model_module": "@jupyter-widgets/controls",
            "_model_module_version": "1.5.0",
            "_model_name": "DropdownModel",
            "_options_labels": [
              "SimpleLeader",
              "MK1Leader",
              "MK2Leader"
            ],
            "_view_count": null,
            "_view_module": "@jupyter-widgets/controls",
            "_view_module_version": "1.5.0",
            "_view_name": "DropdownView",
            "description": "Leader:  ",
            "description_tooltip": null,
            "disabled": false,
            "index": 2,
            "layout": "IPY_MODEL_17418487b9b845e2868a33fb7fa94572",
            "style": "IPY_MODEL_852cb191a0984773b2dda16505e162d5"
          }
        },
        "cd981fedb64649f6b942ad8c7ba5c347": {
          "model_module": "@jupyter-widgets/controls",
          "model_name": "DropdownModel",
          "model_module_version": "1.5.0",
          "state": {
            "_dom_classes": [],
            "_model_module": "@jupyter-widgets/controls",
            "_model_module_version": "1.5.0",
            "_model_name": "DropdownModel",
            "_options_labels": [
              "MK1",
              "MK2",
              "MK3"
            ],
            "_view_count": null,
            "_view_module": "@jupyter-widgets/controls",
            "_view_module_version": "1.5.0",
            "_view_name": "DropdownView",
            "description": "Follower:",
            "description_tooltip": null,
            "disabled": false,
            "index": 1,
            "layout": "IPY_MODEL_689cf108d0694967a3a4d7bf2d337dc9",
            "style": "IPY_MODEL_37b14a96dd604d6a9b677ff0b6c2d353"
          }
        },
        "d2f451d2fb2942349aa7e2e5651d2a52": {
          "model_module": "@jupyter-widgets/controls",
          "model_name": "IntSliderModel",
          "model_module_version": "1.5.0",
          "state": {
            "_dom_classes": [],
            "_model_module": "@jupyter-widgets/controls",
            "_model_module_version": "1.5.0",
            "_model_name": "IntSliderModel",
            "_view_count": null,
            "_view_module": "@jupyter-widgets/controls",
            "_view_module_version": "1.5.0",
            "_view_name": "IntSliderView",
            "continuous_update": true,
            "description": "Start Date:",
            "description_tooltip": null,
            "disabled": false,
            "layout": "IPY_MODEL_eacee9cff8e74deb910f480591505011",
            "max": 130,
            "min": 101,
            "orientation": "horizontal",
            "readout": true,
            "readout_format": "d",
            "step": 1,
            "style": "IPY_MODEL_d14d0fcd17a44ea598923109aa261e3d",
            "value": 101
          }
        },
        "af902ce227ad46dc94cfa806dda2e5ae": {
          "model_module": "@jupyter-widgets/controls",
          "model_name": "IntSliderModel",
          "model_module_version": "1.5.0",
          "state": {
            "_dom_classes": [],
            "_model_module": "@jupyter-widgets/controls",
            "_model_module_version": "1.5.0",
            "_model_name": "IntSliderModel",
            "_view_count": null,
            "_view_module": "@jupyter-widgets/controls",
            "_view_module_version": "1.5.0",
            "_view_name": "IntSliderView",
            "continuous_update": true,
            "description": "End Date:  ",
            "description_tooltip": null,
            "disabled": false,
            "layout": "IPY_MODEL_5ec6d283908643f5829cb90233708d92",
            "max": 130,
            "min": 101,
            "orientation": "horizontal",
            "readout": true,
            "readout_format": "d",
            "step": 1,
            "style": "IPY_MODEL_594389fe97d14912b27c81b0edf881ef",
            "value": 130
          }
        },
        "9970fb3df1924adaabc462cdc068c037": {
          "model_module": "@jupyter-widgets/controls",
          "model_name": "HBoxModel",
          "model_module_version": "1.5.0",
          "state": {
            "_dom_classes": [],
            "_model_module": "@jupyter-widgets/controls",
            "_model_module_version": "1.5.0",
            "_model_name": "HBoxModel",
            "_view_count": null,
            "_view_module": "@jupyter-widgets/controls",
            "_view_module_version": "1.5.0",
            "_view_name": "HBoxView",
            "box_style": "",
            "children": [
              "IPY_MODEL_88a928da470e4170846d49687070cf8a",
              "IPY_MODEL_7f43516d6edd42118f946f5b65d37065"
            ],
            "layout": "IPY_MODEL_66959c93f175441295f104bee7ad66b1"
          }
        },
        "72e1781da8d54e93969e8ad1cf692ded": {
          "model_module": "@jupyter-widgets/controls",
          "model_name": "HBoxModel",
          "model_module_version": "1.5.0",
          "state": {
            "_dom_classes": [],
            "_model_module": "@jupyter-widgets/controls",
            "_model_module_version": "1.5.0",
            "_model_name": "HBoxModel",
            "_view_count": null,
            "_view_module": "@jupyter-widgets/controls",
            "_view_module_version": "1.5.0",
            "_view_name": "HBoxView",
            "box_style": "",
            "children": [
              "IPY_MODEL_a28daf94bb044b3297e6ee39ee152c06",
              "IPY_MODEL_73df0f3a33c8470084cf00f36f3d1c58"
            ],
            "layout": "IPY_MODEL_b210c2bccd494f0e8f2d3692c72cd97b"
          }
        },
        "016ae3d29f2942d1b710f56d9231f351": {
          "model_module": "@jupyter-widgets/output",
          "model_name": "OutputModel",
          "model_module_version": "1.0.0",
          "state": {
            "_dom_classes": [],
            "_model_module": "@jupyter-widgets/output",
            "_model_module_version": "1.0.0",
            "_model_name": "OutputModel",
            "_view_count": null,
            "_view_module": "@jupyter-widgets/output",
            "_view_module_version": "1.0.0",
            "_view_name": "OutputView",
            "layout": "IPY_MODEL_888009fc053f442bb382556fc02a5284",
            "msg_id": "",
            "outputs": [
              {
                "output_type": "display_data",
                "data": {
                  "text/plain": "HBox(children=(Output(), Output()), layout=Layout(justify_content='initial'))",
                  "application/vnd.jupyter.widget-view+json": {
                    "version_major": 2,
                    "version_minor": 0,
                    "model_id": "c236b699b52b4045b4d656fe1c5bd746"
                  }
                },
                "metadata": {}
              }
            ]
          }
        },
        "4c73883eeda645009b73fd2500ba201f": {
          "model_module": "@jupyter-widgets/base",
          "model_name": "LayoutModel",
          "model_module_version": "1.2.0",
          "state": {
            "_model_module": "@jupyter-widgets/base",
            "_model_module_version": "1.2.0",
            "_model_name": "LayoutModel",
            "_view_count": null,
            "_view_module": "@jupyter-widgets/base",
            "_view_module_version": "1.2.0",
            "_view_name": "LayoutView",
            "align_content": null,
            "align_items": null,
            "align_self": null,
            "border": null,
            "bottom": null,
            "display": null,
            "flex": null,
            "flex_flow": null,
            "grid_area": null,
            "grid_auto_columns": null,
            "grid_auto_flow": null,
            "grid_auto_rows": null,
            "grid_column": null,
            "grid_gap": null,
            "grid_row": null,
            "grid_template_areas": null,
            "grid_template_columns": null,
            "grid_template_rows": null,
            "height": null,
            "justify_content": null,
            "justify_items": null,
            "left": null,
            "margin": null,
            "max_height": null,
            "max_width": null,
            "min_height": null,
            "min_width": null,
            "object_fit": null,
            "object_position": null,
            "order": null,
            "overflow": null,
            "overflow_x": null,
            "overflow_y": null,
            "padding": null,
            "right": null,
            "top": null,
            "visibility": null,
            "width": null
          }
        },
        "17418487b9b845e2868a33fb7fa94572": {
          "model_module": "@jupyter-widgets/base",
          "model_name": "LayoutModel",
          "model_module_version": "1.2.0",
          "state": {
            "_model_module": "@jupyter-widgets/base",
            "_model_module_version": "1.2.0",
            "_model_name": "LayoutModel",
            "_view_count": null,
            "_view_module": "@jupyter-widgets/base",
            "_view_module_version": "1.2.0",
            "_view_name": "LayoutView",
            "align_content": null,
            "align_items": null,
            "align_self": null,
            "border": null,
            "bottom": null,
            "display": null,
            "flex": null,
            "flex_flow": null,
            "grid_area": null,
            "grid_auto_columns": null,
            "grid_auto_flow": null,
            "grid_auto_rows": null,
            "grid_column": null,
            "grid_gap": null,
            "grid_row": null,
            "grid_template_areas": null,
            "grid_template_columns": null,
            "grid_template_rows": null,
            "height": null,
            "justify_content": null,
            "justify_items": null,
            "left": null,
            "margin": null,
            "max_height": null,
            "max_width": null,
            "min_height": null,
            "min_width": null,
            "object_fit": null,
            "object_position": null,
            "order": null,
            "overflow": null,
            "overflow_x": null,
            "overflow_y": null,
            "padding": null,
            "right": null,
            "top": null,
            "visibility": null,
            "width": "250px"
          }
        },
        "852cb191a0984773b2dda16505e162d5": {
          "model_module": "@jupyter-widgets/controls",
          "model_name": "DescriptionStyleModel",
          "model_module_version": "1.5.0",
          "state": {
            "_model_module": "@jupyter-widgets/controls",
            "_model_module_version": "1.5.0",
            "_model_name": "DescriptionStyleModel",
            "_view_count": null,
            "_view_module": "@jupyter-widgets/base",
            "_view_module_version": "1.2.0",
            "_view_name": "StyleView",
            "description_width": "initial"
          }
        },
        "689cf108d0694967a3a4d7bf2d337dc9": {
          "model_module": "@jupyter-widgets/base",
          "model_name": "LayoutModel",
          "model_module_version": "1.2.0",
          "state": {
            "_model_module": "@jupyter-widgets/base",
            "_model_module_version": "1.2.0",
            "_model_name": "LayoutModel",
            "_view_count": null,
            "_view_module": "@jupyter-widgets/base",
            "_view_module_version": "1.2.0",
            "_view_name": "LayoutView",
            "align_content": null,
            "align_items": null,
            "align_self": null,
            "border": null,
            "bottom": null,
            "display": null,
            "flex": null,
            "flex_flow": null,
            "grid_area": null,
            "grid_auto_columns": null,
            "grid_auto_flow": null,
            "grid_auto_rows": null,
            "grid_column": null,
            "grid_gap": null,
            "grid_row": null,
            "grid_template_areas": null,
            "grid_template_columns": null,
            "grid_template_rows": null,
            "height": null,
            "justify_content": null,
            "justify_items": null,
            "left": null,
            "margin": null,
            "max_height": null,
            "max_width": null,
            "min_height": null,
            "min_width": null,
            "object_fit": null,
            "object_position": null,
            "order": null,
            "overflow": null,
            "overflow_x": null,
            "overflow_y": null,
            "padding": null,
            "right": null,
            "top": null,
            "visibility": null,
            "width": "250px"
          }
        },
        "37b14a96dd604d6a9b677ff0b6c2d353": {
          "model_module": "@jupyter-widgets/controls",
          "model_name": "DescriptionStyleModel",
          "model_module_version": "1.5.0",
          "state": {
            "_model_module": "@jupyter-widgets/controls",
            "_model_module_version": "1.5.0",
            "_model_name": "DescriptionStyleModel",
            "_view_count": null,
            "_view_module": "@jupyter-widgets/base",
            "_view_module_version": "1.2.0",
            "_view_name": "StyleView",
            "description_width": "initial"
          }
        },
        "eacee9cff8e74deb910f480591505011": {
          "model_module": "@jupyter-widgets/base",
          "model_name": "LayoutModel",
          "model_module_version": "1.2.0",
          "state": {
            "_model_module": "@jupyter-widgets/base",
            "_model_module_version": "1.2.0",
            "_model_name": "LayoutModel",
            "_view_count": null,
            "_view_module": "@jupyter-widgets/base",
            "_view_module_version": "1.2.0",
            "_view_name": "LayoutView",
            "align_content": null,
            "align_items": null,
            "align_self": null,
            "border": null,
            "bottom": null,
            "display": null,
            "flex": null,
            "flex_flow": null,
            "grid_area": null,
            "grid_auto_columns": null,
            "grid_auto_flow": null,
            "grid_auto_rows": null,
            "grid_column": null,
            "grid_gap": null,
            "grid_row": null,
            "grid_template_areas": null,
            "grid_template_columns": null,
            "grid_template_rows": null,
            "height": null,
            "justify_content": null,
            "justify_items": null,
            "left": null,
            "margin": null,
            "max_height": null,
            "max_width": null,
            "min_height": null,
            "min_width": null,
            "object_fit": null,
            "object_position": null,
            "order": null,
            "overflow": null,
            "overflow_x": null,
            "overflow_y": null,
            "padding": null,
            "right": null,
            "top": null,
            "visibility": null,
            "width": "300px"
          }
        },
        "d14d0fcd17a44ea598923109aa261e3d": {
          "model_module": "@jupyter-widgets/controls",
          "model_name": "SliderStyleModel",
          "model_module_version": "1.5.0",
          "state": {
            "_model_module": "@jupyter-widgets/controls",
            "_model_module_version": "1.5.0",
            "_model_name": "SliderStyleModel",
            "_view_count": null,
            "_view_module": "@jupyter-widgets/base",
            "_view_module_version": "1.2.0",
            "_view_name": "StyleView",
            "description_width": "initial",
            "handle_color": null
          }
        },
        "5ec6d283908643f5829cb90233708d92": {
          "model_module": "@jupyter-widgets/base",
          "model_name": "LayoutModel",
          "model_module_version": "1.2.0",
          "state": {
            "_model_module": "@jupyter-widgets/base",
            "_model_module_version": "1.2.0",
            "_model_name": "LayoutModel",
            "_view_count": null,
            "_view_module": "@jupyter-widgets/base",
            "_view_module_version": "1.2.0",
            "_view_name": "LayoutView",
            "align_content": null,
            "align_items": null,
            "align_self": null,
            "border": null,
            "bottom": null,
            "display": null,
            "flex": null,
            "flex_flow": null,
            "grid_area": null,
            "grid_auto_columns": null,
            "grid_auto_flow": null,
            "grid_auto_rows": null,
            "grid_column": null,
            "grid_gap": null,
            "grid_row": null,
            "grid_template_areas": null,
            "grid_template_columns": null,
            "grid_template_rows": null,
            "height": null,
            "justify_content": null,
            "justify_items": null,
            "left": null,
            "margin": null,
            "max_height": null,
            "max_width": null,
            "min_height": null,
            "min_width": null,
            "object_fit": null,
            "object_position": null,
            "order": null,
            "overflow": null,
            "overflow_x": null,
            "overflow_y": null,
            "padding": null,
            "right": null,
            "top": null,
            "visibility": null,
            "width": "300px"
          }
        },
        "594389fe97d14912b27c81b0edf881ef": {
          "model_module": "@jupyter-widgets/controls",
          "model_name": "SliderStyleModel",
          "model_module_version": "1.5.0",
          "state": {
            "_model_module": "@jupyter-widgets/controls",
            "_model_module_version": "1.5.0",
            "_model_name": "SliderStyleModel",
            "_view_count": null,
            "_view_module": "@jupyter-widgets/base",
            "_view_module_version": "1.2.0",
            "_view_name": "StyleView",
            "description_width": "initial",
            "handle_color": null
          }
        },
        "88a928da470e4170846d49687070cf8a": {
          "model_module": "@jupyter-widgets/controls",
          "model_name": "HTMLModel",
          "model_module_version": "1.5.0",
          "state": {
            "_dom_classes": [],
            "_model_module": "@jupyter-widgets/controls",
            "_model_module_version": "1.5.0",
            "_model_name": "HTMLModel",
            "_view_count": null,
            "_view_module": "@jupyter-widgets/controls",
            "_view_module_version": "1.5.0",
            "_view_name": "HTMLView",
            "description": "",
            "description_tooltip": null,
            "layout": "IPY_MODEL_51a2bcca6aa445cab7aacabc6898b964",
            "placeholder": "​",
            "style": "IPY_MODEL_1eeb26cf911d4315b085546542339608",
            "value": "Status:<span style='color: green;'> Connected to MK2Leader and MK2"
          }
        },
        "7f43516d6edd42118f946f5b65d37065": {
          "model_module": "@jupyter-widgets/controls",
          "model_name": "ButtonModel",
          "model_module_version": "1.5.0",
          "state": {
            "_dom_classes": [],
            "_model_module": "@jupyter-widgets/controls",
            "_model_module_version": "1.5.0",
            "_model_name": "ButtonModel",
            "_view_count": null,
            "_view_module": "@jupyter-widgets/controls",
            "_view_module_version": "1.5.0",
            "_view_name": "ButtonView",
            "button_style": "",
            "description": "Connect",
            "disabled": false,
            "icon": "",
            "layout": "IPY_MODEL_dd92ed9103844559961a855aa1c86df0",
            "style": "IPY_MODEL_a79cdf3c96ce444187b429b1c4eb6c01",
            "tooltip": ""
          }
        },
        "66959c93f175441295f104bee7ad66b1": {
          "model_module": "@jupyter-widgets/base",
          "model_name": "LayoutModel",
          "model_module_version": "1.2.0",
          "state": {
            "_model_module": "@jupyter-widgets/base",
            "_model_module_version": "1.2.0",
            "_model_name": "LayoutModel",
            "_view_count": null,
            "_view_module": "@jupyter-widgets/base",
            "_view_module_version": "1.2.0",
            "_view_name": "LayoutView",
            "align_content": null,
            "align_items": null,
            "align_self": null,
            "border": null,
            "bottom": null,
            "display": null,
            "flex": null,
            "flex_flow": null,
            "grid_area": null,
            "grid_auto_columns": null,
            "grid_auto_flow": null,
            "grid_auto_rows": null,
            "grid_column": null,
            "grid_gap": null,
            "grid_row": null,
            "grid_template_areas": null,
            "grid_template_columns": null,
            "grid_template_rows": null,
            "height": null,
            "justify_content": null,
            "justify_items": null,
            "left": null,
            "margin": null,
            "max_height": null,
            "max_width": null,
            "min_height": null,
            "min_width": null,
            "object_fit": null,
            "object_position": null,
            "order": null,
            "overflow": null,
            "overflow_x": null,
            "overflow_y": null,
            "padding": null,
            "right": null,
            "top": null,
            "visibility": null,
            "width": null
          }
        },
        "a28daf94bb044b3297e6ee39ee152c06": {
          "model_module": "@jupyter-widgets/controls",
          "model_name": "ButtonModel",
          "model_module_version": "1.5.0",
          "state": {
            "_dom_classes": [],
            "_model_module": "@jupyter-widgets/controls",
            "_model_module_version": "1.5.0",
            "_model_name": "ButtonModel",
            "_view_count": null,
            "_view_module": "@jupyter-widgets/controls",
            "_view_module_version": "1.5.0",
            "_view_name": "ButtonView",
            "button_style": "",
            "description": "Start Simulation",
            "disabled": false,
            "icon": "",
            "layout": "IPY_MODEL_7227b3bdf0cc4caaa2205d2a901a4792",
            "style": "IPY_MODEL_44739e9523a84fea95f1bc5697104048",
            "tooltip": ""
          }
        },
        "73df0f3a33c8470084cf00f36f3d1c58": {
          "model_module": "@jupyter-widgets/controls",
          "model_name": "ButtonModel",
          "model_module_version": "1.5.0",
          "state": {
            "_dom_classes": [],
            "_model_module": "@jupyter-widgets/controls",
            "_model_module_version": "1.5.0",
            "_model_name": "ButtonModel",
            "_view_count": null,
            "_view_module": "@jupyter-widgets/controls",
            "_view_module_version": "1.5.0",
            "_view_name": "ButtonView",
            "button_style": "",
            "description": "Export Data",
            "disabled": false,
            "icon": "",
            "layout": "IPY_MODEL_96285d12563943acba2a5042682328ee",
            "style": "IPY_MODEL_c0b3f21e50c44f7c834594156fefbeb3",
            "tooltip": ""
          }
        },
        "b210c2bccd494f0e8f2d3692c72cd97b": {
          "model_module": "@jupyter-widgets/base",
          "model_name": "LayoutModel",
          "model_module_version": "1.2.0",
          "state": {
            "_model_module": "@jupyter-widgets/base",
            "_model_module_version": "1.2.0",
            "_model_name": "LayoutModel",
            "_view_count": null,
            "_view_module": "@jupyter-widgets/base",
            "_view_module_version": "1.2.0",
            "_view_name": "LayoutView",
            "align_content": null,
            "align_items": null,
            "align_self": null,
            "border": null,
            "bottom": null,
            "display": null,
            "flex": null,
            "flex_flow": null,
            "grid_area": null,
            "grid_auto_columns": null,
            "grid_auto_flow": null,
            "grid_auto_rows": null,
            "grid_column": null,
            "grid_gap": null,
            "grid_row": null,
            "grid_template_areas": null,
            "grid_template_columns": null,
            "grid_template_rows": null,
            "height": null,
            "justify_content": null,
            "justify_items": null,
            "left": null,
            "margin": null,
            "max_height": null,
            "max_width": null,
            "min_height": null,
            "min_width": null,
            "object_fit": null,
            "object_position": null,
            "order": null,
            "overflow": null,
            "overflow_x": null,
            "overflow_y": null,
            "padding": null,
            "right": null,
            "top": null,
            "visibility": null,
            "width": null
          }
        },
        "51a2bcca6aa445cab7aacabc6898b964": {
          "model_module": "@jupyter-widgets/base",
          "model_name": "LayoutModel",
          "model_module_version": "1.2.0",
          "state": {
            "_model_module": "@jupyter-widgets/base",
            "_model_module_version": "1.2.0",
            "_model_name": "LayoutModel",
            "_view_count": null,
            "_view_module": "@jupyter-widgets/base",
            "_view_module_version": "1.2.0",
            "_view_name": "LayoutView",
            "align_content": null,
            "align_items": null,
            "align_self": null,
            "border": null,
            "bottom": null,
            "display": null,
            "flex": null,
            "flex_flow": null,
            "grid_area": null,
            "grid_auto_columns": null,
            "grid_auto_flow": null,
            "grid_auto_rows": null,
            "grid_column": null,
            "grid_gap": null,
            "grid_row": null,
            "grid_template_areas": null,
            "grid_template_columns": null,
            "grid_template_rows": null,
            "height": null,
            "justify_content": null,
            "justify_items": null,
            "left": null,
            "margin": null,
            "max_height": null,
            "max_width": null,
            "min_height": null,
            "min_width": null,
            "object_fit": null,
            "object_position": null,
            "order": null,
            "overflow": null,
            "overflow_x": null,
            "overflow_y": null,
            "padding": null,
            "right": null,
            "top": null,
            "visibility": null,
            "width": "300px"
          }
        },
        "1eeb26cf911d4315b085546542339608": {
          "model_module": "@jupyter-widgets/controls",
          "model_name": "DescriptionStyleModel",
          "model_module_version": "1.5.0",
          "state": {
            "_model_module": "@jupyter-widgets/controls",
            "_model_module_version": "1.5.0",
            "_model_name": "DescriptionStyleModel",
            "_view_count": null,
            "_view_module": "@jupyter-widgets/base",
            "_view_module_version": "1.2.0",
            "_view_name": "StyleView",
            "description_width": ""
          }
        },
        "dd92ed9103844559961a855aa1c86df0": {
          "model_module": "@jupyter-widgets/base",
          "model_name": "LayoutModel",
          "model_module_version": "1.2.0",
          "state": {
            "_model_module": "@jupyter-widgets/base",
            "_model_module_version": "1.2.0",
            "_model_name": "LayoutModel",
            "_view_count": null,
            "_view_module": "@jupyter-widgets/base",
            "_view_module_version": "1.2.0",
            "_view_name": "LayoutView",
            "align_content": null,
            "align_items": null,
            "align_self": null,
            "border": null,
            "bottom": null,
            "display": null,
            "flex": null,
            "flex_flow": null,
            "grid_area": null,
            "grid_auto_columns": null,
            "grid_auto_flow": null,
            "grid_auto_rows": null,
            "grid_column": null,
            "grid_gap": null,
            "grid_row": null,
            "grid_template_areas": null,
            "grid_template_columns": null,
            "grid_template_rows": null,
            "height": null,
            "justify_content": null,
            "justify_items": null,
            "left": null,
            "margin": null,
            "max_height": null,
            "max_width": null,
            "min_height": null,
            "min_width": null,
            "object_fit": null,
            "object_position": null,
            "order": null,
            "overflow": null,
            "overflow_x": null,
            "overflow_y": null,
            "padding": null,
            "right": null,
            "top": null,
            "visibility": null,
            "width": "100px"
          }
        },
        "a79cdf3c96ce444187b429b1c4eb6c01": {
          "model_module": "@jupyter-widgets/controls",
          "model_name": "ButtonStyleModel",
          "model_module_version": "1.5.0",
          "state": {
            "_model_module": "@jupyter-widgets/controls",
            "_model_module_version": "1.5.0",
            "_model_name": "ButtonStyleModel",
            "_view_count": null,
            "_view_module": "@jupyter-widgets/base",
            "_view_module_version": "1.2.0",
            "_view_name": "StyleView",
            "button_color": null,
            "font_weight": ""
          }
        },
        "7227b3bdf0cc4caaa2205d2a901a4792": {
          "model_module": "@jupyter-widgets/base",
          "model_name": "LayoutModel",
          "model_module_version": "1.2.0",
          "state": {
            "_model_module": "@jupyter-widgets/base",
            "_model_module_version": "1.2.0",
            "_model_name": "LayoutModel",
            "_view_count": null,
            "_view_module": "@jupyter-widgets/base",
            "_view_module_version": "1.2.0",
            "_view_name": "LayoutView",
            "align_content": null,
            "align_items": null,
            "align_self": null,
            "border": null,
            "bottom": null,
            "display": null,
            "flex": null,
            "flex_flow": null,
            "grid_area": null,
            "grid_auto_columns": null,
            "grid_auto_flow": null,
            "grid_auto_rows": null,
            "grid_column": null,
            "grid_gap": null,
            "grid_row": null,
            "grid_template_areas": null,
            "grid_template_columns": null,
            "grid_template_rows": null,
            "height": null,
            "justify_content": null,
            "justify_items": null,
            "left": null,
            "margin": null,
            "max_height": null,
            "max_width": null,
            "min_height": null,
            "min_width": null,
            "object_fit": null,
            "object_position": null,
            "order": null,
            "overflow": null,
            "overflow_x": null,
            "overflow_y": null,
            "padding": null,
            "right": null,
            "top": null,
            "visibility": null,
            "width": "200px"
          }
        },
        "44739e9523a84fea95f1bc5697104048": {
          "model_module": "@jupyter-widgets/controls",
          "model_name": "ButtonStyleModel",
          "model_module_version": "1.5.0",
          "state": {
            "_model_module": "@jupyter-widgets/controls",
            "_model_module_version": "1.5.0",
            "_model_name": "ButtonStyleModel",
            "_view_count": null,
            "_view_module": "@jupyter-widgets/base",
            "_view_module_version": "1.2.0",
            "_view_name": "StyleView",
            "button_color": null,
            "font_weight": ""
          }
        },
        "96285d12563943acba2a5042682328ee": {
          "model_module": "@jupyter-widgets/base",
          "model_name": "LayoutModel",
          "model_module_version": "1.2.0",
          "state": {
            "_model_module": "@jupyter-widgets/base",
            "_model_module_version": "1.2.0",
            "_model_name": "LayoutModel",
            "_view_count": null,
            "_view_module": "@jupyter-widgets/base",
            "_view_module_version": "1.2.0",
            "_view_name": "LayoutView",
            "align_content": null,
            "align_items": null,
            "align_self": null,
            "border": null,
            "bottom": null,
            "display": null,
            "flex": null,
            "flex_flow": null,
            "grid_area": null,
            "grid_auto_columns": null,
            "grid_auto_flow": null,
            "grid_auto_rows": null,
            "grid_column": null,
            "grid_gap": null,
            "grid_row": null,
            "grid_template_areas": null,
            "grid_template_columns": null,
            "grid_template_rows": null,
            "height": null,
            "justify_content": null,
            "justify_items": null,
            "left": null,
            "margin": null,
            "max_height": null,
            "max_width": null,
            "min_height": null,
            "min_width": null,
            "object_fit": null,
            "object_position": null,
            "order": null,
            "overflow": null,
            "overflow_x": null,
            "overflow_y": null,
            "padding": null,
            "right": null,
            "top": null,
            "visibility": null,
            "width": "200px"
          }
        },
        "c0b3f21e50c44f7c834594156fefbeb3": {
          "model_module": "@jupyter-widgets/controls",
          "model_name": "ButtonStyleModel",
          "model_module_version": "1.5.0",
          "state": {
            "_model_module": "@jupyter-widgets/controls",
            "_model_module_version": "1.5.0",
            "_model_name": "ButtonStyleModel",
            "_view_count": null,
            "_view_module": "@jupyter-widgets/base",
            "_view_module_version": "1.2.0",
            "_view_name": "StyleView",
            "button_color": null,
            "font_weight": ""
          }
        },
        "888009fc053f442bb382556fc02a5284": {
          "model_module": "@jupyter-widgets/base",
          "model_name": "LayoutModel",
          "model_module_version": "1.2.0",
          "state": {
            "_model_module": "@jupyter-widgets/base",
            "_model_module_version": "1.2.0",
            "_model_name": "LayoutModel",
            "_view_count": null,
            "_view_module": "@jupyter-widgets/base",
            "_view_module_version": "1.2.0",
            "_view_name": "LayoutView",
            "align_content": null,
            "align_items": null,
            "align_self": null,
            "border": null,
            "bottom": null,
            "display": null,
            "flex": null,
            "flex_flow": null,
            "grid_area": null,
            "grid_auto_columns": null,
            "grid_auto_flow": null,
            "grid_auto_rows": null,
            "grid_column": null,
            "grid_gap": null,
            "grid_row": null,
            "grid_template_areas": null,
            "grid_template_columns": null,
            "grid_template_rows": null,
            "height": null,
            "justify_content": null,
            "justify_items": null,
            "left": null,
            "margin": null,
            "max_height": null,
            "max_width": null,
            "min_height": null,
            "min_width": null,
            "object_fit": null,
            "object_position": null,
            "order": null,
            "overflow": null,
            "overflow_x": null,
            "overflow_y": null,
            "padding": null,
            "right": null,
            "top": null,
            "visibility": null,
            "width": null
          }
        },
        "fb81ef8fd0e64bd7a890991071ab5110": {
          "model_module": "@jupyter-widgets/controls",
          "model_name": "HBoxModel",
          "model_module_version": "1.5.0",
          "state": {
            "_dom_classes": [],
            "_model_module": "@jupyter-widgets/controls",
            "_model_module_version": "1.5.0",
            "_model_name": "HBoxModel",
            "_view_count": null,
            "_view_module": "@jupyter-widgets/controls",
            "_view_module_version": "1.5.0",
            "_view_name": "HBoxView",
            "box_style": "",
            "children": [
              "IPY_MODEL_a327e879ff534de3bc2a1b8e7e334a5e",
              "IPY_MODEL_2c353c42522e4472811860ad2c9a3fd4"
            ],
            "layout": "IPY_MODEL_bda4e8d95516454195c3ea6643a4be90"
          }
        },
        "a327e879ff534de3bc2a1b8e7e334a5e": {
          "model_module": "@jupyter-widgets/output",
          "model_name": "OutputModel",
          "model_module_version": "1.0.0",
          "state": {
            "_dom_classes": [],
            "_model_module": "@jupyter-widgets/output",
            "_model_module_version": "1.0.0",
            "_model_name": "OutputModel",
            "_view_count": null,
            "_view_module": "@jupyter-widgets/output",
            "_view_module_version": "1.0.0",
            "_view_name": "OutputView",
            "layout": "IPY_MODEL_22d173b139244f498113adce3e64692d",
            "msg_id": "",
            "outputs": [
              {
                "output_type": "display_data",
                "data": {
                  "text/plain": "      Leader Price  Follower Price  Cost\nDate                                    \n130       1.780416        1.815455   1.0\n129       1.781333        1.814715   1.0\n128       1.782249        1.813686   1.0\n127       1.783165        1.812587   1.0\n126       1.784082        1.810492   1.0\n125       1.784998        1.809307   1.0\n124       1.785915        1.808884   1.0\n123       1.786831        1.811455   1.0\n122       1.787748        1.806286   1.0\n121       1.788664        1.806343   1.0\n120       1.789581        1.804842   1.0\n119       1.790497        1.803378   1.0\n118       1.791413        1.801120   1.0\n117       1.792330        1.800917   1.0\n116       1.793246        1.798776   1.0\n115       1.794163        1.798016   1.0\n114       1.795079        1.796836   1.0\n113       1.795996        1.796453   1.0\n112       1.796912        1.792898   1.0\n111       1.797829        1.792611   1.0\n110       1.798745        1.792861   1.0\n109       1.799661        1.791459   1.0\n108       1.800578        1.788366   1.0\n107       1.801494        1.790216   1.0\n106       1.802411        1.784386   1.0\n105       1.803327        1.783585   1.0\n104       1.804244        1.781843   1.0\n103       1.805160        1.780766   1.0\n102       1.806077        1.781263   1.0\n101       1.806993        1.776737   1.0",
                  "text/html": "\n  <div id=\"df-c5efe540-844f-4058-a6f7-40facc5c6f56\" class=\"colab-df-container\">\n    <div>\n<style scoped>\n    .dataframe tbody tr th:only-of-type {\n        vertical-align: middle;\n    }\n\n    .dataframe tbody tr th {\n        vertical-align: top;\n    }\n\n    .dataframe thead th {\n        text-align: right;\n    }\n</style>\n<table border=\"1\" class=\"dataframe\">\n  <thead>\n    <tr style=\"text-align: right;\">\n      <th></th>\n      <th>Leader Price</th>\n      <th>Follower Price</th>\n      <th>Cost</th>\n    </tr>\n    <tr>\n      <th>Date</th>\n      <th></th>\n      <th></th>\n      <th></th>\n    </tr>\n  </thead>\n  <tbody>\n    <tr>\n      <th>130</th>\n      <td>1.780416</td>\n      <td>1.815455</td>\n      <td>1.0</td>\n    </tr>\n    <tr>\n      <th>129</th>\n      <td>1.781333</td>\n      <td>1.814715</td>\n      <td>1.0</td>\n    </tr>\n    <tr>\n      <th>128</th>\n      <td>1.782249</td>\n      <td>1.813686</td>\n      <td>1.0</td>\n    </tr>\n    <tr>\n      <th>127</th>\n      <td>1.783165</td>\n      <td>1.812587</td>\n      <td>1.0</td>\n    </tr>\n    <tr>\n      <th>126</th>\n      <td>1.784082</td>\n      <td>1.810492</td>\n      <td>1.0</td>\n    </tr>\n    <tr>\n      <th>125</th>\n      <td>1.784998</td>\n      <td>1.809307</td>\n      <td>1.0</td>\n    </tr>\n    <tr>\n      <th>124</th>\n      <td>1.785915</td>\n      <td>1.808884</td>\n      <td>1.0</td>\n    </tr>\n    <tr>\n      <th>123</th>\n      <td>1.786831</td>\n      <td>1.811455</td>\n      <td>1.0</td>\n    </tr>\n    <tr>\n      <th>122</th>\n      <td>1.787748</td>\n      <td>1.806286</td>\n      <td>1.0</td>\n    </tr>\n    <tr>\n      <th>121</th>\n      <td>1.788664</td>\n      <td>1.806343</td>\n      <td>1.0</td>\n    </tr>\n    <tr>\n      <th>120</th>\n      <td>1.789581</td>\n      <td>1.804842</td>\n      <td>1.0</td>\n    </tr>\n    <tr>\n      <th>119</th>\n      <td>1.790497</td>\n      <td>1.803378</td>\n      <td>1.0</td>\n    </tr>\n    <tr>\n      <th>118</th>\n      <td>1.791413</td>\n      <td>1.801120</td>\n      <td>1.0</td>\n    </tr>\n    <tr>\n      <th>117</th>\n      <td>1.792330</td>\n      <td>1.800917</td>\n      <td>1.0</td>\n    </tr>\n    <tr>\n      <th>116</th>\n      <td>1.793246</td>\n      <td>1.798776</td>\n      <td>1.0</td>\n    </tr>\n    <tr>\n      <th>115</th>\n      <td>1.794163</td>\n      <td>1.798016</td>\n      <td>1.0</td>\n    </tr>\n    <tr>\n      <th>114</th>\n      <td>1.795079</td>\n      <td>1.796836</td>\n      <td>1.0</td>\n    </tr>\n    <tr>\n      <th>113</th>\n      <td>1.795996</td>\n      <td>1.796453</td>\n      <td>1.0</td>\n    </tr>\n    <tr>\n      <th>112</th>\n      <td>1.796912</td>\n      <td>1.792898</td>\n      <td>1.0</td>\n    </tr>\n    <tr>\n      <th>111</th>\n      <td>1.797829</td>\n      <td>1.792611</td>\n      <td>1.0</td>\n    </tr>\n    <tr>\n      <th>110</th>\n      <td>1.798745</td>\n      <td>1.792861</td>\n      <td>1.0</td>\n    </tr>\n    <tr>\n      <th>109</th>\n      <td>1.799661</td>\n      <td>1.791459</td>\n      <td>1.0</td>\n    </tr>\n    <tr>\n      <th>108</th>\n      <td>1.800578</td>\n      <td>1.788366</td>\n      <td>1.0</td>\n    </tr>\n    <tr>\n      <th>107</th>\n      <td>1.801494</td>\n      <td>1.790216</td>\n      <td>1.0</td>\n    </tr>\n    <tr>\n      <th>106</th>\n      <td>1.802411</td>\n      <td>1.784386</td>\n      <td>1.0</td>\n    </tr>\n    <tr>\n      <th>105</th>\n      <td>1.803327</td>\n      <td>1.783585</td>\n      <td>1.0</td>\n    </tr>\n    <tr>\n      <th>104</th>\n      <td>1.804244</td>\n      <td>1.781843</td>\n      <td>1.0</td>\n    </tr>\n    <tr>\n      <th>103</th>\n      <td>1.805160</td>\n      <td>1.780766</td>\n      <td>1.0</td>\n    </tr>\n    <tr>\n      <th>102</th>\n      <td>1.806077</td>\n      <td>1.781263</td>\n      <td>1.0</td>\n    </tr>\n    <tr>\n      <th>101</th>\n      <td>1.806993</td>\n      <td>1.776737</td>\n      <td>1.0</td>\n    </tr>\n  </tbody>\n</table>\n</div>\n    <div class=\"colab-df-buttons\">\n\n  <div class=\"colab-df-container\">\n    <button class=\"colab-df-convert\" onclick=\"convertToInteractive('df-c5efe540-844f-4058-a6f7-40facc5c6f56')\"\n            title=\"Convert this dataframe to an interactive table.\"\n            style=\"display:none;\">\n\n  <svg xmlns=\"http://www.w3.org/2000/svg\" height=\"24px\" viewBox=\"0 -960 960 960\">\n    <path d=\"M120-120v-720h720v720H120Zm60-500h600v-160H180v160Zm220 220h160v-160H400v160Zm0 220h160v-160H400v160ZM180-400h160v-160H180v160Zm440 0h160v-160H620v160ZM180-180h160v-160H180v160Zm440 0h160v-160H620v160Z\"/>\n  </svg>\n    </button>\n\n  <style>\n    .colab-df-container {\n      display:flex;\n      gap: 12px;\n    }\n\n    .colab-df-convert {\n      background-color: #E8F0FE;\n      border: none;\n      border-radius: 50%;\n      cursor: pointer;\n      display: none;\n      fill: #1967D2;\n      height: 32px;\n      padding: 0 0 0 0;\n      width: 32px;\n    }\n\n    .colab-df-convert:hover {\n      background-color: #E2EBFA;\n      box-shadow: 0px 1px 2px rgba(60, 64, 67, 0.3), 0px 1px 3px 1px rgba(60, 64, 67, 0.15);\n      fill: #174EA6;\n    }\n\n    .colab-df-buttons div {\n      margin-bottom: 4px;\n    }\n\n    [theme=dark] .colab-df-convert {\n      background-color: #3B4455;\n      fill: #D2E3FC;\n    }\n\n    [theme=dark] .colab-df-convert:hover {\n      background-color: #434B5C;\n      box-shadow: 0px 1px 3px 1px rgba(0, 0, 0, 0.15);\n      filter: drop-shadow(0px 1px 2px rgba(0, 0, 0, 0.3));\n      fill: #FFFFFF;\n    }\n  </style>\n\n    <script>\n      const buttonEl =\n        document.querySelector('#df-c5efe540-844f-4058-a6f7-40facc5c6f56 button.colab-df-convert');\n      buttonEl.style.display =\n        google.colab.kernel.accessAllowed ? 'block' : 'none';\n\n      async function convertToInteractive(key) {\n        const element = document.querySelector('#df-c5efe540-844f-4058-a6f7-40facc5c6f56');\n        const dataTable =\n          await google.colab.kernel.invokeFunction('convertToInteractive',\n                                                    [key], {});\n        if (!dataTable) return;\n\n        const docLinkHtml = 'Like what you see? Visit the ' +\n          '<a target=\"_blank\" href=https://colab.research.google.com/notebooks/data_table.ipynb>data table notebook</a>'\n          + ' to learn more about interactive tables.';\n        element.innerHTML = '';\n        dataTable['output_type'] = 'display_data';\n        await google.colab.output.renderOutput(dataTable, element);\n        const docLink = document.createElement('div');\n        docLink.innerHTML = docLinkHtml;\n        element.appendChild(docLink);\n      }\n    </script>\n  </div>\n\n\n<div id=\"df-631032d5-e451-4f68-a283-501b5dc93005\">\n  <button class=\"colab-df-quickchart\" onclick=\"quickchart('df-631032d5-e451-4f68-a283-501b5dc93005')\"\n            title=\"Suggest charts\"\n            style=\"display:none;\">\n\n<svg xmlns=\"http://www.w3.org/2000/svg\" height=\"24px\"viewBox=\"0 0 24 24\"\n     width=\"24px\">\n    <g>\n        <path d=\"M19 3H5c-1.1 0-2 .9-2 2v14c0 1.1.9 2 2 2h14c1.1 0 2-.9 2-2V5c0-1.1-.9-2-2-2zM9 17H7v-7h2v7zm4 0h-2V7h2v10zm4 0h-2v-4h2v4z\"/>\n    </g>\n</svg>\n  </button>\n\n<style>\n  .colab-df-quickchart {\n      --bg-color: #E8F0FE;\n      --fill-color: #1967D2;\n      --hover-bg-color: #E2EBFA;\n      --hover-fill-color: #174EA6;\n      --disabled-fill-color: #AAA;\n      --disabled-bg-color: #DDD;\n  }\n\n  [theme=dark] .colab-df-quickchart {\n      --bg-color: #3B4455;\n      --fill-color: #D2E3FC;\n      --hover-bg-color: #434B5C;\n      --hover-fill-color: #FFFFFF;\n      --disabled-bg-color: #3B4455;\n      --disabled-fill-color: #666;\n  }\n\n  .colab-df-quickchart {\n    background-color: var(--bg-color);\n    border: none;\n    border-radius: 50%;\n    cursor: pointer;\n    display: none;\n    fill: var(--fill-color);\n    height: 32px;\n    padding: 0;\n    width: 32px;\n  }\n\n  .colab-df-quickchart:hover {\n    background-color: var(--hover-bg-color);\n    box-shadow: 0 1px 2px rgba(60, 64, 67, 0.3), 0 1px 3px 1px rgba(60, 64, 67, 0.15);\n    fill: var(--button-hover-fill-color);\n  }\n\n  .colab-df-quickchart-complete:disabled,\n  .colab-df-quickchart-complete:disabled:hover {\n    background-color: var(--disabled-bg-color);\n    fill: var(--disabled-fill-color);\n    box-shadow: none;\n  }\n\n  .colab-df-spinner {\n    border: 2px solid var(--fill-color);\n    border-color: transparent;\n    border-bottom-color: var(--fill-color);\n    animation:\n      spin 1s steps(1) infinite;\n  }\n\n  @keyframes spin {\n    0% {\n      border-color: transparent;\n      border-bottom-color: var(--fill-color);\n      border-left-color: var(--fill-color);\n    }\n    20% {\n      border-color: transparent;\n      border-left-color: var(--fill-color);\n      border-top-color: var(--fill-color);\n    }\n    30% {\n      border-color: transparent;\n      border-left-color: var(--fill-color);\n      border-top-color: var(--fill-color);\n      border-right-color: var(--fill-color);\n    }\n    40% {\n      border-color: transparent;\n      border-right-color: var(--fill-color);\n      border-top-color: var(--fill-color);\n    }\n    60% {\n      border-color: transparent;\n      border-right-color: var(--fill-color);\n    }\n    80% {\n      border-color: transparent;\n      border-right-color: var(--fill-color);\n      border-bottom-color: var(--fill-color);\n    }\n    90% {\n      border-color: transparent;\n      border-bottom-color: var(--fill-color);\n    }\n  }\n</style>\n\n  <script>\n    async function quickchart(key) {\n      const quickchartButtonEl =\n        document.querySelector('#' + key + ' button');\n      quickchartButtonEl.disabled = true;  // To prevent multiple clicks.\n      quickchartButtonEl.classList.add('colab-df-spinner');\n      try {\n        const charts = await google.colab.kernel.invokeFunction(\n            'suggestCharts', [key], {});\n      } catch (error) {\n        console.error('Error during call to suggestCharts:', error);\n      }\n      quickchartButtonEl.classList.remove('colab-df-spinner');\n      quickchartButtonEl.classList.add('colab-df-quickchart-complete');\n    }\n    (() => {\n      let quickchartButtonEl =\n        document.querySelector('#df-631032d5-e451-4f68-a283-501b5dc93005 button');\n      quickchartButtonEl.style.display =\n        google.colab.kernel.accessAllowed ? 'block' : 'none';\n    })();\n  </script>\n</div>\n\n    </div>\n  </div>\n",
                  "application/vnd.google.colaboratory.intrinsic+json": {
                    "type": "dataframe",
                    "summary": "{\n  \"name\": \"app = GUI(engine, Leader, group_num)\",\n  \"rows\": 30,\n  \"fields\": [\n    {\n      \"column\": \"Date\",\n      \"properties\": {\n        \"dtype\": \"number\",\n        \"std\": 8,\n        \"min\": 101,\n        \"max\": 130,\n        \"num_unique_values\": 30,\n        \"samples\": [\n          103,\n          115,\n          107\n        ],\n        \"semantic_type\": \"\",\n        \"description\": \"\"\n      }\n    },\n    {\n      \"column\": \"Leader Price\",\n      \"properties\": {\n        \"dtype\": \"number\",\n        \"std\": 0.0080678238102782,\n        \"min\": 1.780416127715899,\n        \"max\": 1.806992980571972,\n        \"num_unique_values\": 30,\n        \"samples\": [\n          1.805160094168105,\n          1.7941627757449023,\n          1.8014943213603707\n        ],\n        \"semantic_type\": \"\",\n        \"description\": \"\"\n      }\n    },\n    {\n      \"column\": \"Follower Price\",\n      \"properties\": {\n        \"dtype\": \"number\",\n        \"std\": 0.011480912326301418,\n        \"min\": 1.7767372053537016,\n        \"max\": 1.8154552229428715,\n        \"num_unique_values\": 30,\n        \"samples\": [\n          1.7807660059719026,\n          1.7980159389374035,\n          1.79021592331608\n        ],\n        \"semantic_type\": \"\",\n        \"description\": \"\"\n      }\n    },\n    {\n      \"column\": \"Cost\",\n      \"properties\": {\n        \"dtype\": \"number\",\n        \"std\": 0.0,\n        \"min\": 1.0,\n        \"max\": 1.0,\n        \"num_unique_values\": 1,\n        \"samples\": [\n          1.0\n        ],\n        \"semantic_type\": \"\",\n        \"description\": \"\"\n      }\n    }\n  ]\n}"
                  }
                },
                "metadata": {}
              }
            ]
          }
        },
        "2c353c42522e4472811860ad2c9a3fd4": {
          "model_module": "@jupyter-widgets/output",
          "model_name": "OutputModel",
          "model_module_version": "1.0.0",
          "state": {
            "_dom_classes": [],
            "_model_module": "@jupyter-widgets/output",
            "_model_module_version": "1.0.0",
            "_model_name": "OutputModel",
            "_view_count": null,
            "_view_module": "@jupyter-widgets/output",
            "_view_module_version": "1.0.0",
            "_view_name": "OutputView",
            "layout": "IPY_MODEL_acbe4760881449bc9d27690f66e19d10",
            "msg_id": "",
            "outputs": [
              {
                "output_type": "display_data",
                "data": {
                  "text/plain": "<IPython.core.display.HTML object>",
                  "text/html": "<br><br><br><br><br><br><br><br><br><br><b style='font-size: 17px;'><u>Profit made: 17.754725281078436</u></b>"
                },
                "metadata": {}
              }
            ]
          }
        },
        "bda4e8d95516454195c3ea6643a4be90": {
          "model_module": "@jupyter-widgets/base",
          "model_name": "LayoutModel",
          "model_module_version": "1.2.0",
          "state": {
            "_model_module": "@jupyter-widgets/base",
            "_model_module_version": "1.2.0",
            "_model_name": "LayoutModel",
            "_view_count": null,
            "_view_module": "@jupyter-widgets/base",
            "_view_module_version": "1.2.0",
            "_view_name": "LayoutView",
            "align_content": null,
            "align_items": null,
            "align_self": null,
            "border": null,
            "bottom": null,
            "display": null,
            "flex": null,
            "flex_flow": null,
            "grid_area": null,
            "grid_auto_columns": null,
            "grid_auto_flow": null,
            "grid_auto_rows": null,
            "grid_column": null,
            "grid_gap": null,
            "grid_row": null,
            "grid_template_areas": null,
            "grid_template_columns": null,
            "grid_template_rows": null,
            "height": null,
            "justify_content": "initial",
            "justify_items": null,
            "left": null,
            "margin": null,
            "max_height": null,
            "max_width": null,
            "min_height": null,
            "min_width": null,
            "object_fit": null,
            "object_position": null,
            "order": null,
            "overflow": null,
            "overflow_x": null,
            "overflow_y": null,
            "padding": null,
            "right": null,
            "top": null,
            "visibility": null,
            "width": null
          }
        },
        "22d173b139244f498113adce3e64692d": {
          "model_module": "@jupyter-widgets/base",
          "model_name": "LayoutModel",
          "model_module_version": "1.2.0",
          "state": {
            "_model_module": "@jupyter-widgets/base",
            "_model_module_version": "1.2.0",
            "_model_name": "LayoutModel",
            "_view_count": null,
            "_view_module": "@jupyter-widgets/base",
            "_view_module_version": "1.2.0",
            "_view_name": "LayoutView",
            "align_content": null,
            "align_items": null,
            "align_self": null,
            "border": null,
            "bottom": null,
            "display": null,
            "flex": null,
            "flex_flow": null,
            "grid_area": null,
            "grid_auto_columns": null,
            "grid_auto_flow": null,
            "grid_auto_rows": null,
            "grid_column": null,
            "grid_gap": null,
            "grid_row": null,
            "grid_template_areas": null,
            "grid_template_columns": null,
            "grid_template_rows": null,
            "height": null,
            "justify_content": null,
            "justify_items": null,
            "left": null,
            "margin": null,
            "max_height": null,
            "max_width": null,
            "min_height": null,
            "min_width": null,
            "object_fit": null,
            "object_position": null,
            "order": null,
            "overflow": null,
            "overflow_x": null,
            "overflow_y": null,
            "padding": null,
            "right": null,
            "top": null,
            "visibility": null,
            "width": null
          }
        },
        "acbe4760881449bc9d27690f66e19d10": {
          "model_module": "@jupyter-widgets/base",
          "model_name": "LayoutModel",
          "model_module_version": "1.2.0",
          "state": {
            "_model_module": "@jupyter-widgets/base",
            "_model_module_version": "1.2.0",
            "_model_name": "LayoutModel",
            "_view_count": null,
            "_view_module": "@jupyter-widgets/base",
            "_view_module_version": "1.2.0",
            "_view_name": "LayoutView",
            "align_content": null,
            "align_items": null,
            "align_self": null,
            "border": null,
            "bottom": null,
            "display": null,
            "flex": null,
            "flex_flow": null,
            "grid_area": null,
            "grid_auto_columns": null,
            "grid_auto_flow": null,
            "grid_auto_rows": null,
            "grid_column": null,
            "grid_gap": null,
            "grid_row": null,
            "grid_template_areas": null,
            "grid_template_columns": null,
            "grid_template_rows": null,
            "height": null,
            "justify_content": null,
            "justify_items": null,
            "left": null,
            "margin": null,
            "max_height": null,
            "max_width": null,
            "min_height": null,
            "min_width": null,
            "object_fit": null,
            "object_position": null,
            "order": null,
            "overflow": null,
            "overflow_x": null,
            "overflow_y": null,
            "padding": null,
            "right": null,
            "top": null,
            "visibility": null,
            "width": null
          }
        },
        "16bd7be36d7448a2a5dd57e183d84e41": {
          "model_module": "@jupyter-widgets/controls",
          "model_name": "HBoxModel",
          "model_module_version": "1.5.0",
          "state": {
            "_dom_classes": [],
            "_model_module": "@jupyter-widgets/controls",
            "_model_module_version": "1.5.0",
            "_model_name": "HBoxModel",
            "_view_count": null,
            "_view_module": "@jupyter-widgets/controls",
            "_view_module_version": "1.5.0",
            "_view_name": "HBoxView",
            "box_style": "",
            "children": [
              "IPY_MODEL_cea18c0be85b40c9bbefb3cd53d366c2",
              "IPY_MODEL_84288456cc8e4726862b4b2653d9b4b3"
            ],
            "layout": "IPY_MODEL_535cf00ce6fe40d399b98743afca073a"
          }
        },
        "cea18c0be85b40c9bbefb3cd53d366c2": {
          "model_module": "@jupyter-widgets/output",
          "model_name": "OutputModel",
          "model_module_version": "1.0.0",
          "state": {
            "_dom_classes": [],
            "_model_module": "@jupyter-widgets/output",
            "_model_module_version": "1.0.0",
            "_model_name": "OutputModel",
            "_view_count": null,
            "_view_module": "@jupyter-widgets/output",
            "_view_module_version": "1.0.0",
            "_view_name": "OutputView",
            "layout": "IPY_MODEL_e530613fc3b340588a61d18a93b25669",
            "msg_id": "",
            "outputs": [
              {
                "output_type": "display_data",
                "data": {
                  "text/plain": "      Leader Price  Follower Price  Cost\nDate                                    \n130       1.780416        1.815455   1.0\n129       1.781333        1.814715   1.0\n128       1.782249        1.813686   1.0\n127       1.783165        1.812587   1.0\n126       1.784082        1.810492   1.0\n125       1.784998        1.809307   1.0\n124       1.785915        1.808884   1.0\n123       1.786831        1.811455   1.0\n122       1.787748        1.806286   1.0\n121       1.788664        1.806343   1.0\n120       1.789581        1.804842   1.0\n119       1.790497        1.803378   1.0\n118       1.791413        1.801120   1.0\n117       1.792330        1.800917   1.0\n116       1.793246        1.798776   1.0\n115       1.794163        1.798016   1.0\n114       1.795079        1.796836   1.0\n113       1.795996        1.796453   1.0\n112       1.796912        1.792898   1.0\n111       1.797829        1.792611   1.0\n110       1.798745        1.792861   1.0\n109       1.799661        1.791459   1.0\n108       1.800578        1.788366   1.0\n107       1.801494        1.790216   1.0\n106       1.802411        1.784386   1.0\n105       1.803327        1.783585   1.0\n104       1.804244        1.781843   1.0\n103       1.805160        1.780766   1.0\n102       1.806077        1.781263   1.0\n101       1.806993        1.776737   1.0",
                  "text/html": "\n  <div id=\"df-e0467610-d6dc-4ee4-866e-1235b8c9739b\" class=\"colab-df-container\">\n    <div>\n<style scoped>\n    .dataframe tbody tr th:only-of-type {\n        vertical-align: middle;\n    }\n\n    .dataframe tbody tr th {\n        vertical-align: top;\n    }\n\n    .dataframe thead th {\n        text-align: right;\n    }\n</style>\n<table border=\"1\" class=\"dataframe\">\n  <thead>\n    <tr style=\"text-align: right;\">\n      <th></th>\n      <th>Leader Price</th>\n      <th>Follower Price</th>\n      <th>Cost</th>\n    </tr>\n    <tr>\n      <th>Date</th>\n      <th></th>\n      <th></th>\n      <th></th>\n    </tr>\n  </thead>\n  <tbody>\n    <tr>\n      <th>130</th>\n      <td>1.780416</td>\n      <td>1.815455</td>\n      <td>1.0</td>\n    </tr>\n    <tr>\n      <th>129</th>\n      <td>1.781333</td>\n      <td>1.814715</td>\n      <td>1.0</td>\n    </tr>\n    <tr>\n      <th>128</th>\n      <td>1.782249</td>\n      <td>1.813686</td>\n      <td>1.0</td>\n    </tr>\n    <tr>\n      <th>127</th>\n      <td>1.783165</td>\n      <td>1.812587</td>\n      <td>1.0</td>\n    </tr>\n    <tr>\n      <th>126</th>\n      <td>1.784082</td>\n      <td>1.810492</td>\n      <td>1.0</td>\n    </tr>\n    <tr>\n      <th>125</th>\n      <td>1.784998</td>\n      <td>1.809307</td>\n      <td>1.0</td>\n    </tr>\n    <tr>\n      <th>124</th>\n      <td>1.785915</td>\n      <td>1.808884</td>\n      <td>1.0</td>\n    </tr>\n    <tr>\n      <th>123</th>\n      <td>1.786831</td>\n      <td>1.811455</td>\n      <td>1.0</td>\n    </tr>\n    <tr>\n      <th>122</th>\n      <td>1.787748</td>\n      <td>1.806286</td>\n      <td>1.0</td>\n    </tr>\n    <tr>\n      <th>121</th>\n      <td>1.788664</td>\n      <td>1.806343</td>\n      <td>1.0</td>\n    </tr>\n    <tr>\n      <th>120</th>\n      <td>1.789581</td>\n      <td>1.804842</td>\n      <td>1.0</td>\n    </tr>\n    <tr>\n      <th>119</th>\n      <td>1.790497</td>\n      <td>1.803378</td>\n      <td>1.0</td>\n    </tr>\n    <tr>\n      <th>118</th>\n      <td>1.791413</td>\n      <td>1.801120</td>\n      <td>1.0</td>\n    </tr>\n    <tr>\n      <th>117</th>\n      <td>1.792330</td>\n      <td>1.800917</td>\n      <td>1.0</td>\n    </tr>\n    <tr>\n      <th>116</th>\n      <td>1.793246</td>\n      <td>1.798776</td>\n      <td>1.0</td>\n    </tr>\n    <tr>\n      <th>115</th>\n      <td>1.794163</td>\n      <td>1.798016</td>\n      <td>1.0</td>\n    </tr>\n    <tr>\n      <th>114</th>\n      <td>1.795079</td>\n      <td>1.796836</td>\n      <td>1.0</td>\n    </tr>\n    <tr>\n      <th>113</th>\n      <td>1.795996</td>\n      <td>1.796453</td>\n      <td>1.0</td>\n    </tr>\n    <tr>\n      <th>112</th>\n      <td>1.796912</td>\n      <td>1.792898</td>\n      <td>1.0</td>\n    </tr>\n    <tr>\n      <th>111</th>\n      <td>1.797829</td>\n      <td>1.792611</td>\n      <td>1.0</td>\n    </tr>\n    <tr>\n      <th>110</th>\n      <td>1.798745</td>\n      <td>1.792861</td>\n      <td>1.0</td>\n    </tr>\n    <tr>\n      <th>109</th>\n      <td>1.799661</td>\n      <td>1.791459</td>\n      <td>1.0</td>\n    </tr>\n    <tr>\n      <th>108</th>\n      <td>1.800578</td>\n      <td>1.788366</td>\n      <td>1.0</td>\n    </tr>\n    <tr>\n      <th>107</th>\n      <td>1.801494</td>\n      <td>1.790216</td>\n      <td>1.0</td>\n    </tr>\n    <tr>\n      <th>106</th>\n      <td>1.802411</td>\n      <td>1.784386</td>\n      <td>1.0</td>\n    </tr>\n    <tr>\n      <th>105</th>\n      <td>1.803327</td>\n      <td>1.783585</td>\n      <td>1.0</td>\n    </tr>\n    <tr>\n      <th>104</th>\n      <td>1.804244</td>\n      <td>1.781843</td>\n      <td>1.0</td>\n    </tr>\n    <tr>\n      <th>103</th>\n      <td>1.805160</td>\n      <td>1.780766</td>\n      <td>1.0</td>\n    </tr>\n    <tr>\n      <th>102</th>\n      <td>1.806077</td>\n      <td>1.781263</td>\n      <td>1.0</td>\n    </tr>\n    <tr>\n      <th>101</th>\n      <td>1.806993</td>\n      <td>1.776737</td>\n      <td>1.0</td>\n    </tr>\n  </tbody>\n</table>\n</div>\n    <div class=\"colab-df-buttons\">\n\n  <div class=\"colab-df-container\">\n    <button class=\"colab-df-convert\" onclick=\"convertToInteractive('df-e0467610-d6dc-4ee4-866e-1235b8c9739b')\"\n            title=\"Convert this dataframe to an interactive table.\"\n            style=\"display:none;\">\n\n  <svg xmlns=\"http://www.w3.org/2000/svg\" height=\"24px\" viewBox=\"0 -960 960 960\">\n    <path d=\"M120-120v-720h720v720H120Zm60-500h600v-160H180v160Zm220 220h160v-160H400v160Zm0 220h160v-160H400v160ZM180-400h160v-160H180v160Zm440 0h160v-160H620v160ZM180-180h160v-160H180v160Zm440 0h160v-160H620v160Z\"/>\n  </svg>\n    </button>\n\n  <style>\n    .colab-df-container {\n      display:flex;\n      gap: 12px;\n    }\n\n    .colab-df-convert {\n      background-color: #E8F0FE;\n      border: none;\n      border-radius: 50%;\n      cursor: pointer;\n      display: none;\n      fill: #1967D2;\n      height: 32px;\n      padding: 0 0 0 0;\n      width: 32px;\n    }\n\n    .colab-df-convert:hover {\n      background-color: #E2EBFA;\n      box-shadow: 0px 1px 2px rgba(60, 64, 67, 0.3), 0px 1px 3px 1px rgba(60, 64, 67, 0.15);\n      fill: #174EA6;\n    }\n\n    .colab-df-buttons div {\n      margin-bottom: 4px;\n    }\n\n    [theme=dark] .colab-df-convert {\n      background-color: #3B4455;\n      fill: #D2E3FC;\n    }\n\n    [theme=dark] .colab-df-convert:hover {\n      background-color: #434B5C;\n      box-shadow: 0px 1px 3px 1px rgba(0, 0, 0, 0.15);\n      filter: drop-shadow(0px 1px 2px rgba(0, 0, 0, 0.3));\n      fill: #FFFFFF;\n    }\n  </style>\n\n    <script>\n      const buttonEl =\n        document.querySelector('#df-e0467610-d6dc-4ee4-866e-1235b8c9739b button.colab-df-convert');\n      buttonEl.style.display =\n        google.colab.kernel.accessAllowed ? 'block' : 'none';\n\n      async function convertToInteractive(key) {\n        const element = document.querySelector('#df-e0467610-d6dc-4ee4-866e-1235b8c9739b');\n        const dataTable =\n          await google.colab.kernel.invokeFunction('convertToInteractive',\n                                                    [key], {});\n        if (!dataTable) return;\n\n        const docLinkHtml = 'Like what you see? Visit the ' +\n          '<a target=\"_blank\" href=https://colab.research.google.com/notebooks/data_table.ipynb>data table notebook</a>'\n          + ' to learn more about interactive tables.';\n        element.innerHTML = '';\n        dataTable['output_type'] = 'display_data';\n        await google.colab.output.renderOutput(dataTable, element);\n        const docLink = document.createElement('div');\n        docLink.innerHTML = docLinkHtml;\n        element.appendChild(docLink);\n      }\n    </script>\n  </div>\n\n\n<div id=\"df-3c686a54-8d1d-4a30-b710-7817d5151afb\">\n  <button class=\"colab-df-quickchart\" onclick=\"quickchart('df-3c686a54-8d1d-4a30-b710-7817d5151afb')\"\n            title=\"Suggest charts\"\n            style=\"display:none;\">\n\n<svg xmlns=\"http://www.w3.org/2000/svg\" height=\"24px\"viewBox=\"0 0 24 24\"\n     width=\"24px\">\n    <g>\n        <path d=\"M19 3H5c-1.1 0-2 .9-2 2v14c0 1.1.9 2 2 2h14c1.1 0 2-.9 2-2V5c0-1.1-.9-2-2-2zM9 17H7v-7h2v7zm4 0h-2V7h2v10zm4 0h-2v-4h2v4z\"/>\n    </g>\n</svg>\n  </button>\n\n<style>\n  .colab-df-quickchart {\n      --bg-color: #E8F0FE;\n      --fill-color: #1967D2;\n      --hover-bg-color: #E2EBFA;\n      --hover-fill-color: #174EA6;\n      --disabled-fill-color: #AAA;\n      --disabled-bg-color: #DDD;\n  }\n\n  [theme=dark] .colab-df-quickchart {\n      --bg-color: #3B4455;\n      --fill-color: #D2E3FC;\n      --hover-bg-color: #434B5C;\n      --hover-fill-color: #FFFFFF;\n      --disabled-bg-color: #3B4455;\n      --disabled-fill-color: #666;\n  }\n\n  .colab-df-quickchart {\n    background-color: var(--bg-color);\n    border: none;\n    border-radius: 50%;\n    cursor: pointer;\n    display: none;\n    fill: var(--fill-color);\n    height: 32px;\n    padding: 0;\n    width: 32px;\n  }\n\n  .colab-df-quickchart:hover {\n    background-color: var(--hover-bg-color);\n    box-shadow: 0 1px 2px rgba(60, 64, 67, 0.3), 0 1px 3px 1px rgba(60, 64, 67, 0.15);\n    fill: var(--button-hover-fill-color);\n  }\n\n  .colab-df-quickchart-complete:disabled,\n  .colab-df-quickchart-complete:disabled:hover {\n    background-color: var(--disabled-bg-color);\n    fill: var(--disabled-fill-color);\n    box-shadow: none;\n  }\n\n  .colab-df-spinner {\n    border: 2px solid var(--fill-color);\n    border-color: transparent;\n    border-bottom-color: var(--fill-color);\n    animation:\n      spin 1s steps(1) infinite;\n  }\n\n  @keyframes spin {\n    0% {\n      border-color: transparent;\n      border-bottom-color: var(--fill-color);\n      border-left-color: var(--fill-color);\n    }\n    20% {\n      border-color: transparent;\n      border-left-color: var(--fill-color);\n      border-top-color: var(--fill-color);\n    }\n    30% {\n      border-color: transparent;\n      border-left-color: var(--fill-color);\n      border-top-color: var(--fill-color);\n      border-right-color: var(--fill-color);\n    }\n    40% {\n      border-color: transparent;\n      border-right-color: var(--fill-color);\n      border-top-color: var(--fill-color);\n    }\n    60% {\n      border-color: transparent;\n      border-right-color: var(--fill-color);\n    }\n    80% {\n      border-color: transparent;\n      border-right-color: var(--fill-color);\n      border-bottom-color: var(--fill-color);\n    }\n    90% {\n      border-color: transparent;\n      border-bottom-color: var(--fill-color);\n    }\n  }\n</style>\n\n  <script>\n    async function quickchart(key) {\n      const quickchartButtonEl =\n        document.querySelector('#' + key + ' button');\n      quickchartButtonEl.disabled = true;  // To prevent multiple clicks.\n      quickchartButtonEl.classList.add('colab-df-spinner');\n      try {\n        const charts = await google.colab.kernel.invokeFunction(\n            'suggestCharts', [key], {});\n      } catch (error) {\n        console.error('Error during call to suggestCharts:', error);\n      }\n      quickchartButtonEl.classList.remove('colab-df-spinner');\n      quickchartButtonEl.classList.add('colab-df-quickchart-complete');\n    }\n    (() => {\n      let quickchartButtonEl =\n        document.querySelector('#df-3c686a54-8d1d-4a30-b710-7817d5151afb button');\n      quickchartButtonEl.style.display =\n        google.colab.kernel.accessAllowed ? 'block' : 'none';\n    })();\n  </script>\n</div>\n\n    </div>\n  </div>\n",
                  "application/vnd.google.colaboratory.intrinsic+json": {
                    "type": "dataframe",
                    "summary": "{\n  \"name\": \"app = GUI(engine, Leader, group_num)\",\n  \"rows\": 30,\n  \"fields\": [\n    {\n      \"column\": \"Date\",\n      \"properties\": {\n        \"dtype\": \"number\",\n        \"std\": 8,\n        \"min\": 101,\n        \"max\": 130,\n        \"num_unique_values\": 30,\n        \"samples\": [\n          103,\n          115,\n          107\n        ],\n        \"semantic_type\": \"\",\n        \"description\": \"\"\n      }\n    },\n    {\n      \"column\": \"Leader Price\",\n      \"properties\": {\n        \"dtype\": \"number\",\n        \"std\": 0.0080678238102782,\n        \"min\": 1.780416127715899,\n        \"max\": 1.806992980571972,\n        \"num_unique_values\": 30,\n        \"samples\": [\n          1.805160094168105,\n          1.7941627757449023,\n          1.8014943213603707\n        ],\n        \"semantic_type\": \"\",\n        \"description\": \"\"\n      }\n    },\n    {\n      \"column\": \"Follower Price\",\n      \"properties\": {\n        \"dtype\": \"number\",\n        \"std\": 0.011480912326301418,\n        \"min\": 1.7767372053537016,\n        \"max\": 1.8154552229428715,\n        \"num_unique_values\": 30,\n        \"samples\": [\n          1.7807660059719026,\n          1.7980159389374035,\n          1.79021592331608\n        ],\n        \"semantic_type\": \"\",\n        \"description\": \"\"\n      }\n    },\n    {\n      \"column\": \"Cost\",\n      \"properties\": {\n        \"dtype\": \"number\",\n        \"std\": 0.0,\n        \"min\": 1.0,\n        \"max\": 1.0,\n        \"num_unique_values\": 1,\n        \"samples\": [\n          1.0\n        ],\n        \"semantic_type\": \"\",\n        \"description\": \"\"\n      }\n    }\n  ]\n}"
                  }
                },
                "metadata": {}
              }
            ]
          }
        },
        "84288456cc8e4726862b4b2653d9b4b3": {
          "model_module": "@jupyter-widgets/output",
          "model_name": "OutputModel",
          "model_module_version": "1.0.0",
          "state": {
            "_dom_classes": [],
            "_model_module": "@jupyter-widgets/output",
            "_model_module_version": "1.0.0",
            "_model_name": "OutputModel",
            "_view_count": null,
            "_view_module": "@jupyter-widgets/output",
            "_view_module_version": "1.0.0",
            "_view_name": "OutputView",
            "layout": "IPY_MODEL_485cfae9fa224254bfe8a0843850df9e",
            "msg_id": "",
            "outputs": [
              {
                "output_type": "display_data",
                "data": {
                  "text/plain": "<IPython.core.display.HTML object>",
                  "text/html": "<br><br><br><br><br><br><br><br><br><br><b style='font-size: 17px;'><u>Profit made: 17.754725281078436</u></b>"
                },
                "metadata": {}
              }
            ]
          }
        },
        "535cf00ce6fe40d399b98743afca073a": {
          "model_module": "@jupyter-widgets/base",
          "model_name": "LayoutModel",
          "model_module_version": "1.2.0",
          "state": {
            "_model_module": "@jupyter-widgets/base",
            "_model_module_version": "1.2.0",
            "_model_name": "LayoutModel",
            "_view_count": null,
            "_view_module": "@jupyter-widgets/base",
            "_view_module_version": "1.2.0",
            "_view_name": "LayoutView",
            "align_content": null,
            "align_items": null,
            "align_self": null,
            "border": null,
            "bottom": null,
            "display": null,
            "flex": null,
            "flex_flow": null,
            "grid_area": null,
            "grid_auto_columns": null,
            "grid_auto_flow": null,
            "grid_auto_rows": null,
            "grid_column": null,
            "grid_gap": null,
            "grid_row": null,
            "grid_template_areas": null,
            "grid_template_columns": null,
            "grid_template_rows": null,
            "height": null,
            "justify_content": "initial",
            "justify_items": null,
            "left": null,
            "margin": null,
            "max_height": null,
            "max_width": null,
            "min_height": null,
            "min_width": null,
            "object_fit": null,
            "object_position": null,
            "order": null,
            "overflow": null,
            "overflow_x": null,
            "overflow_y": null,
            "padding": null,
            "right": null,
            "top": null,
            "visibility": null,
            "width": null
          }
        },
        "e530613fc3b340588a61d18a93b25669": {
          "model_module": "@jupyter-widgets/base",
          "model_name": "LayoutModel",
          "model_module_version": "1.2.0",
          "state": {
            "_model_module": "@jupyter-widgets/base",
            "_model_module_version": "1.2.0",
            "_model_name": "LayoutModel",
            "_view_count": null,
            "_view_module": "@jupyter-widgets/base",
            "_view_module_version": "1.2.0",
            "_view_name": "LayoutView",
            "align_content": null,
            "align_items": null,
            "align_self": null,
            "border": null,
            "bottom": null,
            "display": null,
            "flex": null,
            "flex_flow": null,
            "grid_area": null,
            "grid_auto_columns": null,
            "grid_auto_flow": null,
            "grid_auto_rows": null,
            "grid_column": null,
            "grid_gap": null,
            "grid_row": null,
            "grid_template_areas": null,
            "grid_template_columns": null,
            "grid_template_rows": null,
            "height": null,
            "justify_content": null,
            "justify_items": null,
            "left": null,
            "margin": null,
            "max_height": null,
            "max_width": null,
            "min_height": null,
            "min_width": null,
            "object_fit": null,
            "object_position": null,
            "order": null,
            "overflow": null,
            "overflow_x": null,
            "overflow_y": null,
            "padding": null,
            "right": null,
            "top": null,
            "visibility": null,
            "width": null
          }
        },
        "485cfae9fa224254bfe8a0843850df9e": {
          "model_module": "@jupyter-widgets/base",
          "model_name": "LayoutModel",
          "model_module_version": "1.2.0",
          "state": {
            "_model_module": "@jupyter-widgets/base",
            "_model_module_version": "1.2.0",
            "_model_name": "LayoutModel",
            "_view_count": null,
            "_view_module": "@jupyter-widgets/base",
            "_view_module_version": "1.2.0",
            "_view_name": "LayoutView",
            "align_content": null,
            "align_items": null,
            "align_self": null,
            "border": null,
            "bottom": null,
            "display": null,
            "flex": null,
            "flex_flow": null,
            "grid_area": null,
            "grid_auto_columns": null,
            "grid_auto_flow": null,
            "grid_auto_rows": null,
            "grid_column": null,
            "grid_gap": null,
            "grid_row": null,
            "grid_template_areas": null,
            "grid_template_columns": null,
            "grid_template_rows": null,
            "height": null,
            "justify_content": null,
            "justify_items": null,
            "left": null,
            "margin": null,
            "max_height": null,
            "max_width": null,
            "min_height": null,
            "min_width": null,
            "object_fit": null,
            "object_position": null,
            "order": null,
            "overflow": null,
            "overflow_x": null,
            "overflow_y": null,
            "padding": null,
            "right": null,
            "top": null,
            "visibility": null,
            "width": null
          }
        },
        "e10d47eae3e14e1988847a71c0d69935": {
          "model_module": "@jupyter-widgets/controls",
          "model_name": "HBoxModel",
          "model_module_version": "1.5.0",
          "state": {
            "_dom_classes": [],
            "_model_module": "@jupyter-widgets/controls",
            "_model_module_version": "1.5.0",
            "_model_name": "HBoxModel",
            "_view_count": null,
            "_view_module": "@jupyter-widgets/controls",
            "_view_module_version": "1.5.0",
            "_view_name": "HBoxView",
            "box_style": "",
            "children": [
              "IPY_MODEL_2e256ccb03e64e628913aef59cb6d36e",
              "IPY_MODEL_f207094f5aaf4e359a6a1f0b40fb1b8e"
            ],
            "layout": "IPY_MODEL_6b497cda66a548a184e2aaeefa6a77b6"
          }
        },
        "2e256ccb03e64e628913aef59cb6d36e": {
          "model_module": "@jupyter-widgets/output",
          "model_name": "OutputModel",
          "model_module_version": "1.0.0",
          "state": {
            "_dom_classes": [],
            "_model_module": "@jupyter-widgets/output",
            "_model_module_version": "1.0.0",
            "_model_name": "OutputModel",
            "_view_count": null,
            "_view_module": "@jupyter-widgets/output",
            "_view_module_version": "1.0.0",
            "_view_name": "OutputView",
            "layout": "IPY_MODEL_9dec21e58e9a41418cce2d371c1b45ae",
            "msg_id": "",
            "outputs": [
              {
                "output_type": "display_data",
                "data": {
                  "text/plain": "      Leader Price  Follower Price  Cost\nDate                                    \n130       1.780416        1.815455   1.0\n129       1.781333        1.814715   1.0\n128       1.782249        1.813686   1.0\n127       1.783165        1.812587   1.0\n126       1.784082        1.810492   1.0\n125       1.784998        1.809307   1.0\n124       1.785915        1.808884   1.0\n123       1.786831        1.811455   1.0\n122       1.787748        1.806286   1.0\n121       1.788664        1.806343   1.0\n120       1.789581        1.804842   1.0\n119       1.790497        1.803378   1.0\n118       1.791413        1.801120   1.0\n117       1.792330        1.800917   1.0\n116       1.793246        1.798776   1.0\n115       1.794163        1.798016   1.0\n114       1.795079        1.796836   1.0\n113       1.795996        1.796453   1.0\n112       1.796912        1.792898   1.0\n111       1.797829        1.792611   1.0\n110       1.798745        1.792861   1.0\n109       1.799661        1.791459   1.0\n108       1.800578        1.788366   1.0\n107       1.801494        1.790216   1.0\n106       1.802411        1.784386   1.0\n105       1.803327        1.783585   1.0\n104       1.804244        1.781843   1.0\n103       1.805160        1.780766   1.0\n102       1.806077        1.781263   1.0\n101       1.806993        1.776737   1.0",
                  "text/html": "\n  <div id=\"df-1c41bbd2-586f-4f9e-9452-5883310e2a91\" class=\"colab-df-container\">\n    <div>\n<style scoped>\n    .dataframe tbody tr th:only-of-type {\n        vertical-align: middle;\n    }\n\n    .dataframe tbody tr th {\n        vertical-align: top;\n    }\n\n    .dataframe thead th {\n        text-align: right;\n    }\n</style>\n<table border=\"1\" class=\"dataframe\">\n  <thead>\n    <tr style=\"text-align: right;\">\n      <th></th>\n      <th>Leader Price</th>\n      <th>Follower Price</th>\n      <th>Cost</th>\n    </tr>\n    <tr>\n      <th>Date</th>\n      <th></th>\n      <th></th>\n      <th></th>\n    </tr>\n  </thead>\n  <tbody>\n    <tr>\n      <th>130</th>\n      <td>1.780416</td>\n      <td>1.815455</td>\n      <td>1.0</td>\n    </tr>\n    <tr>\n      <th>129</th>\n      <td>1.781333</td>\n      <td>1.814715</td>\n      <td>1.0</td>\n    </tr>\n    <tr>\n      <th>128</th>\n      <td>1.782249</td>\n      <td>1.813686</td>\n      <td>1.0</td>\n    </tr>\n    <tr>\n      <th>127</th>\n      <td>1.783165</td>\n      <td>1.812587</td>\n      <td>1.0</td>\n    </tr>\n    <tr>\n      <th>126</th>\n      <td>1.784082</td>\n      <td>1.810492</td>\n      <td>1.0</td>\n    </tr>\n    <tr>\n      <th>125</th>\n      <td>1.784998</td>\n      <td>1.809307</td>\n      <td>1.0</td>\n    </tr>\n    <tr>\n      <th>124</th>\n      <td>1.785915</td>\n      <td>1.808884</td>\n      <td>1.0</td>\n    </tr>\n    <tr>\n      <th>123</th>\n      <td>1.786831</td>\n      <td>1.811455</td>\n      <td>1.0</td>\n    </tr>\n    <tr>\n      <th>122</th>\n      <td>1.787748</td>\n      <td>1.806286</td>\n      <td>1.0</td>\n    </tr>\n    <tr>\n      <th>121</th>\n      <td>1.788664</td>\n      <td>1.806343</td>\n      <td>1.0</td>\n    </tr>\n    <tr>\n      <th>120</th>\n      <td>1.789581</td>\n      <td>1.804842</td>\n      <td>1.0</td>\n    </tr>\n    <tr>\n      <th>119</th>\n      <td>1.790497</td>\n      <td>1.803378</td>\n      <td>1.0</td>\n    </tr>\n    <tr>\n      <th>118</th>\n      <td>1.791413</td>\n      <td>1.801120</td>\n      <td>1.0</td>\n    </tr>\n    <tr>\n      <th>117</th>\n      <td>1.792330</td>\n      <td>1.800917</td>\n      <td>1.0</td>\n    </tr>\n    <tr>\n      <th>116</th>\n      <td>1.793246</td>\n      <td>1.798776</td>\n      <td>1.0</td>\n    </tr>\n    <tr>\n      <th>115</th>\n      <td>1.794163</td>\n      <td>1.798016</td>\n      <td>1.0</td>\n    </tr>\n    <tr>\n      <th>114</th>\n      <td>1.795079</td>\n      <td>1.796836</td>\n      <td>1.0</td>\n    </tr>\n    <tr>\n      <th>113</th>\n      <td>1.795996</td>\n      <td>1.796453</td>\n      <td>1.0</td>\n    </tr>\n    <tr>\n      <th>112</th>\n      <td>1.796912</td>\n      <td>1.792898</td>\n      <td>1.0</td>\n    </tr>\n    <tr>\n      <th>111</th>\n      <td>1.797829</td>\n      <td>1.792611</td>\n      <td>1.0</td>\n    </tr>\n    <tr>\n      <th>110</th>\n      <td>1.798745</td>\n      <td>1.792861</td>\n      <td>1.0</td>\n    </tr>\n    <tr>\n      <th>109</th>\n      <td>1.799661</td>\n      <td>1.791459</td>\n      <td>1.0</td>\n    </tr>\n    <tr>\n      <th>108</th>\n      <td>1.800578</td>\n      <td>1.788366</td>\n      <td>1.0</td>\n    </tr>\n    <tr>\n      <th>107</th>\n      <td>1.801494</td>\n      <td>1.790216</td>\n      <td>1.0</td>\n    </tr>\n    <tr>\n      <th>106</th>\n      <td>1.802411</td>\n      <td>1.784386</td>\n      <td>1.0</td>\n    </tr>\n    <tr>\n      <th>105</th>\n      <td>1.803327</td>\n      <td>1.783585</td>\n      <td>1.0</td>\n    </tr>\n    <tr>\n      <th>104</th>\n      <td>1.804244</td>\n      <td>1.781843</td>\n      <td>1.0</td>\n    </tr>\n    <tr>\n      <th>103</th>\n      <td>1.805160</td>\n      <td>1.780766</td>\n      <td>1.0</td>\n    </tr>\n    <tr>\n      <th>102</th>\n      <td>1.806077</td>\n      <td>1.781263</td>\n      <td>1.0</td>\n    </tr>\n    <tr>\n      <th>101</th>\n      <td>1.806993</td>\n      <td>1.776737</td>\n      <td>1.0</td>\n    </tr>\n  </tbody>\n</table>\n</div>\n    <div class=\"colab-df-buttons\">\n\n  <div class=\"colab-df-container\">\n    <button class=\"colab-df-convert\" onclick=\"convertToInteractive('df-1c41bbd2-586f-4f9e-9452-5883310e2a91')\"\n            title=\"Convert this dataframe to an interactive table.\"\n            style=\"display:none;\">\n\n  <svg xmlns=\"http://www.w3.org/2000/svg\" height=\"24px\" viewBox=\"0 -960 960 960\">\n    <path d=\"M120-120v-720h720v720H120Zm60-500h600v-160H180v160Zm220 220h160v-160H400v160Zm0 220h160v-160H400v160ZM180-400h160v-160H180v160Zm440 0h160v-160H620v160ZM180-180h160v-160H180v160Zm440 0h160v-160H620v160Z\"/>\n  </svg>\n    </button>\n\n  <style>\n    .colab-df-container {\n      display:flex;\n      gap: 12px;\n    }\n\n    .colab-df-convert {\n      background-color: #E8F0FE;\n      border: none;\n      border-radius: 50%;\n      cursor: pointer;\n      display: none;\n      fill: #1967D2;\n      height: 32px;\n      padding: 0 0 0 0;\n      width: 32px;\n    }\n\n    .colab-df-convert:hover {\n      background-color: #E2EBFA;\n      box-shadow: 0px 1px 2px rgba(60, 64, 67, 0.3), 0px 1px 3px 1px rgba(60, 64, 67, 0.15);\n      fill: #174EA6;\n    }\n\n    .colab-df-buttons div {\n      margin-bottom: 4px;\n    }\n\n    [theme=dark] .colab-df-convert {\n      background-color: #3B4455;\n      fill: #D2E3FC;\n    }\n\n    [theme=dark] .colab-df-convert:hover {\n      background-color: #434B5C;\n      box-shadow: 0px 1px 3px 1px rgba(0, 0, 0, 0.15);\n      filter: drop-shadow(0px 1px 2px rgba(0, 0, 0, 0.3));\n      fill: #FFFFFF;\n    }\n  </style>\n\n    <script>\n      const buttonEl =\n        document.querySelector('#df-1c41bbd2-586f-4f9e-9452-5883310e2a91 button.colab-df-convert');\n      buttonEl.style.display =\n        google.colab.kernel.accessAllowed ? 'block' : 'none';\n\n      async function convertToInteractive(key) {\n        const element = document.querySelector('#df-1c41bbd2-586f-4f9e-9452-5883310e2a91');\n        const dataTable =\n          await google.colab.kernel.invokeFunction('convertToInteractive',\n                                                    [key], {});\n        if (!dataTable) return;\n\n        const docLinkHtml = 'Like what you see? Visit the ' +\n          '<a target=\"_blank\" href=https://colab.research.google.com/notebooks/data_table.ipynb>data table notebook</a>'\n          + ' to learn more about interactive tables.';\n        element.innerHTML = '';\n        dataTable['output_type'] = 'display_data';\n        await google.colab.output.renderOutput(dataTable, element);\n        const docLink = document.createElement('div');\n        docLink.innerHTML = docLinkHtml;\n        element.appendChild(docLink);\n      }\n    </script>\n  </div>\n\n\n<div id=\"df-cc37e992-0ec3-4ad5-bce9-627f0f4c352d\">\n  <button class=\"colab-df-quickchart\" onclick=\"quickchart('df-cc37e992-0ec3-4ad5-bce9-627f0f4c352d')\"\n            title=\"Suggest charts\"\n            style=\"display:none;\">\n\n<svg xmlns=\"http://www.w3.org/2000/svg\" height=\"24px\"viewBox=\"0 0 24 24\"\n     width=\"24px\">\n    <g>\n        <path d=\"M19 3H5c-1.1 0-2 .9-2 2v14c0 1.1.9 2 2 2h14c1.1 0 2-.9 2-2V5c0-1.1-.9-2-2-2zM9 17H7v-7h2v7zm4 0h-2V7h2v10zm4 0h-2v-4h2v4z\"/>\n    </g>\n</svg>\n  </button>\n\n<style>\n  .colab-df-quickchart {\n      --bg-color: #E8F0FE;\n      --fill-color: #1967D2;\n      --hover-bg-color: #E2EBFA;\n      --hover-fill-color: #174EA6;\n      --disabled-fill-color: #AAA;\n      --disabled-bg-color: #DDD;\n  }\n\n  [theme=dark] .colab-df-quickchart {\n      --bg-color: #3B4455;\n      --fill-color: #D2E3FC;\n      --hover-bg-color: #434B5C;\n      --hover-fill-color: #FFFFFF;\n      --disabled-bg-color: #3B4455;\n      --disabled-fill-color: #666;\n  }\n\n  .colab-df-quickchart {\n    background-color: var(--bg-color);\n    border: none;\n    border-radius: 50%;\n    cursor: pointer;\n    display: none;\n    fill: var(--fill-color);\n    height: 32px;\n    padding: 0;\n    width: 32px;\n  }\n\n  .colab-df-quickchart:hover {\n    background-color: var(--hover-bg-color);\n    box-shadow: 0 1px 2px rgba(60, 64, 67, 0.3), 0 1px 3px 1px rgba(60, 64, 67, 0.15);\n    fill: var(--button-hover-fill-color);\n  }\n\n  .colab-df-quickchart-complete:disabled,\n  .colab-df-quickchart-complete:disabled:hover {\n    background-color: var(--disabled-bg-color);\n    fill: var(--disabled-fill-color);\n    box-shadow: none;\n  }\n\n  .colab-df-spinner {\n    border: 2px solid var(--fill-color);\n    border-color: transparent;\n    border-bottom-color: var(--fill-color);\n    animation:\n      spin 1s steps(1) infinite;\n  }\n\n  @keyframes spin {\n    0% {\n      border-color: transparent;\n      border-bottom-color: var(--fill-color);\n      border-left-color: var(--fill-color);\n    }\n    20% {\n      border-color: transparent;\n      border-left-color: var(--fill-color);\n      border-top-color: var(--fill-color);\n    }\n    30% {\n      border-color: transparent;\n      border-left-color: var(--fill-color);\n      border-top-color: var(--fill-color);\n      border-right-color: var(--fill-color);\n    }\n    40% {\n      border-color: transparent;\n      border-right-color: var(--fill-color);\n      border-top-color: var(--fill-color);\n    }\n    60% {\n      border-color: transparent;\n      border-right-color: var(--fill-color);\n    }\n    80% {\n      border-color: transparent;\n      border-right-color: var(--fill-color);\n      border-bottom-color: var(--fill-color);\n    }\n    90% {\n      border-color: transparent;\n      border-bottom-color: var(--fill-color);\n    }\n  }\n</style>\n\n  <script>\n    async function quickchart(key) {\n      const quickchartButtonEl =\n        document.querySelector('#' + key + ' button');\n      quickchartButtonEl.disabled = true;  // To prevent multiple clicks.\n      quickchartButtonEl.classList.add('colab-df-spinner');\n      try {\n        const charts = await google.colab.kernel.invokeFunction(\n            'suggestCharts', [key], {});\n      } catch (error) {\n        console.error('Error during call to suggestCharts:', error);\n      }\n      quickchartButtonEl.classList.remove('colab-df-spinner');\n      quickchartButtonEl.classList.add('colab-df-quickchart-complete');\n    }\n    (() => {\n      let quickchartButtonEl =\n        document.querySelector('#df-cc37e992-0ec3-4ad5-bce9-627f0f4c352d button');\n      quickchartButtonEl.style.display =\n        google.colab.kernel.accessAllowed ? 'block' : 'none';\n    })();\n  </script>\n</div>\n\n    </div>\n  </div>\n",
                  "application/vnd.google.colaboratory.intrinsic+json": {
                    "type": "dataframe",
                    "summary": "{\n  \"name\": \"app = GUI(engine, Leader, group_num)\",\n  \"rows\": 30,\n  \"fields\": [\n    {\n      \"column\": \"Date\",\n      \"properties\": {\n        \"dtype\": \"number\",\n        \"std\": 8,\n        \"min\": 101,\n        \"max\": 130,\n        \"num_unique_values\": 30,\n        \"samples\": [\n          103,\n          115,\n          107\n        ],\n        \"semantic_type\": \"\",\n        \"description\": \"\"\n      }\n    },\n    {\n      \"column\": \"Leader Price\",\n      \"properties\": {\n        \"dtype\": \"number\",\n        \"std\": 0.0080678238102782,\n        \"min\": 1.780416127715899,\n        \"max\": 1.806992980571972,\n        \"num_unique_values\": 30,\n        \"samples\": [\n          1.805160094168105,\n          1.7941627757449023,\n          1.8014943213603707\n        ],\n        \"semantic_type\": \"\",\n        \"description\": \"\"\n      }\n    },\n    {\n      \"column\": \"Follower Price\",\n      \"properties\": {\n        \"dtype\": \"number\",\n        \"std\": 0.011480912326301418,\n        \"min\": 1.7767372053537016,\n        \"max\": 1.8154552229428715,\n        \"num_unique_values\": 30,\n        \"samples\": [\n          1.7807660059719026,\n          1.7980159389374035,\n          1.79021592331608\n        ],\n        \"semantic_type\": \"\",\n        \"description\": \"\"\n      }\n    },\n    {\n      \"column\": \"Cost\",\n      \"properties\": {\n        \"dtype\": \"number\",\n        \"std\": 0.0,\n        \"min\": 1.0,\n        \"max\": 1.0,\n        \"num_unique_values\": 1,\n        \"samples\": [\n          1.0\n        ],\n        \"semantic_type\": \"\",\n        \"description\": \"\"\n      }\n    }\n  ]\n}"
                  }
                },
                "metadata": {}
              }
            ]
          }
        },
        "f207094f5aaf4e359a6a1f0b40fb1b8e": {
          "model_module": "@jupyter-widgets/output",
          "model_name": "OutputModel",
          "model_module_version": "1.0.0",
          "state": {
            "_dom_classes": [],
            "_model_module": "@jupyter-widgets/output",
            "_model_module_version": "1.0.0",
            "_model_name": "OutputModel",
            "_view_count": null,
            "_view_module": "@jupyter-widgets/output",
            "_view_module_version": "1.0.0",
            "_view_name": "OutputView",
            "layout": "IPY_MODEL_438d056bce134d62b59d7927fe738836",
            "msg_id": "",
            "outputs": [
              {
                "output_type": "display_data",
                "data": {
                  "text/plain": "<IPython.core.display.HTML object>",
                  "text/html": "<br><br><br><br><br><br><br><br><br><br><b style='font-size: 17px;'><u>Profit made: 17.754725281078436</u></b>"
                },
                "metadata": {}
              }
            ]
          }
        },
        "6b497cda66a548a184e2aaeefa6a77b6": {
          "model_module": "@jupyter-widgets/base",
          "model_name": "LayoutModel",
          "model_module_version": "1.2.0",
          "state": {
            "_model_module": "@jupyter-widgets/base",
            "_model_module_version": "1.2.0",
            "_model_name": "LayoutModel",
            "_view_count": null,
            "_view_module": "@jupyter-widgets/base",
            "_view_module_version": "1.2.0",
            "_view_name": "LayoutView",
            "align_content": null,
            "align_items": null,
            "align_self": null,
            "border": null,
            "bottom": null,
            "display": null,
            "flex": null,
            "flex_flow": null,
            "grid_area": null,
            "grid_auto_columns": null,
            "grid_auto_flow": null,
            "grid_auto_rows": null,
            "grid_column": null,
            "grid_gap": null,
            "grid_row": null,
            "grid_template_areas": null,
            "grid_template_columns": null,
            "grid_template_rows": null,
            "height": null,
            "justify_content": "initial",
            "justify_items": null,
            "left": null,
            "margin": null,
            "max_height": null,
            "max_width": null,
            "min_height": null,
            "min_width": null,
            "object_fit": null,
            "object_position": null,
            "order": null,
            "overflow": null,
            "overflow_x": null,
            "overflow_y": null,
            "padding": null,
            "right": null,
            "top": null,
            "visibility": null,
            "width": null
          }
        },
        "9dec21e58e9a41418cce2d371c1b45ae": {
          "model_module": "@jupyter-widgets/base",
          "model_name": "LayoutModel",
          "model_module_version": "1.2.0",
          "state": {
            "_model_module": "@jupyter-widgets/base",
            "_model_module_version": "1.2.0",
            "_model_name": "LayoutModel",
            "_view_count": null,
            "_view_module": "@jupyter-widgets/base",
            "_view_module_version": "1.2.0",
            "_view_name": "LayoutView",
            "align_content": null,
            "align_items": null,
            "align_self": null,
            "border": null,
            "bottom": null,
            "display": null,
            "flex": null,
            "flex_flow": null,
            "grid_area": null,
            "grid_auto_columns": null,
            "grid_auto_flow": null,
            "grid_auto_rows": null,
            "grid_column": null,
            "grid_gap": null,
            "grid_row": null,
            "grid_template_areas": null,
            "grid_template_columns": null,
            "grid_template_rows": null,
            "height": null,
            "justify_content": null,
            "justify_items": null,
            "left": null,
            "margin": null,
            "max_height": null,
            "max_width": null,
            "min_height": null,
            "min_width": null,
            "object_fit": null,
            "object_position": null,
            "order": null,
            "overflow": null,
            "overflow_x": null,
            "overflow_y": null,
            "padding": null,
            "right": null,
            "top": null,
            "visibility": null,
            "width": null
          }
        },
        "438d056bce134d62b59d7927fe738836": {
          "model_module": "@jupyter-widgets/base",
          "model_name": "LayoutModel",
          "model_module_version": "1.2.0",
          "state": {
            "_model_module": "@jupyter-widgets/base",
            "_model_module_version": "1.2.0",
            "_model_name": "LayoutModel",
            "_view_count": null,
            "_view_module": "@jupyter-widgets/base",
            "_view_module_version": "1.2.0",
            "_view_name": "LayoutView",
            "align_content": null,
            "align_items": null,
            "align_self": null,
            "border": null,
            "bottom": null,
            "display": null,
            "flex": null,
            "flex_flow": null,
            "grid_area": null,
            "grid_auto_columns": null,
            "grid_auto_flow": null,
            "grid_auto_rows": null,
            "grid_column": null,
            "grid_gap": null,
            "grid_row": null,
            "grid_template_areas": null,
            "grid_template_columns": null,
            "grid_template_rows": null,
            "height": null,
            "justify_content": null,
            "justify_items": null,
            "left": null,
            "margin": null,
            "max_height": null,
            "max_width": null,
            "min_height": null,
            "min_width": null,
            "object_fit": null,
            "object_position": null,
            "order": null,
            "overflow": null,
            "overflow_x": null,
            "overflow_y": null,
            "padding": null,
            "right": null,
            "top": null,
            "visibility": null,
            "width": null
          }
        },
        "0dede4f0bc3d43eea9164e209d47471e": {
          "model_module": "@jupyter-widgets/controls",
          "model_name": "HBoxModel",
          "model_module_version": "1.5.0",
          "state": {
            "_dom_classes": [],
            "_model_module": "@jupyter-widgets/controls",
            "_model_module_version": "1.5.0",
            "_model_name": "HBoxModel",
            "_view_count": null,
            "_view_module": "@jupyter-widgets/controls",
            "_view_module_version": "1.5.0",
            "_view_name": "HBoxView",
            "box_style": "",
            "children": [
              "IPY_MODEL_8221f5b641164c9c89d219306458dcab",
              "IPY_MODEL_974dac8e222c45e983503b2a1b228437"
            ],
            "layout": "IPY_MODEL_f7a135b676a044f8af7fe0e47653c5f5"
          }
        },
        "8221f5b641164c9c89d219306458dcab": {
          "model_module": "@jupyter-widgets/output",
          "model_name": "OutputModel",
          "model_module_version": "1.0.0",
          "state": {
            "_dom_classes": [],
            "_model_module": "@jupyter-widgets/output",
            "_model_module_version": "1.0.0",
            "_model_name": "OutputModel",
            "_view_count": null,
            "_view_module": "@jupyter-widgets/output",
            "_view_module_version": "1.0.0",
            "_view_name": "OutputView",
            "layout": "IPY_MODEL_502ab0028d604227bc2c3bc141c6bf34",
            "msg_id": "",
            "outputs": [
              {
                "output_type": "display_data",
                "data": {
                  "text/plain": "      Leader Price  Follower Price  Cost\nDate                                    \n130       1.887655        1.852743   1.0\n129       1.887389        1.851513   1.0\n128       1.887123        1.850002   1.0\n127       1.886857        1.848424   1.0\n126       1.886590        1.845870   1.0\n125       1.886324        1.844207   1.0\n124       1.886058        1.843293   1.0\n123       1.885792        1.845319   1.0\n122       1.885526        1.839749   1.0\n121       1.885259        1.839311   1.0\n120       1.884993        1.837343   1.0\n119       1.884727        1.835411   1.0\n118       1.884461        1.832699   1.0\n117       1.884195        1.832011   1.0\n116       1.883928        1.829414   1.0\n115       1.883662        1.828180   1.0\n114       1.883396        1.826532   1.0\n113       1.883130        1.825673   1.0\n112       1.882863        1.821682   1.0\n111       1.882597        1.820921   1.0\n110       1.882331        1.820692   1.0\n109       1.882065        1.818831   1.0\n108       1.881799        1.815297   1.0\n107       1.881532        1.816659   1.0\n106       1.881266        1.810415   1.0\n105       1.881000        1.809153   1.0\n104       1.880734        1.806961   1.0\n103       1.880468        1.805428   1.0\n102       1.880201        1.805459   1.0\n101       1.879935        1.800506   1.0",
                  "text/html": "\n  <div id=\"df-f0516828-f680-47c6-abc3-8e5918941117\" class=\"colab-df-container\">\n    <div>\n<style scoped>\n    .dataframe tbody tr th:only-of-type {\n        vertical-align: middle;\n    }\n\n    .dataframe tbody tr th {\n        vertical-align: top;\n    }\n\n    .dataframe thead th {\n        text-align: right;\n    }\n</style>\n<table border=\"1\" class=\"dataframe\">\n  <thead>\n    <tr style=\"text-align: right;\">\n      <th></th>\n      <th>Leader Price</th>\n      <th>Follower Price</th>\n      <th>Cost</th>\n    </tr>\n    <tr>\n      <th>Date</th>\n      <th></th>\n      <th></th>\n      <th></th>\n    </tr>\n  </thead>\n  <tbody>\n    <tr>\n      <th>130</th>\n      <td>1.887655</td>\n      <td>1.852743</td>\n      <td>1.0</td>\n    </tr>\n    <tr>\n      <th>129</th>\n      <td>1.887389</td>\n      <td>1.851513</td>\n      <td>1.0</td>\n    </tr>\n    <tr>\n      <th>128</th>\n      <td>1.887123</td>\n      <td>1.850002</td>\n      <td>1.0</td>\n    </tr>\n    <tr>\n      <th>127</th>\n      <td>1.886857</td>\n      <td>1.848424</td>\n      <td>1.0</td>\n    </tr>\n    <tr>\n      <th>126</th>\n      <td>1.886590</td>\n      <td>1.845870</td>\n      <td>1.0</td>\n    </tr>\n    <tr>\n      <th>125</th>\n      <td>1.886324</td>\n      <td>1.844207</td>\n      <td>1.0</td>\n    </tr>\n    <tr>\n      <th>124</th>\n      <td>1.886058</td>\n      <td>1.843293</td>\n      <td>1.0</td>\n    </tr>\n    <tr>\n      <th>123</th>\n      <td>1.885792</td>\n      <td>1.845319</td>\n      <td>1.0</td>\n    </tr>\n    <tr>\n      <th>122</th>\n      <td>1.885526</td>\n      <td>1.839749</td>\n      <td>1.0</td>\n    </tr>\n    <tr>\n      <th>121</th>\n      <td>1.885259</td>\n      <td>1.839311</td>\n      <td>1.0</td>\n    </tr>\n    <tr>\n      <th>120</th>\n      <td>1.884993</td>\n      <td>1.837343</td>\n      <td>1.0</td>\n    </tr>\n    <tr>\n      <th>119</th>\n      <td>1.884727</td>\n      <td>1.835411</td>\n      <td>1.0</td>\n    </tr>\n    <tr>\n      <th>118</th>\n      <td>1.884461</td>\n      <td>1.832699</td>\n      <td>1.0</td>\n    </tr>\n    <tr>\n      <th>117</th>\n      <td>1.884195</td>\n      <td>1.832011</td>\n      <td>1.0</td>\n    </tr>\n    <tr>\n      <th>116</th>\n      <td>1.883928</td>\n      <td>1.829414</td>\n      <td>1.0</td>\n    </tr>\n    <tr>\n      <th>115</th>\n      <td>1.883662</td>\n      <td>1.828180</td>\n      <td>1.0</td>\n    </tr>\n    <tr>\n      <th>114</th>\n      <td>1.883396</td>\n      <td>1.826532</td>\n      <td>1.0</td>\n    </tr>\n    <tr>\n      <th>113</th>\n      <td>1.883130</td>\n      <td>1.825673</td>\n      <td>1.0</td>\n    </tr>\n    <tr>\n      <th>112</th>\n      <td>1.882863</td>\n      <td>1.821682</td>\n      <td>1.0</td>\n    </tr>\n    <tr>\n      <th>111</th>\n      <td>1.882597</td>\n      <td>1.820921</td>\n      <td>1.0</td>\n    </tr>\n    <tr>\n      <th>110</th>\n      <td>1.882331</td>\n      <td>1.820692</td>\n      <td>1.0</td>\n    </tr>\n    <tr>\n      <th>109</th>\n      <td>1.882065</td>\n      <td>1.818831</td>\n      <td>1.0</td>\n    </tr>\n    <tr>\n      <th>108</th>\n      <td>1.881799</td>\n      <td>1.815297</td>\n      <td>1.0</td>\n    </tr>\n    <tr>\n      <th>107</th>\n      <td>1.881532</td>\n      <td>1.816659</td>\n      <td>1.0</td>\n    </tr>\n    <tr>\n      <th>106</th>\n      <td>1.881266</td>\n      <td>1.810415</td>\n      <td>1.0</td>\n    </tr>\n    <tr>\n      <th>105</th>\n      <td>1.881000</td>\n      <td>1.809153</td>\n      <td>1.0</td>\n    </tr>\n    <tr>\n      <th>104</th>\n      <td>1.880734</td>\n      <td>1.806961</td>\n      <td>1.0</td>\n    </tr>\n    <tr>\n      <th>103</th>\n      <td>1.880468</td>\n      <td>1.805428</td>\n      <td>1.0</td>\n    </tr>\n    <tr>\n      <th>102</th>\n      <td>1.880201</td>\n      <td>1.805459</td>\n      <td>1.0</td>\n    </tr>\n    <tr>\n      <th>101</th>\n      <td>1.879935</td>\n      <td>1.800506</td>\n      <td>1.0</td>\n    </tr>\n  </tbody>\n</table>\n</div>\n    <div class=\"colab-df-buttons\">\n\n  <div class=\"colab-df-container\">\n    <button class=\"colab-df-convert\" onclick=\"convertToInteractive('df-f0516828-f680-47c6-abc3-8e5918941117')\"\n            title=\"Convert this dataframe to an interactive table.\"\n            style=\"display:none;\">\n\n  <svg xmlns=\"http://www.w3.org/2000/svg\" height=\"24px\" viewBox=\"0 -960 960 960\">\n    <path d=\"M120-120v-720h720v720H120Zm60-500h600v-160H180v160Zm220 220h160v-160H400v160Zm0 220h160v-160H400v160ZM180-400h160v-160H180v160Zm440 0h160v-160H620v160ZM180-180h160v-160H180v160Zm440 0h160v-160H620v160Z\"/>\n  </svg>\n    </button>\n\n  <style>\n    .colab-df-container {\n      display:flex;\n      gap: 12px;\n    }\n\n    .colab-df-convert {\n      background-color: #E8F0FE;\n      border: none;\n      border-radius: 50%;\n      cursor: pointer;\n      display: none;\n      fill: #1967D2;\n      height: 32px;\n      padding: 0 0 0 0;\n      width: 32px;\n    }\n\n    .colab-df-convert:hover {\n      background-color: #E2EBFA;\n      box-shadow: 0px 1px 2px rgba(60, 64, 67, 0.3), 0px 1px 3px 1px rgba(60, 64, 67, 0.15);\n      fill: #174EA6;\n    }\n\n    .colab-df-buttons div {\n      margin-bottom: 4px;\n    }\n\n    [theme=dark] .colab-df-convert {\n      background-color: #3B4455;\n      fill: #D2E3FC;\n    }\n\n    [theme=dark] .colab-df-convert:hover {\n      background-color: #434B5C;\n      box-shadow: 0px 1px 3px 1px rgba(0, 0, 0, 0.15);\n      filter: drop-shadow(0px 1px 2px rgba(0, 0, 0, 0.3));\n      fill: #FFFFFF;\n    }\n  </style>\n\n    <script>\n      const buttonEl =\n        document.querySelector('#df-f0516828-f680-47c6-abc3-8e5918941117 button.colab-df-convert');\n      buttonEl.style.display =\n        google.colab.kernel.accessAllowed ? 'block' : 'none';\n\n      async function convertToInteractive(key) {\n        const element = document.querySelector('#df-f0516828-f680-47c6-abc3-8e5918941117');\n        const dataTable =\n          await google.colab.kernel.invokeFunction('convertToInteractive',\n                                                    [key], {});\n        if (!dataTable) return;\n\n        const docLinkHtml = 'Like what you see? Visit the ' +\n          '<a target=\"_blank\" href=https://colab.research.google.com/notebooks/data_table.ipynb>data table notebook</a>'\n          + ' to learn more about interactive tables.';\n        element.innerHTML = '';\n        dataTable['output_type'] = 'display_data';\n        await google.colab.output.renderOutput(dataTable, element);\n        const docLink = document.createElement('div');\n        docLink.innerHTML = docLinkHtml;\n        element.appendChild(docLink);\n      }\n    </script>\n  </div>\n\n\n<div id=\"df-00da00cd-d163-4248-9fab-843d265e9896\">\n  <button class=\"colab-df-quickchart\" onclick=\"quickchart('df-00da00cd-d163-4248-9fab-843d265e9896')\"\n            title=\"Suggest charts\"\n            style=\"display:none;\">\n\n<svg xmlns=\"http://www.w3.org/2000/svg\" height=\"24px\"viewBox=\"0 0 24 24\"\n     width=\"24px\">\n    <g>\n        <path d=\"M19 3H5c-1.1 0-2 .9-2 2v14c0 1.1.9 2 2 2h14c1.1 0 2-.9 2-2V5c0-1.1-.9-2-2-2zM9 17H7v-7h2v7zm4 0h-2V7h2v10zm4 0h-2v-4h2v4z\"/>\n    </g>\n</svg>\n  </button>\n\n<style>\n  .colab-df-quickchart {\n      --bg-color: #E8F0FE;\n      --fill-color: #1967D2;\n      --hover-bg-color: #E2EBFA;\n      --hover-fill-color: #174EA6;\n      --disabled-fill-color: #AAA;\n      --disabled-bg-color: #DDD;\n  }\n\n  [theme=dark] .colab-df-quickchart {\n      --bg-color: #3B4455;\n      --fill-color: #D2E3FC;\n      --hover-bg-color: #434B5C;\n      --hover-fill-color: #FFFFFF;\n      --disabled-bg-color: #3B4455;\n      --disabled-fill-color: #666;\n  }\n\n  .colab-df-quickchart {\n    background-color: var(--bg-color);\n    border: none;\n    border-radius: 50%;\n    cursor: pointer;\n    display: none;\n    fill: var(--fill-color);\n    height: 32px;\n    padding: 0;\n    width: 32px;\n  }\n\n  .colab-df-quickchart:hover {\n    background-color: var(--hover-bg-color);\n    box-shadow: 0 1px 2px rgba(60, 64, 67, 0.3), 0 1px 3px 1px rgba(60, 64, 67, 0.15);\n    fill: var(--button-hover-fill-color);\n  }\n\n  .colab-df-quickchart-complete:disabled,\n  .colab-df-quickchart-complete:disabled:hover {\n    background-color: var(--disabled-bg-color);\n    fill: var(--disabled-fill-color);\n    box-shadow: none;\n  }\n\n  .colab-df-spinner {\n    border: 2px solid var(--fill-color);\n    border-color: transparent;\n    border-bottom-color: var(--fill-color);\n    animation:\n      spin 1s steps(1) infinite;\n  }\n\n  @keyframes spin {\n    0% {\n      border-color: transparent;\n      border-bottom-color: var(--fill-color);\n      border-left-color: var(--fill-color);\n    }\n    20% {\n      border-color: transparent;\n      border-left-color: var(--fill-color);\n      border-top-color: var(--fill-color);\n    }\n    30% {\n      border-color: transparent;\n      border-left-color: var(--fill-color);\n      border-top-color: var(--fill-color);\n      border-right-color: var(--fill-color);\n    }\n    40% {\n      border-color: transparent;\n      border-right-color: var(--fill-color);\n      border-top-color: var(--fill-color);\n    }\n    60% {\n      border-color: transparent;\n      border-right-color: var(--fill-color);\n    }\n    80% {\n      border-color: transparent;\n      border-right-color: var(--fill-color);\n      border-bottom-color: var(--fill-color);\n    }\n    90% {\n      border-color: transparent;\n      border-bottom-color: var(--fill-color);\n    }\n  }\n</style>\n\n  <script>\n    async function quickchart(key) {\n      const quickchartButtonEl =\n        document.querySelector('#' + key + ' button');\n      quickchartButtonEl.disabled = true;  // To prevent multiple clicks.\n      quickchartButtonEl.classList.add('colab-df-spinner');\n      try {\n        const charts = await google.colab.kernel.invokeFunction(\n            'suggestCharts', [key], {});\n      } catch (error) {\n        console.error('Error during call to suggestCharts:', error);\n      }\n      quickchartButtonEl.classList.remove('colab-df-spinner');\n      quickchartButtonEl.classList.add('colab-df-quickchart-complete');\n    }\n    (() => {\n      let quickchartButtonEl =\n        document.querySelector('#df-00da00cd-d163-4248-9fab-843d265e9896 button');\n      quickchartButtonEl.style.display =\n        google.colab.kernel.accessAllowed ? 'block' : 'none';\n    })();\n  </script>\n</div>\n\n    </div>\n  </div>\n",
                  "application/vnd.google.colaboratory.intrinsic+json": {
                    "type": "dataframe",
                    "summary": "{\n  \"name\": \"app = GUI(engine, Leader, group_num)\",\n  \"rows\": 30,\n  \"fields\": [\n    {\n      \"column\": \"Date\",\n      \"properties\": {\n        \"dtype\": \"number\",\n        \"std\": 8,\n        \"min\": 101,\n        \"max\": 130,\n        \"num_unique_values\": 30,\n        \"samples\": [\n          103,\n          115,\n          107\n        ],\n        \"semantic_type\": \"\",\n        \"description\": \"\"\n      }\n    },\n    {\n      \"column\": \"Leader Price\",\n      \"properties\": {\n        \"dtype\": \"number\",\n        \"std\": 0.002343576735299385,\n        \"min\": 1.8799351020059711,\n        \"max\": 1.8876552624253915,\n        \"num_unique_values\": 30,\n        \"samples\": [\n          1.8804675268624829,\n          1.8836620760015534,\n          1.8815323765755063\n        ],\n        \"semantic_type\": \"\",\n        \"description\": \"\"\n      }\n    },\n    {\n      \"column\": \"Follower Price\",\n      \"properties\": {\n        \"dtype\": \"number\",\n        \"std\": 0.015562167668870041,\n        \"min\": 1.8005063308567388,\n        \"max\": 1.8527434402284544,\n        \"num_unique_values\": 30,\n        \"samples\": [\n          1.8054277716106901,\n          1.8281801095906445,\n          1.8166586535960068\n        ],\n        \"semantic_type\": \"\",\n        \"description\": \"\"\n      }\n    },\n    {\n      \"column\": \"Cost\",\n      \"properties\": {\n        \"dtype\": \"number\",\n        \"std\": 0.0,\n        \"min\": 1.0,\n        \"max\": 1.0,\n        \"num_unique_values\": 1,\n        \"samples\": [\n          1.0\n        ],\n        \"semantic_type\": \"\",\n        \"description\": \"\"\n      }\n    }\n  ]\n}"
                  }
                },
                "metadata": {}
              }
            ]
          }
        },
        "974dac8e222c45e983503b2a1b228437": {
          "model_module": "@jupyter-widgets/output",
          "model_name": "OutputModel",
          "model_module_version": "1.0.0",
          "state": {
            "_dom_classes": [],
            "_model_module": "@jupyter-widgets/output",
            "_model_module_version": "1.0.0",
            "_model_name": "OutputModel",
            "_view_count": null,
            "_view_module": "@jupyter-widgets/output",
            "_view_module_version": "1.0.0",
            "_view_name": "OutputView",
            "layout": "IPY_MODEL_04a4d1cd11db4b2dbbd2c790d21db80e",
            "msg_id": "",
            "outputs": [
              {
                "output_type": "display_data",
                "data": {
                  "text/plain": "<IPython.core.display.HTML object>",
                  "text/html": "<br><br><br><br><br><br><br><br><br><br><b style='font-size: 17px;'><u>Profit made: 17.62661628802855</u></b>"
                },
                "metadata": {}
              }
            ]
          }
        },
        "f7a135b676a044f8af7fe0e47653c5f5": {
          "model_module": "@jupyter-widgets/base",
          "model_name": "LayoutModel",
          "model_module_version": "1.2.0",
          "state": {
            "_model_module": "@jupyter-widgets/base",
            "_model_module_version": "1.2.0",
            "_model_name": "LayoutModel",
            "_view_count": null,
            "_view_module": "@jupyter-widgets/base",
            "_view_module_version": "1.2.0",
            "_view_name": "LayoutView",
            "align_content": null,
            "align_items": null,
            "align_self": null,
            "border": null,
            "bottom": null,
            "display": null,
            "flex": null,
            "flex_flow": null,
            "grid_area": null,
            "grid_auto_columns": null,
            "grid_auto_flow": null,
            "grid_auto_rows": null,
            "grid_column": null,
            "grid_gap": null,
            "grid_row": null,
            "grid_template_areas": null,
            "grid_template_columns": null,
            "grid_template_rows": null,
            "height": null,
            "justify_content": "initial",
            "justify_items": null,
            "left": null,
            "margin": null,
            "max_height": null,
            "max_width": null,
            "min_height": null,
            "min_width": null,
            "object_fit": null,
            "object_position": null,
            "order": null,
            "overflow": null,
            "overflow_x": null,
            "overflow_y": null,
            "padding": null,
            "right": null,
            "top": null,
            "visibility": null,
            "width": null
          }
        },
        "502ab0028d604227bc2c3bc141c6bf34": {
          "model_module": "@jupyter-widgets/base",
          "model_name": "LayoutModel",
          "model_module_version": "1.2.0",
          "state": {
            "_model_module": "@jupyter-widgets/base",
            "_model_module_version": "1.2.0",
            "_model_name": "LayoutModel",
            "_view_count": null,
            "_view_module": "@jupyter-widgets/base",
            "_view_module_version": "1.2.0",
            "_view_name": "LayoutView",
            "align_content": null,
            "align_items": null,
            "align_self": null,
            "border": null,
            "bottom": null,
            "display": null,
            "flex": null,
            "flex_flow": null,
            "grid_area": null,
            "grid_auto_columns": null,
            "grid_auto_flow": null,
            "grid_auto_rows": null,
            "grid_column": null,
            "grid_gap": null,
            "grid_row": null,
            "grid_template_areas": null,
            "grid_template_columns": null,
            "grid_template_rows": null,
            "height": null,
            "justify_content": null,
            "justify_items": null,
            "left": null,
            "margin": null,
            "max_height": null,
            "max_width": null,
            "min_height": null,
            "min_width": null,
            "object_fit": null,
            "object_position": null,
            "order": null,
            "overflow": null,
            "overflow_x": null,
            "overflow_y": null,
            "padding": null,
            "right": null,
            "top": null,
            "visibility": null,
            "width": null
          }
        },
        "04a4d1cd11db4b2dbbd2c790d21db80e": {
          "model_module": "@jupyter-widgets/base",
          "model_name": "LayoutModel",
          "model_module_version": "1.2.0",
          "state": {
            "_model_module": "@jupyter-widgets/base",
            "_model_module_version": "1.2.0",
            "_model_name": "LayoutModel",
            "_view_count": null,
            "_view_module": "@jupyter-widgets/base",
            "_view_module_version": "1.2.0",
            "_view_name": "LayoutView",
            "align_content": null,
            "align_items": null,
            "align_self": null,
            "border": null,
            "bottom": null,
            "display": null,
            "flex": null,
            "flex_flow": null,
            "grid_area": null,
            "grid_auto_columns": null,
            "grid_auto_flow": null,
            "grid_auto_rows": null,
            "grid_column": null,
            "grid_gap": null,
            "grid_row": null,
            "grid_template_areas": null,
            "grid_template_columns": null,
            "grid_template_rows": null,
            "height": null,
            "justify_content": null,
            "justify_items": null,
            "left": null,
            "margin": null,
            "max_height": null,
            "max_width": null,
            "min_height": null,
            "min_width": null,
            "object_fit": null,
            "object_position": null,
            "order": null,
            "overflow": null,
            "overflow_x": null,
            "overflow_y": null,
            "padding": null,
            "right": null,
            "top": null,
            "visibility": null,
            "width": null
          }
        },
        "8c3c6bad636a41718f384120078dfa1f": {
          "model_module": "@jupyter-widgets/controls",
          "model_name": "HBoxModel",
          "model_module_version": "1.5.0",
          "state": {
            "_dom_classes": [],
            "_model_module": "@jupyter-widgets/controls",
            "_model_module_version": "1.5.0",
            "_model_name": "HBoxModel",
            "_view_count": null,
            "_view_module": "@jupyter-widgets/controls",
            "_view_module_version": "1.5.0",
            "_view_name": "HBoxView",
            "box_style": "",
            "children": [
              "IPY_MODEL_e5307339e94344b0ae92bda20fe98eaf",
              "IPY_MODEL_0354f99db985488d8fa0f7be851cd93d"
            ],
            "layout": "IPY_MODEL_b4687a95c68d4a448e583724e5905584"
          }
        },
        "e5307339e94344b0ae92bda20fe98eaf": {
          "model_module": "@jupyter-widgets/output",
          "model_name": "OutputModel",
          "model_module_version": "1.0.0",
          "state": {
            "_dom_classes": [],
            "_model_module": "@jupyter-widgets/output",
            "_model_module_version": "1.0.0",
            "_model_name": "OutputModel",
            "_view_count": null,
            "_view_module": "@jupyter-widgets/output",
            "_view_module_version": "1.0.0",
            "_view_name": "OutputView",
            "layout": "IPY_MODEL_51b533e9b98c4f2f9327fa5a667d019c",
            "msg_id": "",
            "outputs": [
              {
                "output_type": "display_data",
                "data": {
                  "text/plain": "      Leader Price  Follower Price  Cost\nDate                                    \n130       1.888251        1.852951   1.0\n129       1.887958        1.851711   1.0\n128       1.887664        1.850190   1.0\n127       1.887371        1.848601   1.0\n126       1.887078        1.846038   1.0\n125       1.886784        1.844366   1.0\n124       1.886491        1.843442   1.0\n123       1.886198        1.845457   1.0\n122       1.885904        1.839879   1.0\n121       1.885611        1.839431   1.0\n120       1.885318        1.837453   1.0\n119       1.885024        1.835512   1.0\n118       1.884731        1.832790   1.0\n117       1.884438        1.832094   1.0\n116       1.884144        1.829487   1.0\n115       1.883851        1.828244   1.0\n114       1.883558        1.826587   1.0\n113       1.883264        1.825719   1.0\n112       1.882971        1.821718   1.0\n111       1.882678        1.820948   1.0\n110       1.882384        1.820710   1.0\n109       1.882091        1.818840   1.0\n108       1.881798        1.815297   1.0\n107       1.881504        1.816649   1.0\n106       1.881211        1.810397   1.0\n105       1.880918        1.809126   1.0\n104       1.880624        1.806925   1.0\n103       1.880331        1.805383   1.0\n102       1.880038        1.805406   1.0\n101       1.879744        1.800444   1.0",
                  "text/html": "\n  <div id=\"df-8179054f-1ba0-4ba7-bd46-3003c7629a1a\" class=\"colab-df-container\">\n    <div>\n<style scoped>\n    .dataframe tbody tr th:only-of-type {\n        vertical-align: middle;\n    }\n\n    .dataframe tbody tr th {\n        vertical-align: top;\n    }\n\n    .dataframe thead th {\n        text-align: right;\n    }\n</style>\n<table border=\"1\" class=\"dataframe\">\n  <thead>\n    <tr style=\"text-align: right;\">\n      <th></th>\n      <th>Leader Price</th>\n      <th>Follower Price</th>\n      <th>Cost</th>\n    </tr>\n    <tr>\n      <th>Date</th>\n      <th></th>\n      <th></th>\n      <th></th>\n    </tr>\n  </thead>\n  <tbody>\n    <tr>\n      <th>130</th>\n      <td>1.888251</td>\n      <td>1.852951</td>\n      <td>1.0</td>\n    </tr>\n    <tr>\n      <th>129</th>\n      <td>1.887958</td>\n      <td>1.851711</td>\n      <td>1.0</td>\n    </tr>\n    <tr>\n      <th>128</th>\n      <td>1.887664</td>\n      <td>1.850190</td>\n      <td>1.0</td>\n    </tr>\n    <tr>\n      <th>127</th>\n      <td>1.887371</td>\n      <td>1.848601</td>\n      <td>1.0</td>\n    </tr>\n    <tr>\n      <th>126</th>\n      <td>1.887078</td>\n      <td>1.846038</td>\n      <td>1.0</td>\n    </tr>\n    <tr>\n      <th>125</th>\n      <td>1.886784</td>\n      <td>1.844366</td>\n      <td>1.0</td>\n    </tr>\n    <tr>\n      <th>124</th>\n      <td>1.886491</td>\n      <td>1.843442</td>\n      <td>1.0</td>\n    </tr>\n    <tr>\n      <th>123</th>\n      <td>1.886198</td>\n      <td>1.845457</td>\n      <td>1.0</td>\n    </tr>\n    <tr>\n      <th>122</th>\n      <td>1.885904</td>\n      <td>1.839879</td>\n      <td>1.0</td>\n    </tr>\n    <tr>\n      <th>121</th>\n      <td>1.885611</td>\n      <td>1.839431</td>\n      <td>1.0</td>\n    </tr>\n    <tr>\n      <th>120</th>\n      <td>1.885318</td>\n      <td>1.837453</td>\n      <td>1.0</td>\n    </tr>\n    <tr>\n      <th>119</th>\n      <td>1.885024</td>\n      <td>1.835512</td>\n      <td>1.0</td>\n    </tr>\n    <tr>\n      <th>118</th>\n      <td>1.884731</td>\n      <td>1.832790</td>\n      <td>1.0</td>\n    </tr>\n    <tr>\n      <th>117</th>\n      <td>1.884438</td>\n      <td>1.832094</td>\n      <td>1.0</td>\n    </tr>\n    <tr>\n      <th>116</th>\n      <td>1.884144</td>\n      <td>1.829487</td>\n      <td>1.0</td>\n    </tr>\n    <tr>\n      <th>115</th>\n      <td>1.883851</td>\n      <td>1.828244</td>\n      <td>1.0</td>\n    </tr>\n    <tr>\n      <th>114</th>\n      <td>1.883558</td>\n      <td>1.826587</td>\n      <td>1.0</td>\n    </tr>\n    <tr>\n      <th>113</th>\n      <td>1.883264</td>\n      <td>1.825719</td>\n      <td>1.0</td>\n    </tr>\n    <tr>\n      <th>112</th>\n      <td>1.882971</td>\n      <td>1.821718</td>\n      <td>1.0</td>\n    </tr>\n    <tr>\n      <th>111</th>\n      <td>1.882678</td>\n      <td>1.820948</td>\n      <td>1.0</td>\n    </tr>\n    <tr>\n      <th>110</th>\n      <td>1.882384</td>\n      <td>1.820710</td>\n      <td>1.0</td>\n    </tr>\n    <tr>\n      <th>109</th>\n      <td>1.882091</td>\n      <td>1.818840</td>\n      <td>1.0</td>\n    </tr>\n    <tr>\n      <th>108</th>\n      <td>1.881798</td>\n      <td>1.815297</td>\n      <td>1.0</td>\n    </tr>\n    <tr>\n      <th>107</th>\n      <td>1.881504</td>\n      <td>1.816649</td>\n      <td>1.0</td>\n    </tr>\n    <tr>\n      <th>106</th>\n      <td>1.881211</td>\n      <td>1.810397</td>\n      <td>1.0</td>\n    </tr>\n    <tr>\n      <th>105</th>\n      <td>1.880918</td>\n      <td>1.809126</td>\n      <td>1.0</td>\n    </tr>\n    <tr>\n      <th>104</th>\n      <td>1.880624</td>\n      <td>1.806925</td>\n      <td>1.0</td>\n    </tr>\n    <tr>\n      <th>103</th>\n      <td>1.880331</td>\n      <td>1.805383</td>\n      <td>1.0</td>\n    </tr>\n    <tr>\n      <th>102</th>\n      <td>1.880038</td>\n      <td>1.805406</td>\n      <td>1.0</td>\n    </tr>\n    <tr>\n      <th>101</th>\n      <td>1.879744</td>\n      <td>1.800444</td>\n      <td>1.0</td>\n    </tr>\n  </tbody>\n</table>\n</div>\n    <div class=\"colab-df-buttons\">\n\n  <div class=\"colab-df-container\">\n    <button class=\"colab-df-convert\" onclick=\"convertToInteractive('df-8179054f-1ba0-4ba7-bd46-3003c7629a1a')\"\n            title=\"Convert this dataframe to an interactive table.\"\n            style=\"display:none;\">\n\n  <svg xmlns=\"http://www.w3.org/2000/svg\" height=\"24px\" viewBox=\"0 -960 960 960\">\n    <path d=\"M120-120v-720h720v720H120Zm60-500h600v-160H180v160Zm220 220h160v-160H400v160Zm0 220h160v-160H400v160ZM180-400h160v-160H180v160Zm440 0h160v-160H620v160ZM180-180h160v-160H180v160Zm440 0h160v-160H620v160Z\"/>\n  </svg>\n    </button>\n\n  <style>\n    .colab-df-container {\n      display:flex;\n      gap: 12px;\n    }\n\n    .colab-df-convert {\n      background-color: #E8F0FE;\n      border: none;\n      border-radius: 50%;\n      cursor: pointer;\n      display: none;\n      fill: #1967D2;\n      height: 32px;\n      padding: 0 0 0 0;\n      width: 32px;\n    }\n\n    .colab-df-convert:hover {\n      background-color: #E2EBFA;\n      box-shadow: 0px 1px 2px rgba(60, 64, 67, 0.3), 0px 1px 3px 1px rgba(60, 64, 67, 0.15);\n      fill: #174EA6;\n    }\n\n    .colab-df-buttons div {\n      margin-bottom: 4px;\n    }\n\n    [theme=dark] .colab-df-convert {\n      background-color: #3B4455;\n      fill: #D2E3FC;\n    }\n\n    [theme=dark] .colab-df-convert:hover {\n      background-color: #434B5C;\n      box-shadow: 0px 1px 3px 1px rgba(0, 0, 0, 0.15);\n      filter: drop-shadow(0px 1px 2px rgba(0, 0, 0, 0.3));\n      fill: #FFFFFF;\n    }\n  </style>\n\n    <script>\n      const buttonEl =\n        document.querySelector('#df-8179054f-1ba0-4ba7-bd46-3003c7629a1a button.colab-df-convert');\n      buttonEl.style.display =\n        google.colab.kernel.accessAllowed ? 'block' : 'none';\n\n      async function convertToInteractive(key) {\n        const element = document.querySelector('#df-8179054f-1ba0-4ba7-bd46-3003c7629a1a');\n        const dataTable =\n          await google.colab.kernel.invokeFunction('convertToInteractive',\n                                                    [key], {});\n        if (!dataTable) return;\n\n        const docLinkHtml = 'Like what you see? Visit the ' +\n          '<a target=\"_blank\" href=https://colab.research.google.com/notebooks/data_table.ipynb>data table notebook</a>'\n          + ' to learn more about interactive tables.';\n        element.innerHTML = '';\n        dataTable['output_type'] = 'display_data';\n        await google.colab.output.renderOutput(dataTable, element);\n        const docLink = document.createElement('div');\n        docLink.innerHTML = docLinkHtml;\n        element.appendChild(docLink);\n      }\n    </script>\n  </div>\n\n\n<div id=\"df-49565c66-cff0-42aa-97d8-77efb1374373\">\n  <button class=\"colab-df-quickchart\" onclick=\"quickchart('df-49565c66-cff0-42aa-97d8-77efb1374373')\"\n            title=\"Suggest charts\"\n            style=\"display:none;\">\n\n<svg xmlns=\"http://www.w3.org/2000/svg\" height=\"24px\"viewBox=\"0 0 24 24\"\n     width=\"24px\">\n    <g>\n        <path d=\"M19 3H5c-1.1 0-2 .9-2 2v14c0 1.1.9 2 2 2h14c1.1 0 2-.9 2-2V5c0-1.1-.9-2-2-2zM9 17H7v-7h2v7zm4 0h-2V7h2v10zm4 0h-2v-4h2v4z\"/>\n    </g>\n</svg>\n  </button>\n\n<style>\n  .colab-df-quickchart {\n      --bg-color: #E8F0FE;\n      --fill-color: #1967D2;\n      --hover-bg-color: #E2EBFA;\n      --hover-fill-color: #174EA6;\n      --disabled-fill-color: #AAA;\n      --disabled-bg-color: #DDD;\n  }\n\n  [theme=dark] .colab-df-quickchart {\n      --bg-color: #3B4455;\n      --fill-color: #D2E3FC;\n      --hover-bg-color: #434B5C;\n      --hover-fill-color: #FFFFFF;\n      --disabled-bg-color: #3B4455;\n      --disabled-fill-color: #666;\n  }\n\n  .colab-df-quickchart {\n    background-color: var(--bg-color);\n    border: none;\n    border-radius: 50%;\n    cursor: pointer;\n    display: none;\n    fill: var(--fill-color);\n    height: 32px;\n    padding: 0;\n    width: 32px;\n  }\n\n  .colab-df-quickchart:hover {\n    background-color: var(--hover-bg-color);\n    box-shadow: 0 1px 2px rgba(60, 64, 67, 0.3), 0 1px 3px 1px rgba(60, 64, 67, 0.15);\n    fill: var(--button-hover-fill-color);\n  }\n\n  .colab-df-quickchart-complete:disabled,\n  .colab-df-quickchart-complete:disabled:hover {\n    background-color: var(--disabled-bg-color);\n    fill: var(--disabled-fill-color);\n    box-shadow: none;\n  }\n\n  .colab-df-spinner {\n    border: 2px solid var(--fill-color);\n    border-color: transparent;\n    border-bottom-color: var(--fill-color);\n    animation:\n      spin 1s steps(1) infinite;\n  }\n\n  @keyframes spin {\n    0% {\n      border-color: transparent;\n      border-bottom-color: var(--fill-color);\n      border-left-color: var(--fill-color);\n    }\n    20% {\n      border-color: transparent;\n      border-left-color: var(--fill-color);\n      border-top-color: var(--fill-color);\n    }\n    30% {\n      border-color: transparent;\n      border-left-color: var(--fill-color);\n      border-top-color: var(--fill-color);\n      border-right-color: var(--fill-color);\n    }\n    40% {\n      border-color: transparent;\n      border-right-color: var(--fill-color);\n      border-top-color: var(--fill-color);\n    }\n    60% {\n      border-color: transparent;\n      border-right-color: var(--fill-color);\n    }\n    80% {\n      border-color: transparent;\n      border-right-color: var(--fill-color);\n      border-bottom-color: var(--fill-color);\n    }\n    90% {\n      border-color: transparent;\n      border-bottom-color: var(--fill-color);\n    }\n  }\n</style>\n\n  <script>\n    async function quickchart(key) {\n      const quickchartButtonEl =\n        document.querySelector('#' + key + ' button');\n      quickchartButtonEl.disabled = true;  // To prevent multiple clicks.\n      quickchartButtonEl.classList.add('colab-df-spinner');\n      try {\n        const charts = await google.colab.kernel.invokeFunction(\n            'suggestCharts', [key], {});\n      } catch (error) {\n        console.error('Error during call to suggestCharts:', error);\n      }\n      quickchartButtonEl.classList.remove('colab-df-spinner');\n      quickchartButtonEl.classList.add('colab-df-quickchart-complete');\n    }\n    (() => {\n      let quickchartButtonEl =\n        document.querySelector('#df-49565c66-cff0-42aa-97d8-77efb1374373 button');\n      quickchartButtonEl.style.display =\n        google.colab.kernel.accessAllowed ? 'block' : 'none';\n    })();\n  </script>\n</div>\n\n    </div>\n  </div>\n",
                  "application/vnd.google.colaboratory.intrinsic+json": {
                    "type": "dataframe",
                    "summary": "{\n  \"name\": \"app = GUI(engine, Leader, group_num)\",\n  \"rows\": 30,\n  \"fields\": [\n    {\n      \"column\": \"Date\",\n      \"properties\": {\n        \"dtype\": \"number\",\n        \"std\": 8,\n        \"min\": 101,\n        \"max\": 130,\n        \"num_unique_values\": 30,\n        \"samples\": [\n          103,\n          115,\n          107\n        ],\n        \"semantic_type\": \"\",\n        \"description\": \"\"\n      }\n    },\n    {\n      \"column\": \"Leader Price\",\n      \"properties\": {\n        \"dtype\": \"number\",\n        \"std\": 0.0025822945832141594,\n        \"min\": 1.8797443997583372,\n        \"max\": 1.888250939413019,\n        \"num_unique_values\": 30,\n        \"samples\": [\n          1.8803310576655567,\n          1.8838510051088733,\n          1.8815043734799954\n        ],\n        \"semantic_type\": \"\",\n        \"description\": \"\"\n      }\n    },\n    {\n      \"column\": \"Follower Price\",\n      \"properties\": {\n        \"dtype\": \"number\",\n        \"std\": 0.01564357594329462,\n        \"min\": 1.800444188084242,\n        \"max\": 1.8529505636168224,\n        \"num_unique_values\": 30,\n        \"samples\": [\n          1.8053830805193716,\n          1.8282437848352353,\n          1.8166494020181214\n        ],\n        \"semantic_type\": \"\",\n        \"description\": \"\"\n      }\n    },\n    {\n      \"column\": \"Cost\",\n      \"properties\": {\n        \"dtype\": \"number\",\n        \"std\": 0.0,\n        \"min\": 1.0,\n        \"max\": 1.0,\n        \"num_unique_values\": 1,\n        \"samples\": [\n          1.0\n        ],\n        \"semantic_type\": \"\",\n        \"description\": \"\"\n      }\n    }\n  ]\n}"
                  }
                },
                "metadata": {}
              }
            ]
          }
        },
        "0354f99db985488d8fa0f7be851cd93d": {
          "model_module": "@jupyter-widgets/output",
          "model_name": "OutputModel",
          "model_module_version": "1.0.0",
          "state": {
            "_dom_classes": [],
            "_model_module": "@jupyter-widgets/output",
            "_model_module_version": "1.0.0",
            "_model_name": "OutputModel",
            "_view_count": null,
            "_view_module": "@jupyter-widgets/output",
            "_view_module_version": "1.0.0",
            "_view_name": "OutputView",
            "layout": "IPY_MODEL_1020f61e3eeb4c40b80164986d1739f1",
            "msg_id": "",
            "outputs": [
              {
                "output_type": "display_data",
                "data": {
                  "text/plain": "<IPython.core.display.HTML object>",
                  "text/html": "<br><br><br><br><br><br><br><br><br><br><b style='font-size: 17px;'><u>Profit made: 17.625839992689627</u></b>"
                },
                "metadata": {}
              }
            ]
          }
        },
        "b4687a95c68d4a448e583724e5905584": {
          "model_module": "@jupyter-widgets/base",
          "model_name": "LayoutModel",
          "model_module_version": "1.2.0",
          "state": {
            "_model_module": "@jupyter-widgets/base",
            "_model_module_version": "1.2.0",
            "_model_name": "LayoutModel",
            "_view_count": null,
            "_view_module": "@jupyter-widgets/base",
            "_view_module_version": "1.2.0",
            "_view_name": "LayoutView",
            "align_content": null,
            "align_items": null,
            "align_self": null,
            "border": null,
            "bottom": null,
            "display": null,
            "flex": null,
            "flex_flow": null,
            "grid_area": null,
            "grid_auto_columns": null,
            "grid_auto_flow": null,
            "grid_auto_rows": null,
            "grid_column": null,
            "grid_gap": null,
            "grid_row": null,
            "grid_template_areas": null,
            "grid_template_columns": null,
            "grid_template_rows": null,
            "height": null,
            "justify_content": "initial",
            "justify_items": null,
            "left": null,
            "margin": null,
            "max_height": null,
            "max_width": null,
            "min_height": null,
            "min_width": null,
            "object_fit": null,
            "object_position": null,
            "order": null,
            "overflow": null,
            "overflow_x": null,
            "overflow_y": null,
            "padding": null,
            "right": null,
            "top": null,
            "visibility": null,
            "width": null
          }
        },
        "51b533e9b98c4f2f9327fa5a667d019c": {
          "model_module": "@jupyter-widgets/base",
          "model_name": "LayoutModel",
          "model_module_version": "1.2.0",
          "state": {
            "_model_module": "@jupyter-widgets/base",
            "_model_module_version": "1.2.0",
            "_model_name": "LayoutModel",
            "_view_count": null,
            "_view_module": "@jupyter-widgets/base",
            "_view_module_version": "1.2.0",
            "_view_name": "LayoutView",
            "align_content": null,
            "align_items": null,
            "align_self": null,
            "border": null,
            "bottom": null,
            "display": null,
            "flex": null,
            "flex_flow": null,
            "grid_area": null,
            "grid_auto_columns": null,
            "grid_auto_flow": null,
            "grid_auto_rows": null,
            "grid_column": null,
            "grid_gap": null,
            "grid_row": null,
            "grid_template_areas": null,
            "grid_template_columns": null,
            "grid_template_rows": null,
            "height": null,
            "justify_content": null,
            "justify_items": null,
            "left": null,
            "margin": null,
            "max_height": null,
            "max_width": null,
            "min_height": null,
            "min_width": null,
            "object_fit": null,
            "object_position": null,
            "order": null,
            "overflow": null,
            "overflow_x": null,
            "overflow_y": null,
            "padding": null,
            "right": null,
            "top": null,
            "visibility": null,
            "width": null
          }
        },
        "1020f61e3eeb4c40b80164986d1739f1": {
          "model_module": "@jupyter-widgets/base",
          "model_name": "LayoutModel",
          "model_module_version": "1.2.0",
          "state": {
            "_model_module": "@jupyter-widgets/base",
            "_model_module_version": "1.2.0",
            "_model_name": "LayoutModel",
            "_view_count": null,
            "_view_module": "@jupyter-widgets/base",
            "_view_module_version": "1.2.0",
            "_view_name": "LayoutView",
            "align_content": null,
            "align_items": null,
            "align_self": null,
            "border": null,
            "bottom": null,
            "display": null,
            "flex": null,
            "flex_flow": null,
            "grid_area": null,
            "grid_auto_columns": null,
            "grid_auto_flow": null,
            "grid_auto_rows": null,
            "grid_column": null,
            "grid_gap": null,
            "grid_row": null,
            "grid_template_areas": null,
            "grid_template_columns": null,
            "grid_template_rows": null,
            "height": null,
            "justify_content": null,
            "justify_items": null,
            "left": null,
            "margin": null,
            "max_height": null,
            "max_width": null,
            "min_height": null,
            "min_width": null,
            "object_fit": null,
            "object_position": null,
            "order": null,
            "overflow": null,
            "overflow_x": null,
            "overflow_y": null,
            "padding": null,
            "right": null,
            "top": null,
            "visibility": null,
            "width": null
          }
        },
        "d2db0092b5b9461fb601d70277bfa224": {
          "model_module": "@jupyter-widgets/controls",
          "model_name": "HBoxModel",
          "model_module_version": "1.5.0",
          "state": {
            "_dom_classes": [],
            "_model_module": "@jupyter-widgets/controls",
            "_model_module_version": "1.5.0",
            "_model_name": "HBoxModel",
            "_view_count": null,
            "_view_module": "@jupyter-widgets/controls",
            "_view_module_version": "1.5.0",
            "_view_name": "HBoxView",
            "box_style": "",
            "children": [
              "IPY_MODEL_14417c77bf67432d9e176b9819b3fc15",
              "IPY_MODEL_94d8d1a139b34f0d9f6c300e6c32f1d6"
            ],
            "layout": "IPY_MODEL_51df3d13895040ccb75c8cd486bd80d9"
          }
        },
        "14417c77bf67432d9e176b9819b3fc15": {
          "model_module": "@jupyter-widgets/output",
          "model_name": "OutputModel",
          "model_module_version": "1.0.0",
          "state": {
            "_dom_classes": [],
            "_model_module": "@jupyter-widgets/output",
            "_model_module_version": "1.0.0",
            "_model_name": "OutputModel",
            "_view_count": null,
            "_view_module": "@jupyter-widgets/output",
            "_view_module_version": "1.0.0",
            "_view_name": "OutputView",
            "layout": "IPY_MODEL_2d6c1f51e57f4126b8c026d5b7058e5a",
            "msg_id": "",
            "outputs": [
              {
                "output_type": "display_data",
                "data": {
                  "text/plain": "      Leader Price  Follower Price  Cost\nDate                                    \n130       1.866526        1.845397   1.0\n129       1.866343        1.844211   1.0\n128       1.866161        1.842743   1.0\n127       1.865978        1.841208   1.0\n126       1.865795        1.838693   1.0\n125       1.865612        1.837073   1.0\n124       1.865430        1.836205   1.0\n123       1.865247        1.838288   1.0\n122       1.865064        1.832747   1.0\n121       1.864881        1.832356   1.0\n120       1.864699        1.830430   1.0\n119       1.864516        1.828541   1.0\n118       1.864333        1.825868   1.0\n117       1.864150        1.825227   1.0\n116       1.863968        1.822670   1.0\n115       1.863785        1.821481   1.0\n114       1.863602        1.819877   1.0\n113       1.863420        1.819064   1.0\n112       1.863237        1.815109   1.0\n111       1.863054        1.814394   1.0\n110       1.862871        1.814213   1.0\n109       1.862689        1.812395   1.0\n108       1.862506        1.808900   1.0\n107       1.862323        1.810312   1.0\n106       1.862140        1.804102   1.0\n105       1.861958        1.802885   1.0\n104       1.861775        1.800735   1.0\n103       1.861592        1.799246   1.0\n102       1.861409        1.799325   1.0\n101       1.861227        1.794410   1.0",
                  "text/html": "\n  <div id=\"df-ff8f0ea5-acef-4ef6-a3a8-d58e9bacb8aa\" class=\"colab-df-container\">\n    <div>\n<style scoped>\n    .dataframe tbody tr th:only-of-type {\n        vertical-align: middle;\n    }\n\n    .dataframe tbody tr th {\n        vertical-align: top;\n    }\n\n    .dataframe thead th {\n        text-align: right;\n    }\n</style>\n<table border=\"1\" class=\"dataframe\">\n  <thead>\n    <tr style=\"text-align: right;\">\n      <th></th>\n      <th>Leader Price</th>\n      <th>Follower Price</th>\n      <th>Cost</th>\n    </tr>\n    <tr>\n      <th>Date</th>\n      <th></th>\n      <th></th>\n      <th></th>\n    </tr>\n  </thead>\n  <tbody>\n    <tr>\n      <th>130</th>\n      <td>1.866526</td>\n      <td>1.845397</td>\n      <td>1.0</td>\n    </tr>\n    <tr>\n      <th>129</th>\n      <td>1.866343</td>\n      <td>1.844211</td>\n      <td>1.0</td>\n    </tr>\n    <tr>\n      <th>128</th>\n      <td>1.866161</td>\n      <td>1.842743</td>\n      <td>1.0</td>\n    </tr>\n    <tr>\n      <th>127</th>\n      <td>1.865978</td>\n      <td>1.841208</td>\n      <td>1.0</td>\n    </tr>\n    <tr>\n      <th>126</th>\n      <td>1.865795</td>\n      <td>1.838693</td>\n      <td>1.0</td>\n    </tr>\n    <tr>\n      <th>125</th>\n      <td>1.865612</td>\n      <td>1.837073</td>\n      <td>1.0</td>\n    </tr>\n    <tr>\n      <th>124</th>\n      <td>1.865430</td>\n      <td>1.836205</td>\n      <td>1.0</td>\n    </tr>\n    <tr>\n      <th>123</th>\n      <td>1.865247</td>\n      <td>1.838288</td>\n      <td>1.0</td>\n    </tr>\n    <tr>\n      <th>122</th>\n      <td>1.865064</td>\n      <td>1.832747</td>\n      <td>1.0</td>\n    </tr>\n    <tr>\n      <th>121</th>\n      <td>1.864881</td>\n      <td>1.832356</td>\n      <td>1.0</td>\n    </tr>\n    <tr>\n      <th>120</th>\n      <td>1.864699</td>\n      <td>1.830430</td>\n      <td>1.0</td>\n    </tr>\n    <tr>\n      <th>119</th>\n      <td>1.864516</td>\n      <td>1.828541</td>\n      <td>1.0</td>\n    </tr>\n    <tr>\n      <th>118</th>\n      <td>1.864333</td>\n      <td>1.825868</td>\n      <td>1.0</td>\n    </tr>\n    <tr>\n      <th>117</th>\n      <td>1.864150</td>\n      <td>1.825227</td>\n      <td>1.0</td>\n    </tr>\n    <tr>\n      <th>116</th>\n      <td>1.863968</td>\n      <td>1.822670</td>\n      <td>1.0</td>\n    </tr>\n    <tr>\n      <th>115</th>\n      <td>1.863785</td>\n      <td>1.821481</td>\n      <td>1.0</td>\n    </tr>\n    <tr>\n      <th>114</th>\n      <td>1.863602</td>\n      <td>1.819877</td>\n      <td>1.0</td>\n    </tr>\n    <tr>\n      <th>113</th>\n      <td>1.863420</td>\n      <td>1.819064</td>\n      <td>1.0</td>\n    </tr>\n    <tr>\n      <th>112</th>\n      <td>1.863237</td>\n      <td>1.815109</td>\n      <td>1.0</td>\n    </tr>\n    <tr>\n      <th>111</th>\n      <td>1.863054</td>\n      <td>1.814394</td>\n      <td>1.0</td>\n    </tr>\n    <tr>\n      <th>110</th>\n      <td>1.862871</td>\n      <td>1.814213</td>\n      <td>1.0</td>\n    </tr>\n    <tr>\n      <th>109</th>\n      <td>1.862689</td>\n      <td>1.812395</td>\n      <td>1.0</td>\n    </tr>\n    <tr>\n      <th>108</th>\n      <td>1.862506</td>\n      <td>1.808900</td>\n      <td>1.0</td>\n    </tr>\n    <tr>\n      <th>107</th>\n      <td>1.862323</td>\n      <td>1.810312</td>\n      <td>1.0</td>\n    </tr>\n    <tr>\n      <th>106</th>\n      <td>1.862140</td>\n      <td>1.804102</td>\n      <td>1.0</td>\n    </tr>\n    <tr>\n      <th>105</th>\n      <td>1.861958</td>\n      <td>1.802885</td>\n      <td>1.0</td>\n    </tr>\n    <tr>\n      <th>104</th>\n      <td>1.861775</td>\n      <td>1.800735</td>\n      <td>1.0</td>\n    </tr>\n    <tr>\n      <th>103</th>\n      <td>1.861592</td>\n      <td>1.799246</td>\n      <td>1.0</td>\n    </tr>\n    <tr>\n      <th>102</th>\n      <td>1.861409</td>\n      <td>1.799325</td>\n      <td>1.0</td>\n    </tr>\n    <tr>\n      <th>101</th>\n      <td>1.861227</td>\n      <td>1.794410</td>\n      <td>1.0</td>\n    </tr>\n  </tbody>\n</table>\n</div>\n    <div class=\"colab-df-buttons\">\n\n  <div class=\"colab-df-container\">\n    <button class=\"colab-df-convert\" onclick=\"convertToInteractive('df-ff8f0ea5-acef-4ef6-a3a8-d58e9bacb8aa')\"\n            title=\"Convert this dataframe to an interactive table.\"\n            style=\"display:none;\">\n\n  <svg xmlns=\"http://www.w3.org/2000/svg\" height=\"24px\" viewBox=\"0 -960 960 960\">\n    <path d=\"M120-120v-720h720v720H120Zm60-500h600v-160H180v160Zm220 220h160v-160H400v160Zm0 220h160v-160H400v160ZM180-400h160v-160H180v160Zm440 0h160v-160H620v160ZM180-180h160v-160H180v160Zm440 0h160v-160H620v160Z\"/>\n  </svg>\n    </button>\n\n  <style>\n    .colab-df-container {\n      display:flex;\n      gap: 12px;\n    }\n\n    .colab-df-convert {\n      background-color: #E8F0FE;\n      border: none;\n      border-radius: 50%;\n      cursor: pointer;\n      display: none;\n      fill: #1967D2;\n      height: 32px;\n      padding: 0 0 0 0;\n      width: 32px;\n    }\n\n    .colab-df-convert:hover {\n      background-color: #E2EBFA;\n      box-shadow: 0px 1px 2px rgba(60, 64, 67, 0.3), 0px 1px 3px 1px rgba(60, 64, 67, 0.15);\n      fill: #174EA6;\n    }\n\n    .colab-df-buttons div {\n      margin-bottom: 4px;\n    }\n\n    [theme=dark] .colab-df-convert {\n      background-color: #3B4455;\n      fill: #D2E3FC;\n    }\n\n    [theme=dark] .colab-df-convert:hover {\n      background-color: #434B5C;\n      box-shadow: 0px 1px 3px 1px rgba(0, 0, 0, 0.15);\n      filter: drop-shadow(0px 1px 2px rgba(0, 0, 0, 0.3));\n      fill: #FFFFFF;\n    }\n  </style>\n\n    <script>\n      const buttonEl =\n        document.querySelector('#df-ff8f0ea5-acef-4ef6-a3a8-d58e9bacb8aa button.colab-df-convert');\n      buttonEl.style.display =\n        google.colab.kernel.accessAllowed ? 'block' : 'none';\n\n      async function convertToInteractive(key) {\n        const element = document.querySelector('#df-ff8f0ea5-acef-4ef6-a3a8-d58e9bacb8aa');\n        const dataTable =\n          await google.colab.kernel.invokeFunction('convertToInteractive',\n                                                    [key], {});\n        if (!dataTable) return;\n\n        const docLinkHtml = 'Like what you see? Visit the ' +\n          '<a target=\"_blank\" href=https://colab.research.google.com/notebooks/data_table.ipynb>data table notebook</a>'\n          + ' to learn more about interactive tables.';\n        element.innerHTML = '';\n        dataTable['output_type'] = 'display_data';\n        await google.colab.output.renderOutput(dataTable, element);\n        const docLink = document.createElement('div');\n        docLink.innerHTML = docLinkHtml;\n        element.appendChild(docLink);\n      }\n    </script>\n  </div>\n\n\n<div id=\"df-7e86308c-8670-4f15-b3d5-50e2d2033fc9\">\n  <button class=\"colab-df-quickchart\" onclick=\"quickchart('df-7e86308c-8670-4f15-b3d5-50e2d2033fc9')\"\n            title=\"Suggest charts\"\n            style=\"display:none;\">\n\n<svg xmlns=\"http://www.w3.org/2000/svg\" height=\"24px\"viewBox=\"0 0 24 24\"\n     width=\"24px\">\n    <g>\n        <path d=\"M19 3H5c-1.1 0-2 .9-2 2v14c0 1.1.9 2 2 2h14c1.1 0 2-.9 2-2V5c0-1.1-.9-2-2-2zM9 17H7v-7h2v7zm4 0h-2V7h2v10zm4 0h-2v-4h2v4z\"/>\n    </g>\n</svg>\n  </button>\n\n<style>\n  .colab-df-quickchart {\n      --bg-color: #E8F0FE;\n      --fill-color: #1967D2;\n      --hover-bg-color: #E2EBFA;\n      --hover-fill-color: #174EA6;\n      --disabled-fill-color: #AAA;\n      --disabled-bg-color: #DDD;\n  }\n\n  [theme=dark] .colab-df-quickchart {\n      --bg-color: #3B4455;\n      --fill-color: #D2E3FC;\n      --hover-bg-color: #434B5C;\n      --hover-fill-color: #FFFFFF;\n      --disabled-bg-color: #3B4455;\n      --disabled-fill-color: #666;\n  }\n\n  .colab-df-quickchart {\n    background-color: var(--bg-color);\n    border: none;\n    border-radius: 50%;\n    cursor: pointer;\n    display: none;\n    fill: var(--fill-color);\n    height: 32px;\n    padding: 0;\n    width: 32px;\n  }\n\n  .colab-df-quickchart:hover {\n    background-color: var(--hover-bg-color);\n    box-shadow: 0 1px 2px rgba(60, 64, 67, 0.3), 0 1px 3px 1px rgba(60, 64, 67, 0.15);\n    fill: var(--button-hover-fill-color);\n  }\n\n  .colab-df-quickchart-complete:disabled,\n  .colab-df-quickchart-complete:disabled:hover {\n    background-color: var(--disabled-bg-color);\n    fill: var(--disabled-fill-color);\n    box-shadow: none;\n  }\n\n  .colab-df-spinner {\n    border: 2px solid var(--fill-color);\n    border-color: transparent;\n    border-bottom-color: var(--fill-color);\n    animation:\n      spin 1s steps(1) infinite;\n  }\n\n  @keyframes spin {\n    0% {\n      border-color: transparent;\n      border-bottom-color: var(--fill-color);\n      border-left-color: var(--fill-color);\n    }\n    20% {\n      border-color: transparent;\n      border-left-color: var(--fill-color);\n      border-top-color: var(--fill-color);\n    }\n    30% {\n      border-color: transparent;\n      border-left-color: var(--fill-color);\n      border-top-color: var(--fill-color);\n      border-right-color: var(--fill-color);\n    }\n    40% {\n      border-color: transparent;\n      border-right-color: var(--fill-color);\n      border-top-color: var(--fill-color);\n    }\n    60% {\n      border-color: transparent;\n      border-right-color: var(--fill-color);\n    }\n    80% {\n      border-color: transparent;\n      border-right-color: var(--fill-color);\n      border-bottom-color: var(--fill-color);\n    }\n    90% {\n      border-color: transparent;\n      border-bottom-color: var(--fill-color);\n    }\n  }\n</style>\n\n  <script>\n    async function quickchart(key) {\n      const quickchartButtonEl =\n        document.querySelector('#' + key + ' button');\n      quickchartButtonEl.disabled = true;  // To prevent multiple clicks.\n      quickchartButtonEl.classList.add('colab-df-spinner');\n      try {\n        const charts = await google.colab.kernel.invokeFunction(\n            'suggestCharts', [key], {});\n      } catch (error) {\n        console.error('Error during call to suggestCharts:', error);\n      }\n      quickchartButtonEl.classList.remove('colab-df-spinner');\n      quickchartButtonEl.classList.add('colab-df-quickchart-complete');\n    }\n    (() => {\n      let quickchartButtonEl =\n        document.querySelector('#df-7e86308c-8670-4f15-b3d5-50e2d2033fc9 button');\n      quickchartButtonEl.style.display =\n        google.colab.kernel.accessAllowed ? 'block' : 'none';\n    })();\n  </script>\n</div>\n\n    </div>\n  </div>\n",
                  "application/vnd.google.colaboratory.intrinsic+json": {
                    "type": "dataframe",
                    "summary": "{\n  \"name\": \"app = GUI(engine, Leader, group_num)\",\n  \"rows\": 30,\n  \"fields\": [\n    {\n      \"column\": \"Date\",\n      \"properties\": {\n        \"dtype\": \"number\",\n        \"std\": 8,\n        \"min\": 101,\n        \"max\": 130,\n        \"num_unique_values\": 30,\n        \"samples\": [\n          103,\n          115,\n          107\n        ],\n        \"semantic_type\": \"\",\n        \"description\": \"\"\n      }\n    },\n    {\n      \"column\": \"Leader Price\",\n      \"properties\": {\n        \"dtype\": \"number\",\n        \"std\": 0.0016086682141005987,\n        \"min\": 1.8612267596122427,\n        \"max\": 1.866526000079781,\n        \"num_unique_values\": 30,\n        \"samples\": [\n          1.861592224472073,\n          1.8637850136310543,\n          1.8623231541917336\n        ],\n        \"semantic_type\": \"\",\n        \"description\": \"\"\n      }\n    },\n    {\n      \"column\": \"Follower Price\",\n      \"properties\": {\n        \"dtype\": \"number\",\n        \"std\": 0.015183952321460494,\n        \"min\": 1.7944099776170996,\n        \"max\": 1.8453965651575066,\n        \"num_unique_values\": 30,\n        \"samples\": [\n          1.7992464656325315,\n          1.8214808940693,\n          1.8103123688816176\n        ],\n        \"semantic_type\": \"\",\n        \"description\": \"\"\n      }\n    },\n    {\n      \"column\": \"Cost\",\n      \"properties\": {\n        \"dtype\": \"number\",\n        \"std\": 0.0,\n        \"min\": 1.0,\n        \"max\": 1.0,\n        \"num_unique_values\": 1,\n        \"samples\": [\n          1.0\n        ],\n        \"semantic_type\": \"\",\n        \"description\": \"\"\n      }\n    }\n  ]\n}"
                  }
                },
                "metadata": {}
              }
            ]
          }
        },
        "94d8d1a139b34f0d9f6c300e6c32f1d6": {
          "model_module": "@jupyter-widgets/output",
          "model_name": "OutputModel",
          "model_module_version": "1.0.0",
          "state": {
            "_dom_classes": [],
            "_model_module": "@jupyter-widgets/output",
            "_model_module_version": "1.0.0",
            "_model_name": "OutputModel",
            "_view_count": null,
            "_view_module": "@jupyter-widgets/output",
            "_view_module_version": "1.0.0",
            "_view_name": "OutputView",
            "layout": "IPY_MODEL_963c4e426665496b8973cdbd8baa099e",
            "msg_id": "",
            "outputs": [
              {
                "output_type": "display_data",
                "data": {
                  "text/plain": "<IPython.core.display.HTML object>",
                  "text/html": "<br><br><br><br><br><br><br><br><br><br><b style='font-size: 17px;'><u>Profit made: 17.693309661898063</u></b>"
                },
                "metadata": {}
              }
            ]
          }
        },
        "51df3d13895040ccb75c8cd486bd80d9": {
          "model_module": "@jupyter-widgets/base",
          "model_name": "LayoutModel",
          "model_module_version": "1.2.0",
          "state": {
            "_model_module": "@jupyter-widgets/base",
            "_model_module_version": "1.2.0",
            "_model_name": "LayoutModel",
            "_view_count": null,
            "_view_module": "@jupyter-widgets/base",
            "_view_module_version": "1.2.0",
            "_view_name": "LayoutView",
            "align_content": null,
            "align_items": null,
            "align_self": null,
            "border": null,
            "bottom": null,
            "display": null,
            "flex": null,
            "flex_flow": null,
            "grid_area": null,
            "grid_auto_columns": null,
            "grid_auto_flow": null,
            "grid_auto_rows": null,
            "grid_column": null,
            "grid_gap": null,
            "grid_row": null,
            "grid_template_areas": null,
            "grid_template_columns": null,
            "grid_template_rows": null,
            "height": null,
            "justify_content": "initial",
            "justify_items": null,
            "left": null,
            "margin": null,
            "max_height": null,
            "max_width": null,
            "min_height": null,
            "min_width": null,
            "object_fit": null,
            "object_position": null,
            "order": null,
            "overflow": null,
            "overflow_x": null,
            "overflow_y": null,
            "padding": null,
            "right": null,
            "top": null,
            "visibility": null,
            "width": null
          }
        },
        "2d6c1f51e57f4126b8c026d5b7058e5a": {
          "model_module": "@jupyter-widgets/base",
          "model_name": "LayoutModel",
          "model_module_version": "1.2.0",
          "state": {
            "_model_module": "@jupyter-widgets/base",
            "_model_module_version": "1.2.0",
            "_model_name": "LayoutModel",
            "_view_count": null,
            "_view_module": "@jupyter-widgets/base",
            "_view_module_version": "1.2.0",
            "_view_name": "LayoutView",
            "align_content": null,
            "align_items": null,
            "align_self": null,
            "border": null,
            "bottom": null,
            "display": null,
            "flex": null,
            "flex_flow": null,
            "grid_area": null,
            "grid_auto_columns": null,
            "grid_auto_flow": null,
            "grid_auto_rows": null,
            "grid_column": null,
            "grid_gap": null,
            "grid_row": null,
            "grid_template_areas": null,
            "grid_template_columns": null,
            "grid_template_rows": null,
            "height": null,
            "justify_content": null,
            "justify_items": null,
            "left": null,
            "margin": null,
            "max_height": null,
            "max_width": null,
            "min_height": null,
            "min_width": null,
            "object_fit": null,
            "object_position": null,
            "order": null,
            "overflow": null,
            "overflow_x": null,
            "overflow_y": null,
            "padding": null,
            "right": null,
            "top": null,
            "visibility": null,
            "width": null
          }
        },
        "963c4e426665496b8973cdbd8baa099e": {
          "model_module": "@jupyter-widgets/base",
          "model_name": "LayoutModel",
          "model_module_version": "1.2.0",
          "state": {
            "_model_module": "@jupyter-widgets/base",
            "_model_module_version": "1.2.0",
            "_model_name": "LayoutModel",
            "_view_count": null,
            "_view_module": "@jupyter-widgets/base",
            "_view_module_version": "1.2.0",
            "_view_name": "LayoutView",
            "align_content": null,
            "align_items": null,
            "align_self": null,
            "border": null,
            "bottom": null,
            "display": null,
            "flex": null,
            "flex_flow": null,
            "grid_area": null,
            "grid_auto_columns": null,
            "grid_auto_flow": null,
            "grid_auto_rows": null,
            "grid_column": null,
            "grid_gap": null,
            "grid_row": null,
            "grid_template_areas": null,
            "grid_template_columns": null,
            "grid_template_rows": null,
            "height": null,
            "justify_content": null,
            "justify_items": null,
            "left": null,
            "margin": null,
            "max_height": null,
            "max_width": null,
            "min_height": null,
            "min_width": null,
            "object_fit": null,
            "object_position": null,
            "order": null,
            "overflow": null,
            "overflow_x": null,
            "overflow_y": null,
            "padding": null,
            "right": null,
            "top": null,
            "visibility": null,
            "width": null
          }
        },
        "c236b699b52b4045b4d656fe1c5bd746": {
          "model_module": "@jupyter-widgets/controls",
          "model_name": "HBoxModel",
          "model_module_version": "1.5.0",
          "state": {
            "_dom_classes": [],
            "_model_module": "@jupyter-widgets/controls",
            "_model_module_version": "1.5.0",
            "_model_name": "HBoxModel",
            "_view_count": null,
            "_view_module": "@jupyter-widgets/controls",
            "_view_module_version": "1.5.0",
            "_view_name": "HBoxView",
            "box_style": "",
            "children": [
              "IPY_MODEL_945f09e21f8246e6af63454ffad3b6d6",
              "IPY_MODEL_7a4cef8088cf444c915c4f3e75ca8033"
            ],
            "layout": "IPY_MODEL_94a78e1656c049d0bd004e2d2c7a389b"
          }
        },
        "945f09e21f8246e6af63454ffad3b6d6": {
          "model_module": "@jupyter-widgets/output",
          "model_name": "OutputModel",
          "model_module_version": "1.0.0",
          "state": {
            "_dom_classes": [],
            "_model_module": "@jupyter-widgets/output",
            "_model_module_version": "1.0.0",
            "_model_name": "OutputModel",
            "_view_count": null,
            "_view_module": "@jupyter-widgets/output",
            "_view_module_version": "1.0.0",
            "_view_name": "OutputView",
            "layout": "IPY_MODEL_200a86d8b151413e883c1b0564e4a0c9",
            "msg_id": "",
            "outputs": [
              {
                "output_type": "display_data",
                "data": {
                  "text/plain": "      Leader Price  Follower Price  Cost\nDate                                    \n130       1.880660        1.850311   1.0\n129       1.880241        1.849033   1.0\n128       1.879821        1.847474   1.0\n127       1.879401        1.845847   1.0\n126       1.878982        1.843244   1.0\n125       1.878562        1.841534   1.0\n124       1.878142        1.840573   1.0\n123       1.877723        1.842557   1.0\n122       1.877303        1.836935   1.0\n121       1.876883        1.836452   1.0\n120       1.876464        1.834437   1.0\n119       1.876044        1.832460   1.0\n118       1.875624        1.829700   1.0\n117       1.875205        1.828968   1.0\n116       1.874785        1.826325   1.0\n115       1.874365        1.825047   1.0\n114       1.873946        1.823355   1.0\n113       1.873526        1.822453   1.0\n112       1.873106        1.818415   1.0\n111       1.872687        1.817611   1.0\n110       1.872267        1.817341   1.0\n109       1.871847        1.815437   1.0\n108       1.871428        1.811858   1.0\n107       1.871008        1.813182   1.0\n106       1.870588        1.806890   1.0\n105       1.870169        1.805588   1.0\n104       1.869749        1.803354   1.0\n103       1.869329        1.801780   1.0\n102       1.868910        1.801773   1.0\n101       1.868490        1.796777   1.0",
                  "text/html": "\n  <div id=\"df-8d9730b0-1d35-44be-bb0e-dbdd943a0d5c\" class=\"colab-df-container\">\n    <div>\n<style scoped>\n    .dataframe tbody tr th:only-of-type {\n        vertical-align: middle;\n    }\n\n    .dataframe tbody tr th {\n        vertical-align: top;\n    }\n\n    .dataframe thead th {\n        text-align: right;\n    }\n</style>\n<table border=\"1\" class=\"dataframe\">\n  <thead>\n    <tr style=\"text-align: right;\">\n      <th></th>\n      <th>Leader Price</th>\n      <th>Follower Price</th>\n      <th>Cost</th>\n    </tr>\n    <tr>\n      <th>Date</th>\n      <th></th>\n      <th></th>\n      <th></th>\n    </tr>\n  </thead>\n  <tbody>\n    <tr>\n      <th>130</th>\n      <td>1.880660</td>\n      <td>1.850311</td>\n      <td>1.0</td>\n    </tr>\n    <tr>\n      <th>129</th>\n      <td>1.880241</td>\n      <td>1.849033</td>\n      <td>1.0</td>\n    </tr>\n    <tr>\n      <th>128</th>\n      <td>1.879821</td>\n      <td>1.847474</td>\n      <td>1.0</td>\n    </tr>\n    <tr>\n      <th>127</th>\n      <td>1.879401</td>\n      <td>1.845847</td>\n      <td>1.0</td>\n    </tr>\n    <tr>\n      <th>126</th>\n      <td>1.878982</td>\n      <td>1.843244</td>\n      <td>1.0</td>\n    </tr>\n    <tr>\n      <th>125</th>\n      <td>1.878562</td>\n      <td>1.841534</td>\n      <td>1.0</td>\n    </tr>\n    <tr>\n      <th>124</th>\n      <td>1.878142</td>\n      <td>1.840573</td>\n      <td>1.0</td>\n    </tr>\n    <tr>\n      <th>123</th>\n      <td>1.877723</td>\n      <td>1.842557</td>\n      <td>1.0</td>\n    </tr>\n    <tr>\n      <th>122</th>\n      <td>1.877303</td>\n      <td>1.836935</td>\n      <td>1.0</td>\n    </tr>\n    <tr>\n      <th>121</th>\n      <td>1.876883</td>\n      <td>1.836452</td>\n      <td>1.0</td>\n    </tr>\n    <tr>\n      <th>120</th>\n      <td>1.876464</td>\n      <td>1.834437</td>\n      <td>1.0</td>\n    </tr>\n    <tr>\n      <th>119</th>\n      <td>1.876044</td>\n      <td>1.832460</td>\n      <td>1.0</td>\n    </tr>\n    <tr>\n      <th>118</th>\n      <td>1.875624</td>\n      <td>1.829700</td>\n      <td>1.0</td>\n    </tr>\n    <tr>\n      <th>117</th>\n      <td>1.875205</td>\n      <td>1.828968</td>\n      <td>1.0</td>\n    </tr>\n    <tr>\n      <th>116</th>\n      <td>1.874785</td>\n      <td>1.826325</td>\n      <td>1.0</td>\n    </tr>\n    <tr>\n      <th>115</th>\n      <td>1.874365</td>\n      <td>1.825047</td>\n      <td>1.0</td>\n    </tr>\n    <tr>\n      <th>114</th>\n      <td>1.873946</td>\n      <td>1.823355</td>\n      <td>1.0</td>\n    </tr>\n    <tr>\n      <th>113</th>\n      <td>1.873526</td>\n      <td>1.822453</td>\n      <td>1.0</td>\n    </tr>\n    <tr>\n      <th>112</th>\n      <td>1.873106</td>\n      <td>1.818415</td>\n      <td>1.0</td>\n    </tr>\n    <tr>\n      <th>111</th>\n      <td>1.872687</td>\n      <td>1.817611</td>\n      <td>1.0</td>\n    </tr>\n    <tr>\n      <th>110</th>\n      <td>1.872267</td>\n      <td>1.817341</td>\n      <td>1.0</td>\n    </tr>\n    <tr>\n      <th>109</th>\n      <td>1.871847</td>\n      <td>1.815437</td>\n      <td>1.0</td>\n    </tr>\n    <tr>\n      <th>108</th>\n      <td>1.871428</td>\n      <td>1.811858</td>\n      <td>1.0</td>\n    </tr>\n    <tr>\n      <th>107</th>\n      <td>1.871008</td>\n      <td>1.813182</td>\n      <td>1.0</td>\n    </tr>\n    <tr>\n      <th>106</th>\n      <td>1.870588</td>\n      <td>1.806890</td>\n      <td>1.0</td>\n    </tr>\n    <tr>\n      <th>105</th>\n      <td>1.870169</td>\n      <td>1.805588</td>\n      <td>1.0</td>\n    </tr>\n    <tr>\n      <th>104</th>\n      <td>1.869749</td>\n      <td>1.803354</td>\n      <td>1.0</td>\n    </tr>\n    <tr>\n      <th>103</th>\n      <td>1.869329</td>\n      <td>1.801780</td>\n      <td>1.0</td>\n    </tr>\n    <tr>\n      <th>102</th>\n      <td>1.868910</td>\n      <td>1.801773</td>\n      <td>1.0</td>\n    </tr>\n    <tr>\n      <th>101</th>\n      <td>1.868490</td>\n      <td>1.796777</td>\n      <td>1.0</td>\n    </tr>\n  </tbody>\n</table>\n</div>\n    <div class=\"colab-df-buttons\">\n\n  <div class=\"colab-df-container\">\n    <button class=\"colab-df-convert\" onclick=\"convertToInteractive('df-8d9730b0-1d35-44be-bb0e-dbdd943a0d5c')\"\n            title=\"Convert this dataframe to an interactive table.\"\n            style=\"display:none;\">\n\n  <svg xmlns=\"http://www.w3.org/2000/svg\" height=\"24px\" viewBox=\"0 -960 960 960\">\n    <path d=\"M120-120v-720h720v720H120Zm60-500h600v-160H180v160Zm220 220h160v-160H400v160Zm0 220h160v-160H400v160ZM180-400h160v-160H180v160Zm440 0h160v-160H620v160ZM180-180h160v-160H180v160Zm440 0h160v-160H620v160Z\"/>\n  </svg>\n    </button>\n\n  <style>\n    .colab-df-container {\n      display:flex;\n      gap: 12px;\n    }\n\n    .colab-df-convert {\n      background-color: #E8F0FE;\n      border: none;\n      border-radius: 50%;\n      cursor: pointer;\n      display: none;\n      fill: #1967D2;\n      height: 32px;\n      padding: 0 0 0 0;\n      width: 32px;\n    }\n\n    .colab-df-convert:hover {\n      background-color: #E2EBFA;\n      box-shadow: 0px 1px 2px rgba(60, 64, 67, 0.3), 0px 1px 3px 1px rgba(60, 64, 67, 0.15);\n      fill: #174EA6;\n    }\n\n    .colab-df-buttons div {\n      margin-bottom: 4px;\n    }\n\n    [theme=dark] .colab-df-convert {\n      background-color: #3B4455;\n      fill: #D2E3FC;\n    }\n\n    [theme=dark] .colab-df-convert:hover {\n      background-color: #434B5C;\n      box-shadow: 0px 1px 3px 1px rgba(0, 0, 0, 0.15);\n      filter: drop-shadow(0px 1px 2px rgba(0, 0, 0, 0.3));\n      fill: #FFFFFF;\n    }\n  </style>\n\n    <script>\n      const buttonEl =\n        document.querySelector('#df-8d9730b0-1d35-44be-bb0e-dbdd943a0d5c button.colab-df-convert');\n      buttonEl.style.display =\n        google.colab.kernel.accessAllowed ? 'block' : 'none';\n\n      async function convertToInteractive(key) {\n        const element = document.querySelector('#df-8d9730b0-1d35-44be-bb0e-dbdd943a0d5c');\n        const dataTable =\n          await google.colab.kernel.invokeFunction('convertToInteractive',\n                                                    [key], {});\n        if (!dataTable) return;\n\n        const docLinkHtml = 'Like what you see? Visit the ' +\n          '<a target=\"_blank\" href=https://colab.research.google.com/notebooks/data_table.ipynb>data table notebook</a>'\n          + ' to learn more about interactive tables.';\n        element.innerHTML = '';\n        dataTable['output_type'] = 'display_data';\n        await google.colab.output.renderOutput(dataTable, element);\n        const docLink = document.createElement('div');\n        docLink.innerHTML = docLinkHtml;\n        element.appendChild(docLink);\n      }\n    </script>\n  </div>\n\n\n<div id=\"df-57e2f14d-0c36-408d-b96e-9fb875cb0176\">\n  <button class=\"colab-df-quickchart\" onclick=\"quickchart('df-57e2f14d-0c36-408d-b96e-9fb875cb0176')\"\n            title=\"Suggest charts\"\n            style=\"display:none;\">\n\n<svg xmlns=\"http://www.w3.org/2000/svg\" height=\"24px\"viewBox=\"0 0 24 24\"\n     width=\"24px\">\n    <g>\n        <path d=\"M19 3H5c-1.1 0-2 .9-2 2v14c0 1.1.9 2 2 2h14c1.1 0 2-.9 2-2V5c0-1.1-.9-2-2-2zM9 17H7v-7h2v7zm4 0h-2V7h2v10zm4 0h-2v-4h2v4z\"/>\n    </g>\n</svg>\n  </button>\n\n<style>\n  .colab-df-quickchart {\n      --bg-color: #E8F0FE;\n      --fill-color: #1967D2;\n      --hover-bg-color: #E2EBFA;\n      --hover-fill-color: #174EA6;\n      --disabled-fill-color: #AAA;\n      --disabled-bg-color: #DDD;\n  }\n\n  [theme=dark] .colab-df-quickchart {\n      --bg-color: #3B4455;\n      --fill-color: #D2E3FC;\n      --hover-bg-color: #434B5C;\n      --hover-fill-color: #FFFFFF;\n      --disabled-bg-color: #3B4455;\n      --disabled-fill-color: #666;\n  }\n\n  .colab-df-quickchart {\n    background-color: var(--bg-color);\n    border: none;\n    border-radius: 50%;\n    cursor: pointer;\n    display: none;\n    fill: var(--fill-color);\n    height: 32px;\n    padding: 0;\n    width: 32px;\n  }\n\n  .colab-df-quickchart:hover {\n    background-color: var(--hover-bg-color);\n    box-shadow: 0 1px 2px rgba(60, 64, 67, 0.3), 0 1px 3px 1px rgba(60, 64, 67, 0.15);\n    fill: var(--button-hover-fill-color);\n  }\n\n  .colab-df-quickchart-complete:disabled,\n  .colab-df-quickchart-complete:disabled:hover {\n    background-color: var(--disabled-bg-color);\n    fill: var(--disabled-fill-color);\n    box-shadow: none;\n  }\n\n  .colab-df-spinner {\n    border: 2px solid var(--fill-color);\n    border-color: transparent;\n    border-bottom-color: var(--fill-color);\n    animation:\n      spin 1s steps(1) infinite;\n  }\n\n  @keyframes spin {\n    0% {\n      border-color: transparent;\n      border-bottom-color: var(--fill-color);\n      border-left-color: var(--fill-color);\n    }\n    20% {\n      border-color: transparent;\n      border-left-color: var(--fill-color);\n      border-top-color: var(--fill-color);\n    }\n    30% {\n      border-color: transparent;\n      border-left-color: var(--fill-color);\n      border-top-color: var(--fill-color);\n      border-right-color: var(--fill-color);\n    }\n    40% {\n      border-color: transparent;\n      border-right-color: var(--fill-color);\n      border-top-color: var(--fill-color);\n    }\n    60% {\n      border-color: transparent;\n      border-right-color: var(--fill-color);\n    }\n    80% {\n      border-color: transparent;\n      border-right-color: var(--fill-color);\n      border-bottom-color: var(--fill-color);\n    }\n    90% {\n      border-color: transparent;\n      border-bottom-color: var(--fill-color);\n    }\n  }\n</style>\n\n  <script>\n    async function quickchart(key) {\n      const quickchartButtonEl =\n        document.querySelector('#' + key + ' button');\n      quickchartButtonEl.disabled = true;  // To prevent multiple clicks.\n      quickchartButtonEl.classList.add('colab-df-spinner');\n      try {\n        const charts = await google.colab.kernel.invokeFunction(\n            'suggestCharts', [key], {});\n      } catch (error) {\n        console.error('Error during call to suggestCharts:', error);\n      }\n      quickchartButtonEl.classList.remove('colab-df-spinner');\n      quickchartButtonEl.classList.add('colab-df-quickchart-complete');\n    }\n    (() => {\n      let quickchartButtonEl =\n        document.querySelector('#df-57e2f14d-0c36-408d-b96e-9fb875cb0176 button');\n      quickchartButtonEl.style.display =\n        google.colab.kernel.accessAllowed ? 'block' : 'none';\n    })();\n  </script>\n</div>\n\n    </div>\n  </div>\n",
                  "application/vnd.google.colaboratory.intrinsic+json": {
                    "type": "dataframe",
                    "summary": "{\n  \"name\": \"app = GUI(engine, Leader, group_num)\",\n  \"rows\": 30,\n  \"fields\": [\n    {\n      \"column\": \"Date\",\n      \"properties\": {\n        \"dtype\": \"number\",\n        \"std\": 8,\n        \"min\": 101,\n        \"max\": 130,\n        \"num_unique_values\": 30,\n        \"samples\": [\n          103,\n          115,\n          107\n        ],\n        \"semantic_type\": \"\",\n        \"description\": \"\"\n      }\n    },\n    {\n      \"column\": \"Leader Price\",\n      \"properties\": {\n        \"dtype\": \"number\",\n        \"std\": 0.0036944858140417975,\n        \"min\": 1.8684899326791753,\n        \"max\": 1.8806602289285244,\n        \"num_unique_values\": 30,\n        \"samples\": [\n          1.8693292634549925,\n          1.8743652481098956,\n          1.8710079250066267\n        ],\n        \"semantic_type\": \"\",\n        \"description\": \"\"\n      }\n    },\n    {\n      \"column\": \"Follower Price\",\n      \"properties\": {\n        \"dtype\": \"number\",\n        \"std\": 0.015954322157788473,\n        \"min\": 1.7967767756863662,\n        \"max\": 1.8503111907548115,\n        \"num_unique_values\": 30,\n        \"samples\": [\n          1.8017802001565764,\n          1.825046776679062,\n          1.813181617160876\n        ],\n        \"semantic_type\": \"\",\n        \"description\": \"\"\n      }\n    },\n    {\n      \"column\": \"Cost\",\n      \"properties\": {\n        \"dtype\": \"number\",\n        \"std\": 0.0,\n        \"min\": 1.0,\n        \"max\": 1.0,\n        \"num_unique_values\": 1,\n        \"samples\": [\n          1.0\n        ],\n        \"semantic_type\": \"\",\n        \"description\": \"\"\n      }\n    }\n  ]\n}"
                  }
                },
                "metadata": {}
              }
            ]
          }
        },
        "7a4cef8088cf444c915c4f3e75ca8033": {
          "model_module": "@jupyter-widgets/output",
          "model_name": "OutputModel",
          "model_module_version": "1.0.0",
          "state": {
            "_dom_classes": [],
            "_model_module": "@jupyter-widgets/output",
            "_model_module_version": "1.0.0",
            "_model_name": "OutputModel",
            "_view_count": null,
            "_view_module": "@jupyter-widgets/output",
            "_view_module_version": "1.0.0",
            "_view_name": "OutputView",
            "layout": "IPY_MODEL_324a08a78a3d47298b8e6bb026c17352",
            "msg_id": "",
            "outputs": [
              {
                "output_type": "display_data",
                "data": {
                  "text/plain": "<IPython.core.display.HTML object>",
                  "text/html": "<br><br><br><br><br><br><br><br><br><br><b style='font-size: 17px;'><u>Profit made: 17.660200549660306</u></b>"
                },
                "metadata": {}
              }
            ]
          }
        },
        "94a78e1656c049d0bd004e2d2c7a389b": {
          "model_module": "@jupyter-widgets/base",
          "model_name": "LayoutModel",
          "model_module_version": "1.2.0",
          "state": {
            "_model_module": "@jupyter-widgets/base",
            "_model_module_version": "1.2.0",
            "_model_name": "LayoutModel",
            "_view_count": null,
            "_view_module": "@jupyter-widgets/base",
            "_view_module_version": "1.2.0",
            "_view_name": "LayoutView",
            "align_content": null,
            "align_items": null,
            "align_self": null,
            "border": null,
            "bottom": null,
            "display": null,
            "flex": null,
            "flex_flow": null,
            "grid_area": null,
            "grid_auto_columns": null,
            "grid_auto_flow": null,
            "grid_auto_rows": null,
            "grid_column": null,
            "grid_gap": null,
            "grid_row": null,
            "grid_template_areas": null,
            "grid_template_columns": null,
            "grid_template_rows": null,
            "height": null,
            "justify_content": "initial",
            "justify_items": null,
            "left": null,
            "margin": null,
            "max_height": null,
            "max_width": null,
            "min_height": null,
            "min_width": null,
            "object_fit": null,
            "object_position": null,
            "order": null,
            "overflow": null,
            "overflow_x": null,
            "overflow_y": null,
            "padding": null,
            "right": null,
            "top": null,
            "visibility": null,
            "width": null
          }
        },
        "200a86d8b151413e883c1b0564e4a0c9": {
          "model_module": "@jupyter-widgets/base",
          "model_name": "LayoutModel",
          "model_module_version": "1.2.0",
          "state": {
            "_model_module": "@jupyter-widgets/base",
            "_model_module_version": "1.2.0",
            "_model_name": "LayoutModel",
            "_view_count": null,
            "_view_module": "@jupyter-widgets/base",
            "_view_module_version": "1.2.0",
            "_view_name": "LayoutView",
            "align_content": null,
            "align_items": null,
            "align_self": null,
            "border": null,
            "bottom": null,
            "display": null,
            "flex": null,
            "flex_flow": null,
            "grid_area": null,
            "grid_auto_columns": null,
            "grid_auto_flow": null,
            "grid_auto_rows": null,
            "grid_column": null,
            "grid_gap": null,
            "grid_row": null,
            "grid_template_areas": null,
            "grid_template_columns": null,
            "grid_template_rows": null,
            "height": null,
            "justify_content": null,
            "justify_items": null,
            "left": null,
            "margin": null,
            "max_height": null,
            "max_width": null,
            "min_height": null,
            "min_width": null,
            "object_fit": null,
            "object_position": null,
            "order": null,
            "overflow": null,
            "overflow_x": null,
            "overflow_y": null,
            "padding": null,
            "right": null,
            "top": null,
            "visibility": null,
            "width": null
          }
        },
        "324a08a78a3d47298b8e6bb026c17352": {
          "model_module": "@jupyter-widgets/base",
          "model_name": "LayoutModel",
          "model_module_version": "1.2.0",
          "state": {
            "_model_module": "@jupyter-widgets/base",
            "_model_module_version": "1.2.0",
            "_model_name": "LayoutModel",
            "_view_count": null,
            "_view_module": "@jupyter-widgets/base",
            "_view_module_version": "1.2.0",
            "_view_name": "LayoutView",
            "align_content": null,
            "align_items": null,
            "align_self": null,
            "border": null,
            "bottom": null,
            "display": null,
            "flex": null,
            "flex_flow": null,
            "grid_area": null,
            "grid_auto_columns": null,
            "grid_auto_flow": null,
            "grid_auto_rows": null,
            "grid_column": null,
            "grid_gap": null,
            "grid_row": null,
            "grid_template_areas": null,
            "grid_template_columns": null,
            "grid_template_rows": null,
            "height": null,
            "justify_content": null,
            "justify_items": null,
            "left": null,
            "margin": null,
            "max_height": null,
            "max_width": null,
            "min_height": null,
            "min_width": null,
            "object_fit": null,
            "object_position": null,
            "order": null,
            "overflow": null,
            "overflow_x": null,
            "overflow_y": null,
            "padding": null,
            "right": null,
            "top": null,
            "visibility": null,
            "width": null
          }
        }
      }
    }
  },
  "nbformat": 4,
  "nbformat_minor": 0
}