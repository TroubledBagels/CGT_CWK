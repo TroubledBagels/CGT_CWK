{
  "nbformat": 4,
  "nbformat_minor": 0,
  "metadata": {
    "colab": {
      "provenance": [],
      "toc_visible": true
    },
    "kernelspec": {
      "name": "python3",
      "display_name": "Python 3"
    },
    "language_info": {
      "name": "python"
    },
    "widgets": {
      "application/vnd.jupyter.widget-state+json": {
        "22ce51a5b84448f797ac79adcac6b610": {
          "model_module": "@jupyter-widgets/controls",
          "model_name": "VBoxModel",
          "model_module_version": "1.5.0",
          "state": {
            "_dom_classes": [],
            "_model_module": "@jupyter-widgets/controls",
            "_model_module_version": "1.5.0",
            "_model_name": "VBoxModel",
            "_view_count": null,
            "_view_module": "@jupyter-widgets/controls",
            "_view_module_version": "1.5.0",
            "_view_name": "VBoxView",
            "box_style": "",
            "children": [
              "IPY_MODEL_84e4c0d1379340beb455baff77aa230a",
              "IPY_MODEL_613961e789d143de8c49c18fc179f791",
              "IPY_MODEL_6f0b8de30b30438399e332884980cffd",
              "IPY_MODEL_0972e127dfa34358b35a78030972449a",
              "IPY_MODEL_3e9345d6926643caa5bae228e4f27bb2",
              "IPY_MODEL_3b10b8fbc3cd47c3b6d6877d36b788d7",
              "IPY_MODEL_fa8c12ae74e54e31b5f70da7358604dc"
            ],
            "layout": "IPY_MODEL_76927f88b5ac4c09aca3bf71ead04185"
          }
        },
        "84e4c0d1379340beb455baff77aa230a": {
          "model_module": "@jupyter-widgets/controls",
          "model_name": "DropdownModel",
          "model_module_version": "1.5.0",
          "state": {
            "_dom_classes": [],
            "_model_module": "@jupyter-widgets/controls",
            "_model_module_version": "1.5.0",
            "_model_name": "DropdownModel",
            "_options_labels": [
              "SimpleLeader"
            ],
            "_view_count": null,
            "_view_module": "@jupyter-widgets/controls",
            "_view_module_version": "1.5.0",
            "_view_name": "DropdownView",
            "description": "Leader:  ",
            "description_tooltip": null,
            "disabled": false,
            "index": 0,
            "layout": "IPY_MODEL_667afd1e41854ca38c148ad3e6f49605",
            "style": "IPY_MODEL_a1388fb1244842ad854d856021c68a79"
          }
        },
        "613961e789d143de8c49c18fc179f791": {
          "model_module": "@jupyter-widgets/controls",
          "model_name": "DropdownModel",
          "model_module_version": "1.5.0",
          "state": {
            "_dom_classes": [],
            "_model_module": "@jupyter-widgets/controls",
            "_model_module_version": "1.5.0",
            "_model_name": "DropdownModel",
            "_options_labels": [
              "MK1",
              "MK2",
              "MK3"
            ],
            "_view_count": null,
            "_view_module": "@jupyter-widgets/controls",
            "_view_module_version": "1.5.0",
            "_view_name": "DropdownView",
            "description": "Follower:",
            "description_tooltip": null,
            "disabled": false,
            "index": 0,
            "layout": "IPY_MODEL_f0561235d8574455a09ea03aa40c268c",
            "style": "IPY_MODEL_e7346c80261945f39c3df2866b7a2aa1"
          }
        },
        "6f0b8de30b30438399e332884980cffd": {
          "model_module": "@jupyter-widgets/controls",
          "model_name": "IntSliderModel",
          "model_module_version": "1.5.0",
          "state": {
            "_dom_classes": [],
            "_model_module": "@jupyter-widgets/controls",
            "_model_module_version": "1.5.0",
            "_model_name": "IntSliderModel",
            "_view_count": null,
            "_view_module": "@jupyter-widgets/controls",
            "_view_module_version": "1.5.0",
            "_view_name": "IntSliderView",
            "continuous_update": true,
            "description": "Start Date:",
            "description_tooltip": null,
            "disabled": false,
            "layout": "IPY_MODEL_be37efeb353448c39b5e321e4ba7f93c",
            "max": 130,
            "min": 101,
            "orientation": "horizontal",
            "readout": true,
            "readout_format": "d",
            "step": 1,
            "style": "IPY_MODEL_6a03e09e8a4f4d5ab9b3f652318ef8d2",
            "value": 101
          }
        },
        "0972e127dfa34358b35a78030972449a": {
          "model_module": "@jupyter-widgets/controls",
          "model_name": "IntSliderModel",
          "model_module_version": "1.5.0",
          "state": {
            "_dom_classes": [],
            "_model_module": "@jupyter-widgets/controls",
            "_model_module_version": "1.5.0",
            "_model_name": "IntSliderModel",
            "_view_count": null,
            "_view_module": "@jupyter-widgets/controls",
            "_view_module_version": "1.5.0",
            "_view_name": "IntSliderView",
            "continuous_update": true,
            "description": "End Date:  ",
            "description_tooltip": null,
            "disabled": false,
            "layout": "IPY_MODEL_15d10d6ff24d44408d34b62bd24cc5bd",
            "max": 130,
            "min": 101,
            "orientation": "horizontal",
            "readout": true,
            "readout_format": "d",
            "step": 1,
            "style": "IPY_MODEL_2edd21731cba4f87affb8e1807f8a472",
            "value": 130
          }
        },
        "3e9345d6926643caa5bae228e4f27bb2": {
          "model_module": "@jupyter-widgets/controls",
          "model_name": "HBoxModel",
          "model_module_version": "1.5.0",
          "state": {
            "_dom_classes": [],
            "_model_module": "@jupyter-widgets/controls",
            "_model_module_version": "1.5.0",
            "_model_name": "HBoxModel",
            "_view_count": null,
            "_view_module": "@jupyter-widgets/controls",
            "_view_module_version": "1.5.0",
            "_view_name": "HBoxView",
            "box_style": "",
            "children": [
              "IPY_MODEL_81b8e8c90db14964bad179a7abf72611",
              "IPY_MODEL_521252e625d6466ba2c832bfaecbd40a"
            ],
            "layout": "IPY_MODEL_537cf72663c649c5a31083b7d2637411"
          }
        },
        "3b10b8fbc3cd47c3b6d6877d36b788d7": {
          "model_module": "@jupyter-widgets/controls",
          "model_name": "HBoxModel",
          "model_module_version": "1.5.0",
          "state": {
            "_dom_classes": [],
            "_model_module": "@jupyter-widgets/controls",
            "_model_module_version": "1.5.0",
            "_model_name": "HBoxModel",
            "_view_count": null,
            "_view_module": "@jupyter-widgets/controls",
            "_view_module_version": "1.5.0",
            "_view_name": "HBoxView",
            "box_style": "",
            "children": [
              "IPY_MODEL_e980da335b344c08ad22b2b60951d666",
              "IPY_MODEL_615f9b55b8cc4a85975c015ff7110ca6"
            ],
            "layout": "IPY_MODEL_b2076eb1d73f43d6af1772bad77cfa38"
          }
        },
        "fa8c12ae74e54e31b5f70da7358604dc": {
          "model_module": "@jupyter-widgets/output",
          "model_name": "OutputModel",
          "model_module_version": "1.0.0",
          "state": {
            "_dom_classes": [],
            "_model_module": "@jupyter-widgets/output",
            "_model_module_version": "1.0.0",
            "_model_name": "OutputModel",
            "_view_count": null,
            "_view_module": "@jupyter-widgets/output",
            "_view_module_version": "1.0.0",
            "_view_name": "OutputView",
            "layout": "IPY_MODEL_d9b39a6907b44d8499cc766bfea9d352",
            "msg_id": "",
            "outputs": [
              {
                "output_type": "display_data",
                "data": {
                  "text/plain": "HBox(children=(Output(), Output()), layout=Layout(justify_content='initial'))",
                  "application/vnd.jupyter.widget-view+json": {
                    "version_major": 2,
                    "version_minor": 0,
                    "model_id": "2b2f0d2553d1489bb965db7834383a71"
                  }
                },
                "metadata": {}
              }
            ]
          }
        },
        "76927f88b5ac4c09aca3bf71ead04185": {
          "model_module": "@jupyter-widgets/base",
          "model_name": "LayoutModel",
          "model_module_version": "1.2.0",
          "state": {
            "_model_module": "@jupyter-widgets/base",
            "_model_module_version": "1.2.0",
            "_model_name": "LayoutModel",
            "_view_count": null,
            "_view_module": "@jupyter-widgets/base",
            "_view_module_version": "1.2.0",
            "_view_name": "LayoutView",
            "align_content": null,
            "align_items": null,
            "align_self": null,
            "border": null,
            "bottom": null,
            "display": null,
            "flex": null,
            "flex_flow": null,
            "grid_area": null,
            "grid_auto_columns": null,
            "grid_auto_flow": null,
            "grid_auto_rows": null,
            "grid_column": null,
            "grid_gap": null,
            "grid_row": null,
            "grid_template_areas": null,
            "grid_template_columns": null,
            "grid_template_rows": null,
            "height": null,
            "justify_content": null,
            "justify_items": null,
            "left": null,
            "margin": null,
            "max_height": null,
            "max_width": null,
            "min_height": null,
            "min_width": null,
            "object_fit": null,
            "object_position": null,
            "order": null,
            "overflow": null,
            "overflow_x": null,
            "overflow_y": null,
            "padding": null,
            "right": null,
            "top": null,
            "visibility": null,
            "width": null
          }
        },
        "667afd1e41854ca38c148ad3e6f49605": {
          "model_module": "@jupyter-widgets/base",
          "model_name": "LayoutModel",
          "model_module_version": "1.2.0",
          "state": {
            "_model_module": "@jupyter-widgets/base",
            "_model_module_version": "1.2.0",
            "_model_name": "LayoutModel",
            "_view_count": null,
            "_view_module": "@jupyter-widgets/base",
            "_view_module_version": "1.2.0",
            "_view_name": "LayoutView",
            "align_content": null,
            "align_items": null,
            "align_self": null,
            "border": null,
            "bottom": null,
            "display": null,
            "flex": null,
            "flex_flow": null,
            "grid_area": null,
            "grid_auto_columns": null,
            "grid_auto_flow": null,
            "grid_auto_rows": null,
            "grid_column": null,
            "grid_gap": null,
            "grid_row": null,
            "grid_template_areas": null,
            "grid_template_columns": null,
            "grid_template_rows": null,
            "height": null,
            "justify_content": null,
            "justify_items": null,
            "left": null,
            "margin": null,
            "max_height": null,
            "max_width": null,
            "min_height": null,
            "min_width": null,
            "object_fit": null,
            "object_position": null,
            "order": null,
            "overflow": null,
            "overflow_x": null,
            "overflow_y": null,
            "padding": null,
            "right": null,
            "top": null,
            "visibility": null,
            "width": "250px"
          }
        },
        "a1388fb1244842ad854d856021c68a79": {
          "model_module": "@jupyter-widgets/controls",
          "model_name": "DescriptionStyleModel",
          "model_module_version": "1.5.0",
          "state": {
            "_model_module": "@jupyter-widgets/controls",
            "_model_module_version": "1.5.0",
            "_model_name": "DescriptionStyleModel",
            "_view_count": null,
            "_view_module": "@jupyter-widgets/base",
            "_view_module_version": "1.2.0",
            "_view_name": "StyleView",
            "description_width": "initial"
          }
        },
        "f0561235d8574455a09ea03aa40c268c": {
          "model_module": "@jupyter-widgets/base",
          "model_name": "LayoutModel",
          "model_module_version": "1.2.0",
          "state": {
            "_model_module": "@jupyter-widgets/base",
            "_model_module_version": "1.2.0",
            "_model_name": "LayoutModel",
            "_view_count": null,
            "_view_module": "@jupyter-widgets/base",
            "_view_module_version": "1.2.0",
            "_view_name": "LayoutView",
            "align_content": null,
            "align_items": null,
            "align_self": null,
            "border": null,
            "bottom": null,
            "display": null,
            "flex": null,
            "flex_flow": null,
            "grid_area": null,
            "grid_auto_columns": null,
            "grid_auto_flow": null,
            "grid_auto_rows": null,
            "grid_column": null,
            "grid_gap": null,
            "grid_row": null,
            "grid_template_areas": null,
            "grid_template_columns": null,
            "grid_template_rows": null,
            "height": null,
            "justify_content": null,
            "justify_items": null,
            "left": null,
            "margin": null,
            "max_height": null,
            "max_width": null,
            "min_height": null,
            "min_width": null,
            "object_fit": null,
            "object_position": null,
            "order": null,
            "overflow": null,
            "overflow_x": null,
            "overflow_y": null,
            "padding": null,
            "right": null,
            "top": null,
            "visibility": null,
            "width": "250px"
          }
        },
        "e7346c80261945f39c3df2866b7a2aa1": {
          "model_module": "@jupyter-widgets/controls",
          "model_name": "DescriptionStyleModel",
          "model_module_version": "1.5.0",
          "state": {
            "_model_module": "@jupyter-widgets/controls",
            "_model_module_version": "1.5.0",
            "_model_name": "DescriptionStyleModel",
            "_view_count": null,
            "_view_module": "@jupyter-widgets/base",
            "_view_module_version": "1.2.0",
            "_view_name": "StyleView",
            "description_width": "initial"
          }
        },
        "be37efeb353448c39b5e321e4ba7f93c": {
          "model_module": "@jupyter-widgets/base",
          "model_name": "LayoutModel",
          "model_module_version": "1.2.0",
          "state": {
            "_model_module": "@jupyter-widgets/base",
            "_model_module_version": "1.2.0",
            "_model_name": "LayoutModel",
            "_view_count": null,
            "_view_module": "@jupyter-widgets/base",
            "_view_module_version": "1.2.0",
            "_view_name": "LayoutView",
            "align_content": null,
            "align_items": null,
            "align_self": null,
            "border": null,
            "bottom": null,
            "display": null,
            "flex": null,
            "flex_flow": null,
            "grid_area": null,
            "grid_auto_columns": null,
            "grid_auto_flow": null,
            "grid_auto_rows": null,
            "grid_column": null,
            "grid_gap": null,
            "grid_row": null,
            "grid_template_areas": null,
            "grid_template_columns": null,
            "grid_template_rows": null,
            "height": null,
            "justify_content": null,
            "justify_items": null,
            "left": null,
            "margin": null,
            "max_height": null,
            "max_width": null,
            "min_height": null,
            "min_width": null,
            "object_fit": null,
            "object_position": null,
            "order": null,
            "overflow": null,
            "overflow_x": null,
            "overflow_y": null,
            "padding": null,
            "right": null,
            "top": null,
            "visibility": null,
            "width": "300px"
          }
        },
        "6a03e09e8a4f4d5ab9b3f652318ef8d2": {
          "model_module": "@jupyter-widgets/controls",
          "model_name": "SliderStyleModel",
          "model_module_version": "1.5.0",
          "state": {
            "_model_module": "@jupyter-widgets/controls",
            "_model_module_version": "1.5.0",
            "_model_name": "SliderStyleModel",
            "_view_count": null,
            "_view_module": "@jupyter-widgets/base",
            "_view_module_version": "1.2.0",
            "_view_name": "StyleView",
            "description_width": "initial",
            "handle_color": null
          }
        },
        "15d10d6ff24d44408d34b62bd24cc5bd": {
          "model_module": "@jupyter-widgets/base",
          "model_name": "LayoutModel",
          "model_module_version": "1.2.0",
          "state": {
            "_model_module": "@jupyter-widgets/base",
            "_model_module_version": "1.2.0",
            "_model_name": "LayoutModel",
            "_view_count": null,
            "_view_module": "@jupyter-widgets/base",
            "_view_module_version": "1.2.0",
            "_view_name": "LayoutView",
            "align_content": null,
            "align_items": null,
            "align_self": null,
            "border": null,
            "bottom": null,
            "display": null,
            "flex": null,
            "flex_flow": null,
            "grid_area": null,
            "grid_auto_columns": null,
            "grid_auto_flow": null,
            "grid_auto_rows": null,
            "grid_column": null,
            "grid_gap": null,
            "grid_row": null,
            "grid_template_areas": null,
            "grid_template_columns": null,
            "grid_template_rows": null,
            "height": null,
            "justify_content": null,
            "justify_items": null,
            "left": null,
            "margin": null,
            "max_height": null,
            "max_width": null,
            "min_height": null,
            "min_width": null,
            "object_fit": null,
            "object_position": null,
            "order": null,
            "overflow": null,
            "overflow_x": null,
            "overflow_y": null,
            "padding": null,
            "right": null,
            "top": null,
            "visibility": null,
            "width": "300px"
          }
        },
        "2edd21731cba4f87affb8e1807f8a472": {
          "model_module": "@jupyter-widgets/controls",
          "model_name": "SliderStyleModel",
          "model_module_version": "1.5.0",
          "state": {
            "_model_module": "@jupyter-widgets/controls",
            "_model_module_version": "1.5.0",
            "_model_name": "SliderStyleModel",
            "_view_count": null,
            "_view_module": "@jupyter-widgets/base",
            "_view_module_version": "1.2.0",
            "_view_name": "StyleView",
            "description_width": "initial",
            "handle_color": null
          }
        },
        "81b8e8c90db14964bad179a7abf72611": {
          "model_module": "@jupyter-widgets/controls",
          "model_name": "HTMLModel",
          "model_module_version": "1.5.0",
          "state": {
            "_dom_classes": [],
            "_model_module": "@jupyter-widgets/controls",
            "_model_module_version": "1.5.0",
            "_model_name": "HTMLModel",
            "_view_count": null,
            "_view_module": "@jupyter-widgets/controls",
            "_view_module_version": "1.5.0",
            "_view_name": "HTMLView",
            "description": "",
            "description_tooltip": null,
            "layout": "IPY_MODEL_2aa77f5fcab94c2a8173f5e416e66300",
            "placeholder": "​",
            "style": "IPY_MODEL_fa1ba1c785e146cba527380826599fd9",
            "value": "Status:<span style='color: green;'> Connected to SimpleLeader and MK1"
          }
        },
        "521252e625d6466ba2c832bfaecbd40a": {
          "model_module": "@jupyter-widgets/controls",
          "model_name": "ButtonModel",
          "model_module_version": "1.5.0",
          "state": {
            "_dom_classes": [],
            "_model_module": "@jupyter-widgets/controls",
            "_model_module_version": "1.5.0",
            "_model_name": "ButtonModel",
            "_view_count": null,
            "_view_module": "@jupyter-widgets/controls",
            "_view_module_version": "1.5.0",
            "_view_name": "ButtonView",
            "button_style": "",
            "description": "Connect",
            "disabled": false,
            "icon": "",
            "layout": "IPY_MODEL_5482c5ed590c4153a29087c0916fe23a",
            "style": "IPY_MODEL_5c71fa8d1b6f47de8427c6067d0f8b00",
            "tooltip": ""
          }
        },
        "537cf72663c649c5a31083b7d2637411": {
          "model_module": "@jupyter-widgets/base",
          "model_name": "LayoutModel",
          "model_module_version": "1.2.0",
          "state": {
            "_model_module": "@jupyter-widgets/base",
            "_model_module_version": "1.2.0",
            "_model_name": "LayoutModel",
            "_view_count": null,
            "_view_module": "@jupyter-widgets/base",
            "_view_module_version": "1.2.0",
            "_view_name": "LayoutView",
            "align_content": null,
            "align_items": null,
            "align_self": null,
            "border": null,
            "bottom": null,
            "display": null,
            "flex": null,
            "flex_flow": null,
            "grid_area": null,
            "grid_auto_columns": null,
            "grid_auto_flow": null,
            "grid_auto_rows": null,
            "grid_column": null,
            "grid_gap": null,
            "grid_row": null,
            "grid_template_areas": null,
            "grid_template_columns": null,
            "grid_template_rows": null,
            "height": null,
            "justify_content": null,
            "justify_items": null,
            "left": null,
            "margin": null,
            "max_height": null,
            "max_width": null,
            "min_height": null,
            "min_width": null,
            "object_fit": null,
            "object_position": null,
            "order": null,
            "overflow": null,
            "overflow_x": null,
            "overflow_y": null,
            "padding": null,
            "right": null,
            "top": null,
            "visibility": null,
            "width": null
          }
        },
        "e980da335b344c08ad22b2b60951d666": {
          "model_module": "@jupyter-widgets/controls",
          "model_name": "ButtonModel",
          "model_module_version": "1.5.0",
          "state": {
            "_dom_classes": [],
            "_model_module": "@jupyter-widgets/controls",
            "_model_module_version": "1.5.0",
            "_model_name": "ButtonModel",
            "_view_count": null,
            "_view_module": "@jupyter-widgets/controls",
            "_view_module_version": "1.5.0",
            "_view_name": "ButtonView",
            "button_style": "",
            "description": "Start Simulation",
            "disabled": false,
            "icon": "",
            "layout": "IPY_MODEL_6aee4a90d0ba40cc89e248c4d19b96bb",
            "style": "IPY_MODEL_4323af4af00c4d42b46e962134725302",
            "tooltip": ""
          }
        },
        "615f9b55b8cc4a85975c015ff7110ca6": {
          "model_module": "@jupyter-widgets/controls",
          "model_name": "ButtonModel",
          "model_module_version": "1.5.0",
          "state": {
            "_dom_classes": [],
            "_model_module": "@jupyter-widgets/controls",
            "_model_module_version": "1.5.0",
            "_model_name": "ButtonModel",
            "_view_count": null,
            "_view_module": "@jupyter-widgets/controls",
            "_view_module_version": "1.5.0",
            "_view_name": "ButtonView",
            "button_style": "",
            "description": "Export Data",
            "disabled": false,
            "icon": "",
            "layout": "IPY_MODEL_6655fd4ce7b748c598b37dd7d58b0c66",
            "style": "IPY_MODEL_16317a17d1f5465a9b09c74f9b9ef62e",
            "tooltip": ""
          }
        },
        "b2076eb1d73f43d6af1772bad77cfa38": {
          "model_module": "@jupyter-widgets/base",
          "model_name": "LayoutModel",
          "model_module_version": "1.2.0",
          "state": {
            "_model_module": "@jupyter-widgets/base",
            "_model_module_version": "1.2.0",
            "_model_name": "LayoutModel",
            "_view_count": null,
            "_view_module": "@jupyter-widgets/base",
            "_view_module_version": "1.2.0",
            "_view_name": "LayoutView",
            "align_content": null,
            "align_items": null,
            "align_self": null,
            "border": null,
            "bottom": null,
            "display": null,
            "flex": null,
            "flex_flow": null,
            "grid_area": null,
            "grid_auto_columns": null,
            "grid_auto_flow": null,
            "grid_auto_rows": null,
            "grid_column": null,
            "grid_gap": null,
            "grid_row": null,
            "grid_template_areas": null,
            "grid_template_columns": null,
            "grid_template_rows": null,
            "height": null,
            "justify_content": null,
            "justify_items": null,
            "left": null,
            "margin": null,
            "max_height": null,
            "max_width": null,
            "min_height": null,
            "min_width": null,
            "object_fit": null,
            "object_position": null,
            "order": null,
            "overflow": null,
            "overflow_x": null,
            "overflow_y": null,
            "padding": null,
            "right": null,
            "top": null,
            "visibility": null,
            "width": null
          }
        },
        "2aa77f5fcab94c2a8173f5e416e66300": {
          "model_module": "@jupyter-widgets/base",
          "model_name": "LayoutModel",
          "model_module_version": "1.2.0",
          "state": {
            "_model_module": "@jupyter-widgets/base",
            "_model_module_version": "1.2.0",
            "_model_name": "LayoutModel",
            "_view_count": null,
            "_view_module": "@jupyter-widgets/base",
            "_view_module_version": "1.2.0",
            "_view_name": "LayoutView",
            "align_content": null,
            "align_items": null,
            "align_self": null,
            "border": null,
            "bottom": null,
            "display": null,
            "flex": null,
            "flex_flow": null,
            "grid_area": null,
            "grid_auto_columns": null,
            "grid_auto_flow": null,
            "grid_auto_rows": null,
            "grid_column": null,
            "grid_gap": null,
            "grid_row": null,
            "grid_template_areas": null,
            "grid_template_columns": null,
            "grid_template_rows": null,
            "height": null,
            "justify_content": null,
            "justify_items": null,
            "left": null,
            "margin": null,
            "max_height": null,
            "max_width": null,
            "min_height": null,
            "min_width": null,
            "object_fit": null,
            "object_position": null,
            "order": null,
            "overflow": null,
            "overflow_x": null,
            "overflow_y": null,
            "padding": null,
            "right": null,
            "top": null,
            "visibility": null,
            "width": "300px"
          }
        },
        "fa1ba1c785e146cba527380826599fd9": {
          "model_module": "@jupyter-widgets/controls",
          "model_name": "DescriptionStyleModel",
          "model_module_version": "1.5.0",
          "state": {
            "_model_module": "@jupyter-widgets/controls",
            "_model_module_version": "1.5.0",
            "_model_name": "DescriptionStyleModel",
            "_view_count": null,
            "_view_module": "@jupyter-widgets/base",
            "_view_module_version": "1.2.0",
            "_view_name": "StyleView",
            "description_width": ""
          }
        },
        "5482c5ed590c4153a29087c0916fe23a": {
          "model_module": "@jupyter-widgets/base",
          "model_name": "LayoutModel",
          "model_module_version": "1.2.0",
          "state": {
            "_model_module": "@jupyter-widgets/base",
            "_model_module_version": "1.2.0",
            "_model_name": "LayoutModel",
            "_view_count": null,
            "_view_module": "@jupyter-widgets/base",
            "_view_module_version": "1.2.0",
            "_view_name": "LayoutView",
            "align_content": null,
            "align_items": null,
            "align_self": null,
            "border": null,
            "bottom": null,
            "display": null,
            "flex": null,
            "flex_flow": null,
            "grid_area": null,
            "grid_auto_columns": null,
            "grid_auto_flow": null,
            "grid_auto_rows": null,
            "grid_column": null,
            "grid_gap": null,
            "grid_row": null,
            "grid_template_areas": null,
            "grid_template_columns": null,
            "grid_template_rows": null,
            "height": null,
            "justify_content": null,
            "justify_items": null,
            "left": null,
            "margin": null,
            "max_height": null,
            "max_width": null,
            "min_height": null,
            "min_width": null,
            "object_fit": null,
            "object_position": null,
            "order": null,
            "overflow": null,
            "overflow_x": null,
            "overflow_y": null,
            "padding": null,
            "right": null,
            "top": null,
            "visibility": null,
            "width": "100px"
          }
        },
        "5c71fa8d1b6f47de8427c6067d0f8b00": {
          "model_module": "@jupyter-widgets/controls",
          "model_name": "ButtonStyleModel",
          "model_module_version": "1.5.0",
          "state": {
            "_model_module": "@jupyter-widgets/controls",
            "_model_module_version": "1.5.0",
            "_model_name": "ButtonStyleModel",
            "_view_count": null,
            "_view_module": "@jupyter-widgets/base",
            "_view_module_version": "1.2.0",
            "_view_name": "StyleView",
            "button_color": null,
            "font_weight": ""
          }
        },
        "6aee4a90d0ba40cc89e248c4d19b96bb": {
          "model_module": "@jupyter-widgets/base",
          "model_name": "LayoutModel",
          "model_module_version": "1.2.0",
          "state": {
            "_model_module": "@jupyter-widgets/base",
            "_model_module_version": "1.2.0",
            "_model_name": "LayoutModel",
            "_view_count": null,
            "_view_module": "@jupyter-widgets/base",
            "_view_module_version": "1.2.0",
            "_view_name": "LayoutView",
            "align_content": null,
            "align_items": null,
            "align_self": null,
            "border": null,
            "bottom": null,
            "display": null,
            "flex": null,
            "flex_flow": null,
            "grid_area": null,
            "grid_auto_columns": null,
            "grid_auto_flow": null,
            "grid_auto_rows": null,
            "grid_column": null,
            "grid_gap": null,
            "grid_row": null,
            "grid_template_areas": null,
            "grid_template_columns": null,
            "grid_template_rows": null,
            "height": null,
            "justify_content": null,
            "justify_items": null,
            "left": null,
            "margin": null,
            "max_height": null,
            "max_width": null,
            "min_height": null,
            "min_width": null,
            "object_fit": null,
            "object_position": null,
            "order": null,
            "overflow": null,
            "overflow_x": null,
            "overflow_y": null,
            "padding": null,
            "right": null,
            "top": null,
            "visibility": null,
            "width": "200px"
          }
        },
        "4323af4af00c4d42b46e962134725302": {
          "model_module": "@jupyter-widgets/controls",
          "model_name": "ButtonStyleModel",
          "model_module_version": "1.5.0",
          "state": {
            "_model_module": "@jupyter-widgets/controls",
            "_model_module_version": "1.5.0",
            "_model_name": "ButtonStyleModel",
            "_view_count": null,
            "_view_module": "@jupyter-widgets/base",
            "_view_module_version": "1.2.0",
            "_view_name": "StyleView",
            "button_color": null,
            "font_weight": ""
          }
        },
        "6655fd4ce7b748c598b37dd7d58b0c66": {
          "model_module": "@jupyter-widgets/base",
          "model_name": "LayoutModel",
          "model_module_version": "1.2.0",
          "state": {
            "_model_module": "@jupyter-widgets/base",
            "_model_module_version": "1.2.0",
            "_model_name": "LayoutModel",
            "_view_count": null,
            "_view_module": "@jupyter-widgets/base",
            "_view_module_version": "1.2.0",
            "_view_name": "LayoutView",
            "align_content": null,
            "align_items": null,
            "align_self": null,
            "border": null,
            "bottom": null,
            "display": null,
            "flex": null,
            "flex_flow": null,
            "grid_area": null,
            "grid_auto_columns": null,
            "grid_auto_flow": null,
            "grid_auto_rows": null,
            "grid_column": null,
            "grid_gap": null,
            "grid_row": null,
            "grid_template_areas": null,
            "grid_template_columns": null,
            "grid_template_rows": null,
            "height": null,
            "justify_content": null,
            "justify_items": null,
            "left": null,
            "margin": null,
            "max_height": null,
            "max_width": null,
            "min_height": null,
            "min_width": null,
            "object_fit": null,
            "object_position": null,
            "order": null,
            "overflow": null,
            "overflow_x": null,
            "overflow_y": null,
            "padding": null,
            "right": null,
            "top": null,
            "visibility": null,
            "width": "200px"
          }
        },
        "16317a17d1f5465a9b09c74f9b9ef62e": {
          "model_module": "@jupyter-widgets/controls",
          "model_name": "ButtonStyleModel",
          "model_module_version": "1.5.0",
          "state": {
            "_model_module": "@jupyter-widgets/controls",
            "_model_module_version": "1.5.0",
            "_model_name": "ButtonStyleModel",
            "_view_count": null,
            "_view_module": "@jupyter-widgets/base",
            "_view_module_version": "1.2.0",
            "_view_name": "StyleView",
            "button_color": null,
            "font_weight": ""
          }
        },
        "d9b39a6907b44d8499cc766bfea9d352": {
          "model_module": "@jupyter-widgets/base",
          "model_name": "LayoutModel",
          "model_module_version": "1.2.0",
          "state": {
            "_model_module": "@jupyter-widgets/base",
            "_model_module_version": "1.2.0",
            "_model_name": "LayoutModel",
            "_view_count": null,
            "_view_module": "@jupyter-widgets/base",
            "_view_module_version": "1.2.0",
            "_view_name": "LayoutView",
            "align_content": null,
            "align_items": null,
            "align_self": null,
            "border": null,
            "bottom": null,
            "display": null,
            "flex": null,
            "flex_flow": null,
            "grid_area": null,
            "grid_auto_columns": null,
            "grid_auto_flow": null,
            "grid_auto_rows": null,
            "grid_column": null,
            "grid_gap": null,
            "grid_row": null,
            "grid_template_areas": null,
            "grid_template_columns": null,
            "grid_template_rows": null,
            "height": null,
            "justify_content": null,
            "justify_items": null,
            "left": null,
            "margin": null,
            "max_height": null,
            "max_width": null,
            "min_height": null,
            "min_width": null,
            "object_fit": null,
            "object_position": null,
            "order": null,
            "overflow": null,
            "overflow_x": null,
            "overflow_y": null,
            "padding": null,
            "right": null,
            "top": null,
            "visibility": null,
            "width": null
          }
        },
        "0a2dea89b9b5434093dd95f6ba319b55": {
          "model_module": "@jupyter-widgets/controls",
          "model_name": "HBoxModel",
          "model_module_version": "1.5.0",
          "state": {
            "_dom_classes": [],
            "_model_module": "@jupyter-widgets/controls",
            "_model_module_version": "1.5.0",
            "_model_name": "HBoxModel",
            "_view_count": null,
            "_view_module": "@jupyter-widgets/controls",
            "_view_module_version": "1.5.0",
            "_view_name": "HBoxView",
            "box_style": "",
            "children": [
              "IPY_MODEL_3f4e4fd52ae14bb6bc5eaf6a9d284d60",
              "IPY_MODEL_12235c862ad54c618f1a72730ed60a01"
            ],
            "layout": "IPY_MODEL_a7174d806214469caf2f2ce19357736c"
          }
        },
        "3f4e4fd52ae14bb6bc5eaf6a9d284d60": {
          "model_module": "@jupyter-widgets/output",
          "model_name": "OutputModel",
          "model_module_version": "1.0.0",
          "state": {
            "_dom_classes": [],
            "_model_module": "@jupyter-widgets/output",
            "_model_module_version": "1.0.0",
            "_model_name": "OutputModel",
            "_view_count": null,
            "_view_module": "@jupyter-widgets/output",
            "_view_module_version": "1.0.0",
            "_view_name": "OutputView",
            "layout": "IPY_MODEL_d6f7991d778245ea849fd03b2b4afdeb",
            "msg_id": "",
            "outputs": [
              {
                "output_type": "display_data",
                "data": {
                  "text/plain": "      Leader Price  Follower Price  Cost\nDate                                    \n130       1.520318        1.755768   1.0\n129       1.537799        1.817376   1.0\n128       1.500179        1.734766   1.0\n127       1.520409        1.769880   1.0\n126       1.567354        1.780544   1.0\n125       1.528006        1.774364   1.0\n124       1.583474        1.744894   1.0\n123       1.552393        1.748393   1.0\n122       1.558650        1.807614   1.0\n121       1.527833        1.746554   1.0\n120       1.560752        1.763060   1.0\n119       1.585264        1.767979   1.0\n118       1.551078        1.752900   1.0\n117       1.552762        1.750271   1.0\n116       1.588282        1.746548   1.0\n115       1.573508        1.792475   1.0\n114       1.502652        1.758519   1.0\n113       1.530365        1.734717   1.0\n112       1.538828        1.735316   1.0\n111       1.500948        1.778957   1.0\n110       1.511175        1.738997   1.0\n109       1.537934        1.807141   1.0\n108       1.581338        1.755034   1.0\n107       1.509543        1.778541   1.0\n106       1.548708        1.791287   1.0\n105       1.587510        1.808927   1.0\n104       1.522149        1.765805   1.0\n103       1.567784        1.742466   1.0\n102       1.545114        1.732403   1.0\n101       1.595766        1.811643   1.0",
                  "text/html": "\n  <div id=\"df-d1725675-a814-41da-9685-97e9ffccaf85\" class=\"colab-df-container\">\n    <div>\n<style scoped>\n    .dataframe tbody tr th:only-of-type {\n        vertical-align: middle;\n    }\n\n    .dataframe tbody tr th {\n        vertical-align: top;\n    }\n\n    .dataframe thead th {\n        text-align: right;\n    }\n</style>\n<table border=\"1\" class=\"dataframe\">\n  <thead>\n    <tr style=\"text-align: right;\">\n      <th></th>\n      <th>Leader Price</th>\n      <th>Follower Price</th>\n      <th>Cost</th>\n    </tr>\n    <tr>\n      <th>Date</th>\n      <th></th>\n      <th></th>\n      <th></th>\n    </tr>\n  </thead>\n  <tbody>\n    <tr>\n      <th>130</th>\n      <td>1.520318</td>\n      <td>1.755768</td>\n      <td>1.0</td>\n    </tr>\n    <tr>\n      <th>129</th>\n      <td>1.537799</td>\n      <td>1.817376</td>\n      <td>1.0</td>\n    </tr>\n    <tr>\n      <th>128</th>\n      <td>1.500179</td>\n      <td>1.734766</td>\n      <td>1.0</td>\n    </tr>\n    <tr>\n      <th>127</th>\n      <td>1.520409</td>\n      <td>1.769880</td>\n      <td>1.0</td>\n    </tr>\n    <tr>\n      <th>126</th>\n      <td>1.567354</td>\n      <td>1.780544</td>\n      <td>1.0</td>\n    </tr>\n    <tr>\n      <th>125</th>\n      <td>1.528006</td>\n      <td>1.774364</td>\n      <td>1.0</td>\n    </tr>\n    <tr>\n      <th>124</th>\n      <td>1.583474</td>\n      <td>1.744894</td>\n      <td>1.0</td>\n    </tr>\n    <tr>\n      <th>123</th>\n      <td>1.552393</td>\n      <td>1.748393</td>\n      <td>1.0</td>\n    </tr>\n    <tr>\n      <th>122</th>\n      <td>1.558650</td>\n      <td>1.807614</td>\n      <td>1.0</td>\n    </tr>\n    <tr>\n      <th>121</th>\n      <td>1.527833</td>\n      <td>1.746554</td>\n      <td>1.0</td>\n    </tr>\n    <tr>\n      <th>120</th>\n      <td>1.560752</td>\n      <td>1.763060</td>\n      <td>1.0</td>\n    </tr>\n    <tr>\n      <th>119</th>\n      <td>1.585264</td>\n      <td>1.767979</td>\n      <td>1.0</td>\n    </tr>\n    <tr>\n      <th>118</th>\n      <td>1.551078</td>\n      <td>1.752900</td>\n      <td>1.0</td>\n    </tr>\n    <tr>\n      <th>117</th>\n      <td>1.552762</td>\n      <td>1.750271</td>\n      <td>1.0</td>\n    </tr>\n    <tr>\n      <th>116</th>\n      <td>1.588282</td>\n      <td>1.746548</td>\n      <td>1.0</td>\n    </tr>\n    <tr>\n      <th>115</th>\n      <td>1.573508</td>\n      <td>1.792475</td>\n      <td>1.0</td>\n    </tr>\n    <tr>\n      <th>114</th>\n      <td>1.502652</td>\n      <td>1.758519</td>\n      <td>1.0</td>\n    </tr>\n    <tr>\n      <th>113</th>\n      <td>1.530365</td>\n      <td>1.734717</td>\n      <td>1.0</td>\n    </tr>\n    <tr>\n      <th>112</th>\n      <td>1.538828</td>\n      <td>1.735316</td>\n      <td>1.0</td>\n    </tr>\n    <tr>\n      <th>111</th>\n      <td>1.500948</td>\n      <td>1.778957</td>\n      <td>1.0</td>\n    </tr>\n    <tr>\n      <th>110</th>\n      <td>1.511175</td>\n      <td>1.738997</td>\n      <td>1.0</td>\n    </tr>\n    <tr>\n      <th>109</th>\n      <td>1.537934</td>\n      <td>1.807141</td>\n      <td>1.0</td>\n    </tr>\n    <tr>\n      <th>108</th>\n      <td>1.581338</td>\n      <td>1.755034</td>\n      <td>1.0</td>\n    </tr>\n    <tr>\n      <th>107</th>\n      <td>1.509543</td>\n      <td>1.778541</td>\n      <td>1.0</td>\n    </tr>\n    <tr>\n      <th>106</th>\n      <td>1.548708</td>\n      <td>1.791287</td>\n      <td>1.0</td>\n    </tr>\n    <tr>\n      <th>105</th>\n      <td>1.587510</td>\n      <td>1.808927</td>\n      <td>1.0</td>\n    </tr>\n    <tr>\n      <th>104</th>\n      <td>1.522149</td>\n      <td>1.765805</td>\n      <td>1.0</td>\n    </tr>\n    <tr>\n      <th>103</th>\n      <td>1.567784</td>\n      <td>1.742466</td>\n      <td>1.0</td>\n    </tr>\n    <tr>\n      <th>102</th>\n      <td>1.545114</td>\n      <td>1.732403</td>\n      <td>1.0</td>\n    </tr>\n    <tr>\n      <th>101</th>\n      <td>1.595766</td>\n      <td>1.811643</td>\n      <td>1.0</td>\n    </tr>\n  </tbody>\n</table>\n</div>\n    <div class=\"colab-df-buttons\">\n\n  <div class=\"colab-df-container\">\n    <button class=\"colab-df-convert\" onclick=\"convertToInteractive('df-d1725675-a814-41da-9685-97e9ffccaf85')\"\n            title=\"Convert this dataframe to an interactive table.\"\n            style=\"display:none;\">\n\n  <svg xmlns=\"http://www.w3.org/2000/svg\" height=\"24px\" viewBox=\"0 -960 960 960\">\n    <path d=\"M120-120v-720h720v720H120Zm60-500h600v-160H180v160Zm220 220h160v-160H400v160Zm0 220h160v-160H400v160ZM180-400h160v-160H180v160Zm440 0h160v-160H620v160ZM180-180h160v-160H180v160Zm440 0h160v-160H620v160Z\"/>\n  </svg>\n    </button>\n\n  <style>\n    .colab-df-container {\n      display:flex;\n      gap: 12px;\n    }\n\n    .colab-df-convert {\n      background-color: #E8F0FE;\n      border: none;\n      border-radius: 50%;\n      cursor: pointer;\n      display: none;\n      fill: #1967D2;\n      height: 32px;\n      padding: 0 0 0 0;\n      width: 32px;\n    }\n\n    .colab-df-convert:hover {\n      background-color: #E2EBFA;\n      box-shadow: 0px 1px 2px rgba(60, 64, 67, 0.3), 0px 1px 3px 1px rgba(60, 64, 67, 0.15);\n      fill: #174EA6;\n    }\n\n    .colab-df-buttons div {\n      margin-bottom: 4px;\n    }\n\n    [theme=dark] .colab-df-convert {\n      background-color: #3B4455;\n      fill: #D2E3FC;\n    }\n\n    [theme=dark] .colab-df-convert:hover {\n      background-color: #434B5C;\n      box-shadow: 0px 1px 3px 1px rgba(0, 0, 0, 0.15);\n      filter: drop-shadow(0px 1px 2px rgba(0, 0, 0, 0.3));\n      fill: #FFFFFF;\n    }\n  </style>\n\n    <script>\n      const buttonEl =\n        document.querySelector('#df-d1725675-a814-41da-9685-97e9ffccaf85 button.colab-df-convert');\n      buttonEl.style.display =\n        google.colab.kernel.accessAllowed ? 'block' : 'none';\n\n      async function convertToInteractive(key) {\n        const element = document.querySelector('#df-d1725675-a814-41da-9685-97e9ffccaf85');\n        const dataTable =\n          await google.colab.kernel.invokeFunction('convertToInteractive',\n                                                    [key], {});\n        if (!dataTable) return;\n\n        const docLinkHtml = 'Like what you see? Visit the ' +\n          '<a target=\"_blank\" href=https://colab.research.google.com/notebooks/data_table.ipynb>data table notebook</a>'\n          + ' to learn more about interactive tables.';\n        element.innerHTML = '';\n        dataTable['output_type'] = 'display_data';\n        await google.colab.output.renderOutput(dataTable, element);\n        const docLink = document.createElement('div');\n        docLink.innerHTML = docLinkHtml;\n        element.appendChild(docLink);\n      }\n    </script>\n  </div>\n\n\n<div id=\"df-618a0649-4a30-4db0-bbb2-739d5c2f9f47\">\n  <button class=\"colab-df-quickchart\" onclick=\"quickchart('df-618a0649-4a30-4db0-bbb2-739d5c2f9f47')\"\n            title=\"Suggest charts\"\n            style=\"display:none;\">\n\n<svg xmlns=\"http://www.w3.org/2000/svg\" height=\"24px\"viewBox=\"0 0 24 24\"\n     width=\"24px\">\n    <g>\n        <path d=\"M19 3H5c-1.1 0-2 .9-2 2v14c0 1.1.9 2 2 2h14c1.1 0 2-.9 2-2V5c0-1.1-.9-2-2-2zM9 17H7v-7h2v7zm4 0h-2V7h2v10zm4 0h-2v-4h2v4z\"/>\n    </g>\n</svg>\n  </button>\n\n<style>\n  .colab-df-quickchart {\n      --bg-color: #E8F0FE;\n      --fill-color: #1967D2;\n      --hover-bg-color: #E2EBFA;\n      --hover-fill-color: #174EA6;\n      --disabled-fill-color: #AAA;\n      --disabled-bg-color: #DDD;\n  }\n\n  [theme=dark] .colab-df-quickchart {\n      --bg-color: #3B4455;\n      --fill-color: #D2E3FC;\n      --hover-bg-color: #434B5C;\n      --hover-fill-color: #FFFFFF;\n      --disabled-bg-color: #3B4455;\n      --disabled-fill-color: #666;\n  }\n\n  .colab-df-quickchart {\n    background-color: var(--bg-color);\n    border: none;\n    border-radius: 50%;\n    cursor: pointer;\n    display: none;\n    fill: var(--fill-color);\n    height: 32px;\n    padding: 0;\n    width: 32px;\n  }\n\n  .colab-df-quickchart:hover {\n    background-color: var(--hover-bg-color);\n    box-shadow: 0 1px 2px rgba(60, 64, 67, 0.3), 0 1px 3px 1px rgba(60, 64, 67, 0.15);\n    fill: var(--button-hover-fill-color);\n  }\n\n  .colab-df-quickchart-complete:disabled,\n  .colab-df-quickchart-complete:disabled:hover {\n    background-color: var(--disabled-bg-color);\n    fill: var(--disabled-fill-color);\n    box-shadow: none;\n  }\n\n  .colab-df-spinner {\n    border: 2px solid var(--fill-color);\n    border-color: transparent;\n    border-bottom-color: var(--fill-color);\n    animation:\n      spin 1s steps(1) infinite;\n  }\n\n  @keyframes spin {\n    0% {\n      border-color: transparent;\n      border-bottom-color: var(--fill-color);\n      border-left-color: var(--fill-color);\n    }\n    20% {\n      border-color: transparent;\n      border-left-color: var(--fill-color);\n      border-top-color: var(--fill-color);\n    }\n    30% {\n      border-color: transparent;\n      border-left-color: var(--fill-color);\n      border-top-color: var(--fill-color);\n      border-right-color: var(--fill-color);\n    }\n    40% {\n      border-color: transparent;\n      border-right-color: var(--fill-color);\n      border-top-color: var(--fill-color);\n    }\n    60% {\n      border-color: transparent;\n      border-right-color: var(--fill-color);\n    }\n    80% {\n      border-color: transparent;\n      border-right-color: var(--fill-color);\n      border-bottom-color: var(--fill-color);\n    }\n    90% {\n      border-color: transparent;\n      border-bottom-color: var(--fill-color);\n    }\n  }\n</style>\n\n  <script>\n    async function quickchart(key) {\n      const quickchartButtonEl =\n        document.querySelector('#' + key + ' button');\n      quickchartButtonEl.disabled = true;  // To prevent multiple clicks.\n      quickchartButtonEl.classList.add('colab-df-spinner');\n      try {\n        const charts = await google.colab.kernel.invokeFunction(\n            'suggestCharts', [key], {});\n      } catch (error) {\n        console.error('Error during call to suggestCharts:', error);\n      }\n      quickchartButtonEl.classList.remove('colab-df-spinner');\n      quickchartButtonEl.classList.add('colab-df-quickchart-complete');\n    }\n    (() => {\n      let quickchartButtonEl =\n        document.querySelector('#df-618a0649-4a30-4db0-bbb2-739d5c2f9f47 button');\n      quickchartButtonEl.style.display =\n        google.colab.kernel.accessAllowed ? 'block' : 'none';\n    })();\n  </script>\n</div>\n\n    </div>\n  </div>\n",
                  "application/vnd.google.colaboratory.intrinsic+json": {
                    "type": "dataframe",
                    "summary": "{\n  \"name\": \"app = GUI(engine, Leader, group_num)\",\n  \"rows\": 30,\n  \"fields\": [\n    {\n      \"column\": \"Date\",\n      \"properties\": {\n        \"dtype\": \"number\",\n        \"std\": 8,\n        \"min\": 101,\n        \"max\": 130,\n        \"num_unique_values\": 30,\n        \"samples\": [\n          103,\n          115,\n          107\n        ],\n        \"semantic_type\": \"\",\n        \"description\": \"\"\n      }\n    },\n    {\n      \"column\": \"Leader Price\",\n      \"properties\": {\n        \"dtype\": \"number\",\n        \"std\": 0.028696477601250405,\n        \"min\": 1.500178744103615,\n        \"max\": 1.5957663332427179,\n        \"num_unique_values\": 30,\n        \"samples\": [\n          1.5677836323038987,\n          1.573508159662745,\n          1.509542908976693\n        ],\n        \"semantic_type\": \"\",\n        \"description\": \"\"\n      }\n    },\n    {\n      \"column\": \"Follower Price\",\n      \"properties\": {\n        \"dtype\": \"number\",\n        \"std\": 0.025916408083774878,\n        \"min\": 1.732402980259992,\n        \"max\": 1.8173760329561077,\n        \"num_unique_values\": 30,\n        \"samples\": [\n          1.742466257357673,\n          1.7924752009329876,\n          1.7785409610452074\n        ],\n        \"semantic_type\": \"\",\n        \"description\": \"\"\n      }\n    },\n    {\n      \"column\": \"Cost\",\n      \"properties\": {\n        \"dtype\": \"number\",\n        \"std\": 0.0,\n        \"min\": 1.0,\n        \"max\": 1.0,\n        \"num_unique_values\": 1,\n        \"samples\": [\n          1.0\n        ],\n        \"semantic_type\": \"\",\n        \"description\": \"\"\n      }\n    }\n  ]\n}"
                  }
                },
                "metadata": {}
              }
            ]
          }
        },
        "12235c862ad54c618f1a72730ed60a01": {
          "model_module": "@jupyter-widgets/output",
          "model_name": "OutputModel",
          "model_module_version": "1.0.0",
          "state": {
            "_dom_classes": [],
            "_model_module": "@jupyter-widgets/output",
            "_model_module_version": "1.0.0",
            "_model_name": "OutputModel",
            "_view_count": null,
            "_view_module": "@jupyter-widgets/output",
            "_view_module_version": "1.0.0",
            "_view_name": "OutputView",
            "layout": "IPY_MODEL_cd02916efda44f96a47bd43e8c638fb8",
            "msg_id": "",
            "outputs": [
              {
                "output_type": "display_data",
                "data": {
                  "text/plain": "<IPython.core.display.HTML object>",
                  "text/html": "<br><br><br><br><br><br><br><br><br><br><b style='font-size: 17px;'><u>Profit made: 16.097840595390522</u></b>"
                },
                "metadata": {}
              }
            ]
          }
        },
        "a7174d806214469caf2f2ce19357736c": {
          "model_module": "@jupyter-widgets/base",
          "model_name": "LayoutModel",
          "model_module_version": "1.2.0",
          "state": {
            "_model_module": "@jupyter-widgets/base",
            "_model_module_version": "1.2.0",
            "_model_name": "LayoutModel",
            "_view_count": null,
            "_view_module": "@jupyter-widgets/base",
            "_view_module_version": "1.2.0",
            "_view_name": "LayoutView",
            "align_content": null,
            "align_items": null,
            "align_self": null,
            "border": null,
            "bottom": null,
            "display": null,
            "flex": null,
            "flex_flow": null,
            "grid_area": null,
            "grid_auto_columns": null,
            "grid_auto_flow": null,
            "grid_auto_rows": null,
            "grid_column": null,
            "grid_gap": null,
            "grid_row": null,
            "grid_template_areas": null,
            "grid_template_columns": null,
            "grid_template_rows": null,
            "height": null,
            "justify_content": "initial",
            "justify_items": null,
            "left": null,
            "margin": null,
            "max_height": null,
            "max_width": null,
            "min_height": null,
            "min_width": null,
            "object_fit": null,
            "object_position": null,
            "order": null,
            "overflow": null,
            "overflow_x": null,
            "overflow_y": null,
            "padding": null,
            "right": null,
            "top": null,
            "visibility": null,
            "width": null
          }
        },
        "d6f7991d778245ea849fd03b2b4afdeb": {
          "model_module": "@jupyter-widgets/base",
          "model_name": "LayoutModel",
          "model_module_version": "1.2.0",
          "state": {
            "_model_module": "@jupyter-widgets/base",
            "_model_module_version": "1.2.0",
            "_model_name": "LayoutModel",
            "_view_count": null,
            "_view_module": "@jupyter-widgets/base",
            "_view_module_version": "1.2.0",
            "_view_name": "LayoutView",
            "align_content": null,
            "align_items": null,
            "align_self": null,
            "border": null,
            "bottom": null,
            "display": null,
            "flex": null,
            "flex_flow": null,
            "grid_area": null,
            "grid_auto_columns": null,
            "grid_auto_flow": null,
            "grid_auto_rows": null,
            "grid_column": null,
            "grid_gap": null,
            "grid_row": null,
            "grid_template_areas": null,
            "grid_template_columns": null,
            "grid_template_rows": null,
            "height": null,
            "justify_content": null,
            "justify_items": null,
            "left": null,
            "margin": null,
            "max_height": null,
            "max_width": null,
            "min_height": null,
            "min_width": null,
            "object_fit": null,
            "object_position": null,
            "order": null,
            "overflow": null,
            "overflow_x": null,
            "overflow_y": null,
            "padding": null,
            "right": null,
            "top": null,
            "visibility": null,
            "width": null
          }
        },
        "cd02916efda44f96a47bd43e8c638fb8": {
          "model_module": "@jupyter-widgets/base",
          "model_name": "LayoutModel",
          "model_module_version": "1.2.0",
          "state": {
            "_model_module": "@jupyter-widgets/base",
            "_model_module_version": "1.2.0",
            "_model_name": "LayoutModel",
            "_view_count": null,
            "_view_module": "@jupyter-widgets/base",
            "_view_module_version": "1.2.0",
            "_view_name": "LayoutView",
            "align_content": null,
            "align_items": null,
            "align_self": null,
            "border": null,
            "bottom": null,
            "display": null,
            "flex": null,
            "flex_flow": null,
            "grid_area": null,
            "grid_auto_columns": null,
            "grid_auto_flow": null,
            "grid_auto_rows": null,
            "grid_column": null,
            "grid_gap": null,
            "grid_row": null,
            "grid_template_areas": null,
            "grid_template_columns": null,
            "grid_template_rows": null,
            "height": null,
            "justify_content": null,
            "justify_items": null,
            "left": null,
            "margin": null,
            "max_height": null,
            "max_width": null,
            "min_height": null,
            "min_width": null,
            "object_fit": null,
            "object_position": null,
            "order": null,
            "overflow": null,
            "overflow_x": null,
            "overflow_y": null,
            "padding": null,
            "right": null,
            "top": null,
            "visibility": null,
            "width": null
          }
        },
        "2b2f0d2553d1489bb965db7834383a71": {
          "model_module": "@jupyter-widgets/controls",
          "model_name": "HBoxModel",
          "model_module_version": "1.5.0",
          "state": {
            "_dom_classes": [],
            "_model_module": "@jupyter-widgets/controls",
            "_model_module_version": "1.5.0",
            "_model_name": "HBoxModel",
            "_view_count": null,
            "_view_module": "@jupyter-widgets/controls",
            "_view_module_version": "1.5.0",
            "_view_name": "HBoxView",
            "box_style": "",
            "children": [
              "IPY_MODEL_1a33e2c1685c4fee9e2118783547c4ba",
              "IPY_MODEL_88002c537473416abfb7678ee889a546"
            ],
            "layout": "IPY_MODEL_5a0c2ee2a4c741cd845f843e1bfaf3df"
          }
        },
        "1a33e2c1685c4fee9e2118783547c4ba": {
          "model_module": "@jupyter-widgets/output",
          "model_name": "OutputModel",
          "model_module_version": "1.0.0",
          "state": {
            "_dom_classes": [],
            "_model_module": "@jupyter-widgets/output",
            "_model_module_version": "1.0.0",
            "_model_name": "OutputModel",
            "_view_count": null,
            "_view_module": "@jupyter-widgets/output",
            "_view_module_version": "1.0.0",
            "_view_name": "OutputView",
            "layout": "IPY_MODEL_fb7bc9ac0ff045de9b30ba2aa48adc5e",
            "msg_id": "",
            "outputs": [
              {
                "output_type": "display_data",
                "data": {
                  "text/plain": "      Leader Price  Follower Price  Cost\nDate                                    \n130       1.533516        1.757803   1.0\n129       1.581989        1.824591   1.0\n128       1.516870        1.737294   1.0\n127       1.578963        1.779039   1.0\n126       1.591447        1.784324   1.0\n125       1.513852        1.772143   1.0\n124       1.592245        1.746219   1.0\n123       1.565258        1.750354   1.0\n122       1.543263        1.805133   1.0\n121       1.579116        1.754383   1.0\n120       1.555695        1.762279   1.0\n119       1.591244        1.768904   1.0\n118       1.578435        1.757088   1.0\n117       1.561863        1.751660   1.0\n116       1.542425        1.739611   1.0\n115       1.507784        1.782052   1.0\n114       1.535486        1.763612   1.0\n113       1.523209        1.733638   1.0\n112       1.579096        1.741384   1.0\n111       1.548073        1.786416   1.0\n110       1.514871        1.739558   1.0\n109       1.553539        1.809664   1.0\n108       1.552807        1.750677   1.0\n107       1.555159        1.785748   1.0\n106       1.545512        1.790779   1.0\n105       1.503575        1.795435   1.0\n104       1.510609        1.764008   1.0\n103       1.573710        1.743362   1.0\n102       1.570031        1.736143   1.0\n101       1.591231        1.810913   1.0",
                  "text/html": "\n  <div id=\"df-b4ed79e5-17af-4923-9528-63ac08ba3ba1\" class=\"colab-df-container\">\n    <div>\n<style scoped>\n    .dataframe tbody tr th:only-of-type {\n        vertical-align: middle;\n    }\n\n    .dataframe tbody tr th {\n        vertical-align: top;\n    }\n\n    .dataframe thead th {\n        text-align: right;\n    }\n</style>\n<table border=\"1\" class=\"dataframe\">\n  <thead>\n    <tr style=\"text-align: right;\">\n      <th></th>\n      <th>Leader Price</th>\n      <th>Follower Price</th>\n      <th>Cost</th>\n    </tr>\n    <tr>\n      <th>Date</th>\n      <th></th>\n      <th></th>\n      <th></th>\n    </tr>\n  </thead>\n  <tbody>\n    <tr>\n      <th>130</th>\n      <td>1.533516</td>\n      <td>1.757803</td>\n      <td>1.0</td>\n    </tr>\n    <tr>\n      <th>129</th>\n      <td>1.581989</td>\n      <td>1.824591</td>\n      <td>1.0</td>\n    </tr>\n    <tr>\n      <th>128</th>\n      <td>1.516870</td>\n      <td>1.737294</td>\n      <td>1.0</td>\n    </tr>\n    <tr>\n      <th>127</th>\n      <td>1.578963</td>\n      <td>1.779039</td>\n      <td>1.0</td>\n    </tr>\n    <tr>\n      <th>126</th>\n      <td>1.591447</td>\n      <td>1.784324</td>\n      <td>1.0</td>\n    </tr>\n    <tr>\n      <th>125</th>\n      <td>1.513852</td>\n      <td>1.772143</td>\n      <td>1.0</td>\n    </tr>\n    <tr>\n      <th>124</th>\n      <td>1.592245</td>\n      <td>1.746219</td>\n      <td>1.0</td>\n    </tr>\n    <tr>\n      <th>123</th>\n      <td>1.565258</td>\n      <td>1.750354</td>\n      <td>1.0</td>\n    </tr>\n    <tr>\n      <th>122</th>\n      <td>1.543263</td>\n      <td>1.805133</td>\n      <td>1.0</td>\n    </tr>\n    <tr>\n      <th>121</th>\n      <td>1.579116</td>\n      <td>1.754383</td>\n      <td>1.0</td>\n    </tr>\n    <tr>\n      <th>120</th>\n      <td>1.555695</td>\n      <td>1.762279</td>\n      <td>1.0</td>\n    </tr>\n    <tr>\n      <th>119</th>\n      <td>1.591244</td>\n      <td>1.768904</td>\n      <td>1.0</td>\n    </tr>\n    <tr>\n      <th>118</th>\n      <td>1.578435</td>\n      <td>1.757088</td>\n      <td>1.0</td>\n    </tr>\n    <tr>\n      <th>117</th>\n      <td>1.561863</td>\n      <td>1.751660</td>\n      <td>1.0</td>\n    </tr>\n    <tr>\n      <th>116</th>\n      <td>1.542425</td>\n      <td>1.739611</td>\n      <td>1.0</td>\n    </tr>\n    <tr>\n      <th>115</th>\n      <td>1.507784</td>\n      <td>1.782052</td>\n      <td>1.0</td>\n    </tr>\n    <tr>\n      <th>114</th>\n      <td>1.535486</td>\n      <td>1.763612</td>\n      <td>1.0</td>\n    </tr>\n    <tr>\n      <th>113</th>\n      <td>1.523209</td>\n      <td>1.733638</td>\n      <td>1.0</td>\n    </tr>\n    <tr>\n      <th>112</th>\n      <td>1.579096</td>\n      <td>1.741384</td>\n      <td>1.0</td>\n    </tr>\n    <tr>\n      <th>111</th>\n      <td>1.548073</td>\n      <td>1.786416</td>\n      <td>1.0</td>\n    </tr>\n    <tr>\n      <th>110</th>\n      <td>1.514871</td>\n      <td>1.739558</td>\n      <td>1.0</td>\n    </tr>\n    <tr>\n      <th>109</th>\n      <td>1.553539</td>\n      <td>1.809664</td>\n      <td>1.0</td>\n    </tr>\n    <tr>\n      <th>108</th>\n      <td>1.552807</td>\n      <td>1.750677</td>\n      <td>1.0</td>\n    </tr>\n    <tr>\n      <th>107</th>\n      <td>1.555159</td>\n      <td>1.785748</td>\n      <td>1.0</td>\n    </tr>\n    <tr>\n      <th>106</th>\n      <td>1.545512</td>\n      <td>1.790779</td>\n      <td>1.0</td>\n    </tr>\n    <tr>\n      <th>105</th>\n      <td>1.503575</td>\n      <td>1.795435</td>\n      <td>1.0</td>\n    </tr>\n    <tr>\n      <th>104</th>\n      <td>1.510609</td>\n      <td>1.764008</td>\n      <td>1.0</td>\n    </tr>\n    <tr>\n      <th>103</th>\n      <td>1.573710</td>\n      <td>1.743362</td>\n      <td>1.0</td>\n    </tr>\n    <tr>\n      <th>102</th>\n      <td>1.570031</td>\n      <td>1.736143</td>\n      <td>1.0</td>\n    </tr>\n    <tr>\n      <th>101</th>\n      <td>1.591231</td>\n      <td>1.810913</td>\n      <td>1.0</td>\n    </tr>\n  </tbody>\n</table>\n</div>\n    <div class=\"colab-df-buttons\">\n\n  <div class=\"colab-df-container\">\n    <button class=\"colab-df-convert\" onclick=\"convertToInteractive('df-b4ed79e5-17af-4923-9528-63ac08ba3ba1')\"\n            title=\"Convert this dataframe to an interactive table.\"\n            style=\"display:none;\">\n\n  <svg xmlns=\"http://www.w3.org/2000/svg\" height=\"24px\" viewBox=\"0 -960 960 960\">\n    <path d=\"M120-120v-720h720v720H120Zm60-500h600v-160H180v160Zm220 220h160v-160H400v160Zm0 220h160v-160H400v160ZM180-400h160v-160H180v160Zm440 0h160v-160H620v160ZM180-180h160v-160H180v160Zm440 0h160v-160H620v160Z\"/>\n  </svg>\n    </button>\n\n  <style>\n    .colab-df-container {\n      display:flex;\n      gap: 12px;\n    }\n\n    .colab-df-convert {\n      background-color: #E8F0FE;\n      border: none;\n      border-radius: 50%;\n      cursor: pointer;\n      display: none;\n      fill: #1967D2;\n      height: 32px;\n      padding: 0 0 0 0;\n      width: 32px;\n    }\n\n    .colab-df-convert:hover {\n      background-color: #E2EBFA;\n      box-shadow: 0px 1px 2px rgba(60, 64, 67, 0.3), 0px 1px 3px 1px rgba(60, 64, 67, 0.15);\n      fill: #174EA6;\n    }\n\n    .colab-df-buttons div {\n      margin-bottom: 4px;\n    }\n\n    [theme=dark] .colab-df-convert {\n      background-color: #3B4455;\n      fill: #D2E3FC;\n    }\n\n    [theme=dark] .colab-df-convert:hover {\n      background-color: #434B5C;\n      box-shadow: 0px 1px 3px 1px rgba(0, 0, 0, 0.15);\n      filter: drop-shadow(0px 1px 2px rgba(0, 0, 0, 0.3));\n      fill: #FFFFFF;\n    }\n  </style>\n\n    <script>\n      const buttonEl =\n        document.querySelector('#df-b4ed79e5-17af-4923-9528-63ac08ba3ba1 button.colab-df-convert');\n      buttonEl.style.display =\n        google.colab.kernel.accessAllowed ? 'block' : 'none';\n\n      async function convertToInteractive(key) {\n        const element = document.querySelector('#df-b4ed79e5-17af-4923-9528-63ac08ba3ba1');\n        const dataTable =\n          await google.colab.kernel.invokeFunction('convertToInteractive',\n                                                    [key], {});\n        if (!dataTable) return;\n\n        const docLinkHtml = 'Like what you see? Visit the ' +\n          '<a target=\"_blank\" href=https://colab.research.google.com/notebooks/data_table.ipynb>data table notebook</a>'\n          + ' to learn more about interactive tables.';\n        element.innerHTML = '';\n        dataTable['output_type'] = 'display_data';\n        await google.colab.output.renderOutput(dataTable, element);\n        const docLink = document.createElement('div');\n        docLink.innerHTML = docLinkHtml;\n        element.appendChild(docLink);\n      }\n    </script>\n  </div>\n\n\n<div id=\"df-484fb409-7e25-45ce-a0b6-bb121dfd58c0\">\n  <button class=\"colab-df-quickchart\" onclick=\"quickchart('df-484fb409-7e25-45ce-a0b6-bb121dfd58c0')\"\n            title=\"Suggest charts\"\n            style=\"display:none;\">\n\n<svg xmlns=\"http://www.w3.org/2000/svg\" height=\"24px\"viewBox=\"0 0 24 24\"\n     width=\"24px\">\n    <g>\n        <path d=\"M19 3H5c-1.1 0-2 .9-2 2v14c0 1.1.9 2 2 2h14c1.1 0 2-.9 2-2V5c0-1.1-.9-2-2-2zM9 17H7v-7h2v7zm4 0h-2V7h2v10zm4 0h-2v-4h2v4z\"/>\n    </g>\n</svg>\n  </button>\n\n<style>\n  .colab-df-quickchart {\n      --bg-color: #E8F0FE;\n      --fill-color: #1967D2;\n      --hover-bg-color: #E2EBFA;\n      --hover-fill-color: #174EA6;\n      --disabled-fill-color: #AAA;\n      --disabled-bg-color: #DDD;\n  }\n\n  [theme=dark] .colab-df-quickchart {\n      --bg-color: #3B4455;\n      --fill-color: #D2E3FC;\n      --hover-bg-color: #434B5C;\n      --hover-fill-color: #FFFFFF;\n      --disabled-bg-color: #3B4455;\n      --disabled-fill-color: #666;\n  }\n\n  .colab-df-quickchart {\n    background-color: var(--bg-color);\n    border: none;\n    border-radius: 50%;\n    cursor: pointer;\n    display: none;\n    fill: var(--fill-color);\n    height: 32px;\n    padding: 0;\n    width: 32px;\n  }\n\n  .colab-df-quickchart:hover {\n    background-color: var(--hover-bg-color);\n    box-shadow: 0 1px 2px rgba(60, 64, 67, 0.3), 0 1px 3px 1px rgba(60, 64, 67, 0.15);\n    fill: var(--button-hover-fill-color);\n  }\n\n  .colab-df-quickchart-complete:disabled,\n  .colab-df-quickchart-complete:disabled:hover {\n    background-color: var(--disabled-bg-color);\n    fill: var(--disabled-fill-color);\n    box-shadow: none;\n  }\n\n  .colab-df-spinner {\n    border: 2px solid var(--fill-color);\n    border-color: transparent;\n    border-bottom-color: var(--fill-color);\n    animation:\n      spin 1s steps(1) infinite;\n  }\n\n  @keyframes spin {\n    0% {\n      border-color: transparent;\n      border-bottom-color: var(--fill-color);\n      border-left-color: var(--fill-color);\n    }\n    20% {\n      border-color: transparent;\n      border-left-color: var(--fill-color);\n      border-top-color: var(--fill-color);\n    }\n    30% {\n      border-color: transparent;\n      border-left-color: var(--fill-color);\n      border-top-color: var(--fill-color);\n      border-right-color: var(--fill-color);\n    }\n    40% {\n      border-color: transparent;\n      border-right-color: var(--fill-color);\n      border-top-color: var(--fill-color);\n    }\n    60% {\n      border-color: transparent;\n      border-right-color: var(--fill-color);\n    }\n    80% {\n      border-color: transparent;\n      border-right-color: var(--fill-color);\n      border-bottom-color: var(--fill-color);\n    }\n    90% {\n      border-color: transparent;\n      border-bottom-color: var(--fill-color);\n    }\n  }\n</style>\n\n  <script>\n    async function quickchart(key) {\n      const quickchartButtonEl =\n        document.querySelector('#' + key + ' button');\n      quickchartButtonEl.disabled = true;  // To prevent multiple clicks.\n      quickchartButtonEl.classList.add('colab-df-spinner');\n      try {\n        const charts = await google.colab.kernel.invokeFunction(\n            'suggestCharts', [key], {});\n      } catch (error) {\n        console.error('Error during call to suggestCharts:', error);\n      }\n      quickchartButtonEl.classList.remove('colab-df-spinner');\n      quickchartButtonEl.classList.add('colab-df-quickchart-complete');\n    }\n    (() => {\n      let quickchartButtonEl =\n        document.querySelector('#df-484fb409-7e25-45ce-a0b6-bb121dfd58c0 button');\n      quickchartButtonEl.style.display =\n        google.colab.kernel.accessAllowed ? 'block' : 'none';\n    })();\n  </script>\n</div>\n\n    </div>\n  </div>\n",
                  "application/vnd.google.colaboratory.intrinsic+json": {
                    "type": "dataframe",
                    "summary": "{\n  \"name\": \"app = GUI(engine, Leader, group_num)\",\n  \"rows\": 30,\n  \"fields\": [\n    {\n      \"column\": \"Date\",\n      \"properties\": {\n        \"dtype\": \"number\",\n        \"std\": 8,\n        \"min\": 101,\n        \"max\": 130,\n        \"num_unique_values\": 30,\n        \"samples\": [\n          103,\n          115,\n          107\n        ],\n        \"semantic_type\": \"\",\n        \"description\": \"\"\n      }\n    },\n    {\n      \"column\": \"Leader Price\",\n      \"properties\": {\n        \"dtype\": \"number\",\n        \"std\": 0.0280786389911102,\n        \"min\": 1.5035754742492078,\n        \"max\": 1.5922452655414825,\n        \"num_unique_values\": 30,\n        \"samples\": [\n          1.5737101319522904,\n          1.507783664706238,\n          1.5551586376946693\n        ],\n        \"semantic_type\": \"\",\n        \"description\": \"\"\n      }\n    },\n    {\n      \"column\": \"Follower Price\",\n      \"properties\": {\n        \"dtype\": \"number\",\n        \"std\": 0.02531047496012257,\n        \"min\": 1.7336380727294032,\n        \"max\": 1.8245905340543986,\n        \"num_unique_values\": 30,\n        \"samples\": [\n          1.7433618183649418,\n          1.7820521278307981,\n          1.7857484787020408\n        ],\n        \"semantic_type\": \"\",\n        \"description\": \"\"\n      }\n    },\n    {\n      \"column\": \"Cost\",\n      \"properties\": {\n        \"dtype\": \"number\",\n        \"std\": 0.0,\n        \"min\": 1.0,\n        \"max\": 1.0,\n        \"num_unique_values\": 1,\n        \"samples\": [\n          1.0\n        ],\n        \"semantic_type\": \"\",\n        \"description\": \"\"\n      }\n    }\n  ]\n}"
                  }
                },
                "metadata": {}
              }
            ]
          }
        },
        "88002c537473416abfb7678ee889a546": {
          "model_module": "@jupyter-widgets/output",
          "model_name": "OutputModel",
          "model_module_version": "1.0.0",
          "state": {
            "_dom_classes": [],
            "_model_module": "@jupyter-widgets/output",
            "_model_module_version": "1.0.0",
            "_model_name": "OutputModel",
            "_view_count": null,
            "_view_module": "@jupyter-widgets/output",
            "_view_module_version": "1.0.0",
            "_view_name": "OutputView",
            "layout": "IPY_MODEL_ea4adc9d6773419cbd7b09af49474d4a",
            "msg_id": "",
            "outputs": [
              {
                "output_type": "display_data",
                "data": {
                  "text/plain": "<IPython.core.display.HTML object>",
                  "text/html": "<br><br><br><br><br><br><br><br><br><br><b style='font-size: 17px;'><u>Profit made: 16.190513719997945</u></b>"
                },
                "metadata": {}
              }
            ]
          }
        },
        "5a0c2ee2a4c741cd845f843e1bfaf3df": {
          "model_module": "@jupyter-widgets/base",
          "model_name": "LayoutModel",
          "model_module_version": "1.2.0",
          "state": {
            "_model_module": "@jupyter-widgets/base",
            "_model_module_version": "1.2.0",
            "_model_name": "LayoutModel",
            "_view_count": null,
            "_view_module": "@jupyter-widgets/base",
            "_view_module_version": "1.2.0",
            "_view_name": "LayoutView",
            "align_content": null,
            "align_items": null,
            "align_self": null,
            "border": null,
            "bottom": null,
            "display": null,
            "flex": null,
            "flex_flow": null,
            "grid_area": null,
            "grid_auto_columns": null,
            "grid_auto_flow": null,
            "grid_auto_rows": null,
            "grid_column": null,
            "grid_gap": null,
            "grid_row": null,
            "grid_template_areas": null,
            "grid_template_columns": null,
            "grid_template_rows": null,
            "height": null,
            "justify_content": "initial",
            "justify_items": null,
            "left": null,
            "margin": null,
            "max_height": null,
            "max_width": null,
            "min_height": null,
            "min_width": null,
            "object_fit": null,
            "object_position": null,
            "order": null,
            "overflow": null,
            "overflow_x": null,
            "overflow_y": null,
            "padding": null,
            "right": null,
            "top": null,
            "visibility": null,
            "width": null
          }
        },
        "fb7bc9ac0ff045de9b30ba2aa48adc5e": {
          "model_module": "@jupyter-widgets/base",
          "model_name": "LayoutModel",
          "model_module_version": "1.2.0",
          "state": {
            "_model_module": "@jupyter-widgets/base",
            "_model_module_version": "1.2.0",
            "_model_name": "LayoutModel",
            "_view_count": null,
            "_view_module": "@jupyter-widgets/base",
            "_view_module_version": "1.2.0",
            "_view_name": "LayoutView",
            "align_content": null,
            "align_items": null,
            "align_self": null,
            "border": null,
            "bottom": null,
            "display": null,
            "flex": null,
            "flex_flow": null,
            "grid_area": null,
            "grid_auto_columns": null,
            "grid_auto_flow": null,
            "grid_auto_rows": null,
            "grid_column": null,
            "grid_gap": null,
            "grid_row": null,
            "grid_template_areas": null,
            "grid_template_columns": null,
            "grid_template_rows": null,
            "height": null,
            "justify_content": null,
            "justify_items": null,
            "left": null,
            "margin": null,
            "max_height": null,
            "max_width": null,
            "min_height": null,
            "min_width": null,
            "object_fit": null,
            "object_position": null,
            "order": null,
            "overflow": null,
            "overflow_x": null,
            "overflow_y": null,
            "padding": null,
            "right": null,
            "top": null,
            "visibility": null,
            "width": null
          }
        },
        "ea4adc9d6773419cbd7b09af49474d4a": {
          "model_module": "@jupyter-widgets/base",
          "model_name": "LayoutModel",
          "model_module_version": "1.2.0",
          "state": {
            "_model_module": "@jupyter-widgets/base",
            "_model_module_version": "1.2.0",
            "_model_name": "LayoutModel",
            "_view_count": null,
            "_view_module": "@jupyter-widgets/base",
            "_view_module_version": "1.2.0",
            "_view_name": "LayoutView",
            "align_content": null,
            "align_items": null,
            "align_self": null,
            "border": null,
            "bottom": null,
            "display": null,
            "flex": null,
            "flex_flow": null,
            "grid_area": null,
            "grid_auto_columns": null,
            "grid_auto_flow": null,
            "grid_auto_rows": null,
            "grid_column": null,
            "grid_gap": null,
            "grid_row": null,
            "grid_template_areas": null,
            "grid_template_columns": null,
            "grid_template_rows": null,
            "height": null,
            "justify_content": null,
            "justify_items": null,
            "left": null,
            "margin": null,
            "max_height": null,
            "max_width": null,
            "min_height": null,
            "min_width": null,
            "object_fit": null,
            "object_position": null,
            "order": null,
            "overflow": null,
            "overflow_x": null,
            "overflow_y": null,
            "padding": null,
            "right": null,
            "top": null,
            "visibility": null,
            "width": null
          }
        }
      }
    }
  },
  "cells": [
    {
      "cell_type": "markdown",
      "source": [
        "# Project Description"
      ],
      "metadata": {
        "id": "3XK1cooYe2X-"
      }
    },
    {
      "cell_type": "markdown",
      "source": [
        "##**Overview**\n",
        "Your task is to create a program that plays a repeated 2-person Stackelberg pricing games as the leader, under conditions of imperfect information.\n",
        "\n"
      ],
      "metadata": {
        "id": "91UIz8lSZPeE"
      }
    },
    {
      "cell_type": "markdown",
      "source": [
        "## **Specifications**"
      ],
      "metadata": {
        "id": "z8wKUBCGTuiM"
      }
    },
    {
      "cell_type": "markdown",
      "source": [
        "**Followers’ Specifications**\n",
        "\n",
        "*   There are three different followers, named as MK1, MK2, and MK3.\n",
        "*   The payoff function and strategy spaces of these followers are unknown. However, historical data from 100 days of previous games between the leader and each follower is available and provided."
      ],
      "metadata": {
        "id": "qCQi02j4fKN3"
      }
    },
    {
      "cell_type": "markdown",
      "source": [
        "**Leader’s Specifications**\n",
        "\n",
        "Assume that the leader’s strategy (i.e., price) is $u_L$ and the follower’s strategy (i.e., price) is $u_F$. The specifics regarding the leader’s strategy and profits are as follows:\n",
        "*   **Unit cost**: $c_L=£1.00$\n",
        "*   **Strategy space**:\n",
        "      1.   When playing with MK1 and MK2, the leader’s strategy space is $U_L = [1.00, +∞)$\n",
        "      2.   When playing with MK3, the leader’s strategy space is $U_L = [1.00, 2.00]$     \n",
        "* \t**Demand Model** (i.e., price-sale relationship): $S_L(u_L, u_F)=2 - u_L + 0.3u_F$    \n",
        "*   **Daily Profit**: $(u_L - c_L)S_L(u_L, u_F)$\n",
        "*   **Objective**: The leader’s objective of playing is to maximise the accumulated profit for the next 30 days.\n",
        "*   **Assumption**: For simplicity, it is assumed that the leader’s unit cost, strategy space, and the demand model remain unchanged throughout the entire period of 130 days."
      ],
      "metadata": {
        "id": "tPzKFX9wfMvK"
      }
    },
    {
      "cell_type": "markdown",
      "source": [
        "## **Game Rules and Playing Scenarios**"
      ],
      "metadata": {
        "id": "8FhASqXkT7Xo"
      }
    },
    {
      "cell_type": "markdown",
      "source": [
        "**Game Rules**\n",
        "\n",
        "On day $t$, the leader announces the price, $u_L (t)$, first. After learning the leader’s price, the follower will choose the responding price, $u_F (t)$. This process occurs over a period of $t=1,2,…,130$, where $t=1,2,…,100$ corresponds to the days for which historical data is available, and $t=101,102,…,130$ are the days during which the game will be played repeatedly.\n"
      ],
      "metadata": {
        "id": "e6_isrDZfWPn"
      }
    },
    {
      "cell_type": "markdown",
      "source": [
        "**Game Playing Scenarios**\n",
        "\n",
        "In this setup, your program, acting as the leader, will engage in three separate games against three different competitors, identified as followers MK1, MK2, and MK3.\n",
        "\n",
        "For each of the repeated game, the leader selects his learning method to learn the follower’s reaction function based on the provided set of historical data which spans from $t=1,2,…,100$. During the next 30 days ($t=101,102,…,130$), the leader announces a price, $u_L (t)$, to the game platform daily. After the leader's price is announced, the follower will respond with the price, $u_F (t)$. Upon receiving the follower's price, $u_F (t)$, from the game platform, the leader may use this new information to refine their knowledge/ update the learned reaction function and decide his price of the next day. In the other words, the leader (i.e., your program) should be able to take the follower’s price of the previous day from the game platform for updating, and then decide and send his price of the next day to the game platform.\n",
        "\n",
        "It should be emphasised that the follower’s strategy and payoff function is subject to the changing and time varying environment. That is, the parameters in the follower’s payoff function may not be the same every day.\n",
        "\n"
      ],
      "metadata": {
        "id": "vS4WZ0D1gC2W"
      }
    },
    {
      "cell_type": "markdown",
      "source": [
        "## **Implementation Options**\n",
        "1.\t**Single Leader Approach**: You may choose to design and implement a single leader algorithm that competes against all three followers, adapting its strategy based on the opponent being faced.\n",
        "2.\t**Multiple Leaders Approach**: Alternatively, you could design and implement three distinct leaders, each tailored to play against one of the followers. This approach allows for specialised strategies to be developed for each follower type.\n",
        "\n",
        "Whichever method you choose, it's crucial to document in this notebook section [Your Leader](#your-leader) which leader(s) is designed to play against each follower. This clarity will help in understanding the design choices and strategies implemented in your program.\n"
      ],
      "metadata": {
        "id": "B1RpBx7FDNQ1"
      }
    },
    {
      "cell_type": "markdown",
      "source": [
        "## **Project Timeline and Support**"
      ],
      "metadata": {
        "id": "eBQDvQldUHHm"
      }
    },
    {
      "cell_type": "markdown",
      "source": [
        "**Project Timeline**\n",
        "\n",
        "*\t**Week 7 (Starting 10 March)**: Start to work on your project and project planning.\n",
        "*\t**Week 11 (28 April – 2 May)**: Group presentations telling us what you have done.\n",
        "*\t**Deadline (2 May at 6:00pm)**: Deadline to submit codes and supporting document.\n"
      ],
      "metadata": {
        "id": "Om4Z5FdiF3nu"
      }
    },
    {
      "cell_type": "markdown",
      "source": [
        "**Support**\n",
        "\n",
        "*\t**Weekly Support Sessions**: Project support sessions are scheduled every Wednesday from 11:00 am to 12:00 noon between Weeks 7 and 10. These sessions will be held at <u>Booth Street East -TH A (G.10)</u>. You are encouraged to attend if you have questions, need clarification, or seek guidance on any aspect of the project. Attendance is optional and based on your needs for support.\n",
        "*\t**Email**: In addition to the weekly sessions, you are welcome to ask questions or seek support via email at any time. If you encounter any issues with installing or running the game platform, or if you have any other project-related inquiries, do not hesitate to contact the teaching assistants by email for support.\n"
      ],
      "metadata": {
        "id": "cC_yPWtjGGSp"
      }
    },
    {
      "cell_type": "markdown",
      "source": [
        "## **Assessment Criteria and Submission**"
      ],
      "metadata": {
        "id": "_x-VgyqaUdfr"
      }
    },
    {
      "cell_type": "markdown",
      "source": [
        "**Assessment Criteria**\n",
        "\n",
        "The project is a significant component of your final grade, accounting for 50% of the total mark, with the remaining 50% coming from the final examination. The project mark is distributed as follows:\n",
        "1.\t**Content of the Approach (50% of this project mark)**:\n",
        "  *\tPresentation (40%): Your grade in this category is based on the presentation you give in Week 11. This includes the originality of your idea, how well it integrates knowledge from the course, and any relevant external literature or research you have incorporated.\n",
        "  *\tWritten Materials (10%): This is based on the documentation you submit to your group journal on Blackboard. It evaluates the depth and clarity of your written explanation of the approach, including the rationale behind your strategies and methods.\n",
        "2.\t**Performance of the Approach (50% of this project mark)**:\n",
        "  *\tThis evaluates the effectiveness of your submitted program by looking at how well it performs in the game platform, that is, the accumulated profit generated by your submitted codes.\n",
        "3.\t**Group Mark Distribution**:\n",
        "  *\tThe overall group mark will be allocated to individual group members based on self-assessment and the demonstration of knowledge during the presentation.\n"
      ],
      "metadata": {
        "id": "0boMLY1WGgHp"
      }
    },
    {
      "cell_type": "markdown",
      "source": [
        "**Presentation**\n",
        "\n",
        "During the presentation week of Semester 2, every group is scheduled to present their project to the lecturers. It is important for each group member to actively participate in speaking and answering questions. This participation allows us to evaluate each member's contributions to the project. The assessment criteria focus solely on the content of your presentation, including the activities your group undertook and the lessons learned through the project process. Presentation skills are not part of the evaluation, so the emphasis should not be on creating a polished presentation but on effectively communicating your project's substance and outcomes.\n"
      ],
      "metadata": {
        "id": "85CORLj_GxRs"
      }
    },
    {
      "cell_type": "markdown",
      "source": [
        "**Performance of the Approach – Assessment Details**\n",
        "\n",
        "*\t**Step 1**. We will run your submitted codes against MK1, MK2, and MK3 and get the accumulated profit for the days $101 – 130$. These profits will be used as the performance of your submitted codes against MK1, MK2 and MK3\n",
        "*\t**Step 2**. We have also designed 3 further followers MK4, MK5, and MK6, which are created by slightly changes of the parameters of MK1, MK2, and MK3 respectively. That is, MK1 and MK4 are very similar, MK2 and MK5 are very similar, MK3 and MK6 are very similar. No data about MK$i$ ($i=4, 5, 6$) is provided. That is, they are invisible followers to you. But the setting of each MK$i$ ($i=4,5,6$) is the same as the provided followers, with 100 historical data and we will run your codes to get the accumulated profit for days $101 – 130$, which will be used as the performance of your submitted codes against MK4, MK5 and MK6.\n",
        "*\t**Step 3**. Based on the accumulated profits for MK1 and MK4 and compared with the best possible performances of MK1 and Mk4, your codes will get a percentage mark; Similarly you will get a percentage mark from MK2 and MK5, and then a percentage mark from MK3 and MK6. Finally your performance mark will be the average of these 3 percentage marks.\n",
        "\n",
        "**Remark**. The creation of MK4, MK5, and MK6 is a new assessment component for this year and so we are happy to hear any feedback, and change if necessary. The motivation and justification are as follows:\n",
        "*\tWe have run the codes submitted by the project groups of the last year to MK 4, MK5, and MK6, and noticed various issues, such as some submissions were hard coded for some parameters rather than via the learning; Some were invalid such as out of the price bounds; Some have the running errors etc.\n",
        "*\tIn real applications such as petrol station pricing, it is impossible to many many experiments and tests for each station, but we need a piece of software usable across a large numbers of petrol stations. The creation of MK4, MK5, and Mk6 is to simulate and test such a need from a real application point of view.\n",
        "*\tIn the last year, many groups produced very similar performance due to the limited test cases. The creation of MK4, MK5, and MK6 will provide more testing cases and help distinguishing the performance of different approaches.\n",
        "*\tAs MK4, MK5, and MK6 are invisible to you, this should not add your workload for the project.      \n"
      ],
      "metadata": {
        "id": "qIQkFXQvG4Zg"
      }
    },
    {
      "cell_type": "markdown",
      "source": [
        "**Submission**\n",
        "\n",
        "All submissions will be marked using the free version of Google Colaboratory.\n",
        "* Make sure your implementation works within this environment.\n",
        "* Avoid using any external dependencies that might not be available.\n",
        "\n",
        "Please download this notebook for submission by clicking “File” in the top left corner, then selecting “Download” followed by “Download .ipynb”. If your notebook requires any external files to run, ensure that you submit them along with your notebook. Submission will be done through Blackboard, and further details will be provided later.\n"
      ],
      "metadata": {
        "id": "zGyeiJeQIKBb"
      }
    },
    {
      "cell_type": "markdown",
      "source": [
        "## **Game Platform**"
      ],
      "metadata": {
        "id": "J-qdogBfSO4i"
      }
    },
    {
      "cell_type": "markdown",
      "source": [
        "The project will be run on Google Colaboratory, which is a hosted Jupyter Notebook service. This is done to avoid compatibility issues across different operating systems and to provide a collaborative environment where group members can work effectively using Colab’s sharing functionality. Follow the steps below to set up and use Google Colaboratory for your project.\n"
      ],
      "metadata": {
        "id": "YvDxER68UuGR"
      }
    },
    {
      "cell_type": "markdown",
      "source": [
        "**Using Google Colaboratory for the Project**\n",
        "* Running Code\n",
        "  * Click on a cell and press Shift + Enter, or\n",
        "  * Click the Play button on the left side of the cell\n",
        "* Adding Cell\n",
        "  * Hover over an existing cell and click “+ Code” or “+ Text” where needed\n",
        "* Stopping a Running C→ell:\n",
        "  * From the top menu, click “Runtime” → “Interrupt execution”.\n",
        "* Restarting Runtime\n",
        "  * Click “Runtime” → “Restart session”.\n",
        "  * This will clear all variables.\n",
        "* Disconnecting and Deleting the Runtime\n",
        "  * Click “Runtime” → “Disconnect and delete session”.\n",
        "  * This will reset the Colaboratory environment completely.\n",
        "*\tSharing with Group Members\n",
        "  *\tYou can share your notebook with your group members by clicking “Share” in the top-right corner.\n",
        "  *\tBe careful when saving, if multiple people edit the notebook at the same time, you may overwrite each other’s work.\n",
        "*\tFor More Functionalities, please visit [this link](https://colab.research.google.com)."
      ],
      "metadata": {
        "id": "zPVhHWzYTqPE"
      }
    },
    {
      "cell_type": "markdown",
      "source": [
        "**Understanding the Notebook Structure**\n",
        "\n",
        "The notebook is structured into several sections. You can click the first icon on the top left to open the “Table of contents” and navigate through different sections.\n",
        "1.\tProject Description: This section provides an overview of the project.\n",
        "2.\tInstall and Import: This section installs, imports necessary packages, and unzips comp34612.zip.\n",
        "3.\tBase Leader and Example Leader: This section contains the base leader class and an example leader implementation.\n",
        "4.\tYour Leader: In this section,\n",
        "\t*\tFirst write your group number as an integer.\n",
        "\t*\tThen implement your leader(s) based on the project requirements.\n",
        "\t*\tClearly document:\n",
        "      *\tWhich implementation approach you choose (single or multiple).\n",
        "      *\tWhich leader is designed to play against each follower.\n",
        "5.\tSimulation: This section provides an interface to simulate the pricing game between your selected leader and selected follower.\n"
      ],
      "metadata": {
        "id": "87IPuwM3S4j4"
      }
    },
    {
      "cell_type": "markdown",
      "source": [
        "# Install and Import"
      ],
      "metadata": {
        "id": "wrdXoxQfRc9t"
      }
    },
    {
      "cell_type": "code",
      "source": [
        "!pip install xlsxwriter"
      ],
      "metadata": {
        "colab": {
          "base_uri": "https://localhost:8080/"
        },
        "id": "pwEA-WPoXA5-",
        "outputId": "1003de99-302d-445d-af87-d11064e2ee0a"
      },
      "execution_count": null,
      "outputs": [
        {
          "output_type": "stream",
          "name": "stdout",
          "text": [
            "Collecting xlsxwriter\n",
            "  Downloading XlsxWriter-3.2.2-py3-none-any.whl.metadata (2.8 kB)\n",
            "Downloading XlsxWriter-3.2.2-py3-none-any.whl (165 kB)\n",
            "\u001b[?25l   \u001b[90m━━━━━━━━━━━━━━━━━━━━━━━━━━━━━━━━━━━━━━━━\u001b[0m \u001b[32m0.0/165.1 kB\u001b[0m \u001b[31m?\u001b[0m eta \u001b[36m-:--:--\u001b[0m\r\u001b[2K   \u001b[91m━━━━━━━━━━━━━━━━━━━━━━━━━━━━━\u001b[0m\u001b[91m╸\u001b[0m\u001b[90m━━━━━━━━━━\u001b[0m \u001b[32m122.9/165.1 kB\u001b[0m \u001b[31m3.4 MB/s\u001b[0m eta \u001b[36m0:00:01\u001b[0m\r\u001b[2K   \u001b[90m━━━━━━━━━━━━━━━━━━━━━━━━━━━━━━━━━━━━━━━━\u001b[0m \u001b[32m165.1/165.1 kB\u001b[0m \u001b[31m3.3 MB/s\u001b[0m eta \u001b[36m0:00:00\u001b[0m\n",
            "\u001b[?25hInstalling collected packages: xlsxwriter\n",
            "Successfully installed xlsxwriter-3.2.2\n"
          ]
        }
      ]
    },
    {
      "cell_type": "code",
      "source": [
        "import zipfile\n",
        "import os\n",
        "import random\n",
        "import gc\n",
        "from IPython.display import Javascript\n",
        "import pandas as pd\n",
        "pd.set_option('display.max_rows', None)\n",
        "pd.set_option('display.max_columns', None)"
      ],
      "metadata": {
        "id": "Hng6pqrylpxp"
      },
      "execution_count": null,
      "outputs": []
    },
    {
      "cell_type": "code",
      "source": [
        "extract_path = \".\"\n",
        "zip_filename = \"comp34612.zip\"\n",
        "\n",
        "os.makedirs(extract_path, exist_ok=True)\n",
        "\n",
        "with zipfile.ZipFile(zip_filename, \"r\") as zip_ref:\n",
        "    zip_ref.extractall(extract_path)"
      ],
      "metadata": {
        "id": "p4IhoMtcqal3"
      },
      "execution_count": null,
      "outputs": []
    },
    {
      "cell_type": "code",
      "source": [
        "from engine import Engine\n",
        "from gui import GUI"
      ],
      "metadata": {
        "id": "a9vALA_KXC5D"
      },
      "execution_count": null,
      "outputs": []
    },
    {
      "cell_type": "markdown",
      "source": [
        "Please import the necessary packages here or use `!pip install *package_name*` if they are not already installed."
      ],
      "metadata": {
        "id": "IicR1K3HPuq8"
      }
    },
    {
      "cell_type": "code",
      "source": [],
      "metadata": {
        "id": "Xqxk3fp-Qfr1"
      },
      "execution_count": null,
      "outputs": []
    },
    {
      "cell_type": "markdown",
      "source": [
        "# Base Leader and Example Leader"
      ],
      "metadata": {
        "id": "KBvbZ_HOXLnw"
      }
    },
    {
      "cell_type": "markdown",
      "source": [
        "## Base Leader"
      ],
      "metadata": {
        "id": "gbUkLBfbclfY"
      }
    },
    {
      "cell_type": "markdown",
      "source": [
        "This is the base class for all leader subclasses."
      ],
      "metadata": {
        "id": "QSTzajwQN-ul"
      }
    },
    {
      "cell_type": "code",
      "source": [
        "class Leader:\n",
        "    _subclass_registry = {}\n",
        "\n",
        "    def __init__(self, name, engine):\n",
        "        self.name = name\n",
        "        self.engine = engine\n",
        "\n",
        "    @classmethod\n",
        "    def cleanup_old_subclasses(cls):\n",
        "        \"\"\"\n",
        "        A function to remove old subclasses before defining new ones.\n",
        "        \"\"\"\n",
        "        existing_subclasses = list(cls.__subclasses__())\n",
        "\n",
        "        for subclass in existing_subclasses:\n",
        "            subclass_name = subclass.__name__\n",
        "            if subclass_name in cls._subclass_registry:\n",
        "                del cls._subclass_registry[subclass_name]\n",
        "                del subclass\n",
        "        gc.collect()\n",
        "\n",
        "    @classmethod\n",
        "    def update_subclass_registry(cls):\n",
        "        \"\"\"\n",
        "        A function to update registry after cleaning up old subclasses.\n",
        "        \"\"\"\n",
        "        cls.cleanup_old_subclasses()\n",
        "        cls._subclass_registry = {subclass.__name__: subclass for subclass in cls.__subclasses__()}\n",
        "\n",
        "    def new_price(self, date):\n",
        "        \"\"\"\n",
        "        A function for setting the new price of each day.\n",
        "        :param date: date of the day to be updated\n",
        "        :return: (float) price for the day\n",
        "        \"\"\"\n",
        "        pass\n",
        "\n",
        "    def get_price_from_date(self, date):\n",
        "        \"\"\"\n",
        "        A function for getting the price set on a date.\n",
        "        :param date: (int) date to get the price from\n",
        "        :return: a tuple (leader_price, follower_price)\n",
        "        \"\"\"\n",
        "        return self.engine.exposed_get_price(date)\n",
        "\n",
        "\n",
        "    def start_simulation(self):\n",
        "        \"\"\"\n",
        "        A function runs at the beginning of the simulation.\n",
        "        \"\"\"\n",
        "        pass\n",
        "\n",
        "    def end_simulation(self):\n",
        "        \"\"\"\n",
        "        A function runs at the beginning of the simulation.\n",
        "        \"\"\"\n",
        "        pass"
      ],
      "metadata": {
        "id": "4ywrl6-2P9HQ"
      },
      "execution_count": null,
      "outputs": []
    },
    {
      "cell_type": "markdown",
      "source": [
        "## Example Leader"
      ],
      "metadata": {
        "id": "f3KUnys4cn-c"
      }
    },
    {
      "cell_type": "markdown",
      "source": [
        "This is a simple example leader subclass."
      ],
      "metadata": {
        "id": "6i9DFkB5OFu0"
      }
    },
    {
      "cell_type": "code",
      "source": [
        "class SimpleLeader(Leader):\n",
        "    def __init__(self, name, engine):\n",
        "        super().__init__(name, engine)\n",
        "\n",
        "    def new_price(self, date: int):\n",
        "        return 1.5 + random.random() * 0.1"
      ],
      "metadata": {
        "id": "nHoNCHFgXXNk"
      },
      "execution_count": null,
      "outputs": []
    },
    {
      "cell_type": "markdown",
      "source": [
        "<a name=\"your-leader\"></a>\n",
        "# Your Leader"
      ],
      "metadata": {
        "id": "Es5sl3xeY-RC"
      }
    },
    {
      "cell_type": "markdown",
      "source": [
        "Please write your group number below in type int."
      ],
      "metadata": {
        "id": "DOFA97hMPakW"
      }
    },
    {
      "cell_type": "code",
      "source": [
        "group_num =\n",
        "assert isinstance(group_num, int), f\"Expected an integer for group_num, but got {type(group_num).__name__}\""
      ],
      "metadata": {
        "id": "DAkMa8owPVHS"
      },
      "execution_count": null,
      "outputs": []
    },
    {
      "cell_type": "markdown",
      "source": [
        "Please implement your leaders below. Please clearly document:\n",
        "*   Which implementation approach you choose (single leader approach or multiple leaders approach)\n",
        "*   State which leader(s) is designed to play against each follower."
      ],
      "metadata": {
        "id": "cXlrH9XrFaIH"
      }
    },
    {
      "cell_type": "code",
      "source": [],
      "metadata": {
        "id": "t_omEQy_vZZ-"
      },
      "execution_count": null,
      "outputs": []
    },
    {
      "cell_type": "markdown",
      "source": [
        "# Simulation"
      ],
      "metadata": {
        "id": "d8G2tQmAYzCk"
      }
    },
    {
      "cell_type": "markdown",
      "source": [
        "Below is the GUI interface. Please select a leader from the dropdown menu and a follower from the dropdown menu, then click “Connect.” Once the status updates to “Connected to *your_selected_leader* and *your_selected_follower*” click “Start Simulation” to begin. If you wish to save the generated data, click “Export Data.” The dataset will be saved in the “run” folder."
      ],
      "metadata": {
        "id": "VhbFqRH2Q6eh"
      }
    },
    {
      "cell_type": "code",
      "source": [
        "display(Javascript('''google.colab.output.setIframeHeight(0, true, {maxHeight: 5000})'''))\n",
        "engine = Engine()\n",
        "app = GUI(engine, Leader, group_num)"
      ],
      "metadata": {
        "colab": {
          "base_uri": "https://localhost:8080/",
          "height": 1213,
          "referenced_widgets": [
            "22ce51a5b84448f797ac79adcac6b610",
            "84e4c0d1379340beb455baff77aa230a",
            "613961e789d143de8c49c18fc179f791",
            "6f0b8de30b30438399e332884980cffd",
            "0972e127dfa34358b35a78030972449a",
            "3e9345d6926643caa5bae228e4f27bb2",
            "3b10b8fbc3cd47c3b6d6877d36b788d7",
            "fa8c12ae74e54e31b5f70da7358604dc",
            "76927f88b5ac4c09aca3bf71ead04185",
            "667afd1e41854ca38c148ad3e6f49605",
            "a1388fb1244842ad854d856021c68a79",
            "f0561235d8574455a09ea03aa40c268c",
            "e7346c80261945f39c3df2866b7a2aa1",
            "be37efeb353448c39b5e321e4ba7f93c",
            "6a03e09e8a4f4d5ab9b3f652318ef8d2",
            "15d10d6ff24d44408d34b62bd24cc5bd",
            "2edd21731cba4f87affb8e1807f8a472",
            "81b8e8c90db14964bad179a7abf72611",
            "521252e625d6466ba2c832bfaecbd40a",
            "537cf72663c649c5a31083b7d2637411",
            "e980da335b344c08ad22b2b60951d666",
            "615f9b55b8cc4a85975c015ff7110ca6",
            "b2076eb1d73f43d6af1772bad77cfa38",
            "2aa77f5fcab94c2a8173f5e416e66300",
            "fa1ba1c785e146cba527380826599fd9",
            "5482c5ed590c4153a29087c0916fe23a",
            "5c71fa8d1b6f47de8427c6067d0f8b00",
            "6aee4a90d0ba40cc89e248c4d19b96bb",
            "4323af4af00c4d42b46e962134725302",
            "6655fd4ce7b748c598b37dd7d58b0c66",
            "16317a17d1f5465a9b09c74f9b9ef62e",
            "d9b39a6907b44d8499cc766bfea9d352",
            "0a2dea89b9b5434093dd95f6ba319b55",
            "3f4e4fd52ae14bb6bc5eaf6a9d284d60",
            "12235c862ad54c618f1a72730ed60a01",
            "a7174d806214469caf2f2ce19357736c",
            "d6f7991d778245ea849fd03b2b4afdeb",
            "cd02916efda44f96a47bd43e8c638fb8",
            "2b2f0d2553d1489bb965db7834383a71",
            "1a33e2c1685c4fee9e2118783547c4ba",
            "88002c537473416abfb7678ee889a546",
            "5a0c2ee2a4c741cd845f843e1bfaf3df",
            "fb7bc9ac0ff045de9b30ba2aa48adc5e",
            "ea4adc9d6773419cbd7b09af49474d4a"
          ]
        },
        "id": "wxAO4hV3DQJg",
        "outputId": "22697610-fcc1-47fa-87dd-cd3338b1b6b2"
      },
      "execution_count": null,
      "outputs": [
        {
          "output_type": "display_data",
          "data": {
            "text/plain": [
              "<IPython.core.display.Javascript object>"
            ],
            "application/javascript": [
              "google.colab.output.setIframeHeight(0, true, {maxHeight: 5000})"
            ]
          },
          "metadata": {}
        },
        {
          "output_type": "display_data",
          "data": {
            "text/plain": [
              "VBox(children=(Dropdown(description='Leader:  ', layout=Layout(width='250px'), options=('SimpleLeader',), styl…"
            ],
            "application/vnd.jupyter.widget-view+json": {
              "version_major": 2,
              "version_minor": 0,
              "model_id": "22ce51a5b84448f797ac79adcac6b610"
            }
          },
          "metadata": {}
        }
      ]
    }
  ]
}