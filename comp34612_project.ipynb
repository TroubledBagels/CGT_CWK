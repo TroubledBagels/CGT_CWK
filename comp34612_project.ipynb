{
  "cells": [
    {
      "cell_type": "markdown",
      "metadata": {
        "id": "3XK1cooYe2X-"
      },
      "source": [
        "# Project Description"
      ]
    },
    {
      "cell_type": "markdown",
      "metadata": {
        "id": "91UIz8lSZPeE"
      },
      "source": [
        "##**Overview**\n",
        "Your task is to create a program that plays a repeated 2-person Stackelberg pricing games as the leader, under conditions of imperfect information.\n",
        "\n"
      ]
    },
    {
      "cell_type": "markdown",
      "metadata": {
        "id": "z8wKUBCGTuiM"
      },
      "source": [
        "## **Specifications**"
      ]
    },
    {
      "cell_type": "markdown",
      "metadata": {
        "id": "qCQi02j4fKN3"
      },
      "source": [
        "**Followers’ Specifications**\n",
        "\n",
        "*   There are three different followers, named as MK1, MK2, and MK3.\n",
        "*   The payoff function and strategy spaces of these followers are unknown. However, historical data from 100 days of previous games between the leader and each follower is available and provided."
      ]
    },
    {
      "cell_type": "markdown",
      "metadata": {
        "id": "tPzKFX9wfMvK"
      },
      "source": [
        "**Leader’s Specifications**\n",
        "\n",
        "Assume that the leader’s strategy (i.e., price) is $u_L$ and the follower’s strategy (i.e., price) is $u_F$. The specifics regarding the leader’s strategy and profits are as follows:\n",
        "*   **Unit cost**: $c_L=£1.00$\n",
        "*   **Strategy space**:\n",
        "      1.   When playing with MK1 and MK2, the leader’s strategy space is $U_L = [1.00, +∞)$\n",
        "      2.   When playing with MK3, the leader’s strategy space is $U_L = [1.00, 2.00]$     \n",
        "* \t**Demand Model** (i.e., price-sale relationship): $S_L(u_L, u_F)=2 - u_L + 0.3u_F$    \n",
        "*   **Daily Profit**: $(u_L - c_L)S_L(u_L, u_F)$\n",
        "*   **Objective**: The leader’s objective of playing is to maximise the accumulated profit for the next 30 days.\n",
        "*   **Assumption**: For simplicity, it is assumed that the leader’s unit cost, strategy space, and the demand model remain unchanged throughout the entire period of 130 days."
      ]
    },
    {
      "cell_type": "markdown",
      "metadata": {
        "id": "8FhASqXkT7Xo"
      },
      "source": [
        "## **Game Rules and Playing Scenarios**"
      ]
    },
    {
      "cell_type": "markdown",
      "metadata": {
        "id": "e6_isrDZfWPn"
      },
      "source": [
        "**Game Rules**\n",
        "\n",
        "On day $t$, the leader announces the price, $u_L (t)$, first. After learning the leader’s price, the follower will choose the responding price, $u_F (t)$. This process occurs over a period of $t=1,2,…,130$, where $t=1,2,…,100$ corresponds to the days for which historical data is available, and $t=101,102,…,130$ are the days during which the game will be played repeatedly.\n"
      ]
    },
    {
      "cell_type": "markdown",
      "metadata": {
        "id": "vS4WZ0D1gC2W"
      },
      "source": [
        "**Game Playing Scenarios**\n",
        "\n",
        "In this setup, your program, acting as the leader, will engage in three separate games against three different competitors, identified as followers MK1, MK2, and MK3.\n",
        "\n",
        "For each of the repeated game, the leader selects his learning method to learn the follower’s reaction function based on the provided set of historical data which spans from $t=1,2,…,100$. During the next 30 days ($t=101,102,…,130$), the leader announces a price, $u_L (t)$, to the game platform daily. After the leader's price is announced, the follower will respond with the price, $u_F (t)$. Upon receiving the follower's price, $u_F (t)$, from the game platform, the leader may use this new information to refine their knowledge/ update the learned reaction function and decide his price of the next day. In the other words, the leader (i.e., your program) should be able to take the follower’s price of the previous day from the game platform for updating, and then decide and send his price of the next day to the game platform.\n",
        "\n",
        "It should be emphasised that the follower’s strategy and payoff function is subject to the changing and time varying environment. That is, the parameters in the follower’s payoff function may not be the same every day.\n",
        "\n"
      ]
    },
    {
      "cell_type": "markdown",
      "metadata": {
        "id": "B1RpBx7FDNQ1"
      },
      "source": [
        "## **Implementation Options**\n",
        "1.\t**Single Leader Approach**: You may choose to design and implement a single leader algorithm that competes against all three followers, adapting its strategy based on the opponent being faced.\n",
        "2.\t**Multiple Leaders Approach**: Alternatively, you could design and implement three distinct leaders, each tailored to play against one of the followers. This approach allows for specialised strategies to be developed for each follower type.\n",
        "\n",
        "Whichever method you choose, it's crucial to document in this notebook section [Your Leader](#your-leader) which leader(s) is designed to play against each follower. This clarity will help in understanding the design choices and strategies implemented in your program.\n"
      ]
    },
    {
      "cell_type": "markdown",
      "metadata": {
        "id": "eBQDvQldUHHm"
      },
      "source": [
        "## **Project Timeline and Support**"
      ]
    },
    {
      "cell_type": "markdown",
      "metadata": {
        "id": "Om4Z5FdiF3nu"
      },
      "source": [
        "**Project Timeline**\n",
        "\n",
        "*\t**Week 7 (Starting 10 March)**: Start to work on your project and project planning.\n",
        "*\t**Week 11 (28 April – 2 May)**: Group presentations telling us what you have done.\n",
        "*\t**Deadline (2 May at 6:00pm)**: Deadline to submit codes and supporting document.\n"
      ]
    },
    {
      "cell_type": "markdown",
      "metadata": {
        "id": "cC_yPWtjGGSp"
      },
      "source": [
        "**Support**\n",
        "\n",
        "*\t**Weekly Support Sessions**: Project support sessions are scheduled every Wednesday from 11:00 am to 12:00 noon between Weeks 7 and 10. These sessions will be held at <u>Booth Street East -TH A (G.10)</u>. You are encouraged to attend if you have questions, need clarification, or seek guidance on any aspect of the project. Attendance is optional and based on your needs for support.\n",
        "*\t**Email**: In addition to the weekly sessions, you are welcome to ask questions or seek support via email at any time. If you encounter any issues with installing or running the game platform, or if you have any other project-related inquiries, do not hesitate to contact the teaching assistants by email for support.\n"
      ]
    },
    {
      "cell_type": "markdown",
      "metadata": {
        "id": "_x-VgyqaUdfr"
      },
      "source": [
        "## **Assessment Criteria and Submission**"
      ]
    },
    {
      "cell_type": "markdown",
      "metadata": {
        "id": "0boMLY1WGgHp"
      },
      "source": [
        "**Assessment Criteria**\n",
        "\n",
        "The project is a significant component of your final grade, accounting for 50% of the total mark, with the remaining 50% coming from the final examination. The project mark is distributed as follows:\n",
        "1.\t**Content of the Approach (50% of this project mark)**:\n",
        "  *\tPresentation (40%): Your grade in this category is based on the presentation you give in Week 11. This includes the originality of your idea, how well it integrates knowledge from the course, and any relevant external literature or research you have incorporated.\n",
        "  *\tWritten Materials (10%): This is based on the documentation you submit to your group journal on Blackboard. It evaluates the depth and clarity of your written explanation of the approach, including the rationale behind your strategies and methods.\n",
        "2.\t**Performance of the Approach (50% of this project mark)**:\n",
        "  *\tThis evaluates the effectiveness of your submitted program by looking at how well it performs in the game platform, that is, the accumulated profit generated by your submitted codes.\n",
        "3.\t**Group Mark Distribution**:\n",
        "  *\tThe overall group mark will be allocated to individual group members based on self-assessment and the demonstration of knowledge during the presentation.\n"
      ]
    },
    {
      "cell_type": "markdown",
      "metadata": {
        "id": "85CORLj_GxRs"
      },
      "source": [
        "**Presentation**\n",
        "\n",
        "During the presentation week of Semester 2, every group is scheduled to present their project to the lecturers. It is important for each group member to actively participate in speaking and answering questions. This participation allows us to evaluate each member's contributions to the project. The assessment criteria focus solely on the content of your presentation, including the activities your group undertook and the lessons learned through the project process. Presentation skills are not part of the evaluation, so the emphasis should not be on creating a polished presentation but on effectively communicating your project's substance and outcomes.\n"
      ]
    },
    {
      "cell_type": "markdown",
      "metadata": {
        "id": "qIQkFXQvG4Zg"
      },
      "source": [
        "**Performance of the Approach – Assessment Details**\n",
        "\n",
        "*\t**Step 1**. We will run your submitted codes against MK1, MK2, and MK3 and get the accumulated profit for the days $101 – 130$. These profits will be used as the performance of your submitted codes against MK1, MK2 and MK3\n",
        "*\t**Step 2**. We have also designed 3 further followers MK4, MK5, and MK6, which are created by slightly changes of the parameters of MK1, MK2, and MK3 respectively. That is, MK1 and MK4 are very similar, MK2 and MK5 are very similar, MK3 and MK6 are very similar. No data about MK$i$ ($i=4, 5, 6$) is provided. That is, they are invisible followers to you. But the setting of each MK$i$ ($i=4,5,6$) is the same as the provided followers, with 100 historical data and we will run your codes to get the accumulated profit for days $101 – 130$, which will be used as the performance of your submitted codes against MK4, MK5 and MK6.\n",
        "*\t**Step 3**. Based on the accumulated profits for MK1 and MK4 and compared with the best possible performances of MK1 and Mk4, your codes will get a percentage mark; Similarly you will get a percentage mark from MK2 and MK5, and then a percentage mark from MK3 and MK6. Finally your performance mark will be the average of these 3 percentage marks.\n",
        "\n",
        "**Remark**. The creation of MK4, MK5, and MK6 is a new assessment component for this year and so we are happy to hear any feedback, and change if necessary. The motivation and justification are as follows:\n",
        "*\tWe have run the codes submitted by the project groups of the last year to MK 4, MK5, and MK6, and noticed various issues, such as some submissions were hard coded for some parameters rather than via the learning; Some were invalid such as out of the price bounds; Some have the running errors etc.\n",
        "*\tIn real applications such as petrol station pricing, it is impossible to many many experiments and tests for each station, but we need a piece of software usable across a large numbers of petrol stations. The creation of MK4, MK5, and Mk6 is to simulate and test such a need from a real application point of view.\n",
        "*\tIn the last year, many groups produced very similar performance due to the limited test cases. The creation of MK4, MK5, and MK6 will provide more testing cases and help distinguishing the performance of different approaches.\n",
        "*\tAs MK4, MK5, and MK6 are invisible to you, this should not add your workload for the project.      \n"
      ]
    },
    {
      "cell_type": "markdown",
      "metadata": {
        "id": "zGyeiJeQIKBb"
      },
      "source": [
        "**Submission**\n",
        "\n",
        "All submissions will be marked using the free version of Google Colaboratory.\n",
        "* Make sure your implementation works within this environment.\n",
        "* Avoid using any external dependencies that might not be available.\n",
        "\n",
        "Please download this notebook for submission by clicking “File” in the top left corner, then selecting “Download” followed by “Download .ipynb”. If your notebook requires any external files to run, ensure that you submit them along with your notebook. Submission will be done through Blackboard, and further details will be provided later.\n"
      ]
    },
    {
      "cell_type": "markdown",
      "metadata": {
        "id": "J-qdogBfSO4i"
      },
      "source": [
        "## **Game Platform**"
      ]
    },
    {
      "cell_type": "markdown",
      "metadata": {
        "id": "YvDxER68UuGR"
      },
      "source": [
        "The project will be run on Google Colaboratory, which is a hosted Jupyter Notebook service. This is done to avoid compatibility issues across different operating systems and to provide a collaborative environment where group members can work effectively using Colab’s sharing functionality. Follow the steps below to set up and use Google Colaboratory for your project.\n"
      ]
    },
    {
      "cell_type": "markdown",
      "metadata": {
        "id": "zPVhHWzYTqPE"
      },
      "source": [
        "**Using Google Colaboratory for the Project**\n",
        "* Running Code\n",
        "  * Click on a cell and press Shift + Enter, or\n",
        "  * Click the Play button on the left side of the cell\n",
        "* Adding Cell\n",
        "  * Hover over an existing cell and click “+ Code” or “+ Text” where needed\n",
        "* Stopping a Running C→ell:\n",
        "  * From the top menu, click “Runtime” → “Interrupt execution”.\n",
        "* Restarting Runtime\n",
        "  * Click “Runtime” → “Restart session”.\n",
        "  * This will clear all variables.\n",
        "* Disconnecting and Deleting the Runtime\n",
        "  * Click “Runtime” → “Disconnect and delete session”.\n",
        "  * This will reset the Colaboratory environment completely.\n",
        "*\tSharing with Group Members\n",
        "  *\tYou can share your notebook with your group members by clicking “Share” in the top-right corner.\n",
        "  *\tBe careful when saving, if multiple people edit the notebook at the same time, you may overwrite each other’s work.\n",
        "*\tFor More Functionalities, please visit [this link](https://colab.research.google.com)."
      ]
    },
    {
      "cell_type": "markdown",
      "metadata": {
        "id": "87IPuwM3S4j4"
      },
      "source": [
        "**Understanding the Notebook Structure**\n",
        "\n",
        "The notebook is structured into several sections. You can click the first icon on the top left to open the “Table of contents” and navigate through different sections.\n",
        "1.\tProject Description: This section provides an overview of the project.\n",
        "2.\tInstall and Import: This section installs, imports necessary packages, and unzips comp34612.zip.\n",
        "3.\tBase Leader and Example Leader: This section contains the base leader class and an example leader implementation.\n",
        "4.\tYour Leader: In this section,\n",
        "\t*\tFirst write your group number as an integer.\n",
        "\t*\tThen implement your leader(s) based on the project requirements.\n",
        "\t*\tClearly document:\n",
        "      *\tWhich implementation approach you choose (single or multiple).\n",
        "      *\tWhich leader is designed to play against each follower.\n",
        "5.\tSimulation: This section provides an interface to simulate the pricing game between your selected leader and selected follower.\n"
      ]
    },
    {
      "cell_type": "markdown",
      "metadata": {
        "id": "wrdXoxQfRc9t"
      },
      "source": [
        "# Install and Import"
      ]
    },
    {
      "cell_type": "code",
      "execution_count": 1,
      "metadata": {
        "colab": {
          "base_uri": "https://localhost:8080/"
        },
        "id": "pwEA-WPoXA5-",
        "outputId": "e13a784d-d15b-4aa8-c5fc-fd14bd4ab27c"
      },
      "outputs": [
        {
          "output_type": "stream",
          "name": "stdout",
          "text": [
            "Collecting xlsxwriter\n",
            "  Downloading XlsxWriter-3.2.3-py3-none-any.whl.metadata (2.7 kB)\n",
            "Downloading XlsxWriter-3.2.3-py3-none-any.whl (169 kB)\n",
            "\u001b[?25l   \u001b[90m━━━━━━━━━━━━━━━━━━━━━━━━━━━━━━━━━━━━━━━━\u001b[0m \u001b[32m0.0/169.4 kB\u001b[0m \u001b[31m?\u001b[0m eta \u001b[36m-:--:--\u001b[0m\r\u001b[2K   \u001b[91m━━━━━━━━━━━━━━━━━━━━━━━━━━━━━━━━━━━━━━\u001b[0m\u001b[91m╸\u001b[0m\u001b[90m━\u001b[0m \u001b[32m163.8/169.4 kB\u001b[0m \u001b[31m6.3 MB/s\u001b[0m eta \u001b[36m0:00:01\u001b[0m\r\u001b[2K   \u001b[90m━━━━━━━━━━━━━━━━━━━━━━━━━━━━━━━━━━━━━━━━\u001b[0m \u001b[32m169.4/169.4 kB\u001b[0m \u001b[31m3.1 MB/s\u001b[0m eta \u001b[36m0:00:00\u001b[0m\n",
            "\u001b[?25hInstalling collected packages: xlsxwriter\n",
            "Successfully installed xlsxwriter-3.2.3\n"
          ]
        }
      ],
      "source": [
        "!pip install xlsxwriter"
      ]
    },
    {
      "cell_type": "code",
      "execution_count": 2,
      "metadata": {
        "id": "Hng6pqrylpxp"
      },
      "outputs": [],
      "source": [
        "import zipfile\n",
        "import os\n",
        "import random\n",
        "import gc\n",
        "from IPython.display import Javascript\n",
        "import pandas as pd\n",
        "pd.set_option('display.max_rows', None)\n",
        "pd.set_option('display.max_columns', None)"
      ]
    },
    {
      "cell_type": "code",
      "execution_count": 3,
      "metadata": {
        "id": "p4IhoMtcqal3"
      },
      "outputs": [],
      "source": [
        "extract_path = \".\"\n",
        "zip_filename = \"comp34612.zip\"\n",
        "\n",
        "os.makedirs(extract_path, exist_ok=True)\n",
        "\n",
        "# this has been changed from their default file cos their given code dont extract properly for the next imports to work\n",
        "with zipfile.ZipFile(zip_filename, \"r\") as zip_ref:\n",
        "    # Extract files manually to avoid recreating the top-level folder\n",
        "    for member in zip_ref.namelist():\n",
        "        member_path = member.split(\"/\", 1)[-1]\n",
        "        if member_path:  #ignore top level comp3... folder to just read its contents\n",
        "            zip_ref.extract(member, extract_path)\n",
        "            try:\n",
        "                os.rename(os.path.join(extract_path, member), os.path.join(extract_path, member_path))\n",
        "            except:\n",
        "                pass\n"
      ]
    },
    {
      "cell_type": "code",
      "execution_count": 4,
      "metadata": {
        "id": "a9vALA_KXC5D"
      },
      "outputs": [],
      "source": [
        "from engine import Engine\n",
        "from gui import GUI"
      ]
    },
    {
      "cell_type": "markdown",
      "metadata": {
        "id": "IicR1K3HPuq8"
      },
      "source": [
        "Please import the necessary packages here or use `!pip install *package_name*` if they are not already installed."
      ]
    },
    {
      "cell_type": "code",
      "execution_count": 4,
      "metadata": {
        "id": "Xqxk3fp-Qfr1"
      },
      "outputs": [],
      "source": []
    },
    {
      "cell_type": "markdown",
      "metadata": {
        "id": "KBvbZ_HOXLnw"
      },
      "source": [
        "# Base Leader and Example Leader"
      ]
    },
    {
      "cell_type": "markdown",
      "metadata": {
        "id": "gbUkLBfbclfY"
      },
      "source": [
        "## Base Leader"
      ]
    },
    {
      "cell_type": "markdown",
      "metadata": {
        "id": "QSTzajwQN-ul"
      },
      "source": [
        "This is the base class for all leader subclasses."
      ]
    },
    {
      "cell_type": "code",
      "execution_count": 5,
      "metadata": {
        "id": "4ywrl6-2P9HQ"
      },
      "outputs": [],
      "source": [
        "class Leader:\n",
        "    _subclass_registry = {}\n",
        "\n",
        "    def __init__(self, name, engine):\n",
        "        self.name = name\n",
        "        self.engine = engine\n",
        "\n",
        "    @classmethod\n",
        "    def cleanup_old_subclasses(cls):\n",
        "        \"\"\"\n",
        "        A function to remove old subclasses before defining new ones.\n",
        "        \"\"\"\n",
        "        existing_subclasses = list(cls.__subclasses__())\n",
        "\n",
        "        for subclass in existing_subclasses:\n",
        "            subclass_name = subclass.__name__\n",
        "            if subclass_name in cls._subclass_registry:\n",
        "                del cls._subclass_registry[subclass_name]\n",
        "                del subclass\n",
        "        gc.collect()\n",
        "\n",
        "    @classmethod\n",
        "    def update_subclass_registry(cls):\n",
        "        \"\"\"\n",
        "        A function to update registry after cleaning up old subclasses.\n",
        "        \"\"\"\n",
        "        cls.cleanup_old_subclasses()\n",
        "        cls._subclass_registry = {subclass.__name__: subclass for subclass in cls.__subclasses__()}\n",
        "\n",
        "    def new_price(self, date):\n",
        "        \"\"\"\n",
        "        A function for setting the new price of each day.\n",
        "        :param date: date of the day to be updated\n",
        "        :return: (float) price for the day\n",
        "        \"\"\"\n",
        "        pass\n",
        "\n",
        "    def get_price_from_date(self, date):\n",
        "        \"\"\"\n",
        "        A function for getting the price set on a date.\n",
        "        :param date: (int) date to get the price from\n",
        "        :return: a tuple (leader_price, follower_price)\n",
        "        \"\"\"\n",
        "        return self.engine.exposed_get_price(date)\n",
        "\n",
        "\n",
        "    def start_simulation(self):\n",
        "        \"\"\"\n",
        "        A function runs at the beginning of the simulation.\n",
        "        \"\"\"\n",
        "        pass\n",
        "\n",
        "    def end_simulation(self):\n",
        "        \"\"\"\n",
        "        A function runs at the beginning of the simulation.\n",
        "        \"\"\"\n",
        "        pass"
      ]
    },
    {
      "cell_type": "markdown",
      "metadata": {
        "id": "f3KUnys4cn-c"
      },
      "source": [
        "## Example Leader"
      ]
    },
    {
      "cell_type": "markdown",
      "metadata": {
        "id": "6i9DFkB5OFu0"
      },
      "source": [
        "This is a simple example leader subclass."
      ]
    },
    {
      "cell_type": "code",
      "execution_count": 6,
      "metadata": {
        "id": "nHoNCHFgXXNk"
      },
      "outputs": [],
      "source": [
        "import time\n",
        "\n",
        "class SimpleLeader(Leader):\n",
        "    def __init__(self, name, engine):\n",
        "        super().__init__(name, engine)\n",
        "\n",
        "    def new_price(self, date: int):\n",
        "        return 1.5 + random.random() * 0.1"
      ]
    },
    {
      "cell_type": "markdown",
      "metadata": {
        "id": "Es5sl3xeY-RC"
      },
      "source": [
        "<a name=\"your-leader\"></a>\n",
        "# Your Leader"
      ]
    },
    {
      "cell_type": "markdown",
      "metadata": {
        "id": "DOFA97hMPakW"
      },
      "source": [
        "Please write your group number below in type int."
      ]
    },
    {
      "cell_type": "code",
      "execution_count": 7,
      "metadata": {
        "id": "DAkMa8owPVHS"
      },
      "outputs": [],
      "source": [
        "group_num = 1\n",
        "assert isinstance(group_num, int), f\"Expected an integer for group_num, but got {type(group_num).__name__}\""
      ]
    },
    {
      "cell_type": "markdown",
      "metadata": {
        "id": "cXlrH9XrFaIH"
      },
      "source": [
        "Please implement your leaders below. Please clearly document:\n",
        "*   Which implementation approach you choose (single leader approach or multiple leaders approach)\n",
        "*   State which leader(s) is designed to play against each follower."
      ]
    },
    {
      "cell_type": "markdown",
      "metadata": {
        "id": "sYHeuEsB6hZJ"
      },
      "source": [
        "# Leader for Follower Mk1 (Linear Regression over Date and Follower Price)"
      ]
    },
    {
      "cell_type": "code",
      "execution_count": 8,
      "metadata": {
        "id": "t_omEQy_vZZ-"
      },
      "outputs": [],
      "source": [
        "import os\n",
        "import numpy as np\n",
        "from sklearn.model_selection import KFold\n",
        "from sklearn.preprocessing import PolynomialFeatures\n",
        "from sklearn.linear_model import LinearRegression\n",
        "\n",
        "class MK1Leader1(Leader):\n",
        "    def __init__(self, name, engine):\n",
        "        super().__init__(name, engine)\n",
        "        self.c_L = 1 # given\n",
        "        self.import_data(data_path='./data.xlsx')\n",
        "        self.train_follower_model(max_degree=5)\n",
        "\n",
        "    def demand_L(self, u_L, u_F):\n",
        "      return 2 - u_L + (0.3 * u_F)\n",
        "\n",
        "    def profit_L(self, u_L, u_F):\n",
        "      return (u_L - self.c_L) * self.demand_L(u_L, u_F)\n",
        "\n",
        "    def import_data(self, data_path):\n",
        "      if not os.path.exists(data_path):\n",
        "        raise FileNotFoundError(f\"Data file not found at path: {data_path}\")\n",
        "\n",
        "      xls = pd.ExcelFile(data_path)\n",
        "      self.historical_data = pd.read_excel(xls, 'Follower_Mk1')\n",
        "      new_names = {\"Leader's Price\": 'u_L', \"Follower's Price\": 'u_F', \"Date\": 't'}\n",
        "      self.historical_data.rename(columns=new_names, inplace=True)\n",
        "      print(f'Columns: {self.historical_data.columns}')\n",
        "\n",
        "    def train_follower_model(self, max_degree=5, num_splits=5):\n",
        "      \"\"\"\n",
        "      Train a model to predict the follower's best response given the leader's price u_L.\n",
        "      We train polynomial models up to degree max_degree and choose that which gives the best performance by minimising the mean squared error.\n",
        "      Trained using K_fold cross validation.\n",
        "\n",
        "      Args:\n",
        "          max_degree (int): The maximum degree of the polynomial model to be trained.\n",
        "          num_splits (int): The number of splits for K_fold cross validation.\n",
        "      \"\"\"\n",
        "      degrees = range(1, max_degree+1)\n",
        "      follower_models = {}\n",
        "      best_mse = float('inf')\n",
        "\n",
        "      kf = KFold(n_splits=num_splits, shuffle=True)\n",
        "      X = self.historical_data[['u_L', 't']].values\n",
        "      y = self.historical_data['u_F'].values\n",
        "\n",
        "      for degree in degrees:\n",
        "        mse_scores = []\n",
        "        poly = PolynomialFeatures(degree)\n",
        "        X_poly = poly.fit_transform(X)\n",
        "\n",
        "        for train_index, test_index in kf.split(self.historical_data):\n",
        "          X_train, X_val = X_poly[train_index], X_poly[test_index]\n",
        "          y_train, y_val = y[train_index], y[test_index]\n",
        "\n",
        "          model = LinearRegression()\n",
        "          model.fit(X_train, y_train)\n",
        "          y_pred = model.predict(X_val)\n",
        "          mse = np.mean((y_val - y_pred)**2)\n",
        "          mse_scores.append(mse)\n",
        "\n",
        "        avg_mse = np.mean(mse_scores)\n",
        "        if avg_mse < best_mse:\n",
        "          best_mse = avg_mse\n",
        "          best_model = model\n",
        "          best_poly = poly\n",
        "\n",
        "      self.follower_model = best_model\n",
        "      self.follower_model_poly = best_poly\n",
        "      self.follower_best_mse = best_mse\n",
        "\n",
        "      print(f\"Selected follower model:\\n{self.follower_model_poly}:\\n{self.follower_model}\")\n",
        "\n",
        "    def new_price(self, date: int):\n",
        "        return 1.5 + random.random() * 0.1"
      ]
    },
    {
      "cell_type": "markdown",
      "metadata": {
        "id": "WLKcimhbs2bN"
      },
      "source": [
        "# Leader for Follower Mk1 (Stochastic Gradient Descent)"
      ]
    },
    {
      "cell_type": "code",
      "execution_count": 9,
      "metadata": {
        "id": "VPofb5Nds6is"
      },
      "outputs": [],
      "source": [
        "import numpy as np\n",
        "import pandas as pd\n",
        "from sklearn.linear_model import SGDRegressor\n",
        "from sklearn.preprocessing import PolynomialFeatures, StandardScaler\n",
        "from sklearn.pipeline import make_pipeline\n",
        "\n",
        "class Mk1Leader2(Leader):\n",
        "  def __init__(self, name, engine):\n",
        "    super().__init__(name, engine)\n",
        "\n",
        "    self.c_L = 1 # given unit cost\n",
        "    self.polynomial_degree = 3 # vary to capture non-linear patterns\n",
        "    self.poly = PolynomialFeatures(degree=self.polynomial_degree, include_bias=True)\n",
        "    self.scaler = StandardScaler()\n",
        "    self.regressor = SGDRegressor(max_iter=1000, tol=1e-3, learning_rate='invscaling', eta0=0.01, random_state=42, verbose=0)\n",
        "\n",
        "    self.import_data('./data.xlsx')\n",
        "    self._initial_fit_follower_model()\n",
        "\n",
        "  def import_data(self, data_path):\n",
        "    if not os.path.exists(data_path):\n",
        "      raise FileNotFoundError(f\"Data file not found at path: {data_path}\")\n",
        "\n",
        "    xls = pd.ExcelFile(data_path)\n",
        "    self.historical_data = pd.read_excel(xls, 'Follower_Mk1')\n",
        "    new_names = {\"Leader's Price\": 'u_L', \"Follower's Price\": 'u_F', \"Date\": 't'}\n",
        "    self.historical_data.rename(columns=new_names, inplace=True)\n",
        "    self.historical_data.set_index('t', inplace=True)\n",
        "\n",
        "  def _initial_fit_follower_model(self):\n",
        "    data = self.historical_data.sort_index()\n",
        "    X = data[['u_L']].values\n",
        "    y = data['u_F'].values\n",
        "\n",
        "    X_poly = self.poly.fit_transform(X)\n",
        "    X_scaled = self.scaler.fit_transform(X_poly)\n",
        "\n",
        "    self.regressor.partial_fit(X_scaled, y)\n",
        "    print('Initial training complete.')\n",
        "\n",
        "  def _update_follower_model(self, date):\n",
        "    try:\n",
        "      u_L, u_F = self.get_price_from_date(date-1)\n",
        "    except:\n",
        "      print(f'No data available for date {date}')\n",
        "      return\n",
        "\n",
        "    X = np.array([[u_L]])\n",
        "    y = np.array([u_F])\n",
        "\n",
        "    X_poly = self.poly.transform(X)\n",
        "    X_scaled = self.scaler.transform(X_poly)\n",
        "\n",
        "    self.regressor.partial_fit(X_scaled, y)\n",
        "\n",
        "  def _predict_follower_price(self, u_L):\n",
        "    X_poly = self.poly.transform([[u_L]])\n",
        "    X_scaled = self.scaler.transform(X_poly)\n",
        "    return float(self.regressor.predict(X_scaled)[0])\n",
        "\n",
        "  def _demand_L(self, u_L, u_F):\n",
        "        return 2 - u_L + 0.3 * u_F\n",
        "\n",
        "  def _profit_L(self, u_L):\n",
        "      u_F = self._predict_follower_price(u_L)\n",
        "      return (u_L - self.c_L) * self._demand_L(u_L, u_F)\n",
        "\n",
        "  def new_price(self, date):\n",
        "    if date > 101:\n",
        "      self._update_follower_model(date)\n",
        "\n",
        "    # Find best price\n",
        "    candidates = np.linspace(1.0, 5.0, 1000)\n",
        "    profits = [self._profit_L(p) for p in candidates]\n",
        "    best_price = candidates[np.argmax(profits)]\n",
        "    print(f'Best price found: {best_price}')\n",
        "    return best_price\n"
      ]
    },
    {
      "cell_type": "markdown",
      "metadata": {
        "id": "ZulLfhcON79c"
      },
      "source": [
        "# Leader for Follower Mk2 (Symbolic Derivative)"
      ]
    },
    {
      "cell_type": "code",
      "execution_count": 10,
      "metadata": {
        "id": "8r1ry33GOAuF"
      },
      "outputs": [],
      "source": [
        "import numpy as np\n",
        "import sympy as sp\n",
        "import sys\n",
        "from tqdm import tqdm\n",
        "\n",
        "class MK2Leader1(Leader):\n",
        "    \"\"\"\n",
        "    The Follower Mk2 Agent has a strong correlation between date and follower's price.\n",
        "    Informed by the visualisations, we formulate the follower's reaction function as a polynomial model based on the date.\n",
        "    \"\"\"\n",
        "    def __init__(self, name, engine):\n",
        "        super().__init__(name, engine)\n",
        "        self.c_L = 1 # given\n",
        "        self.import_data(data_path='./data.xlsx')\n",
        "        self.alpha = self.optimise_alpha()\n",
        "        self.train_follower_model(max_degree=5)\n",
        "        self.lower_bound = 1\n",
        "        self.upper_bound = 1000 # very large (in proportion) to model infinity without overflow\n",
        "\n",
        "    def demand_L(self, u_L, u_F):\n",
        "        return 2 - u_L + (0.3 * u_F)\n",
        "\n",
        "    def profit_L(self, u_L, u_F):\n",
        "        return (u_L - self.c_L) * self.demand_L(u_L, u_F)\n",
        "\n",
        "    def import_data(self, data_path):\n",
        "        if not os.path.exists(data_path):\n",
        "            raise FileNotFoundError(f\"Data file not found at path: {data_path}\")\n",
        "\n",
        "        xls = pd.ExcelFile(data_path)\n",
        "        self.historical_data = pd.read_excel(xls, 'Follower_Mk1')\n",
        "        new_names = {\"Leader's Price\": 'u_L', \"Follower's Price\": 'u_F', \"Date\": 't'}\n",
        "        self.historical_data.rename(columns=new_names, inplace=True)\n",
        "\n",
        "    def optimise_alpha(self, max_degree=5, num_splits=5):\n",
        "      \"\"\"\n",
        "      Finds the optimal alpha (recency weight decay factor) via cross-validation.\n",
        "\n",
        "      Args:\n",
        "          alpha_values (list): A list of alpha values to test.\n",
        "          max_degree (int): Maximum degree for polynomial features.\n",
        "          num_splits (int): Number of splits for K-Fold cross-validation.\n",
        "\n",
        "      Returns:\n",
        "          float: Best alpha value based on lowest cross-validated MSE.\n",
        "      \"\"\"\n",
        "      alpha_values = np.logspace(-4, 0, 10)  # 0.0001 to 1\n",
        "\n",
        "      X = self.historical_data[['u_L', 't']].values\n",
        "      y = self.historical_data['u_F'].values\n",
        "      t_min = self.historical_data['t'].min()\n",
        "\n",
        "      best_alpha = None\n",
        "      best_mse = float('inf')\n",
        "\n",
        "      for alpha in tqdm(alpha_values, desc='Optimising Alpha'):\n",
        "          kf = KFold(n_splits=num_splits, shuffle=True)\n",
        "          poly = PolynomialFeatures(max_degree)\n",
        "          X_poly = poly.fit_transform(X)\n",
        "\n",
        "          time_diff = self.historical_data['t'] - t_min\n",
        "          sample_weights = np.exp(alpha * time_diff)\n",
        "\n",
        "          mse_scores = []\n",
        "\n",
        "          for train_index, test_index in kf.split(X_poly):\n",
        "              X_train, X_val = X_poly[train_index], X_poly[test_index]\n",
        "              y_train, y_val = y[train_index], y[test_index]\n",
        "              weights_train = sample_weights.iloc[train_index]\n",
        "\n",
        "              model = LinearRegression()\n",
        "              model.fit(X_train, y_train, sample_weight=weights_train)\n",
        "              y_pred = model.predict(X_val)\n",
        "              mse = np.mean((y_val - y_pred) ** 2)\n",
        "              mse_scores.append(mse)\n",
        "\n",
        "          avg_mse = np.mean(mse_scores)\n",
        "\n",
        "          if avg_mse < best_mse:\n",
        "              best_mse = avg_mse\n",
        "              best_alpha = alpha\n",
        "\n",
        "      print(f\"\\nBest alpha: {best_alpha} with MSE: {best_mse:.5f}\")\n",
        "      return best_alpha\n",
        "\n",
        "    def train_follower_model(self, max_degree=5, num_splits=5):\n",
        "        degrees = range(2, max_degree+1)\n",
        "        follower_models = {}\n",
        "        best_mse = float('inf')\n",
        "\n",
        "        kf = KFold(n_splits=num_splits, shuffle=True)\n",
        "        X = self.historical_data[['u_L', 't']].values\n",
        "        y = self.historical_data['u_F'].values\n",
        "\n",
        "        for degree in degrees:\n",
        "          mse_scores = []\n",
        "          poly = PolynomialFeatures(degree)\n",
        "          X_poly = poly.fit_transform(X)\n",
        "\n",
        "          t_min = self.historical_data['t'].min()\n",
        "          time_diffs = self.historical_data['t'] - t_min\n",
        "          sample_weights = np.exp(self.alpha * time_diffs)\n",
        "\n",
        "          for train_index, test_index in kf.split(self.historical_data):\n",
        "            X_train, X_val = X_poly[train_index], X_poly[test_index]\n",
        "            y_train, y_val = y[train_index], y[test_index]\n",
        "\n",
        "            weights = sample_weights[train_index]\n",
        "\n",
        "            model = LinearRegression()\n",
        "            model.fit(X_train, y_train, sample_weight=weights)\n",
        "            y_pred = model.predict(X_val)\n",
        "            mse = np.mean((y_val - y_pred)**2)\n",
        "            mse_scores.append(mse)\n",
        "\n",
        "          avg_mse = np.mean(mse_scores)\n",
        "          if avg_mse < best_mse:\n",
        "            best_mse = avg_mse\n",
        "            best_model = model\n",
        "            best_poly = poly\n",
        "            best_degree = degree\n",
        "\n",
        "        self.follower_model = best_model\n",
        "        self.follower_model_poly = best_poly\n",
        "        self.follower_best_mse = best_mse\n",
        "        print(f'Best model degree: {degree}')\n",
        "\n",
        "    def get_derivatives(self, model, poly):\n",
        "        \"\"\"\n",
        "        Compute the first and second derivatives of the trained follower's reaction function.\n",
        "        Differentiate with respect to u_L.\n",
        "        \"\"\"\n",
        "        u_L, t = sp.symbols(\"u_L t\")\n",
        "\n",
        "        X_sample = poly.fit_transform([[1, 1]])\n",
        "        feature_names = poly.get_feature_names_out(['u_L', 't'])\n",
        "\n",
        "        eq = sum(coef * sp.sympify(term.replace(\"^\", \"**\").replace(\" \", \"*\"))\n",
        "                for coef, term in zip(model.coef_, feature_names))\n",
        "\n",
        "        first_derivative = sp.diff(eq, u_L)\n",
        "        second_derivative = sp.diff(first_derivative, u_L)\n",
        "        return first_derivative, second_derivative\n",
        "\n",
        "    def new_price(self, date: int):\n",
        "        \"\"\"\n",
        "        We predict the follower's price based on the leader's price and date.\n",
        "        We differentiate the follower's learned reaction function to maximise the leader's profit.\n",
        "\n",
        "        The process for choosing the leader's price is:\n",
        "          1. Differentiate the follower's reaction function with respect to u_L\n",
        "          2. Find any local maxima within the pricing bounds - [1.00, +inf) for Follower Mk2\n",
        "          3. Find profit at each local maxima, and the boundaries\n",
        "          4. Choose the point with the highest leader profit.\n",
        "\n",
        "        Args:\n",
        "            date (int): The current date.\n",
        "\n",
        "        Returns:\n",
        "            float: The chosen leader's price.\n",
        "        \"\"\"\n",
        "        u_L, t = sp.symbols(\"u_L t\")\n",
        "\n",
        "        # Construct follower reaction function u_F = f(u_L, t)\n",
        "        feature_names = self.follower_model_poly.get_feature_names_out(['u_L', 't'])\n",
        "        follower_expr = sum(\n",
        "            coef * sp.sympify(term.replace(\"^\", \"**\").replace(\" \", \"*\"))\n",
        "            for coef, term in zip(self.follower_model.coef_, feature_names)\n",
        "        ) + self.follower_model.intercept_\n",
        "\n",
        "        # Plug into the profit function\n",
        "        profit_expr = (u_L - self.c_L) * (2 - u_L + 0.3 * follower_expr)\n",
        "\n",
        "        # Derivative of profit\n",
        "        profit_derivative = sp.diff(profit_expr, u_L)\n",
        "\n",
        "        extrema = sp.solve(profit_derivative.subs(t, date), u_L)\n",
        "\n",
        "        candidates = [\n",
        "            self.lower_bound,\n",
        "            self.upper_bound\n",
        "        ]\n",
        "\n",
        "        extrema = sp.solve(profit_derivative, sp.Symbol(\"u_L\"))\n",
        "\n",
        "        for ext in extrema:\n",
        "          ext_value = ext.subs(sp.Symbol(\"t\"), date)\n",
        "          if ext_value.is_real and self.lower_bound <= ext_value <= self.upper_bound:\n",
        "            candidates.append(float(ext_value))\n",
        "\n",
        "        profits = {}\n",
        "        for u_L in candidates:\n",
        "          u_F = self.follower_model.predict(self.follower_model_poly.fit_transform([[u_L, date]]))[0]\n",
        "          profits[u_L] = self.profit_L(u_L, u_F)\n",
        "\n",
        "        best_u_L = max(profits, key=profits.get)\n",
        "\n",
        "        return best_u_L"
      ]
    },
    {
      "cell_type": "markdown",
      "metadata": {
        "id": "GAlvXgsT6d5b"
      },
      "source": [
        "# Leader for Follower Mk2 (Derivation) - With Weights"
      ]
    },
    {
      "cell_type": "code",
      "execution_count": 19,
      "metadata": {
        "id": "jHsWYuhVM4nL"
      },
      "outputs": [],
      "source": [
        "import numpy as np\n",
        "import sympy as sp\n",
        "import sys\n",
        "from scipy.optimize import minimize_scalar\n",
        "from tqdm import tqdm\n",
        "\n",
        "class MK2Leader2(Leader):\n",
        "    \"\"\"\n",
        "    The Follower Mk2 Agent has a strong correlation between date and follower's price.\n",
        "    Informed by the visualisations, we formulate the follower's reaction function as a polynomial model based on the date.\n",
        "    \"\"\"\n",
        "    def __init__(self, name, engine):\n",
        "        super().__init__(name, engine)\n",
        "        self.import_data(data_path='./data.xlsx')\n",
        "        print(self.historical_data.head())\n",
        "        self.c_L = 1 # given\n",
        "        self.random_state = 42\n",
        "        self.lower_bound = 1\n",
        "        self.upper_bound = max(self.historical_data['u_L']) * 1.5\n",
        "\n",
        "    def demand_L(self, u_L, u_F):\n",
        "        return 2 - u_L + (0.3 * u_F)\n",
        "\n",
        "    def profit_L(self, u_L, u_F):\n",
        "        return (u_L - self.c_L) * self.demand_L(u_L, u_F)\n",
        "\n",
        "    def import_data(self, data_path):\n",
        "        if not os.path.exists(data_path):\n",
        "            raise FileNotFoundError(f\"Data file not found at path: {data_path}\")\n",
        "\n",
        "        xls = pd.ExcelFile(data_path)\n",
        "        self.historical_data = pd.read_excel(xls, 'Follower_Mk1')\n",
        "        new_names = {\"Leader's Price\": 'u_L', \"Follower's Price\": 'u_F', \"Date\": 't'}\n",
        "        self.historical_data.rename(columns=new_names, inplace=True)\n",
        "\n",
        "    def optimise_alpha(self, max_degree=5, num_splits=5):\n",
        "      \"\"\"\n",
        "      Finds the optimal alpha (recency weight decay factor) via cross-validation.\n",
        "\n",
        "      Args:\n",
        "          alpha_values (list): A list of alpha values to test.\n",
        "          max_degree (int): Maximum degree for polynomial features.\n",
        "          num_splits (int): Number of splits for K-Fold cross-validation.\n",
        "\n",
        "      Returns:\n",
        "          float: Best alpha value based on lowest cross-validated MSE.\n",
        "      \"\"\"\n",
        "      alpha_values = np.logspace(-4, 0, 10)  # 0.0001 to 1\n",
        "\n",
        "      X = self.historical_data[['u_L', 't']].values\n",
        "      y = self.historical_data['u_F'].values\n",
        "      t_min = self.historical_data['t'].min()\n",
        "\n",
        "      best_alpha = None\n",
        "      best_mse = float('inf')\n",
        "\n",
        "      for alpha in alpha_values:\n",
        "          kf = KFold(n_splits=num_splits, shuffle=True, random_state=self.random_state)\n",
        "          poly = PolynomialFeatures(max_degree)\n",
        "          X_poly = poly.fit_transform(X)\n",
        "\n",
        "          time_diff = self.historical_data['t'] - t_min\n",
        "          sample_weights = np.exp(alpha * time_diff)\n",
        "\n",
        "          mse_scores = []\n",
        "\n",
        "          for train_index, test_index in kf.split(X_poly):\n",
        "              X_train, X_val = X_poly[train_index], X_poly[test_index]\n",
        "              y_train, y_val = y[train_index], y[test_index]\n",
        "              weights_train = sample_weights.iloc[train_index]\n",
        "\n",
        "              model = LinearRegression()\n",
        "              model.fit(X_train, y_train, sample_weight=weights_train)\n",
        "              y_pred = model.predict(X_val)\n",
        "              mse = np.mean((y_val - y_pred) ** 2)\n",
        "              mse_scores.append(mse)\n",
        "\n",
        "          avg_mse = np.mean(mse_scores)\n",
        "\n",
        "          if avg_mse < best_mse:\n",
        "              best_mse = avg_mse\n",
        "              best_alpha = alpha\n",
        "\n",
        "      return best_alpha\n",
        "\n",
        "    def train_follower_model(self, max_degree=5, num_splits=5):\n",
        "        degrees = range(2, max_degree+1)\n",
        "        follower_models = {}\n",
        "        best_mse = float('inf')\n",
        "\n",
        "        kf = KFold(n_splits=num_splits, shuffle=True, random_state=self.random_state)\n",
        "        X = self.historical_data[['u_L', 't']].values\n",
        "        y = self.historical_data['u_F'].values\n",
        "\n",
        "        for degree in degrees:\n",
        "          mse_scores = []\n",
        "          poly = PolynomialFeatures(degree)\n",
        "          X_poly = poly.fit_transform(X)\n",
        "\n",
        "          t_min = self.historical_data['t'].min()\n",
        "          time_diffs = self.historical_data['t'] - t_min\n",
        "          sample_weights = np.exp(self.alpha * time_diffs)\n",
        "\n",
        "          for train_index, test_index in kf.split(self.historical_data):\n",
        "            X_train, X_val = X_poly[train_index], X_poly[test_index]\n",
        "            y_train, y_val = y[train_index], y[test_index]\n",
        "\n",
        "            weights = sample_weights[train_index]\n",
        "\n",
        "            model = LinearRegression()\n",
        "            model.fit(X_train, y_train, sample_weight=weights)\n",
        "            y_pred = model.predict(X_val)\n",
        "            mse = np.mean((y_val - y_pred)**2)\n",
        "            mse_scores.append(mse)\n",
        "\n",
        "          avg_mse = np.mean(mse_scores)\n",
        "          if avg_mse < best_mse:\n",
        "            best_mse = avg_mse\n",
        "            best_model = model\n",
        "            best_poly = poly\n",
        "            best_degree = degree\n",
        "\n",
        "        self.follower_model = best_model\n",
        "        self.follower_model_poly = best_poly\n",
        "        self.follower_best_mse = best_mse\n",
        "\n",
        "    def new_price(self, date: int):\n",
        "        \"\"\"\n",
        "        We predict the follower's price based on the leader's price and date.\n",
        "        We differentiate the follower's learned reaction function to maximise the leader's profit.\n",
        "\n",
        "        The process for choosing the leader's price is:\n",
        "          1. Differentiate the follower's reaction function with respect to u_L\n",
        "          2. Find any local maxima within the pricing bounds - [1.00, +inf) for Follower Mk2\n",
        "          3. Find profit at each local maxima, and the boundaries\n",
        "          4. Choose the point with the highest leader profit.\n",
        "\n",
        "        Args:\n",
        "            date (int): The current date.\n",
        "\n",
        "        Returns:\n",
        "            float: The chosen leader's price.\n",
        "        \"\"\"\n",
        "        def follower_price(u_L):\n",
        "            X_poly = self.follower_model_poly.fit_transform([[u_L, date]])\n",
        "            return self.follower_model.predict(X_poly)[0]\n",
        "\n",
        "        def profit(u_L):\n",
        "            u_F = follower_price(u_L)\n",
        "            return self.profit_L(u_L, u_F)\n",
        "\n",
        "        # update historical data with previous day if available (current reduces performance)\n",
        "        if date > 101:\n",
        "            previous_day = date - 1\n",
        "            previous_u_L, previous_u_F = self.get_price_from_date(previous_day)\n",
        "            new_row = pd.DataFrame([{\n",
        "                'u_L': previous_u_L,\n",
        "                'u_F': previous_u_F,\n",
        "                't': previous_day\n",
        "            }])\n",
        "            self.historical_data = pd.concat([self.historical_data, new_row], ignore_index=True)\n",
        "        # ------------------------------------------------------------------------------------\n",
        "\n",
        "        self.alpha = self.optimise_alpha()\n",
        "        self.train_follower_model()\n",
        "\n",
        "        res = minimize_scalar(lambda u_L: -profit(u_L), bounds=(self.lower_bound, self.upper_bound))\n",
        "\n",
        "        candidate_prices = [\n",
        "            self.lower_bound,\n",
        "            self.upper_bound\n",
        "        ]\n",
        "\n",
        "        profits = {price: profit(price) for price in candidate_prices}\n",
        "\n",
        "        if res.success:\n",
        "            profits[res.x] = profit(res.x)\n",
        "\n",
        "        best_u_L = max(profits, key=profits.get)\n",
        "        return best_u_L"
      ]
    },
    {
      "cell_type": "markdown",
      "metadata": {
        "id": "tb0DQXNBM7Ad"
      },
      "source": [
        "# Leader for"
      ]
    },
    {
      "cell_type": "markdown",
      "metadata": {
        "id": "d8G2tQmAYzCk"
      },
      "source": [
        "# Simulation"
      ]
    },
    {
      "cell_type": "markdown",
      "metadata": {
        "id": "VhbFqRH2Q6eh"
      },
      "source": [
        "Below is the GUI interface. Please select a leader from the dropdown menu and a follower from the dropdown menu, then click “Connect.” Once the status updates to “Connected to *your_selected_leader* and *your_selected_follower*” click “Start Simulation” to begin. If you wish to save the generated data, click “Export Data.” The dataset will be saved in the “run” folder."
      ]
    },
    {
      "cell_type": "code",
      "execution_count": 20,
      "metadata": {
        "colab": {
          "base_uri": "https://localhost:8080/",
          "height": 1545,
          "referenced_widgets": [
            "e4c70964cb18415585e21180cae4f135",
            "21b268e3aea9409c86bd127fd81be5c0",
            "95950f0af4554dc2aec8bc93af9f934e",
            "f76fd6dde6f741378a09545ffa9fd6ef",
            "784938719d5f4f2e901d6d143e54df14",
            "50fd452cc74d49668a97f28ddcd529d3",
            "5e03158a9ac646498396336d63f32fca",
            "805d020b6e384c3286d12b8744bb8ed4",
            "1033786d3ddc43f9ad6273c0efefb37f",
            "20f83cbb2b6e461696c6d5de005e672d",
            "81f70d2d854f490ca3ea8f1a5f5c5213",
            "d26e54a26dc9479a9ccc165190fe7386",
            "2aa45a1f51c54e4d9b05a397f0847afd",
            "59db90e27a9540969a0a0d02b0a2fef8",
            "4c90132d88f94fb7a2532a0bf69382c5",
            "773bf092f65e4a31a5ed6b0e9d5c9c92",
            "2ab171e400c54562bf07154892f3ad7a",
            "19a45cd7202844ddbbb403bea15033b6",
            "2e1a2c968908496681d313285803ee74",
            "0907a6e2a62c4db9b24f9ed21a2ec0d3",
            "16db359bacd84b539ed2ed74b7dea1c0",
            "19cba9b22bc94b8c9052143fa4e92ed8",
            "2cb9968bda104ec6bba7801b58991c24",
            "4b1d3602f9964a6692d04ca3abc48ca6",
            "aad7a69b84394dfe9962df9ee0f63039",
            "d0bdd81739554705b097af37615aa117",
            "2391b6451c754e3bb7ec699dfbecaf28",
            "df7a572b662a4b56b3079044fc4871db",
            "be4ba48f95be46d38aa81082d1ed9432",
            "f973310b5ca2409cbffcd07c94069930",
            "f4fc57cb78914162857f08045059ff71",
            "681b3ef070134d3fb3944ea8d433a3a2",
            "1653b6b1e8284832b80c85c45714f04b",
            "ac5961393f144af4b7ae1de2f155edae",
            "d9f25d1bffb4433c8d278c50486092f5",
            "00f57b9135ab48efb5f8f4c37d75e733",
            "e2de3aac587e44ecae555f88812585c0",
            "00f7bbe336e1435abc2dff40855137e9",
            "9199404c383e42adb046257285a6e8d9",
            "b06cb3847735459990ef25a6232bccb5",
            "200787af487b415a9c8320838a9b5354",
            "87befe8fbdab4d0f8122ee9f5c3b7ce2",
            "f4d0abcd2f3043398a1f9cd5380912cd",
            "e8030535b57243f78e570c9fc7343354",
            "038322054309420bb10fbceac790fe6b",
            "78f69787330a4584951eaac8b6e9e358",
            "659b5551bf1749fc921c490193aa09c9",
            "e3f4523f00654e0aa2f13486f53c0a77",
            "f64b242e989d4588872cb2ce47c52bf9",
            "5b4a1fcd49a7461c9702665289dd251f"
          ]
        },
        "id": "wxAO4hV3DQJg",
        "outputId": "35629767-7490-44e1-d59f-7b9869da7633"
      },
      "outputs": [
        {
          "output_type": "display_data",
          "data": {
            "text/plain": [
              "<IPython.core.display.Javascript object>"
            ],
            "application/javascript": [
              "google.colab.output.setIframeHeight(0, true, {maxHeight: 5000})"
            ]
          },
          "metadata": {}
        },
        {
          "output_type": "display_data",
          "data": {
            "text/plain": [
              "VBox(children=(Dropdown(description='Leader:  ', layout=Layout(width='250px'), options=('SimpleLeader', 'MK1Le…"
            ],
            "application/vnd.jupyter.widget-view+json": {
              "version_major": 2,
              "version_minor": 0,
              "model_id": "e4c70964cb18415585e21180cae4f135"
            }
          },
          "metadata": {}
        },
        {
          "output_type": "stream",
          "name": "stdout",
          "text": [
            "   t       u_L       u_F  Cost\n",
            "0  1  1.721828  1.774033     1\n",
            "1  2  1.779242  1.793029     1\n",
            "2  3  1.787140  1.786484     1\n",
            "3  4  1.773467  1.773290     1\n",
            "4  5  1.746195  1.810835     1\n",
            "   t       u_L       u_F  Cost\n",
            "0  1  1.721828  1.774033     1\n",
            "1  2  1.779242  1.793029     1\n",
            "2  3  1.787140  1.786484     1\n",
            "3  4  1.773467  1.773290     1\n",
            "4  5  1.746195  1.810835     1\n",
            "   t       u_L       u_F  Cost\n",
            "0  1  1.721828  1.774033     1\n",
            "1  2  1.779242  1.793029     1\n",
            "2  3  1.787140  1.786484     1\n",
            "3  4  1.773467  1.773290     1\n",
            "4  5  1.746195  1.810835     1\n"
          ]
        }
      ],
      "source": [
        "display(Javascript('''google.colab.output.setIframeHeight(0, true, {maxHeight: 5000})'''))\n",
        "engine = Engine()\n",
        "app = GUI(engine, Leader, group_num)"
      ]
    }
  ],
  "metadata": {
    "colab": {
      "collapsed_sections": [
        "sYHeuEsB6hZJ"
      ],
      "provenance": []
    },
    "kernelspec": {
      "display_name": "Python 3",
      "name": "python3"
    },
    "language_info": {
      "codemirror_mode": {
        "name": "ipython",
        "version": 3
      },
      "file_extension": ".py",
      "mimetype": "text/x-python",
      "name": "python",
      "nbconvert_exporter": "python",
      "pygments_lexer": "ipython3",
      "version": "3.10.0"
    },
    "widgets": {
      "application/vnd.jupyter.widget-state+json": {
        "e4c70964cb18415585e21180cae4f135": {
          "model_module": "@jupyter-widgets/controls",
          "model_name": "VBoxModel",
          "model_module_version": "1.5.0",
          "state": {
            "_dom_classes": [],
            "_model_module": "@jupyter-widgets/controls",
            "_model_module_version": "1.5.0",
            "_model_name": "VBoxModel",
            "_view_count": null,
            "_view_module": "@jupyter-widgets/controls",
            "_view_module_version": "1.5.0",
            "_view_name": "VBoxView",
            "box_style": "",
            "children": [
              "IPY_MODEL_21b268e3aea9409c86bd127fd81be5c0",
              "IPY_MODEL_95950f0af4554dc2aec8bc93af9f934e",
              "IPY_MODEL_f76fd6dde6f741378a09545ffa9fd6ef",
              "IPY_MODEL_784938719d5f4f2e901d6d143e54df14",
              "IPY_MODEL_50fd452cc74d49668a97f28ddcd529d3",
              "IPY_MODEL_5e03158a9ac646498396336d63f32fca",
              "IPY_MODEL_805d020b6e384c3286d12b8744bb8ed4"
            ],
            "layout": "IPY_MODEL_1033786d3ddc43f9ad6273c0efefb37f"
          }
        },
        "21b268e3aea9409c86bd127fd81be5c0": {
          "model_module": "@jupyter-widgets/controls",
          "model_name": "DropdownModel",
          "model_module_version": "1.5.0",
          "state": {
            "_dom_classes": [],
            "_model_module": "@jupyter-widgets/controls",
            "_model_module_version": "1.5.0",
            "_model_name": "DropdownModel",
            "_options_labels": [
              "SimpleLeader",
              "MK1Leader1",
              "Mk1Leader2",
              "MK2Leader1",
              "MK2Leader2"
            ],
            "_view_count": null,
            "_view_module": "@jupyter-widgets/controls",
            "_view_module_version": "1.5.0",
            "_view_name": "DropdownView",
            "description": "Leader:  ",
            "description_tooltip": null,
            "disabled": false,
            "index": 4,
            "layout": "IPY_MODEL_20f83cbb2b6e461696c6d5de005e672d",
            "style": "IPY_MODEL_81f70d2d854f490ca3ea8f1a5f5c5213"
          }
        },
        "95950f0af4554dc2aec8bc93af9f934e": {
          "model_module": "@jupyter-widgets/controls",
          "model_name": "DropdownModel",
          "model_module_version": "1.5.0",
          "state": {
            "_dom_classes": [],
            "_model_module": "@jupyter-widgets/controls",
            "_model_module_version": "1.5.0",
            "_model_name": "DropdownModel",
            "_options_labels": [
              "MK1",
              "MK2",
              "MK3"
            ],
            "_view_count": null,
            "_view_module": "@jupyter-widgets/controls",
            "_view_module_version": "1.5.0",
            "_view_name": "DropdownView",
            "description": "Follower:",
            "description_tooltip": null,
            "disabled": false,
            "index": 0,
            "layout": "IPY_MODEL_d26e54a26dc9479a9ccc165190fe7386",
            "style": "IPY_MODEL_2aa45a1f51c54e4d9b05a397f0847afd"
          }
        },
        "f76fd6dde6f741378a09545ffa9fd6ef": {
          "model_module": "@jupyter-widgets/controls",
          "model_name": "IntSliderModel",
          "model_module_version": "1.5.0",
          "state": {
            "_dom_classes": [],
            "_model_module": "@jupyter-widgets/controls",
            "_model_module_version": "1.5.0",
            "_model_name": "IntSliderModel",
            "_view_count": null,
            "_view_module": "@jupyter-widgets/controls",
            "_view_module_version": "1.5.0",
            "_view_name": "IntSliderView",
            "continuous_update": true,
            "description": "Start Date:",
            "description_tooltip": null,
            "disabled": false,
            "layout": "IPY_MODEL_59db90e27a9540969a0a0d02b0a2fef8",
            "max": 130,
            "min": 101,
            "orientation": "horizontal",
            "readout": true,
            "readout_format": "d",
            "step": 1,
            "style": "IPY_MODEL_4c90132d88f94fb7a2532a0bf69382c5",
            "value": 101
          }
        },
        "784938719d5f4f2e901d6d143e54df14": {
          "model_module": "@jupyter-widgets/controls",
          "model_name": "IntSliderModel",
          "model_module_version": "1.5.0",
          "state": {
            "_dom_classes": [],
            "_model_module": "@jupyter-widgets/controls",
            "_model_module_version": "1.5.0",
            "_model_name": "IntSliderModel",
            "_view_count": null,
            "_view_module": "@jupyter-widgets/controls",
            "_view_module_version": "1.5.0",
            "_view_name": "IntSliderView",
            "continuous_update": true,
            "description": "End Date:  ",
            "description_tooltip": null,
            "disabled": false,
            "layout": "IPY_MODEL_773bf092f65e4a31a5ed6b0e9d5c9c92",
            "max": 130,
            "min": 101,
            "orientation": "horizontal",
            "readout": true,
            "readout_format": "d",
            "step": 1,
            "style": "IPY_MODEL_2ab171e400c54562bf07154892f3ad7a",
            "value": 130
          }
        },
        "50fd452cc74d49668a97f28ddcd529d3": {
          "model_module": "@jupyter-widgets/controls",
          "model_name": "HBoxModel",
          "model_module_version": "1.5.0",
          "state": {
            "_dom_classes": [],
            "_model_module": "@jupyter-widgets/controls",
            "_model_module_version": "1.5.0",
            "_model_name": "HBoxModel",
            "_view_count": null,
            "_view_module": "@jupyter-widgets/controls",
            "_view_module_version": "1.5.0",
            "_view_name": "HBoxView",
            "box_style": "",
            "children": [
              "IPY_MODEL_19a45cd7202844ddbbb403bea15033b6",
              "IPY_MODEL_2e1a2c968908496681d313285803ee74"
            ],
            "layout": "IPY_MODEL_0907a6e2a62c4db9b24f9ed21a2ec0d3"
          }
        },
        "5e03158a9ac646498396336d63f32fca": {
          "model_module": "@jupyter-widgets/controls",
          "model_name": "HBoxModel",
          "model_module_version": "1.5.0",
          "state": {
            "_dom_classes": [],
            "_model_module": "@jupyter-widgets/controls",
            "_model_module_version": "1.5.0",
            "_model_name": "HBoxModel",
            "_view_count": null,
            "_view_module": "@jupyter-widgets/controls",
            "_view_module_version": "1.5.0",
            "_view_name": "HBoxView",
            "box_style": "",
            "children": [
              "IPY_MODEL_16db359bacd84b539ed2ed74b7dea1c0",
              "IPY_MODEL_19cba9b22bc94b8c9052143fa4e92ed8"
            ],
            "layout": "IPY_MODEL_2cb9968bda104ec6bba7801b58991c24"
          }
        },
        "805d020b6e384c3286d12b8744bb8ed4": {
          "model_module": "@jupyter-widgets/output",
          "model_name": "OutputModel",
          "model_module_version": "1.0.0",
          "state": {
            "_dom_classes": [],
            "_model_module": "@jupyter-widgets/output",
            "_model_module_version": "1.0.0",
            "_model_name": "OutputModel",
            "_view_count": null,
            "_view_module": "@jupyter-widgets/output",
            "_view_module_version": "1.0.0",
            "_view_name": "OutputView",
            "layout": "IPY_MODEL_681b3ef070134d3fb3944ea8d433a3a2",
            "msg_id": "",
            "outputs": [
              {
                "output_type": "display_data",
                "data": {
                  "text/plain": "HBox(children=(Output(), Output()), layout=Layout(justify_content='initial'))",
                  "application/vnd.jupyter.widget-view+json": {
                    "version_major": 2,
                    "version_minor": 0,
                    "model_id": "038322054309420bb10fbceac790fe6b"
                  }
                },
                "metadata": {}
              }
            ]
          }
        },
        "1033786d3ddc43f9ad6273c0efefb37f": {
          "model_module": "@jupyter-widgets/base",
          "model_name": "LayoutModel",
          "model_module_version": "1.2.0",
          "state": {
            "_model_module": "@jupyter-widgets/base",
            "_model_module_version": "1.2.0",
            "_model_name": "LayoutModel",
            "_view_count": null,
            "_view_module": "@jupyter-widgets/base",
            "_view_module_version": "1.2.0",
            "_view_name": "LayoutView",
            "align_content": null,
            "align_items": null,
            "align_self": null,
            "border": null,
            "bottom": null,
            "display": null,
            "flex": null,
            "flex_flow": null,
            "grid_area": null,
            "grid_auto_columns": null,
            "grid_auto_flow": null,
            "grid_auto_rows": null,
            "grid_column": null,
            "grid_gap": null,
            "grid_row": null,
            "grid_template_areas": null,
            "grid_template_columns": null,
            "grid_template_rows": null,
            "height": null,
            "justify_content": null,
            "justify_items": null,
            "left": null,
            "margin": null,
            "max_height": null,
            "max_width": null,
            "min_height": null,
            "min_width": null,
            "object_fit": null,
            "object_position": null,
            "order": null,
            "overflow": null,
            "overflow_x": null,
            "overflow_y": null,
            "padding": null,
            "right": null,
            "top": null,
            "visibility": null,
            "width": null
          }
        },
        "20f83cbb2b6e461696c6d5de005e672d": {
          "model_module": "@jupyter-widgets/base",
          "model_name": "LayoutModel",
          "model_module_version": "1.2.0",
          "state": {
            "_model_module": "@jupyter-widgets/base",
            "_model_module_version": "1.2.0",
            "_model_name": "LayoutModel",
            "_view_count": null,
            "_view_module": "@jupyter-widgets/base",
            "_view_module_version": "1.2.0",
            "_view_name": "LayoutView",
            "align_content": null,
            "align_items": null,
            "align_self": null,
            "border": null,
            "bottom": null,
            "display": null,
            "flex": null,
            "flex_flow": null,
            "grid_area": null,
            "grid_auto_columns": null,
            "grid_auto_flow": null,
            "grid_auto_rows": null,
            "grid_column": null,
            "grid_gap": null,
            "grid_row": null,
            "grid_template_areas": null,
            "grid_template_columns": null,
            "grid_template_rows": null,
            "height": null,
            "justify_content": null,
            "justify_items": null,
            "left": null,
            "margin": null,
            "max_height": null,
            "max_width": null,
            "min_height": null,
            "min_width": null,
            "object_fit": null,
            "object_position": null,
            "order": null,
            "overflow": null,
            "overflow_x": null,
            "overflow_y": null,
            "padding": null,
            "right": null,
            "top": null,
            "visibility": null,
            "width": "250px"
          }
        },
        "81f70d2d854f490ca3ea8f1a5f5c5213": {
          "model_module": "@jupyter-widgets/controls",
          "model_name": "DescriptionStyleModel",
          "model_module_version": "1.5.0",
          "state": {
            "_model_module": "@jupyter-widgets/controls",
            "_model_module_version": "1.5.0",
            "_model_name": "DescriptionStyleModel",
            "_view_count": null,
            "_view_module": "@jupyter-widgets/base",
            "_view_module_version": "1.2.0",
            "_view_name": "StyleView",
            "description_width": "initial"
          }
        },
        "d26e54a26dc9479a9ccc165190fe7386": {
          "model_module": "@jupyter-widgets/base",
          "model_name": "LayoutModel",
          "model_module_version": "1.2.0",
          "state": {
            "_model_module": "@jupyter-widgets/base",
            "_model_module_version": "1.2.0",
            "_model_name": "LayoutModel",
            "_view_count": null,
            "_view_module": "@jupyter-widgets/base",
            "_view_module_version": "1.2.0",
            "_view_name": "LayoutView",
            "align_content": null,
            "align_items": null,
            "align_self": null,
            "border": null,
            "bottom": null,
            "display": null,
            "flex": null,
            "flex_flow": null,
            "grid_area": null,
            "grid_auto_columns": null,
            "grid_auto_flow": null,
            "grid_auto_rows": null,
            "grid_column": null,
            "grid_gap": null,
            "grid_row": null,
            "grid_template_areas": null,
            "grid_template_columns": null,
            "grid_template_rows": null,
            "height": null,
            "justify_content": null,
            "justify_items": null,
            "left": null,
            "margin": null,
            "max_height": null,
            "max_width": null,
            "min_height": null,
            "min_width": null,
            "object_fit": null,
            "object_position": null,
            "order": null,
            "overflow": null,
            "overflow_x": null,
            "overflow_y": null,
            "padding": null,
            "right": null,
            "top": null,
            "visibility": null,
            "width": "250px"
          }
        },
        "2aa45a1f51c54e4d9b05a397f0847afd": {
          "model_module": "@jupyter-widgets/controls",
          "model_name": "DescriptionStyleModel",
          "model_module_version": "1.5.0",
          "state": {
            "_model_module": "@jupyter-widgets/controls",
            "_model_module_version": "1.5.0",
            "_model_name": "DescriptionStyleModel",
            "_view_count": null,
            "_view_module": "@jupyter-widgets/base",
            "_view_module_version": "1.2.0",
            "_view_name": "StyleView",
            "description_width": "initial"
          }
        },
        "59db90e27a9540969a0a0d02b0a2fef8": {
          "model_module": "@jupyter-widgets/base",
          "model_name": "LayoutModel",
          "model_module_version": "1.2.0",
          "state": {
            "_model_module": "@jupyter-widgets/base",
            "_model_module_version": "1.2.0",
            "_model_name": "LayoutModel",
            "_view_count": null,
            "_view_module": "@jupyter-widgets/base",
            "_view_module_version": "1.2.0",
            "_view_name": "LayoutView",
            "align_content": null,
            "align_items": null,
            "align_self": null,
            "border": null,
            "bottom": null,
            "display": null,
            "flex": null,
            "flex_flow": null,
            "grid_area": null,
            "grid_auto_columns": null,
            "grid_auto_flow": null,
            "grid_auto_rows": null,
            "grid_column": null,
            "grid_gap": null,
            "grid_row": null,
            "grid_template_areas": null,
            "grid_template_columns": null,
            "grid_template_rows": null,
            "height": null,
            "justify_content": null,
            "justify_items": null,
            "left": null,
            "margin": null,
            "max_height": null,
            "max_width": null,
            "min_height": null,
            "min_width": null,
            "object_fit": null,
            "object_position": null,
            "order": null,
            "overflow": null,
            "overflow_x": null,
            "overflow_y": null,
            "padding": null,
            "right": null,
            "top": null,
            "visibility": null,
            "width": "300px"
          }
        },
        "4c90132d88f94fb7a2532a0bf69382c5": {
          "model_module": "@jupyter-widgets/controls",
          "model_name": "SliderStyleModel",
          "model_module_version": "1.5.0",
          "state": {
            "_model_module": "@jupyter-widgets/controls",
            "_model_module_version": "1.5.0",
            "_model_name": "SliderStyleModel",
            "_view_count": null,
            "_view_module": "@jupyter-widgets/base",
            "_view_module_version": "1.2.0",
            "_view_name": "StyleView",
            "description_width": "initial",
            "handle_color": null
          }
        },
        "773bf092f65e4a31a5ed6b0e9d5c9c92": {
          "model_module": "@jupyter-widgets/base",
          "model_name": "LayoutModel",
          "model_module_version": "1.2.0",
          "state": {
            "_model_module": "@jupyter-widgets/base",
            "_model_module_version": "1.2.0",
            "_model_name": "LayoutModel",
            "_view_count": null,
            "_view_module": "@jupyter-widgets/base",
            "_view_module_version": "1.2.0",
            "_view_name": "LayoutView",
            "align_content": null,
            "align_items": null,
            "align_self": null,
            "border": null,
            "bottom": null,
            "display": null,
            "flex": null,
            "flex_flow": null,
            "grid_area": null,
            "grid_auto_columns": null,
            "grid_auto_flow": null,
            "grid_auto_rows": null,
            "grid_column": null,
            "grid_gap": null,
            "grid_row": null,
            "grid_template_areas": null,
            "grid_template_columns": null,
            "grid_template_rows": null,
            "height": null,
            "justify_content": null,
            "justify_items": null,
            "left": null,
            "margin": null,
            "max_height": null,
            "max_width": null,
            "min_height": null,
            "min_width": null,
            "object_fit": null,
            "object_position": null,
            "order": null,
            "overflow": null,
            "overflow_x": null,
            "overflow_y": null,
            "padding": null,
            "right": null,
            "top": null,
            "visibility": null,
            "width": "300px"
          }
        },
        "2ab171e400c54562bf07154892f3ad7a": {
          "model_module": "@jupyter-widgets/controls",
          "model_name": "SliderStyleModel",
          "model_module_version": "1.5.0",
          "state": {
            "_model_module": "@jupyter-widgets/controls",
            "_model_module_version": "1.5.0",
            "_model_name": "SliderStyleModel",
            "_view_count": null,
            "_view_module": "@jupyter-widgets/base",
            "_view_module_version": "1.2.0",
            "_view_name": "StyleView",
            "description_width": "initial",
            "handle_color": null
          }
        },
        "19a45cd7202844ddbbb403bea15033b6": {
          "model_module": "@jupyter-widgets/controls",
          "model_name": "HTMLModel",
          "model_module_version": "1.5.0",
          "state": {
            "_dom_classes": [],
            "_model_module": "@jupyter-widgets/controls",
            "_model_module_version": "1.5.0",
            "_model_name": "HTMLModel",
            "_view_count": null,
            "_view_module": "@jupyter-widgets/controls",
            "_view_module_version": "1.5.0",
            "_view_name": "HTMLView",
            "description": "",
            "description_tooltip": null,
            "layout": "IPY_MODEL_4b1d3602f9964a6692d04ca3abc48ca6",
            "placeholder": "​",
            "style": "IPY_MODEL_aad7a69b84394dfe9962df9ee0f63039",
            "value": "Status:<span style='color: green;'> Connected to MK2Leader2 and MK1"
          }
        },
        "2e1a2c968908496681d313285803ee74": {
          "model_module": "@jupyter-widgets/controls",
          "model_name": "ButtonModel",
          "model_module_version": "1.5.0",
          "state": {
            "_dom_classes": [],
            "_model_module": "@jupyter-widgets/controls",
            "_model_module_version": "1.5.0",
            "_model_name": "ButtonModel",
            "_view_count": null,
            "_view_module": "@jupyter-widgets/controls",
            "_view_module_version": "1.5.0",
            "_view_name": "ButtonView",
            "button_style": "",
            "description": "Connect",
            "disabled": false,
            "icon": "",
            "layout": "IPY_MODEL_d0bdd81739554705b097af37615aa117",
            "style": "IPY_MODEL_2391b6451c754e3bb7ec699dfbecaf28",
            "tooltip": ""
          }
        },
        "0907a6e2a62c4db9b24f9ed21a2ec0d3": {
          "model_module": "@jupyter-widgets/base",
          "model_name": "LayoutModel",
          "model_module_version": "1.2.0",
          "state": {
            "_model_module": "@jupyter-widgets/base",
            "_model_module_version": "1.2.0",
            "_model_name": "LayoutModel",
            "_view_count": null,
            "_view_module": "@jupyter-widgets/base",
            "_view_module_version": "1.2.0",
            "_view_name": "LayoutView",
            "align_content": null,
            "align_items": null,
            "align_self": null,
            "border": null,
            "bottom": null,
            "display": null,
            "flex": null,
            "flex_flow": null,
            "grid_area": null,
            "grid_auto_columns": null,
            "grid_auto_flow": null,
            "grid_auto_rows": null,
            "grid_column": null,
            "grid_gap": null,
            "grid_row": null,
            "grid_template_areas": null,
            "grid_template_columns": null,
            "grid_template_rows": null,
            "height": null,
            "justify_content": null,
            "justify_items": null,
            "left": null,
            "margin": null,
            "max_height": null,
            "max_width": null,
            "min_height": null,
            "min_width": null,
            "object_fit": null,
            "object_position": null,
            "order": null,
            "overflow": null,
            "overflow_x": null,
            "overflow_y": null,
            "padding": null,
            "right": null,
            "top": null,
            "visibility": null,
            "width": null
          }
        },
        "16db359bacd84b539ed2ed74b7dea1c0": {
          "model_module": "@jupyter-widgets/controls",
          "model_name": "ButtonModel",
          "model_module_version": "1.5.0",
          "state": {
            "_dom_classes": [],
            "_model_module": "@jupyter-widgets/controls",
            "_model_module_version": "1.5.0",
            "_model_name": "ButtonModel",
            "_view_count": null,
            "_view_module": "@jupyter-widgets/controls",
            "_view_module_version": "1.5.0",
            "_view_name": "ButtonView",
            "button_style": "",
            "description": "Start Simulation",
            "disabled": false,
            "icon": "",
            "layout": "IPY_MODEL_df7a572b662a4b56b3079044fc4871db",
            "style": "IPY_MODEL_be4ba48f95be46d38aa81082d1ed9432",
            "tooltip": ""
          }
        },
        "19cba9b22bc94b8c9052143fa4e92ed8": {
          "model_module": "@jupyter-widgets/controls",
          "model_name": "ButtonModel",
          "model_module_version": "1.5.0",
          "state": {
            "_dom_classes": [],
            "_model_module": "@jupyter-widgets/controls",
            "_model_module_version": "1.5.0",
            "_model_name": "ButtonModel",
            "_view_count": null,
            "_view_module": "@jupyter-widgets/controls",
            "_view_module_version": "1.5.0",
            "_view_name": "ButtonView",
            "button_style": "",
            "description": "Export Data",
            "disabled": false,
            "icon": "",
            "layout": "IPY_MODEL_f973310b5ca2409cbffcd07c94069930",
            "style": "IPY_MODEL_f4fc57cb78914162857f08045059ff71",
            "tooltip": ""
          }
        },
        "2cb9968bda104ec6bba7801b58991c24": {
          "model_module": "@jupyter-widgets/base",
          "model_name": "LayoutModel",
          "model_module_version": "1.2.0",
          "state": {
            "_model_module": "@jupyter-widgets/base",
            "_model_module_version": "1.2.0",
            "_model_name": "LayoutModel",
            "_view_count": null,
            "_view_module": "@jupyter-widgets/base",
            "_view_module_version": "1.2.0",
            "_view_name": "LayoutView",
            "align_content": null,
            "align_items": null,
            "align_self": null,
            "border": null,
            "bottom": null,
            "display": null,
            "flex": null,
            "flex_flow": null,
            "grid_area": null,
            "grid_auto_columns": null,
            "grid_auto_flow": null,
            "grid_auto_rows": null,
            "grid_column": null,
            "grid_gap": null,
            "grid_row": null,
            "grid_template_areas": null,
            "grid_template_columns": null,
            "grid_template_rows": null,
            "height": null,
            "justify_content": null,
            "justify_items": null,
            "left": null,
            "margin": null,
            "max_height": null,
            "max_width": null,
            "min_height": null,
            "min_width": null,
            "object_fit": null,
            "object_position": null,
            "order": null,
            "overflow": null,
            "overflow_x": null,
            "overflow_y": null,
            "padding": null,
            "right": null,
            "top": null,
            "visibility": null,
            "width": null
          }
        },
        "4b1d3602f9964a6692d04ca3abc48ca6": {
          "model_module": "@jupyter-widgets/base",
          "model_name": "LayoutModel",
          "model_module_version": "1.2.0",
          "state": {
            "_model_module": "@jupyter-widgets/base",
            "_model_module_version": "1.2.0",
            "_model_name": "LayoutModel",
            "_view_count": null,
            "_view_module": "@jupyter-widgets/base",
            "_view_module_version": "1.2.0",
            "_view_name": "LayoutView",
            "align_content": null,
            "align_items": null,
            "align_self": null,
            "border": null,
            "bottom": null,
            "display": null,
            "flex": null,
            "flex_flow": null,
            "grid_area": null,
            "grid_auto_columns": null,
            "grid_auto_flow": null,
            "grid_auto_rows": null,
            "grid_column": null,
            "grid_gap": null,
            "grid_row": null,
            "grid_template_areas": null,
            "grid_template_columns": null,
            "grid_template_rows": null,
            "height": null,
            "justify_content": null,
            "justify_items": null,
            "left": null,
            "margin": null,
            "max_height": null,
            "max_width": null,
            "min_height": null,
            "min_width": null,
            "object_fit": null,
            "object_position": null,
            "order": null,
            "overflow": null,
            "overflow_x": null,
            "overflow_y": null,
            "padding": null,
            "right": null,
            "top": null,
            "visibility": null,
            "width": "300px"
          }
        },
        "aad7a69b84394dfe9962df9ee0f63039": {
          "model_module": "@jupyter-widgets/controls",
          "model_name": "DescriptionStyleModel",
          "model_module_version": "1.5.0",
          "state": {
            "_model_module": "@jupyter-widgets/controls",
            "_model_module_version": "1.5.0",
            "_model_name": "DescriptionStyleModel",
            "_view_count": null,
            "_view_module": "@jupyter-widgets/base",
            "_view_module_version": "1.2.0",
            "_view_name": "StyleView",
            "description_width": ""
          }
        },
        "d0bdd81739554705b097af37615aa117": {
          "model_module": "@jupyter-widgets/base",
          "model_name": "LayoutModel",
          "model_module_version": "1.2.0",
          "state": {
            "_model_module": "@jupyter-widgets/base",
            "_model_module_version": "1.2.0",
            "_model_name": "LayoutModel",
            "_view_count": null,
            "_view_module": "@jupyter-widgets/base",
            "_view_module_version": "1.2.0",
            "_view_name": "LayoutView",
            "align_content": null,
            "align_items": null,
            "align_self": null,
            "border": null,
            "bottom": null,
            "display": null,
            "flex": null,
            "flex_flow": null,
            "grid_area": null,
            "grid_auto_columns": null,
            "grid_auto_flow": null,
            "grid_auto_rows": null,
            "grid_column": null,
            "grid_gap": null,
            "grid_row": null,
            "grid_template_areas": null,
            "grid_template_columns": null,
            "grid_template_rows": null,
            "height": null,
            "justify_content": null,
            "justify_items": null,
            "left": null,
            "margin": null,
            "max_height": null,
            "max_width": null,
            "min_height": null,
            "min_width": null,
            "object_fit": null,
            "object_position": null,
            "order": null,
            "overflow": null,
            "overflow_x": null,
            "overflow_y": null,
            "padding": null,
            "right": null,
            "top": null,
            "visibility": null,
            "width": "100px"
          }
        },
        "2391b6451c754e3bb7ec699dfbecaf28": {
          "model_module": "@jupyter-widgets/controls",
          "model_name": "ButtonStyleModel",
          "model_module_version": "1.5.0",
          "state": {
            "_model_module": "@jupyter-widgets/controls",
            "_model_module_version": "1.5.0",
            "_model_name": "ButtonStyleModel",
            "_view_count": null,
            "_view_module": "@jupyter-widgets/base",
            "_view_module_version": "1.2.0",
            "_view_name": "StyleView",
            "button_color": null,
            "font_weight": ""
          }
        },
        "df7a572b662a4b56b3079044fc4871db": {
          "model_module": "@jupyter-widgets/base",
          "model_name": "LayoutModel",
          "model_module_version": "1.2.0",
          "state": {
            "_model_module": "@jupyter-widgets/base",
            "_model_module_version": "1.2.0",
            "_model_name": "LayoutModel",
            "_view_count": null,
            "_view_module": "@jupyter-widgets/base",
            "_view_module_version": "1.2.0",
            "_view_name": "LayoutView",
            "align_content": null,
            "align_items": null,
            "align_self": null,
            "border": null,
            "bottom": null,
            "display": null,
            "flex": null,
            "flex_flow": null,
            "grid_area": null,
            "grid_auto_columns": null,
            "grid_auto_flow": null,
            "grid_auto_rows": null,
            "grid_column": null,
            "grid_gap": null,
            "grid_row": null,
            "grid_template_areas": null,
            "grid_template_columns": null,
            "grid_template_rows": null,
            "height": null,
            "justify_content": null,
            "justify_items": null,
            "left": null,
            "margin": null,
            "max_height": null,
            "max_width": null,
            "min_height": null,
            "min_width": null,
            "object_fit": null,
            "object_position": null,
            "order": null,
            "overflow": null,
            "overflow_x": null,
            "overflow_y": null,
            "padding": null,
            "right": null,
            "top": null,
            "visibility": null,
            "width": "200px"
          }
        },
        "be4ba48f95be46d38aa81082d1ed9432": {
          "model_module": "@jupyter-widgets/controls",
          "model_name": "ButtonStyleModel",
          "model_module_version": "1.5.0",
          "state": {
            "_model_module": "@jupyter-widgets/controls",
            "_model_module_version": "1.5.0",
            "_model_name": "ButtonStyleModel",
            "_view_count": null,
            "_view_module": "@jupyter-widgets/base",
            "_view_module_version": "1.2.0",
            "_view_name": "StyleView",
            "button_color": null,
            "font_weight": ""
          }
        },
        "f973310b5ca2409cbffcd07c94069930": {
          "model_module": "@jupyter-widgets/base",
          "model_name": "LayoutModel",
          "model_module_version": "1.2.0",
          "state": {
            "_model_module": "@jupyter-widgets/base",
            "_model_module_version": "1.2.0",
            "_model_name": "LayoutModel",
            "_view_count": null,
            "_view_module": "@jupyter-widgets/base",
            "_view_module_version": "1.2.0",
            "_view_name": "LayoutView",
            "align_content": null,
            "align_items": null,
            "align_self": null,
            "border": null,
            "bottom": null,
            "display": null,
            "flex": null,
            "flex_flow": null,
            "grid_area": null,
            "grid_auto_columns": null,
            "grid_auto_flow": null,
            "grid_auto_rows": null,
            "grid_column": null,
            "grid_gap": null,
            "grid_row": null,
            "grid_template_areas": null,
            "grid_template_columns": null,
            "grid_template_rows": null,
            "height": null,
            "justify_content": null,
            "justify_items": null,
            "left": null,
            "margin": null,
            "max_height": null,
            "max_width": null,
            "min_height": null,
            "min_width": null,
            "object_fit": null,
            "object_position": null,
            "order": null,
            "overflow": null,
            "overflow_x": null,
            "overflow_y": null,
            "padding": null,
            "right": null,
            "top": null,
            "visibility": null,
            "width": "200px"
          }
        },
        "f4fc57cb78914162857f08045059ff71": {
          "model_module": "@jupyter-widgets/controls",
          "model_name": "ButtonStyleModel",
          "model_module_version": "1.5.0",
          "state": {
            "_model_module": "@jupyter-widgets/controls",
            "_model_module_version": "1.5.0",
            "_model_name": "ButtonStyleModel",
            "_view_count": null,
            "_view_module": "@jupyter-widgets/base",
            "_view_module_version": "1.2.0",
            "_view_name": "StyleView",
            "button_color": null,
            "font_weight": ""
          }
        },
        "681b3ef070134d3fb3944ea8d433a3a2": {
          "model_module": "@jupyter-widgets/base",
          "model_name": "LayoutModel",
          "model_module_version": "1.2.0",
          "state": {
            "_model_module": "@jupyter-widgets/base",
            "_model_module_version": "1.2.0",
            "_model_name": "LayoutModel",
            "_view_count": null,
            "_view_module": "@jupyter-widgets/base",
            "_view_module_version": "1.2.0",
            "_view_name": "LayoutView",
            "align_content": null,
            "align_items": null,
            "align_self": null,
            "border": null,
            "bottom": null,
            "display": null,
            "flex": null,
            "flex_flow": null,
            "grid_area": null,
            "grid_auto_columns": null,
            "grid_auto_flow": null,
            "grid_auto_rows": null,
            "grid_column": null,
            "grid_gap": null,
            "grid_row": null,
            "grid_template_areas": null,
            "grid_template_columns": null,
            "grid_template_rows": null,
            "height": null,
            "justify_content": null,
            "justify_items": null,
            "left": null,
            "margin": null,
            "max_height": null,
            "max_width": null,
            "min_height": null,
            "min_width": null,
            "object_fit": null,
            "object_position": null,
            "order": null,
            "overflow": null,
            "overflow_x": null,
            "overflow_y": null,
            "padding": null,
            "right": null,
            "top": null,
            "visibility": null,
            "width": null
          }
        },
        "1653b6b1e8284832b80c85c45714f04b": {
          "model_module": "@jupyter-widgets/controls",
          "model_name": "HBoxModel",
          "model_module_version": "1.5.0",
          "state": {
            "_dom_classes": [],
            "_model_module": "@jupyter-widgets/controls",
            "_model_module_version": "1.5.0",
            "_model_name": "HBoxModel",
            "_view_count": null,
            "_view_module": "@jupyter-widgets/controls",
            "_view_module_version": "1.5.0",
            "_view_name": "HBoxView",
            "box_style": "",
            "children": [
              "IPY_MODEL_ac5961393f144af4b7ae1de2f155edae",
              "IPY_MODEL_d9f25d1bffb4433c8d278c50486092f5"
            ],
            "layout": "IPY_MODEL_00f57b9135ab48efb5f8f4c37d75e733"
          }
        },
        "ac5961393f144af4b7ae1de2f155edae": {
          "model_module": "@jupyter-widgets/output",
          "model_name": "OutputModel",
          "model_module_version": "1.0.0",
          "state": {
            "_dom_classes": [],
            "_model_module": "@jupyter-widgets/output",
            "_model_module_version": "1.0.0",
            "_model_name": "OutputModel",
            "_view_count": null,
            "_view_module": "@jupyter-widgets/output",
            "_view_module_version": "1.0.0",
            "_view_name": "OutputView",
            "layout": "IPY_MODEL_e2de3aac587e44ecae555f88812585c0",
            "msg_id": "",
            "outputs": [
              {
                "output_type": "display_data",
                "data": {
                  "text/plain": "      Leader Price  Follower Price  Cost\nDate                                    \n130       1.816372        1.827957   1.0\n129       1.820890        1.828440   1.0\n128       1.855613        1.839091   1.0\n127       1.806131        1.820524   1.0\n126       1.807522        1.818582   1.0\n125       1.818479        1.820839   1.0\n124       1.824033        1.821981   1.0\n123       1.816541        1.821621   1.0\n122       1.821935        1.817986   1.0\n121       1.827450        1.819581   1.0\n120       1.805864        1.810388   1.0\n119       1.819449        1.813220   1.0\n118       1.799872        1.803990   1.0\n117       1.826695        1.812549   1.0\n116       2.765321        2.127209   1.0\n115       1.828205        1.809489   1.0\n114       1.805660        1.800393   1.0\n113       1.791150        1.794828   1.0\n112       1.789052        1.790265   1.0\n111       1.831717        1.803929   1.0\n110       2.849925        2.142861   1.0\n109       1.805501        1.793399   1.0\n108       1.769199        1.777961   1.0\n107       1.797714        1.788967   1.0\n106       1.791400        1.780751   1.0\n105       1.799602        1.782359   1.0\n104       1.799338        1.780232   1.0\n103       1.799045        1.778764   1.0\n102       1.798838        1.778900   1.0\n101       1.799923        1.774433   1.0",
                  "text/html": "\n  <div id=\"df-788dee98-ec88-4a90-95c8-e9ae52eef297\" class=\"colab-df-container\">\n    <div>\n<style scoped>\n    .dataframe tbody tr th:only-of-type {\n        vertical-align: middle;\n    }\n\n    .dataframe tbody tr th {\n        vertical-align: top;\n    }\n\n    .dataframe thead th {\n        text-align: right;\n    }\n</style>\n<table border=\"1\" class=\"dataframe\">\n  <thead>\n    <tr style=\"text-align: right;\">\n      <th></th>\n      <th>Leader Price</th>\n      <th>Follower Price</th>\n      <th>Cost</th>\n    </tr>\n    <tr>\n      <th>Date</th>\n      <th></th>\n      <th></th>\n      <th></th>\n    </tr>\n  </thead>\n  <tbody>\n    <tr>\n      <th>130</th>\n      <td>1.816372</td>\n      <td>1.827957</td>\n      <td>1.0</td>\n    </tr>\n    <tr>\n      <th>129</th>\n      <td>1.820890</td>\n      <td>1.828440</td>\n      <td>1.0</td>\n    </tr>\n    <tr>\n      <th>128</th>\n      <td>1.855613</td>\n      <td>1.839091</td>\n      <td>1.0</td>\n    </tr>\n    <tr>\n      <th>127</th>\n      <td>1.806131</td>\n      <td>1.820524</td>\n      <td>1.0</td>\n    </tr>\n    <tr>\n      <th>126</th>\n      <td>1.807522</td>\n      <td>1.818582</td>\n      <td>1.0</td>\n    </tr>\n    <tr>\n      <th>125</th>\n      <td>1.818479</td>\n      <td>1.820839</td>\n      <td>1.0</td>\n    </tr>\n    <tr>\n      <th>124</th>\n      <td>1.824033</td>\n      <td>1.821981</td>\n      <td>1.0</td>\n    </tr>\n    <tr>\n      <th>123</th>\n      <td>1.816541</td>\n      <td>1.821621</td>\n      <td>1.0</td>\n    </tr>\n    <tr>\n      <th>122</th>\n      <td>1.821935</td>\n      <td>1.817986</td>\n      <td>1.0</td>\n    </tr>\n    <tr>\n      <th>121</th>\n      <td>1.827450</td>\n      <td>1.819581</td>\n      <td>1.0</td>\n    </tr>\n    <tr>\n      <th>120</th>\n      <td>1.805864</td>\n      <td>1.810388</td>\n      <td>1.0</td>\n    </tr>\n    <tr>\n      <th>119</th>\n      <td>1.819449</td>\n      <td>1.813220</td>\n      <td>1.0</td>\n    </tr>\n    <tr>\n      <th>118</th>\n      <td>1.799872</td>\n      <td>1.803990</td>\n      <td>1.0</td>\n    </tr>\n    <tr>\n      <th>117</th>\n      <td>1.826695</td>\n      <td>1.812549</td>\n      <td>1.0</td>\n    </tr>\n    <tr>\n      <th>116</th>\n      <td>2.765321</td>\n      <td>2.127209</td>\n      <td>1.0</td>\n    </tr>\n    <tr>\n      <th>115</th>\n      <td>1.828205</td>\n      <td>1.809489</td>\n      <td>1.0</td>\n    </tr>\n    <tr>\n      <th>114</th>\n      <td>1.805660</td>\n      <td>1.800393</td>\n      <td>1.0</td>\n    </tr>\n    <tr>\n      <th>113</th>\n      <td>1.791150</td>\n      <td>1.794828</td>\n      <td>1.0</td>\n    </tr>\n    <tr>\n      <th>112</th>\n      <td>1.789052</td>\n      <td>1.790265</td>\n      <td>1.0</td>\n    </tr>\n    <tr>\n      <th>111</th>\n      <td>1.831717</td>\n      <td>1.803929</td>\n      <td>1.0</td>\n    </tr>\n    <tr>\n      <th>110</th>\n      <td>2.849925</td>\n      <td>2.142861</td>\n      <td>1.0</td>\n    </tr>\n    <tr>\n      <th>109</th>\n      <td>1.805501</td>\n      <td>1.793399</td>\n      <td>1.0</td>\n    </tr>\n    <tr>\n      <th>108</th>\n      <td>1.769199</td>\n      <td>1.777961</td>\n      <td>1.0</td>\n    </tr>\n    <tr>\n      <th>107</th>\n      <td>1.797714</td>\n      <td>1.788967</td>\n      <td>1.0</td>\n    </tr>\n    <tr>\n      <th>106</th>\n      <td>1.791400</td>\n      <td>1.780751</td>\n      <td>1.0</td>\n    </tr>\n    <tr>\n      <th>105</th>\n      <td>1.799602</td>\n      <td>1.782359</td>\n      <td>1.0</td>\n    </tr>\n    <tr>\n      <th>104</th>\n      <td>1.799338</td>\n      <td>1.780232</td>\n      <td>1.0</td>\n    </tr>\n    <tr>\n      <th>103</th>\n      <td>1.799045</td>\n      <td>1.778764</td>\n      <td>1.0</td>\n    </tr>\n    <tr>\n      <th>102</th>\n      <td>1.798838</td>\n      <td>1.778900</td>\n      <td>1.0</td>\n    </tr>\n    <tr>\n      <th>101</th>\n      <td>1.799923</td>\n      <td>1.774433</td>\n      <td>1.0</td>\n    </tr>\n  </tbody>\n</table>\n</div>\n    <div class=\"colab-df-buttons\">\n\n  <div class=\"colab-df-container\">\n    <button class=\"colab-df-convert\" onclick=\"convertToInteractive('df-788dee98-ec88-4a90-95c8-e9ae52eef297')\"\n            title=\"Convert this dataframe to an interactive table.\"\n            style=\"display:none;\">\n\n  <svg xmlns=\"http://www.w3.org/2000/svg\" height=\"24px\" viewBox=\"0 -960 960 960\">\n    <path d=\"M120-120v-720h720v720H120Zm60-500h600v-160H180v160Zm220 220h160v-160H400v160Zm0 220h160v-160H400v160ZM180-400h160v-160H180v160Zm440 0h160v-160H620v160ZM180-180h160v-160H180v160Zm440 0h160v-160H620v160Z\"/>\n  </svg>\n    </button>\n\n  <style>\n    .colab-df-container {\n      display:flex;\n      gap: 12px;\n    }\n\n    .colab-df-convert {\n      background-color: #E8F0FE;\n      border: none;\n      border-radius: 50%;\n      cursor: pointer;\n      display: none;\n      fill: #1967D2;\n      height: 32px;\n      padding: 0 0 0 0;\n      width: 32px;\n    }\n\n    .colab-df-convert:hover {\n      background-color: #E2EBFA;\n      box-shadow: 0px 1px 2px rgba(60, 64, 67, 0.3), 0px 1px 3px 1px rgba(60, 64, 67, 0.15);\n      fill: #174EA6;\n    }\n\n    .colab-df-buttons div {\n      margin-bottom: 4px;\n    }\n\n    [theme=dark] .colab-df-convert {\n      background-color: #3B4455;\n      fill: #D2E3FC;\n    }\n\n    [theme=dark] .colab-df-convert:hover {\n      background-color: #434B5C;\n      box-shadow: 0px 1px 3px 1px rgba(0, 0, 0, 0.15);\n      filter: drop-shadow(0px 1px 2px rgba(0, 0, 0, 0.3));\n      fill: #FFFFFF;\n    }\n  </style>\n\n    <script>\n      const buttonEl =\n        document.querySelector('#df-788dee98-ec88-4a90-95c8-e9ae52eef297 button.colab-df-convert');\n      buttonEl.style.display =\n        google.colab.kernel.accessAllowed ? 'block' : 'none';\n\n      async function convertToInteractive(key) {\n        const element = document.querySelector('#df-788dee98-ec88-4a90-95c8-e9ae52eef297');\n        const dataTable =\n          await google.colab.kernel.invokeFunction('convertToInteractive',\n                                                    [key], {});\n        if (!dataTable) return;\n\n        const docLinkHtml = 'Like what you see? Visit the ' +\n          '<a target=\"_blank\" href=https://colab.research.google.com/notebooks/data_table.ipynb>data table notebook</a>'\n          + ' to learn more about interactive tables.';\n        element.innerHTML = '';\n        dataTable['output_type'] = 'display_data';\n        await google.colab.output.renderOutput(dataTable, element);\n        const docLink = document.createElement('div');\n        docLink.innerHTML = docLinkHtml;\n        element.appendChild(docLink);\n      }\n    </script>\n  </div>\n\n\n<div id=\"df-9b0566d7-0b67-4618-995b-54f565119e8b\">\n  <button class=\"colab-df-quickchart\" onclick=\"quickchart('df-9b0566d7-0b67-4618-995b-54f565119e8b')\"\n            title=\"Suggest charts\"\n            style=\"display:none;\">\n\n<svg xmlns=\"http://www.w3.org/2000/svg\" height=\"24px\"viewBox=\"0 0 24 24\"\n     width=\"24px\">\n    <g>\n        <path d=\"M19 3H5c-1.1 0-2 .9-2 2v14c0 1.1.9 2 2 2h14c1.1 0 2-.9 2-2V5c0-1.1-.9-2-2-2zM9 17H7v-7h2v7zm4 0h-2V7h2v10zm4 0h-2v-4h2v4z\"/>\n    </g>\n</svg>\n  </button>\n\n<style>\n  .colab-df-quickchart {\n      --bg-color: #E8F0FE;\n      --fill-color: #1967D2;\n      --hover-bg-color: #E2EBFA;\n      --hover-fill-color: #174EA6;\n      --disabled-fill-color: #AAA;\n      --disabled-bg-color: #DDD;\n  }\n\n  [theme=dark] .colab-df-quickchart {\n      --bg-color: #3B4455;\n      --fill-color: #D2E3FC;\n      --hover-bg-color: #434B5C;\n      --hover-fill-color: #FFFFFF;\n      --disabled-bg-color: #3B4455;\n      --disabled-fill-color: #666;\n  }\n\n  .colab-df-quickchart {\n    background-color: var(--bg-color);\n    border: none;\n    border-radius: 50%;\n    cursor: pointer;\n    display: none;\n    fill: var(--fill-color);\n    height: 32px;\n    padding: 0;\n    width: 32px;\n  }\n\n  .colab-df-quickchart:hover {\n    background-color: var(--hover-bg-color);\n    box-shadow: 0 1px 2px rgba(60, 64, 67, 0.3), 0 1px 3px 1px rgba(60, 64, 67, 0.15);\n    fill: var(--button-hover-fill-color);\n  }\n\n  .colab-df-quickchart-complete:disabled,\n  .colab-df-quickchart-complete:disabled:hover {\n    background-color: var(--disabled-bg-color);\n    fill: var(--disabled-fill-color);\n    box-shadow: none;\n  }\n\n  .colab-df-spinner {\n    border: 2px solid var(--fill-color);\n    border-color: transparent;\n    border-bottom-color: var(--fill-color);\n    animation:\n      spin 1s steps(1) infinite;\n  }\n\n  @keyframes spin {\n    0% {\n      border-color: transparent;\n      border-bottom-color: var(--fill-color);\n      border-left-color: var(--fill-color);\n    }\n    20% {\n      border-color: transparent;\n      border-left-color: var(--fill-color);\n      border-top-color: var(--fill-color);\n    }\n    30% {\n      border-color: transparent;\n      border-left-color: var(--fill-color);\n      border-top-color: var(--fill-color);\n      border-right-color: var(--fill-color);\n    }\n    40% {\n      border-color: transparent;\n      border-right-color: var(--fill-color);\n      border-top-color: var(--fill-color);\n    }\n    60% {\n      border-color: transparent;\n      border-right-color: var(--fill-color);\n    }\n    80% {\n      border-color: transparent;\n      border-right-color: var(--fill-color);\n      border-bottom-color: var(--fill-color);\n    }\n    90% {\n      border-color: transparent;\n      border-bottom-color: var(--fill-color);\n    }\n  }\n</style>\n\n  <script>\n    async function quickchart(key) {\n      const quickchartButtonEl =\n        document.querySelector('#' + key + ' button');\n      quickchartButtonEl.disabled = true;  // To prevent multiple clicks.\n      quickchartButtonEl.classList.add('colab-df-spinner');\n      try {\n        const charts = await google.colab.kernel.invokeFunction(\n            'suggestCharts', [key], {});\n      } catch (error) {\n        console.error('Error during call to suggestCharts:', error);\n      }\n      quickchartButtonEl.classList.remove('colab-df-spinner');\n      quickchartButtonEl.classList.add('colab-df-quickchart-complete');\n    }\n    (() => {\n      let quickchartButtonEl =\n        document.querySelector('#df-9b0566d7-0b67-4618-995b-54f565119e8b button');\n      quickchartButtonEl.style.display =\n        google.colab.kernel.accessAllowed ? 'block' : 'none';\n    })();\n  </script>\n</div>\n\n    </div>\n  </div>\n",
                  "application/vnd.google.colaboratory.intrinsic+json": {
                    "type": "dataframe",
                    "summary": "{\n  \"name\": \"app = GUI(engine, Leader, group_num)\",\n  \"rows\": 30,\n  \"fields\": [\n    {\n      \"column\": \"Date\",\n      \"properties\": {\n        \"dtype\": \"number\",\n        \"std\": 8,\n        \"min\": 101,\n        \"max\": 130,\n        \"num_unique_values\": 30,\n        \"samples\": [\n          103,\n          115,\n          107\n        ],\n        \"semantic_type\": \"\",\n        \"description\": \"\"\n      }\n    },\n    {\n      \"column\": \"Leader Price\",\n      \"properties\": {\n        \"dtype\": \"number\",\n        \"std\": 0.2539452911079736,\n        \"min\": 1.7691987293016673,\n        \"max\": 2.849924742146526,\n        \"num_unique_values\": 30,\n        \"samples\": [\n          1.799045445012996,\n          1.8282048075259043,\n          1.7977135219841345\n        ],\n        \"semantic_type\": \"\",\n        \"description\": \"\"\n      }\n    },\n    {\n      \"column\": \"Follower Price\",\n      \"properties\": {\n        \"dtype\": \"number\",\n        \"std\": 0.08594210320696201,\n        \"min\": 1.7744334782524775,\n        \"max\": 2.1428609335978908,\n        \"num_unique_values\": 30,\n        \"samples\": [\n          1.7787635735554543,\n          1.809489209153825,\n          1.7889668342686313\n        ],\n        \"semantic_type\": \"\",\n        \"description\": \"\"\n      }\n    },\n    {\n      \"column\": \"Cost\",\n      \"properties\": {\n        \"dtype\": \"number\",\n        \"std\": 0.0,\n        \"min\": 1.0,\n        \"max\": 1.0,\n        \"num_unique_values\": 1,\n        \"samples\": [\n          1.0\n        ],\n        \"semantic_type\": \"\",\n        \"description\": \"\"\n      }\n    }\n  ]\n}"
                  }
                },
                "metadata": {}
              }
            ]
          }
        },
        "d9f25d1bffb4433c8d278c50486092f5": {
          "model_module": "@jupyter-widgets/output",
          "model_name": "OutputModel",
          "model_module_version": "1.0.0",
          "state": {
            "_dom_classes": [],
            "_model_module": "@jupyter-widgets/output",
            "_model_module_version": "1.0.0",
            "_model_name": "OutputModel",
            "_view_count": null,
            "_view_module": "@jupyter-widgets/output",
            "_view_module_version": "1.0.0",
            "_view_name": "OutputView",
            "layout": "IPY_MODEL_00f7bbe336e1435abc2dff40855137e9",
            "msg_id": "",
            "outputs": [
              {
                "output_type": "display_data",
                "data": {
                  "text/plain": "<IPython.core.display.HTML object>",
                  "text/html": "<br><br><br><br><br><br><br><br><br><br><b style='font-size: 17px;'><u>Profit made: 15.970619420329111</u></b>"
                },
                "metadata": {}
              }
            ]
          }
        },
        "00f57b9135ab48efb5f8f4c37d75e733": {
          "model_module": "@jupyter-widgets/base",
          "model_name": "LayoutModel",
          "model_module_version": "1.2.0",
          "state": {
            "_model_module": "@jupyter-widgets/base",
            "_model_module_version": "1.2.0",
            "_model_name": "LayoutModel",
            "_view_count": null,
            "_view_module": "@jupyter-widgets/base",
            "_view_module_version": "1.2.0",
            "_view_name": "LayoutView",
            "align_content": null,
            "align_items": null,
            "align_self": null,
            "border": null,
            "bottom": null,
            "display": null,
            "flex": null,
            "flex_flow": null,
            "grid_area": null,
            "grid_auto_columns": null,
            "grid_auto_flow": null,
            "grid_auto_rows": null,
            "grid_column": null,
            "grid_gap": null,
            "grid_row": null,
            "grid_template_areas": null,
            "grid_template_columns": null,
            "grid_template_rows": null,
            "height": null,
            "justify_content": "initial",
            "justify_items": null,
            "left": null,
            "margin": null,
            "max_height": null,
            "max_width": null,
            "min_height": null,
            "min_width": null,
            "object_fit": null,
            "object_position": null,
            "order": null,
            "overflow": null,
            "overflow_x": null,
            "overflow_y": null,
            "padding": null,
            "right": null,
            "top": null,
            "visibility": null,
            "width": null
          }
        },
        "e2de3aac587e44ecae555f88812585c0": {
          "model_module": "@jupyter-widgets/base",
          "model_name": "LayoutModel",
          "model_module_version": "1.2.0",
          "state": {
            "_model_module": "@jupyter-widgets/base",
            "_model_module_version": "1.2.0",
            "_model_name": "LayoutModel",
            "_view_count": null,
            "_view_module": "@jupyter-widgets/base",
            "_view_module_version": "1.2.0",
            "_view_name": "LayoutView",
            "align_content": null,
            "align_items": null,
            "align_self": null,
            "border": null,
            "bottom": null,
            "display": null,
            "flex": null,
            "flex_flow": null,
            "grid_area": null,
            "grid_auto_columns": null,
            "grid_auto_flow": null,
            "grid_auto_rows": null,
            "grid_column": null,
            "grid_gap": null,
            "grid_row": null,
            "grid_template_areas": null,
            "grid_template_columns": null,
            "grid_template_rows": null,
            "height": null,
            "justify_content": null,
            "justify_items": null,
            "left": null,
            "margin": null,
            "max_height": null,
            "max_width": null,
            "min_height": null,
            "min_width": null,
            "object_fit": null,
            "object_position": null,
            "order": null,
            "overflow": null,
            "overflow_x": null,
            "overflow_y": null,
            "padding": null,
            "right": null,
            "top": null,
            "visibility": null,
            "width": null
          }
        },
        "00f7bbe336e1435abc2dff40855137e9": {
          "model_module": "@jupyter-widgets/base",
          "model_name": "LayoutModel",
          "model_module_version": "1.2.0",
          "state": {
            "_model_module": "@jupyter-widgets/base",
            "_model_module_version": "1.2.0",
            "_model_name": "LayoutModel",
            "_view_count": null,
            "_view_module": "@jupyter-widgets/base",
            "_view_module_version": "1.2.0",
            "_view_name": "LayoutView",
            "align_content": null,
            "align_items": null,
            "align_self": null,
            "border": null,
            "bottom": null,
            "display": null,
            "flex": null,
            "flex_flow": null,
            "grid_area": null,
            "grid_auto_columns": null,
            "grid_auto_flow": null,
            "grid_auto_rows": null,
            "grid_column": null,
            "grid_gap": null,
            "grid_row": null,
            "grid_template_areas": null,
            "grid_template_columns": null,
            "grid_template_rows": null,
            "height": null,
            "justify_content": null,
            "justify_items": null,
            "left": null,
            "margin": null,
            "max_height": null,
            "max_width": null,
            "min_height": null,
            "min_width": null,
            "object_fit": null,
            "object_position": null,
            "order": null,
            "overflow": null,
            "overflow_x": null,
            "overflow_y": null,
            "padding": null,
            "right": null,
            "top": null,
            "visibility": null,
            "width": null
          }
        },
        "9199404c383e42adb046257285a6e8d9": {
          "model_module": "@jupyter-widgets/controls",
          "model_name": "HBoxModel",
          "model_module_version": "1.5.0",
          "state": {
            "_dom_classes": [],
            "_model_module": "@jupyter-widgets/controls",
            "_model_module_version": "1.5.0",
            "_model_name": "HBoxModel",
            "_view_count": null,
            "_view_module": "@jupyter-widgets/controls",
            "_view_module_version": "1.5.0",
            "_view_name": "HBoxView",
            "box_style": "",
            "children": [
              "IPY_MODEL_b06cb3847735459990ef25a6232bccb5",
              "IPY_MODEL_200787af487b415a9c8320838a9b5354"
            ],
            "layout": "IPY_MODEL_87befe8fbdab4d0f8122ee9f5c3b7ce2"
          }
        },
        "b06cb3847735459990ef25a6232bccb5": {
          "model_module": "@jupyter-widgets/output",
          "model_name": "OutputModel",
          "model_module_version": "1.0.0",
          "state": {
            "_dom_classes": [],
            "_model_module": "@jupyter-widgets/output",
            "_model_module_version": "1.0.0",
            "_model_name": "OutputModel",
            "_view_count": null,
            "_view_module": "@jupyter-widgets/output",
            "_view_module_version": "1.0.0",
            "_view_name": "OutputView",
            "layout": "IPY_MODEL_f4d0abcd2f3043398a1f9cd5380912cd",
            "msg_id": "",
            "outputs": [
              {
                "output_type": "display_data",
                "data": {
                  "text/plain": "      Leader Price  Follower Price  Cost\nDate                                    \n130       1.816372        1.827957   1.0\n129       1.820890        1.828440   1.0\n128       1.855613        1.839091   1.0\n127       1.806131        1.820524   1.0\n126       1.807522        1.818582   1.0\n125       1.818479        1.820839   1.0\n124       1.824033        1.821981   1.0\n123       1.816541        1.821621   1.0\n122       1.821935        1.817986   1.0\n121       1.827450        1.819581   1.0\n120       1.805864        1.810388   1.0\n119       1.819449        1.813220   1.0\n118       1.799872        1.803990   1.0\n117       1.826695        1.812549   1.0\n116       2.765321        2.127209   1.0\n115       1.828205        1.809489   1.0\n114       1.805660        1.800393   1.0\n113       1.791150        1.794828   1.0\n112       1.789052        1.790265   1.0\n111       1.831717        1.803929   1.0\n110       2.849925        2.142861   1.0\n109       1.805501        1.793399   1.0\n108       1.769199        1.777961   1.0\n107       1.797714        1.788967   1.0\n106       1.791400        1.780751   1.0\n105       1.799602        1.782359   1.0\n104       1.799338        1.780232   1.0\n103       1.799045        1.778764   1.0\n102       1.798838        1.778900   1.0\n101       1.799923        1.774433   1.0",
                  "text/html": "\n  <div id=\"df-60eee23d-2282-4f01-918c-80675d0435a6\" class=\"colab-df-container\">\n    <div>\n<style scoped>\n    .dataframe tbody tr th:only-of-type {\n        vertical-align: middle;\n    }\n\n    .dataframe tbody tr th {\n        vertical-align: top;\n    }\n\n    .dataframe thead th {\n        text-align: right;\n    }\n</style>\n<table border=\"1\" class=\"dataframe\">\n  <thead>\n    <tr style=\"text-align: right;\">\n      <th></th>\n      <th>Leader Price</th>\n      <th>Follower Price</th>\n      <th>Cost</th>\n    </tr>\n    <tr>\n      <th>Date</th>\n      <th></th>\n      <th></th>\n      <th></th>\n    </tr>\n  </thead>\n  <tbody>\n    <tr>\n      <th>130</th>\n      <td>1.816372</td>\n      <td>1.827957</td>\n      <td>1.0</td>\n    </tr>\n    <tr>\n      <th>129</th>\n      <td>1.820890</td>\n      <td>1.828440</td>\n      <td>1.0</td>\n    </tr>\n    <tr>\n      <th>128</th>\n      <td>1.855613</td>\n      <td>1.839091</td>\n      <td>1.0</td>\n    </tr>\n    <tr>\n      <th>127</th>\n      <td>1.806131</td>\n      <td>1.820524</td>\n      <td>1.0</td>\n    </tr>\n    <tr>\n      <th>126</th>\n      <td>1.807522</td>\n      <td>1.818582</td>\n      <td>1.0</td>\n    </tr>\n    <tr>\n      <th>125</th>\n      <td>1.818479</td>\n      <td>1.820839</td>\n      <td>1.0</td>\n    </tr>\n    <tr>\n      <th>124</th>\n      <td>1.824033</td>\n      <td>1.821981</td>\n      <td>1.0</td>\n    </tr>\n    <tr>\n      <th>123</th>\n      <td>1.816541</td>\n      <td>1.821621</td>\n      <td>1.0</td>\n    </tr>\n    <tr>\n      <th>122</th>\n      <td>1.821935</td>\n      <td>1.817986</td>\n      <td>1.0</td>\n    </tr>\n    <tr>\n      <th>121</th>\n      <td>1.827450</td>\n      <td>1.819581</td>\n      <td>1.0</td>\n    </tr>\n    <tr>\n      <th>120</th>\n      <td>1.805864</td>\n      <td>1.810388</td>\n      <td>1.0</td>\n    </tr>\n    <tr>\n      <th>119</th>\n      <td>1.819449</td>\n      <td>1.813220</td>\n      <td>1.0</td>\n    </tr>\n    <tr>\n      <th>118</th>\n      <td>1.799872</td>\n      <td>1.803990</td>\n      <td>1.0</td>\n    </tr>\n    <tr>\n      <th>117</th>\n      <td>1.826695</td>\n      <td>1.812549</td>\n      <td>1.0</td>\n    </tr>\n    <tr>\n      <th>116</th>\n      <td>2.765321</td>\n      <td>2.127209</td>\n      <td>1.0</td>\n    </tr>\n    <tr>\n      <th>115</th>\n      <td>1.828205</td>\n      <td>1.809489</td>\n      <td>1.0</td>\n    </tr>\n    <tr>\n      <th>114</th>\n      <td>1.805660</td>\n      <td>1.800393</td>\n      <td>1.0</td>\n    </tr>\n    <tr>\n      <th>113</th>\n      <td>1.791150</td>\n      <td>1.794828</td>\n      <td>1.0</td>\n    </tr>\n    <tr>\n      <th>112</th>\n      <td>1.789052</td>\n      <td>1.790265</td>\n      <td>1.0</td>\n    </tr>\n    <tr>\n      <th>111</th>\n      <td>1.831717</td>\n      <td>1.803929</td>\n      <td>1.0</td>\n    </tr>\n    <tr>\n      <th>110</th>\n      <td>2.849925</td>\n      <td>2.142861</td>\n      <td>1.0</td>\n    </tr>\n    <tr>\n      <th>109</th>\n      <td>1.805501</td>\n      <td>1.793399</td>\n      <td>1.0</td>\n    </tr>\n    <tr>\n      <th>108</th>\n      <td>1.769199</td>\n      <td>1.777961</td>\n      <td>1.0</td>\n    </tr>\n    <tr>\n      <th>107</th>\n      <td>1.797714</td>\n      <td>1.788967</td>\n      <td>1.0</td>\n    </tr>\n    <tr>\n      <th>106</th>\n      <td>1.791400</td>\n      <td>1.780751</td>\n      <td>1.0</td>\n    </tr>\n    <tr>\n      <th>105</th>\n      <td>1.799602</td>\n      <td>1.782359</td>\n      <td>1.0</td>\n    </tr>\n    <tr>\n      <th>104</th>\n      <td>1.799338</td>\n      <td>1.780232</td>\n      <td>1.0</td>\n    </tr>\n    <tr>\n      <th>103</th>\n      <td>1.799045</td>\n      <td>1.778764</td>\n      <td>1.0</td>\n    </tr>\n    <tr>\n      <th>102</th>\n      <td>1.798838</td>\n      <td>1.778900</td>\n      <td>1.0</td>\n    </tr>\n    <tr>\n      <th>101</th>\n      <td>1.799923</td>\n      <td>1.774433</td>\n      <td>1.0</td>\n    </tr>\n  </tbody>\n</table>\n</div>\n    <div class=\"colab-df-buttons\">\n\n  <div class=\"colab-df-container\">\n    <button class=\"colab-df-convert\" onclick=\"convertToInteractive('df-60eee23d-2282-4f01-918c-80675d0435a6')\"\n            title=\"Convert this dataframe to an interactive table.\"\n            style=\"display:none;\">\n\n  <svg xmlns=\"http://www.w3.org/2000/svg\" height=\"24px\" viewBox=\"0 -960 960 960\">\n    <path d=\"M120-120v-720h720v720H120Zm60-500h600v-160H180v160Zm220 220h160v-160H400v160Zm0 220h160v-160H400v160ZM180-400h160v-160H180v160Zm440 0h160v-160H620v160ZM180-180h160v-160H180v160Zm440 0h160v-160H620v160Z\"/>\n  </svg>\n    </button>\n\n  <style>\n    .colab-df-container {\n      display:flex;\n      gap: 12px;\n    }\n\n    .colab-df-convert {\n      background-color: #E8F0FE;\n      border: none;\n      border-radius: 50%;\n      cursor: pointer;\n      display: none;\n      fill: #1967D2;\n      height: 32px;\n      padding: 0 0 0 0;\n      width: 32px;\n    }\n\n    .colab-df-convert:hover {\n      background-color: #E2EBFA;\n      box-shadow: 0px 1px 2px rgba(60, 64, 67, 0.3), 0px 1px 3px 1px rgba(60, 64, 67, 0.15);\n      fill: #174EA6;\n    }\n\n    .colab-df-buttons div {\n      margin-bottom: 4px;\n    }\n\n    [theme=dark] .colab-df-convert {\n      background-color: #3B4455;\n      fill: #D2E3FC;\n    }\n\n    [theme=dark] .colab-df-convert:hover {\n      background-color: #434B5C;\n      box-shadow: 0px 1px 3px 1px rgba(0, 0, 0, 0.15);\n      filter: drop-shadow(0px 1px 2px rgba(0, 0, 0, 0.3));\n      fill: #FFFFFF;\n    }\n  </style>\n\n    <script>\n      const buttonEl =\n        document.querySelector('#df-60eee23d-2282-4f01-918c-80675d0435a6 button.colab-df-convert');\n      buttonEl.style.display =\n        google.colab.kernel.accessAllowed ? 'block' : 'none';\n\n      async function convertToInteractive(key) {\n        const element = document.querySelector('#df-60eee23d-2282-4f01-918c-80675d0435a6');\n        const dataTable =\n          await google.colab.kernel.invokeFunction('convertToInteractive',\n                                                    [key], {});\n        if (!dataTable) return;\n\n        const docLinkHtml = 'Like what you see? Visit the ' +\n          '<a target=\"_blank\" href=https://colab.research.google.com/notebooks/data_table.ipynb>data table notebook</a>'\n          + ' to learn more about interactive tables.';\n        element.innerHTML = '';\n        dataTable['output_type'] = 'display_data';\n        await google.colab.output.renderOutput(dataTable, element);\n        const docLink = document.createElement('div');\n        docLink.innerHTML = docLinkHtml;\n        element.appendChild(docLink);\n      }\n    </script>\n  </div>\n\n\n<div id=\"df-817544dd-8705-4dd0-9433-bd7680af6934\">\n  <button class=\"colab-df-quickchart\" onclick=\"quickchart('df-817544dd-8705-4dd0-9433-bd7680af6934')\"\n            title=\"Suggest charts\"\n            style=\"display:none;\">\n\n<svg xmlns=\"http://www.w3.org/2000/svg\" height=\"24px\"viewBox=\"0 0 24 24\"\n     width=\"24px\">\n    <g>\n        <path d=\"M19 3H5c-1.1 0-2 .9-2 2v14c0 1.1.9 2 2 2h14c1.1 0 2-.9 2-2V5c0-1.1-.9-2-2-2zM9 17H7v-7h2v7zm4 0h-2V7h2v10zm4 0h-2v-4h2v4z\"/>\n    </g>\n</svg>\n  </button>\n\n<style>\n  .colab-df-quickchart {\n      --bg-color: #E8F0FE;\n      --fill-color: #1967D2;\n      --hover-bg-color: #E2EBFA;\n      --hover-fill-color: #174EA6;\n      --disabled-fill-color: #AAA;\n      --disabled-bg-color: #DDD;\n  }\n\n  [theme=dark] .colab-df-quickchart {\n      --bg-color: #3B4455;\n      --fill-color: #D2E3FC;\n      --hover-bg-color: #434B5C;\n      --hover-fill-color: #FFFFFF;\n      --disabled-bg-color: #3B4455;\n      --disabled-fill-color: #666;\n  }\n\n  .colab-df-quickchart {\n    background-color: var(--bg-color);\n    border: none;\n    border-radius: 50%;\n    cursor: pointer;\n    display: none;\n    fill: var(--fill-color);\n    height: 32px;\n    padding: 0;\n    width: 32px;\n  }\n\n  .colab-df-quickchart:hover {\n    background-color: var(--hover-bg-color);\n    box-shadow: 0 1px 2px rgba(60, 64, 67, 0.3), 0 1px 3px 1px rgba(60, 64, 67, 0.15);\n    fill: var(--button-hover-fill-color);\n  }\n\n  .colab-df-quickchart-complete:disabled,\n  .colab-df-quickchart-complete:disabled:hover {\n    background-color: var(--disabled-bg-color);\n    fill: var(--disabled-fill-color);\n    box-shadow: none;\n  }\n\n  .colab-df-spinner {\n    border: 2px solid var(--fill-color);\n    border-color: transparent;\n    border-bottom-color: var(--fill-color);\n    animation:\n      spin 1s steps(1) infinite;\n  }\n\n  @keyframes spin {\n    0% {\n      border-color: transparent;\n      border-bottom-color: var(--fill-color);\n      border-left-color: var(--fill-color);\n    }\n    20% {\n      border-color: transparent;\n      border-left-color: var(--fill-color);\n      border-top-color: var(--fill-color);\n    }\n    30% {\n      border-color: transparent;\n      border-left-color: var(--fill-color);\n      border-top-color: var(--fill-color);\n      border-right-color: var(--fill-color);\n    }\n    40% {\n      border-color: transparent;\n      border-right-color: var(--fill-color);\n      border-top-color: var(--fill-color);\n    }\n    60% {\n      border-color: transparent;\n      border-right-color: var(--fill-color);\n    }\n    80% {\n      border-color: transparent;\n      border-right-color: var(--fill-color);\n      border-bottom-color: var(--fill-color);\n    }\n    90% {\n      border-color: transparent;\n      border-bottom-color: var(--fill-color);\n    }\n  }\n</style>\n\n  <script>\n    async function quickchart(key) {\n      const quickchartButtonEl =\n        document.querySelector('#' + key + ' button');\n      quickchartButtonEl.disabled = true;  // To prevent multiple clicks.\n      quickchartButtonEl.classList.add('colab-df-spinner');\n      try {\n        const charts = await google.colab.kernel.invokeFunction(\n            'suggestCharts', [key], {});\n      } catch (error) {\n        console.error('Error during call to suggestCharts:', error);\n      }\n      quickchartButtonEl.classList.remove('colab-df-spinner');\n      quickchartButtonEl.classList.add('colab-df-quickchart-complete');\n    }\n    (() => {\n      let quickchartButtonEl =\n        document.querySelector('#df-817544dd-8705-4dd0-9433-bd7680af6934 button');\n      quickchartButtonEl.style.display =\n        google.colab.kernel.accessAllowed ? 'block' : 'none';\n    })();\n  </script>\n</div>\n\n    </div>\n  </div>\n",
                  "application/vnd.google.colaboratory.intrinsic+json": {
                    "type": "dataframe",
                    "summary": "{\n  \"name\": \"app = GUI(engine, Leader, group_num)\",\n  \"rows\": 30,\n  \"fields\": [\n    {\n      \"column\": \"Date\",\n      \"properties\": {\n        \"dtype\": \"number\",\n        \"std\": 8,\n        \"min\": 101,\n        \"max\": 130,\n        \"num_unique_values\": 30,\n        \"samples\": [\n          103,\n          115,\n          107\n        ],\n        \"semantic_type\": \"\",\n        \"description\": \"\"\n      }\n    },\n    {\n      \"column\": \"Leader Price\",\n      \"properties\": {\n        \"dtype\": \"number\",\n        \"std\": 0.2539452911079736,\n        \"min\": 1.7691987293016673,\n        \"max\": 2.849924742146526,\n        \"num_unique_values\": 30,\n        \"samples\": [\n          1.799045445012996,\n          1.8282048075259043,\n          1.7977135219841345\n        ],\n        \"semantic_type\": \"\",\n        \"description\": \"\"\n      }\n    },\n    {\n      \"column\": \"Follower Price\",\n      \"properties\": {\n        \"dtype\": \"number\",\n        \"std\": 0.08594210320696201,\n        \"min\": 1.7744334782524775,\n        \"max\": 2.1428609335978908,\n        \"num_unique_values\": 30,\n        \"samples\": [\n          1.7787635735554543,\n          1.809489209153825,\n          1.7889668342686313\n        ],\n        \"semantic_type\": \"\",\n        \"description\": \"\"\n      }\n    },\n    {\n      \"column\": \"Cost\",\n      \"properties\": {\n        \"dtype\": \"number\",\n        \"std\": 0.0,\n        \"min\": 1.0,\n        \"max\": 1.0,\n        \"num_unique_values\": 1,\n        \"samples\": [\n          1.0\n        ],\n        \"semantic_type\": \"\",\n        \"description\": \"\"\n      }\n    }\n  ]\n}"
                  }
                },
                "metadata": {}
              }
            ]
          }
        },
        "200787af487b415a9c8320838a9b5354": {
          "model_module": "@jupyter-widgets/output",
          "model_name": "OutputModel",
          "model_module_version": "1.0.0",
          "state": {
            "_dom_classes": [],
            "_model_module": "@jupyter-widgets/output",
            "_model_module_version": "1.0.0",
            "_model_name": "OutputModel",
            "_view_count": null,
            "_view_module": "@jupyter-widgets/output",
            "_view_module_version": "1.0.0",
            "_view_name": "OutputView",
            "layout": "IPY_MODEL_e8030535b57243f78e570c9fc7343354",
            "msg_id": "",
            "outputs": [
              {
                "output_type": "display_data",
                "data": {
                  "text/plain": "<IPython.core.display.HTML object>",
                  "text/html": "<br><br><br><br><br><br><br><br><br><br><b style='font-size: 17px;'><u>Profit made: 15.970619420329111</u></b>"
                },
                "metadata": {}
              }
            ]
          }
        },
        "87befe8fbdab4d0f8122ee9f5c3b7ce2": {
          "model_module": "@jupyter-widgets/base",
          "model_name": "LayoutModel",
          "model_module_version": "1.2.0",
          "state": {
            "_model_module": "@jupyter-widgets/base",
            "_model_module_version": "1.2.0",
            "_model_name": "LayoutModel",
            "_view_count": null,
            "_view_module": "@jupyter-widgets/base",
            "_view_module_version": "1.2.0",
            "_view_name": "LayoutView",
            "align_content": null,
            "align_items": null,
            "align_self": null,
            "border": null,
            "bottom": null,
            "display": null,
            "flex": null,
            "flex_flow": null,
            "grid_area": null,
            "grid_auto_columns": null,
            "grid_auto_flow": null,
            "grid_auto_rows": null,
            "grid_column": null,
            "grid_gap": null,
            "grid_row": null,
            "grid_template_areas": null,
            "grid_template_columns": null,
            "grid_template_rows": null,
            "height": null,
            "justify_content": "initial",
            "justify_items": null,
            "left": null,
            "margin": null,
            "max_height": null,
            "max_width": null,
            "min_height": null,
            "min_width": null,
            "object_fit": null,
            "object_position": null,
            "order": null,
            "overflow": null,
            "overflow_x": null,
            "overflow_y": null,
            "padding": null,
            "right": null,
            "top": null,
            "visibility": null,
            "width": null
          }
        },
        "f4d0abcd2f3043398a1f9cd5380912cd": {
          "model_module": "@jupyter-widgets/base",
          "model_name": "LayoutModel",
          "model_module_version": "1.2.0",
          "state": {
            "_model_module": "@jupyter-widgets/base",
            "_model_module_version": "1.2.0",
            "_model_name": "LayoutModel",
            "_view_count": null,
            "_view_module": "@jupyter-widgets/base",
            "_view_module_version": "1.2.0",
            "_view_name": "LayoutView",
            "align_content": null,
            "align_items": null,
            "align_self": null,
            "border": null,
            "bottom": null,
            "display": null,
            "flex": null,
            "flex_flow": null,
            "grid_area": null,
            "grid_auto_columns": null,
            "grid_auto_flow": null,
            "grid_auto_rows": null,
            "grid_column": null,
            "grid_gap": null,
            "grid_row": null,
            "grid_template_areas": null,
            "grid_template_columns": null,
            "grid_template_rows": null,
            "height": null,
            "justify_content": null,
            "justify_items": null,
            "left": null,
            "margin": null,
            "max_height": null,
            "max_width": null,
            "min_height": null,
            "min_width": null,
            "object_fit": null,
            "object_position": null,
            "order": null,
            "overflow": null,
            "overflow_x": null,
            "overflow_y": null,
            "padding": null,
            "right": null,
            "top": null,
            "visibility": null,
            "width": null
          }
        },
        "e8030535b57243f78e570c9fc7343354": {
          "model_module": "@jupyter-widgets/base",
          "model_name": "LayoutModel",
          "model_module_version": "1.2.0",
          "state": {
            "_model_module": "@jupyter-widgets/base",
            "_model_module_version": "1.2.0",
            "_model_name": "LayoutModel",
            "_view_count": null,
            "_view_module": "@jupyter-widgets/base",
            "_view_module_version": "1.2.0",
            "_view_name": "LayoutView",
            "align_content": null,
            "align_items": null,
            "align_self": null,
            "border": null,
            "bottom": null,
            "display": null,
            "flex": null,
            "flex_flow": null,
            "grid_area": null,
            "grid_auto_columns": null,
            "grid_auto_flow": null,
            "grid_auto_rows": null,
            "grid_column": null,
            "grid_gap": null,
            "grid_row": null,
            "grid_template_areas": null,
            "grid_template_columns": null,
            "grid_template_rows": null,
            "height": null,
            "justify_content": null,
            "justify_items": null,
            "left": null,
            "margin": null,
            "max_height": null,
            "max_width": null,
            "min_height": null,
            "min_width": null,
            "object_fit": null,
            "object_position": null,
            "order": null,
            "overflow": null,
            "overflow_x": null,
            "overflow_y": null,
            "padding": null,
            "right": null,
            "top": null,
            "visibility": null,
            "width": null
          }
        },
        "038322054309420bb10fbceac790fe6b": {
          "model_module": "@jupyter-widgets/controls",
          "model_name": "HBoxModel",
          "model_module_version": "1.5.0",
          "state": {
            "_dom_classes": [],
            "_model_module": "@jupyter-widgets/controls",
            "_model_module_version": "1.5.0",
            "_model_name": "HBoxModel",
            "_view_count": null,
            "_view_module": "@jupyter-widgets/controls",
            "_view_module_version": "1.5.0",
            "_view_name": "HBoxView",
            "box_style": "",
            "children": [
              "IPY_MODEL_78f69787330a4584951eaac8b6e9e358",
              "IPY_MODEL_659b5551bf1749fc921c490193aa09c9"
            ],
            "layout": "IPY_MODEL_e3f4523f00654e0aa2f13486f53c0a77"
          }
        },
        "78f69787330a4584951eaac8b6e9e358": {
          "model_module": "@jupyter-widgets/output",
          "model_name": "OutputModel",
          "model_module_version": "1.0.0",
          "state": {
            "_dom_classes": [],
            "_model_module": "@jupyter-widgets/output",
            "_model_module_version": "1.0.0",
            "_model_name": "OutputModel",
            "_view_count": null,
            "_view_module": "@jupyter-widgets/output",
            "_view_module_version": "1.0.0",
            "_view_name": "OutputView",
            "layout": "IPY_MODEL_f64b242e989d4588872cb2ce47c52bf9",
            "msg_id": "",
            "outputs": [
              {
                "output_type": "display_data",
                "data": {
                  "text/plain": "      Leader Price  Follower Price  Cost\nDate                                    \n130       1.793990        1.797982   1.0\n129       1.796507        1.859613   1.0\n128       1.792610        1.779068   1.0\n127       1.794493        1.812751   1.0\n126       1.813352        1.819146   1.0\n125       1.801670        1.817307   1.0\n124       1.862522        1.787063   1.0\n123       1.775772        1.782430   1.0\n122       1.811166        1.848334   1.0\n121       1.795234        1.787376   1.0\n120       1.797206        1.799571   1.0\n119       1.795865        1.800535   1.0\n118       1.794432        1.790155   1.0\n117       1.793378        1.787001   1.0\n116       1.794010        1.777666   1.0\n115       1.795801        1.827728   1.0\n114       1.792298        1.803442   1.0\n113       1.805074        1.776141   1.0\n112       2.655327        1.903558   1.0\n111       1.909968        1.843696   1.0\n110       2.849925        1.942343   1.0\n109       1.809255        1.851012   1.0\n108       1.789485        1.786820   1.0\n107       1.803201        1.824940   1.0\n106       1.844980        1.838396   1.0\n105       1.824327        1.846995   1.0\n104       1.801495        1.809312   1.0\n103       1.800802        1.777678   1.0\n102       1.798981        1.770508   1.0\n101       1.799923        1.844504   1.0",
                  "text/html": "\n  <div id=\"df-7b9ab947-02b7-4628-885b-066420655f86\" class=\"colab-df-container\">\n    <div>\n<style scoped>\n    .dataframe tbody tr th:only-of-type {\n        vertical-align: middle;\n    }\n\n    .dataframe tbody tr th {\n        vertical-align: top;\n    }\n\n    .dataframe thead th {\n        text-align: right;\n    }\n</style>\n<table border=\"1\" class=\"dataframe\">\n  <thead>\n    <tr style=\"text-align: right;\">\n      <th></th>\n      <th>Leader Price</th>\n      <th>Follower Price</th>\n      <th>Cost</th>\n    </tr>\n    <tr>\n      <th>Date</th>\n      <th></th>\n      <th></th>\n      <th></th>\n    </tr>\n  </thead>\n  <tbody>\n    <tr>\n      <th>130</th>\n      <td>1.793990</td>\n      <td>1.797982</td>\n      <td>1.0</td>\n    </tr>\n    <tr>\n      <th>129</th>\n      <td>1.796507</td>\n      <td>1.859613</td>\n      <td>1.0</td>\n    </tr>\n    <tr>\n      <th>128</th>\n      <td>1.792610</td>\n      <td>1.779068</td>\n      <td>1.0</td>\n    </tr>\n    <tr>\n      <th>127</th>\n      <td>1.794493</td>\n      <td>1.812751</td>\n      <td>1.0</td>\n    </tr>\n    <tr>\n      <th>126</th>\n      <td>1.813352</td>\n      <td>1.819146</td>\n      <td>1.0</td>\n    </tr>\n    <tr>\n      <th>125</th>\n      <td>1.801670</td>\n      <td>1.817307</td>\n      <td>1.0</td>\n    </tr>\n    <tr>\n      <th>124</th>\n      <td>1.862522</td>\n      <td>1.787063</td>\n      <td>1.0</td>\n    </tr>\n    <tr>\n      <th>123</th>\n      <td>1.775772</td>\n      <td>1.782430</td>\n      <td>1.0</td>\n    </tr>\n    <tr>\n      <th>122</th>\n      <td>1.811166</td>\n      <td>1.848334</td>\n      <td>1.0</td>\n    </tr>\n    <tr>\n      <th>121</th>\n      <td>1.795234</td>\n      <td>1.787376</td>\n      <td>1.0</td>\n    </tr>\n    <tr>\n      <th>120</th>\n      <td>1.797206</td>\n      <td>1.799571</td>\n      <td>1.0</td>\n    </tr>\n    <tr>\n      <th>119</th>\n      <td>1.795865</td>\n      <td>1.800535</td>\n      <td>1.0</td>\n    </tr>\n    <tr>\n      <th>118</th>\n      <td>1.794432</td>\n      <td>1.790155</td>\n      <td>1.0</td>\n    </tr>\n    <tr>\n      <th>117</th>\n      <td>1.793378</td>\n      <td>1.787001</td>\n      <td>1.0</td>\n    </tr>\n    <tr>\n      <th>116</th>\n      <td>1.794010</td>\n      <td>1.777666</td>\n      <td>1.0</td>\n    </tr>\n    <tr>\n      <th>115</th>\n      <td>1.795801</td>\n      <td>1.827728</td>\n      <td>1.0</td>\n    </tr>\n    <tr>\n      <th>114</th>\n      <td>1.792298</td>\n      <td>1.803442</td>\n      <td>1.0</td>\n    </tr>\n    <tr>\n      <th>113</th>\n      <td>1.805074</td>\n      <td>1.776141</td>\n      <td>1.0</td>\n    </tr>\n    <tr>\n      <th>112</th>\n      <td>2.655327</td>\n      <td>1.903558</td>\n      <td>1.0</td>\n    </tr>\n    <tr>\n      <th>111</th>\n      <td>1.909968</td>\n      <td>1.843696</td>\n      <td>1.0</td>\n    </tr>\n    <tr>\n      <th>110</th>\n      <td>2.849925</td>\n      <td>1.942343</td>\n      <td>1.0</td>\n    </tr>\n    <tr>\n      <th>109</th>\n      <td>1.809255</td>\n      <td>1.851012</td>\n      <td>1.0</td>\n    </tr>\n    <tr>\n      <th>108</th>\n      <td>1.789485</td>\n      <td>1.786820</td>\n      <td>1.0</td>\n    </tr>\n    <tr>\n      <th>107</th>\n      <td>1.803201</td>\n      <td>1.824940</td>\n      <td>1.0</td>\n    </tr>\n    <tr>\n      <th>106</th>\n      <td>1.844980</td>\n      <td>1.838396</td>\n      <td>1.0</td>\n    </tr>\n    <tr>\n      <th>105</th>\n      <td>1.824327</td>\n      <td>1.846995</td>\n      <td>1.0</td>\n    </tr>\n    <tr>\n      <th>104</th>\n      <td>1.801495</td>\n      <td>1.809312</td>\n      <td>1.0</td>\n    </tr>\n    <tr>\n      <th>103</th>\n      <td>1.800802</td>\n      <td>1.777678</td>\n      <td>1.0</td>\n    </tr>\n    <tr>\n      <th>102</th>\n      <td>1.798981</td>\n      <td>1.770508</td>\n      <td>1.0</td>\n    </tr>\n    <tr>\n      <th>101</th>\n      <td>1.799923</td>\n      <td>1.844504</td>\n      <td>1.0</td>\n    </tr>\n  </tbody>\n</table>\n</div>\n    <div class=\"colab-df-buttons\">\n\n  <div class=\"colab-df-container\">\n    <button class=\"colab-df-convert\" onclick=\"convertToInteractive('df-7b9ab947-02b7-4628-885b-066420655f86')\"\n            title=\"Convert this dataframe to an interactive table.\"\n            style=\"display:none;\">\n\n  <svg xmlns=\"http://www.w3.org/2000/svg\" height=\"24px\" viewBox=\"0 -960 960 960\">\n    <path d=\"M120-120v-720h720v720H120Zm60-500h600v-160H180v160Zm220 220h160v-160H400v160Zm0 220h160v-160H400v160ZM180-400h160v-160H180v160Zm440 0h160v-160H620v160ZM180-180h160v-160H180v160Zm440 0h160v-160H620v160Z\"/>\n  </svg>\n    </button>\n\n  <style>\n    .colab-df-container {\n      display:flex;\n      gap: 12px;\n    }\n\n    .colab-df-convert {\n      background-color: #E8F0FE;\n      border: none;\n      border-radius: 50%;\n      cursor: pointer;\n      display: none;\n      fill: #1967D2;\n      height: 32px;\n      padding: 0 0 0 0;\n      width: 32px;\n    }\n\n    .colab-df-convert:hover {\n      background-color: #E2EBFA;\n      box-shadow: 0px 1px 2px rgba(60, 64, 67, 0.3), 0px 1px 3px 1px rgba(60, 64, 67, 0.15);\n      fill: #174EA6;\n    }\n\n    .colab-df-buttons div {\n      margin-bottom: 4px;\n    }\n\n    [theme=dark] .colab-df-convert {\n      background-color: #3B4455;\n      fill: #D2E3FC;\n    }\n\n    [theme=dark] .colab-df-convert:hover {\n      background-color: #434B5C;\n      box-shadow: 0px 1px 3px 1px rgba(0, 0, 0, 0.15);\n      filter: drop-shadow(0px 1px 2px rgba(0, 0, 0, 0.3));\n      fill: #FFFFFF;\n    }\n  </style>\n\n    <script>\n      const buttonEl =\n        document.querySelector('#df-7b9ab947-02b7-4628-885b-066420655f86 button.colab-df-convert');\n      buttonEl.style.display =\n        google.colab.kernel.accessAllowed ? 'block' : 'none';\n\n      async function convertToInteractive(key) {\n        const element = document.querySelector('#df-7b9ab947-02b7-4628-885b-066420655f86');\n        const dataTable =\n          await google.colab.kernel.invokeFunction('convertToInteractive',\n                                                    [key], {});\n        if (!dataTable) return;\n\n        const docLinkHtml = 'Like what you see? Visit the ' +\n          '<a target=\"_blank\" href=https://colab.research.google.com/notebooks/data_table.ipynb>data table notebook</a>'\n          + ' to learn more about interactive tables.';\n        element.innerHTML = '';\n        dataTable['output_type'] = 'display_data';\n        await google.colab.output.renderOutput(dataTable, element);\n        const docLink = document.createElement('div');\n        docLink.innerHTML = docLinkHtml;\n        element.appendChild(docLink);\n      }\n    </script>\n  </div>\n\n\n<div id=\"df-8ba91920-27c5-44bb-833d-1e8cf7131482\">\n  <button class=\"colab-df-quickchart\" onclick=\"quickchart('df-8ba91920-27c5-44bb-833d-1e8cf7131482')\"\n            title=\"Suggest charts\"\n            style=\"display:none;\">\n\n<svg xmlns=\"http://www.w3.org/2000/svg\" height=\"24px\"viewBox=\"0 0 24 24\"\n     width=\"24px\">\n    <g>\n        <path d=\"M19 3H5c-1.1 0-2 .9-2 2v14c0 1.1.9 2 2 2h14c1.1 0 2-.9 2-2V5c0-1.1-.9-2-2-2zM9 17H7v-7h2v7zm4 0h-2V7h2v10zm4 0h-2v-4h2v4z\"/>\n    </g>\n</svg>\n  </button>\n\n<style>\n  .colab-df-quickchart {\n      --bg-color: #E8F0FE;\n      --fill-color: #1967D2;\n      --hover-bg-color: #E2EBFA;\n      --hover-fill-color: #174EA6;\n      --disabled-fill-color: #AAA;\n      --disabled-bg-color: #DDD;\n  }\n\n  [theme=dark] .colab-df-quickchart {\n      --bg-color: #3B4455;\n      --fill-color: #D2E3FC;\n      --hover-bg-color: #434B5C;\n      --hover-fill-color: #FFFFFF;\n      --disabled-bg-color: #3B4455;\n      --disabled-fill-color: #666;\n  }\n\n  .colab-df-quickchart {\n    background-color: var(--bg-color);\n    border: none;\n    border-radius: 50%;\n    cursor: pointer;\n    display: none;\n    fill: var(--fill-color);\n    height: 32px;\n    padding: 0;\n    width: 32px;\n  }\n\n  .colab-df-quickchart:hover {\n    background-color: var(--hover-bg-color);\n    box-shadow: 0 1px 2px rgba(60, 64, 67, 0.3), 0 1px 3px 1px rgba(60, 64, 67, 0.15);\n    fill: var(--button-hover-fill-color);\n  }\n\n  .colab-df-quickchart-complete:disabled,\n  .colab-df-quickchart-complete:disabled:hover {\n    background-color: var(--disabled-bg-color);\n    fill: var(--disabled-fill-color);\n    box-shadow: none;\n  }\n\n  .colab-df-spinner {\n    border: 2px solid var(--fill-color);\n    border-color: transparent;\n    border-bottom-color: var(--fill-color);\n    animation:\n      spin 1s steps(1) infinite;\n  }\n\n  @keyframes spin {\n    0% {\n      border-color: transparent;\n      border-bottom-color: var(--fill-color);\n      border-left-color: var(--fill-color);\n    }\n    20% {\n      border-color: transparent;\n      border-left-color: var(--fill-color);\n      border-top-color: var(--fill-color);\n    }\n    30% {\n      border-color: transparent;\n      border-left-color: var(--fill-color);\n      border-top-color: var(--fill-color);\n      border-right-color: var(--fill-color);\n    }\n    40% {\n      border-color: transparent;\n      border-right-color: var(--fill-color);\n      border-top-color: var(--fill-color);\n    }\n    60% {\n      border-color: transparent;\n      border-right-color: var(--fill-color);\n    }\n    80% {\n      border-color: transparent;\n      border-right-color: var(--fill-color);\n      border-bottom-color: var(--fill-color);\n    }\n    90% {\n      border-color: transparent;\n      border-bottom-color: var(--fill-color);\n    }\n  }\n</style>\n\n  <script>\n    async function quickchart(key) {\n      const quickchartButtonEl =\n        document.querySelector('#' + key + ' button');\n      quickchartButtonEl.disabled = true;  // To prevent multiple clicks.\n      quickchartButtonEl.classList.add('colab-df-spinner');\n      try {\n        const charts = await google.colab.kernel.invokeFunction(\n            'suggestCharts', [key], {});\n      } catch (error) {\n        console.error('Error during call to suggestCharts:', error);\n      }\n      quickchartButtonEl.classList.remove('colab-df-spinner');\n      quickchartButtonEl.classList.add('colab-df-quickchart-complete');\n    }\n    (() => {\n      let quickchartButtonEl =\n        document.querySelector('#df-8ba91920-27c5-44bb-833d-1e8cf7131482 button');\n      quickchartButtonEl.style.display =\n        google.colab.kernel.accessAllowed ? 'block' : 'none';\n    })();\n  </script>\n</div>\n\n    </div>\n  </div>\n",
                  "application/vnd.google.colaboratory.intrinsic+json": {
                    "type": "dataframe",
                    "summary": "{\n  \"name\": \"app = GUI(engine, Leader, group_num)\",\n  \"rows\": 30,\n  \"fields\": [\n    {\n      \"column\": \"Date\",\n      \"properties\": {\n        \"dtype\": \"number\",\n        \"std\": 8,\n        \"min\": 101,\n        \"max\": 130,\n        \"num_unique_values\": 30,\n        \"samples\": [\n          103,\n          115,\n          107\n        ],\n        \"semantic_type\": \"\",\n        \"description\": \"\"\n      }\n    },\n    {\n      \"column\": \"Leader Price\",\n      \"properties\": {\n        \"dtype\": \"number\",\n        \"std\": 0.24268695792284958,\n        \"min\": 1.7757719398346365,\n        \"max\": 2.849924742146526,\n        \"num_unique_values\": 30,\n        \"samples\": [\n          1.8008019985316635,\n          1.795800832270488,\n          1.8032011980059564\n        ],\n        \"semantic_type\": \"\",\n        \"description\": \"\"\n      }\n    },\n    {\n      \"column\": \"Follower Price\",\n      \"properties\": {\n        \"dtype\": \"number\",\n        \"std\": 0.03948744623885269,\n        \"min\": 1.7705077024227773,\n        \"max\": 1.9423428685680504,\n        \"num_unique_values\": 30,\n        \"samples\": [\n          1.7776779632805346,\n          1.827728005510715,\n          1.824940467591287\n        ],\n        \"semantic_type\": \"\",\n        \"description\": \"\"\n      }\n    },\n    {\n      \"column\": \"Cost\",\n      \"properties\": {\n        \"dtype\": \"number\",\n        \"std\": 0.0,\n        \"min\": 1.0,\n        \"max\": 1.0,\n        \"num_unique_values\": 1,\n        \"samples\": [\n          1.0\n        ],\n        \"semantic_type\": \"\",\n        \"description\": \"\"\n      }\n    }\n  ]\n}"
                  }
                },
                "metadata": {}
              }
            ]
          }
        },
        "659b5551bf1749fc921c490193aa09c9": {
          "model_module": "@jupyter-widgets/output",
          "model_name": "OutputModel",
          "model_module_version": "1.0.0",
          "state": {
            "_dom_classes": [],
            "_model_module": "@jupyter-widgets/output",
            "_model_module_version": "1.0.0",
            "_model_name": "OutputModel",
            "_view_count": null,
            "_view_module": "@jupyter-widgets/output",
            "_view_module_version": "1.0.0",
            "_view_name": "OutputView",
            "layout": "IPY_MODEL_5b4a1fcd49a7461c9702665289dd251f",
            "msg_id": "",
            "outputs": [
              {
                "output_type": "display_data",
                "data": {
                  "text/plain": "<IPython.core.display.HTML object>",
                  "text/html": "<br><br><br><br><br><br><br><br><br><br><b style='font-size: 17px;'><u>Profit made: 15.972757134182507</u></b>"
                },
                "metadata": {}
              }
            ]
          }
        },
        "e3f4523f00654e0aa2f13486f53c0a77": {
          "model_module": "@jupyter-widgets/base",
          "model_name": "LayoutModel",
          "model_module_version": "1.2.0",
          "state": {
            "_model_module": "@jupyter-widgets/base",
            "_model_module_version": "1.2.0",
            "_model_name": "LayoutModel",
            "_view_count": null,
            "_view_module": "@jupyter-widgets/base",
            "_view_module_version": "1.2.0",
            "_view_name": "LayoutView",
            "align_content": null,
            "align_items": null,
            "align_self": null,
            "border": null,
            "bottom": null,
            "display": null,
            "flex": null,
            "flex_flow": null,
            "grid_area": null,
            "grid_auto_columns": null,
            "grid_auto_flow": null,
            "grid_auto_rows": null,
            "grid_column": null,
            "grid_gap": null,
            "grid_row": null,
            "grid_template_areas": null,
            "grid_template_columns": null,
            "grid_template_rows": null,
            "height": null,
            "justify_content": "initial",
            "justify_items": null,
            "left": null,
            "margin": null,
            "max_height": null,
            "max_width": null,
            "min_height": null,
            "min_width": null,
            "object_fit": null,
            "object_position": null,
            "order": null,
            "overflow": null,
            "overflow_x": null,
            "overflow_y": null,
            "padding": null,
            "right": null,
            "top": null,
            "visibility": null,
            "width": null
          }
        },
        "f64b242e989d4588872cb2ce47c52bf9": {
          "model_module": "@jupyter-widgets/base",
          "model_name": "LayoutModel",
          "model_module_version": "1.2.0",
          "state": {
            "_model_module": "@jupyter-widgets/base",
            "_model_module_version": "1.2.0",
            "_model_name": "LayoutModel",
            "_view_count": null,
            "_view_module": "@jupyter-widgets/base",
            "_view_module_version": "1.2.0",
            "_view_name": "LayoutView",
            "align_content": null,
            "align_items": null,
            "align_self": null,
            "border": null,
            "bottom": null,
            "display": null,
            "flex": null,
            "flex_flow": null,
            "grid_area": null,
            "grid_auto_columns": null,
            "grid_auto_flow": null,
            "grid_auto_rows": null,
            "grid_column": null,
            "grid_gap": null,
            "grid_row": null,
            "grid_template_areas": null,
            "grid_template_columns": null,
            "grid_template_rows": null,
            "height": null,
            "justify_content": null,
            "justify_items": null,
            "left": null,
            "margin": null,
            "max_height": null,
            "max_width": null,
            "min_height": null,
            "min_width": null,
            "object_fit": null,
            "object_position": null,
            "order": null,
            "overflow": null,
            "overflow_x": null,
            "overflow_y": null,
            "padding": null,
            "right": null,
            "top": null,
            "visibility": null,
            "width": null
          }
        },
        "5b4a1fcd49a7461c9702665289dd251f": {
          "model_module": "@jupyter-widgets/base",
          "model_name": "LayoutModel",
          "model_module_version": "1.2.0",
          "state": {
            "_model_module": "@jupyter-widgets/base",
            "_model_module_version": "1.2.0",
            "_model_name": "LayoutModel",
            "_view_count": null,
            "_view_module": "@jupyter-widgets/base",
            "_view_module_version": "1.2.0",
            "_view_name": "LayoutView",
            "align_content": null,
            "align_items": null,
            "align_self": null,
            "border": null,
            "bottom": null,
            "display": null,
            "flex": null,
            "flex_flow": null,
            "grid_area": null,
            "grid_auto_columns": null,
            "grid_auto_flow": null,
            "grid_auto_rows": null,
            "grid_column": null,
            "grid_gap": null,
            "grid_row": null,
            "grid_template_areas": null,
            "grid_template_columns": null,
            "grid_template_rows": null,
            "height": null,
            "justify_content": null,
            "justify_items": null,
            "left": null,
            "margin": null,
            "max_height": null,
            "max_width": null,
            "min_height": null,
            "min_width": null,
            "object_fit": null,
            "object_position": null,
            "order": null,
            "overflow": null,
            "overflow_x": null,
            "overflow_y": null,
            "padding": null,
            "right": null,
            "top": null,
            "visibility": null,
            "width": null
          }
        }
      }
    }
  },
  "nbformat": 4,
  "nbformat_minor": 0
}