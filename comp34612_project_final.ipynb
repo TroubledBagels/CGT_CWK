{
  "cells": [
    {
      "cell_type": "markdown",
      "metadata": {
        "id": "3XK1cooYe2X-"
      },
      "source": [
        "# Project Description"
      ]
    },
    {
      "cell_type": "markdown",
      "metadata": {
        "id": "91UIz8lSZPeE"
      },
      "source": [
        "##**Overview**\n",
        "Your task is to create a program that plays a repeated 2-person Stackelberg pricing games as the leader, under conditions of imperfect information.\n",
        "\n"
      ]
    },
    {
      "cell_type": "markdown",
      "metadata": {
        "id": "z8wKUBCGTuiM"
      },
      "source": [
        "## **Specifications**"
      ]
    },
    {
      "cell_type": "markdown",
      "metadata": {
        "id": "qCQi02j4fKN3"
      },
      "source": [
        "**Followers’ Specifications**\n",
        "\n",
        "*   There are three different followers, named as MK1, MK2, and MK3.\n",
        "*   The payoff function and strategy spaces of these followers are unknown. However, historical data from 100 days of previous games between the leader and each follower is available and provided."
      ]
    },
    {
      "cell_type": "markdown",
      "metadata": {
        "id": "tPzKFX9wfMvK"
      },
      "source": [
        "**Leader’s Specifications**\n",
        "\n",
        "Assume that the leader’s strategy (i.e., price) is $u_L$ and the follower’s strategy (i.e., price) is $u_F$. The specifics regarding the leader’s strategy and profits are as follows:\n",
        "*   **Unit cost**: $c_L=£1.00$\n",
        "*   **Strategy space**:\n",
        "      1.   When playing with MK1 and MK2, the leader’s strategy space is $U_L = [1.00, +∞)$\n",
        "      2.   When playing with MK3, the leader’s strategy space is $U_L = [1.00, 2.00]$     \n",
        "* \t**Demand Model** (i.e., price-sale relationship): $S_L(u_L, u_F)=2 - u_L + 0.3u_F$    \n",
        "*   **Daily Profit**: $(u_L - c_L)S_L(u_L, u_F)$\n",
        "*   **Objective**: The leader’s objective of playing is to maximise the accumulated profit for the next 30 days.\n",
        "*   **Assumption**: For simplicity, it is assumed that the leader’s unit cost, strategy space, and the demand model remain unchanged throughout the entire period of 130 days."
      ]
    },
    {
      "cell_type": "markdown",
      "metadata": {
        "id": "8FhASqXkT7Xo"
      },
      "source": [
        "## **Game Rules and Playing Scenarios**"
      ]
    },
    {
      "cell_type": "markdown",
      "metadata": {
        "id": "e6_isrDZfWPn"
      },
      "source": [
        "**Game Rules**\n",
        "\n",
        "On day $t$, the leader announces the price, $u_L (t)$, first. After learning the leader’s price, the follower will choose the responding price, $u_F (t)$. This process occurs over a period of $t=1,2,…,130$, where $t=1,2,…,100$ corresponds to the days for which historical data is available, and $t=101,102,…,130$ are the days during which the game will be played repeatedly.\n"
      ]
    },
    {
      "cell_type": "markdown",
      "metadata": {
        "id": "vS4WZ0D1gC2W"
      },
      "source": [
        "**Game Playing Scenarios**\n",
        "\n",
        "In this setup, your program, acting as the leader, will engage in three separate games against three different competitors, identified as followers MK1, MK2, and MK3.\n",
        "\n",
        "For each of the repeated game, the leader selects his learning method to learn the follower’s reaction function based on the provided set of historical data which spans from $t=1,2,…,100$. During the next 30 days ($t=101,102,…,130$), the leader announces a price, $u_L (t)$, to the game platform daily. After the leader's price is announced, the follower will respond with the price, $u_F (t)$. Upon receiving the follower's price, $u_F (t)$, from the game platform, the leader may use this new information to refine their knowledge/ update the learned reaction function and decide his price of the next day. In the other words, the leader (i.e., your program) should be able to take the follower’s price of the previous day from the game platform for updating, and then decide and send his price of the next day to the game platform.\n",
        "\n",
        "It should be emphasised that the follower’s strategy and payoff function is subject to the changing and time varying environment. That is, the parameters in the follower’s payoff function may not be the same every day.\n",
        "\n"
      ]
    },
    {
      "cell_type": "markdown",
      "metadata": {
        "id": "B1RpBx7FDNQ1"
      },
      "source": [
        "## **Implementation Options**\n",
        "1.\t**Single Leader Approach**: You may choose to design and implement a single leader algorithm that competes against all three followers, adapting its strategy based on the opponent being faced.\n",
        "2.\t**Multiple Leaders Approach**: Alternatively, you could design and implement three distinct leaders, each tailored to play against one of the followers. This approach allows for specialised strategies to be developed for each follower type.\n",
        "\n",
        "Whichever method you choose, it's crucial to document in this notebook section [Your Leader](#your-leader) which leader(s) is designed to play against each follower. This clarity will help in understanding the design choices and strategies implemented in your program.\n"
      ]
    },
    {
      "cell_type": "markdown",
      "metadata": {
        "id": "eBQDvQldUHHm"
      },
      "source": [
        "## **Project Timeline and Support**"
      ]
    },
    {
      "cell_type": "markdown",
      "metadata": {
        "id": "Om4Z5FdiF3nu"
      },
      "source": [
        "**Project Timeline**\n",
        "\n",
        "*\t**Week 7 (Starting 10 March)**: Start to work on your project and project planning.\n",
        "*\t**Week 11 (28 April – 2 May)**: Group presentations telling us what you have done.\n",
        "*\t**Deadline (2 May at 6:00pm)**: Deadline to submit codes and supporting document.\n"
      ]
    },
    {
      "cell_type": "markdown",
      "metadata": {
        "id": "cC_yPWtjGGSp"
      },
      "source": [
        "**Support**\n",
        "\n",
        "*\t**Weekly Support Sessions**: Project support sessions are scheduled every Wednesday from 11:00 am to 12:00 noon between Weeks 7 and 10. These sessions will be held at <u>Booth Street East -TH A (G.10)</u>. You are encouraged to attend if you have questions, need clarification, or seek guidance on any aspect of the project. Attendance is optional and based on your needs for support.\n",
        "*\t**Email**: In addition to the weekly sessions, you are welcome to ask questions or seek support via email at any time. If you encounter any issues with installing or running the game platform, or if you have any other project-related inquiries, do not hesitate to contact the teaching assistants by email for support.\n"
      ]
    },
    {
      "cell_type": "markdown",
      "metadata": {
        "id": "_x-VgyqaUdfr"
      },
      "source": [
        "## **Assessment Criteria and Submission**"
      ]
    },
    {
      "cell_type": "markdown",
      "metadata": {
        "id": "0boMLY1WGgHp"
      },
      "source": [
        "**Assessment Criteria**\n",
        "\n",
        "The project is a significant component of your final grade, accounting for 50% of the total mark, with the remaining 50% coming from the final examination. The project mark is distributed as follows:\n",
        "1.\t**Content of the Approach (50% of this project mark)**:\n",
        "  *\tPresentation (40%): Your grade in this category is based on the presentation you give in Week 11. This includes the originality of your idea, how well it integrates knowledge from the course, and any relevant external literature or research you have incorporated.\n",
        "  *\tWritten Materials (10%): This is based on the documentation you submit to your group journal on Blackboard. It evaluates the depth and clarity of your written explanation of the approach, including the rationale behind your strategies and methods.\n",
        "2.\t**Performance of the Approach (50% of this project mark)**:\n",
        "  *\tThis evaluates the effectiveness of your submitted program by looking at how well it performs in the game platform, that is, the accumulated profit generated by your submitted codes.\n",
        "3.\t**Group Mark Distribution**:\n",
        "  *\tThe overall group mark will be allocated to individual group members based on self-assessment and the demonstration of knowledge during the presentation.\n"
      ]
    },
    {
      "cell_type": "markdown",
      "metadata": {
        "id": "85CORLj_GxRs"
      },
      "source": [
        "**Presentation**\n",
        "\n",
        "During the presentation week of Semester 2, every group is scheduled to present their project to the lecturers. It is important for each group member to actively participate in speaking and answering questions. This participation allows us to evaluate each member's contributions to the project. The assessment criteria focus solely on the content of your presentation, including the activities your group undertook and the lessons learned through the project process. Presentation skills are not part of the evaluation, so the emphasis should not be on creating a polished presentation but on effectively communicating your project's substance and outcomes.\n"
      ]
    },
    {
      "cell_type": "markdown",
      "metadata": {
        "id": "qIQkFXQvG4Zg"
      },
      "source": [
        "**Performance of the Approach – Assessment Details**\n",
        "\n",
        "*\t**Step 1**. We will run your submitted codes against MK1, MK2, and MK3 and get the accumulated profit for the days $101 – 130$. These profits will be used as the performance of your submitted codes against MK1, MK2 and MK3\n",
        "*\t**Step 2**. We have also designed 3 further followers MK4, MK5, and MK6, which are created by slightly changes of the parameters of MK1, MK2, and MK3 respectively. That is, MK1 and MK4 are very similar, MK2 and MK5 are very similar, MK3 and MK6 are very similar. No data about MK$i$ ($i=4, 5, 6$) is provided. That is, they are invisible followers to you. But the setting of each MK$i$ ($i=4,5,6$) is the same as the provided followers, with 100 historical data and we will run your codes to get the accumulated profit for days $101 – 130$, which will be used as the performance of your submitted codes against MK4, MK5 and MK6.\n",
        "*\t**Step 3**. Based on the accumulated profits for MK1 and MK4 and compared with the best possible performances of MK1 and Mk4, your codes will get a percentage mark; Similarly you will get a percentage mark from MK2 and MK5, and then a percentage mark from MK3 and MK6. Finally your performance mark will be the average of these 3 percentage marks.\n",
        "\n",
        "**Remark**. The creation of MK4, MK5, and MK6 is a new assessment component for this year and so we are happy to hear any feedback, and change if necessary. The motivation and justification are as follows:\n",
        "*\tWe have run the codes submitted by the project groups of the last year to MK 4, MK5, and MK6, and noticed various issues, such as some submissions were hard coded for some parameters rather than via the learning; Some were invalid such as out of the price bounds; Some have the running errors etc.\n",
        "*\tIn real applications such as petrol station pricing, it is impossible to many many experiments and tests for each station, but we need a piece of software usable across a large numbers of petrol stations. The creation of MK4, MK5, and Mk6 is to simulate and test such a need from a real application point of view.\n",
        "*\tIn the last year, many groups produced very similar performance due to the limited test cases. The creation of MK4, MK5, and MK6 will provide more testing cases and help distinguishing the performance of different approaches.\n",
        "*\tAs MK4, MK5, and MK6 are invisible to you, this should not add your workload for the project.      \n"
      ]
    },
    {
      "cell_type": "markdown",
      "metadata": {
        "id": "zGyeiJeQIKBb"
      },
      "source": [
        "**Submission**\n",
        "\n",
        "All submissions will be marked using the free version of Google Colaboratory.\n",
        "* Make sure your implementation works within this environment.\n",
        "* Avoid using any external dependencies that might not be available.\n",
        "\n",
        "Please download this notebook for submission by clicking “File” in the top left corner, then selecting “Download” followed by “Download .ipynb”. If your notebook requires any external files to run, ensure that you submit them along with your notebook. Submission will be done through Blackboard, and further details will be provided later.\n"
      ]
    },
    {
      "cell_type": "markdown",
      "metadata": {
        "id": "J-qdogBfSO4i"
      },
      "source": [
        "## **Game Platform**"
      ]
    },
    {
      "cell_type": "markdown",
      "metadata": {
        "id": "YvDxER68UuGR"
      },
      "source": [
        "The project will be run on Google Colaboratory, which is a hosted Jupyter Notebook service. This is done to avoid compatibility issues across different operating systems and to provide a collaborative environment where group members can work effectively using Colab’s sharing functionality. Follow the steps below to set up and use Google Colaboratory for your project.\n"
      ]
    },
    {
      "cell_type": "markdown",
      "metadata": {
        "id": "zPVhHWzYTqPE"
      },
      "source": [
        "**Using Google Colaboratory for the Project**\n",
        "* Running Code\n",
        "  * Click on a cell and press Shift + Enter, or\n",
        "  * Click the Play button on the left side of the cell\n",
        "* Adding Cell\n",
        "  * Hover over an existing cell and click “+ Code” or “+ Text” where needed\n",
        "* Stopping a Running C→ell:\n",
        "  * From the top menu, click “Runtime” → “Interrupt execution”.\n",
        "* Restarting Runtime\n",
        "  * Click “Runtime” → “Restart session”.\n",
        "  * This will clear all variables.\n",
        "* Disconnecting and Deleting the Runtime\n",
        "  * Click “Runtime” → “Disconnect and delete session”.\n",
        "  * This will reset the Colaboratory environment completely.\n",
        "*\tSharing with Group Members\n",
        "  *\tYou can share your notebook with your group members by clicking “Share” in the top-right corner.\n",
        "  *\tBe careful when saving, if multiple people edit the notebook at the same time, you may overwrite each other’s work.\n",
        "*\tFor More Functionalities, please visit [this link](https://colab.research.google.com)."
      ]
    },
    {
      "cell_type": "markdown",
      "metadata": {
        "id": "87IPuwM3S4j4"
      },
      "source": [
        "**Understanding the Notebook Structure**\n",
        "\n",
        "The notebook is structured into several sections. You can click the first icon on the top left to open the “Table of contents” and navigate through different sections.\n",
        "1.\tProject Description: This section provides an overview of the project.\n",
        "2.\tInstall and Import: This section installs, imports necessary packages, and unzips comp34612.zip.\n",
        "3.\tBase Leader and Example Leader: This section contains the base leader class and an example leader implementation.\n",
        "4.\tYour Leader: In this section,\n",
        "\t*\tFirst write your group number as an integer.\n",
        "\t*\tThen implement your leader(s) based on the project requirements.\n",
        "\t*\tClearly document:\n",
        "      *\tWhich implementation approach you choose (single or multiple).\n",
        "      *\tWhich leader is designed to play against each follower.\n",
        "5.\tSimulation: This section provides an interface to simulate the pricing game between your selected leader and selected follower.\n"
      ]
    },
    {
      "cell_type": "markdown",
      "metadata": {
        "id": "wrdXoxQfRc9t"
      },
      "source": [
        "# Install and Import"
      ]
    },
    {
      "cell_type": "code",
      "execution_count": 2,
      "metadata": {
        "colab": {
          "base_uri": "https://localhost:8080/"
        },
        "id": "pwEA-WPoXA5-",
        "outputId": "ecce8d20-9bb3-4f89-9f0f-c98dfd5839d8"
      },
      "outputs": [
        {
          "output_type": "stream",
          "name": "stdout",
          "text": [
            "Collecting xlsxwriter\n",
            "  Downloading XlsxWriter-3.2.3-py3-none-any.whl.metadata (2.7 kB)\n",
            "Downloading XlsxWriter-3.2.3-py3-none-any.whl (169 kB)\n",
            "\u001b[2K   \u001b[90m━━━━━━━━━━━━━━━━━━━━━━━━━━━━━━━━━━━━━━━━\u001b[0m \u001b[32m169.4/169.4 kB\u001b[0m \u001b[31m2.9 MB/s\u001b[0m eta \u001b[36m0:00:00\u001b[0m\n",
            "\u001b[?25hInstalling collected packages: xlsxwriter\n",
            "Successfully installed xlsxwriter-3.2.3\n"
          ]
        }
      ],
      "source": [
        "!pip install xlsxwriter"
      ]
    },
    {
      "cell_type": "code",
      "execution_count": 3,
      "metadata": {
        "id": "Hng6pqrylpxp"
      },
      "outputs": [],
      "source": [
        "import zipfile\n",
        "import os\n",
        "import random\n",
        "import gc\n",
        "from IPython.display import Javascript\n",
        "import pandas as pd\n",
        "pd.set_option('display.max_rows', None)\n",
        "pd.set_option('display.max_columns', None)"
      ]
    },
    {
      "cell_type": "code",
      "execution_count": 4,
      "metadata": {
        "id": "p4IhoMtcqal3"
      },
      "outputs": [],
      "source": [
        "extract_path = \".\"\n",
        "zip_filename = \"comp34612.zip\"\n",
        "\n",
        "os.makedirs(extract_path, exist_ok=True)\n",
        "\n",
        "# this has been changed from their default file cos their given code dont extract properly for the next imports to work\n",
        "with zipfile.ZipFile(zip_filename, \"r\") as zip_ref:\n",
        "    # Extract files manually to avoid recreating the top-level folder\n",
        "    for member in zip_ref.namelist():\n",
        "        member_path = member.split(\"/\", 1)[-1]\n",
        "        if member_path:  #ignore top level comp3... folder to just read its contents\n",
        "            zip_ref.extract(member, extract_path)\n",
        "            try:\n",
        "                os.rename(os.path.join(extract_path, member), os.path.join(extract_path, member_path))\n",
        "            except:\n",
        "                pass\n"
      ]
    },
    {
      "cell_type": "code",
      "execution_count": 5,
      "metadata": {
        "id": "a9vALA_KXC5D"
      },
      "outputs": [],
      "source": [
        "from engine import Engine\n",
        "from gui import GUI"
      ]
    },
    {
      "cell_type": "markdown",
      "metadata": {
        "id": "IicR1K3HPuq8"
      },
      "source": [
        "Please import the necessary packages here or use `!pip install *package_name*` if they are not already installed."
      ]
    },
    {
      "cell_type": "code",
      "execution_count": 6,
      "metadata": {
        "id": "Xqxk3fp-Qfr1"
      },
      "outputs": [],
      "source": [
        "import numpy as np\n",
        "import sympy as sp\n",
        "import os\n",
        "import numpy as np\n",
        "from sklearn.model_selection import KFold\n",
        "from sklearn.preprocessing import PolynomialFeatures\n",
        "from sklearn.linear_model import LinearRegression\n"
      ]
    },
    {
      "cell_type": "markdown",
      "metadata": {
        "id": "KBvbZ_HOXLnw"
      },
      "source": [
        "# Base Leader and Example Leader"
      ]
    },
    {
      "cell_type": "markdown",
      "metadata": {
        "id": "gbUkLBfbclfY"
      },
      "source": [
        "## Base Leader"
      ]
    },
    {
      "cell_type": "markdown",
      "metadata": {
        "id": "QSTzajwQN-ul"
      },
      "source": [
        "This is the base class for all leader subclasses."
      ]
    },
    {
      "cell_type": "code",
      "execution_count": 7,
      "metadata": {
        "id": "4ywrl6-2P9HQ"
      },
      "outputs": [],
      "source": [
        "class Leader:\n",
        "    _subclass_registry = {}\n",
        "\n",
        "    def __init__(self, name, engine):\n",
        "        self.name = name\n",
        "        self.engine = engine\n",
        "\n",
        "    @classmethod\n",
        "    def cleanup_old_subclasses(cls):\n",
        "        \"\"\"\n",
        "        A function to remove old subclasses before defining new ones.\n",
        "        \"\"\"\n",
        "        existing_subclasses = list(cls.__subclasses__())\n",
        "\n",
        "        for subclass in existing_subclasses:\n",
        "            subclass_name = subclass.__name__\n",
        "            if subclass_name in cls._subclass_registry:\n",
        "                del cls._subclass_registry[subclass_name]\n",
        "                del subclass\n",
        "        gc.collect()\n",
        "\n",
        "    @classmethod\n",
        "    def update_subclass_registry(cls):\n",
        "        \"\"\"\n",
        "        A function to update registry after cleaning up old subclasses.\n",
        "        \"\"\"\n",
        "        cls.cleanup_old_subclasses()\n",
        "        cls._subclass_registry = {subclass.__name__: subclass for subclass in cls.__subclasses__()}\n",
        "\n",
        "    def new_price(self, date):\n",
        "        \"\"\"\n",
        "        A function for setting the new price of each day.\n",
        "        :param date: date of the day to be updated\n",
        "        :return: (float) price for the day\n",
        "        \"\"\"\n",
        "        pass\n",
        "\n",
        "    def get_price_from_date(self, date):\n",
        "        \"\"\"\n",
        "        A function for getting the price set on a date.\n",
        "        :param date: (int) date to get the price from\n",
        "        :return: a tuple (leader_price, follower_price)\n",
        "        \"\"\"\n",
        "        return self.engine.exposed_get_price(date)\n",
        "\n",
        "\n",
        "    def start_simulation(self):\n",
        "        \"\"\"\n",
        "        A function runs at the beginning of the simulation.\n",
        "        \"\"\"\n",
        "        pass\n",
        "\n",
        "    def end_simulation(self):\n",
        "        \"\"\"\n",
        "        A function runs at the beginning of the simulation.\n",
        "        \"\"\"\n",
        "        pass"
      ]
    },
    {
      "cell_type": "markdown",
      "metadata": {
        "id": "Es5sl3xeY-RC"
      },
      "source": [
        "<a name=\"your-leader\"></a>\n",
        "# Your Leader"
      ]
    },
    {
      "cell_type": "markdown",
      "metadata": {
        "id": "DOFA97hMPakW"
      },
      "source": [
        "Please write your group number below in type int."
      ]
    },
    {
      "cell_type": "code",
      "execution_count": 8,
      "metadata": {
        "id": "DAkMa8owPVHS"
      },
      "outputs": [],
      "source": [
        "group_num = 1\n",
        "assert isinstance(group_num, int), f\"Expected an integer for group_num, but got {type(group_num).__name__}\""
      ]
    },
    {
      "cell_type": "markdown",
      "metadata": {
        "id": "cXlrH9XrFaIH"
      },
      "source": [
        "Please implement your leaders below. Please clearly document:\n",
        "*   Which implementation approach you choose (single leader approach or multiple leaders approach)\n",
        "*   State which leader(s) is designed to play against each follower.\n",
        "\n",
        "We chose to implement a multiple leader approach, although there are minimal differences between the two leader agents that we produced.\n",
        "* `Leader_Mk_1_2_4_5` is designed to play against Followers 1, 2, 4 and 5.\n",
        "* `Leader_Mk_3_6` is designed to play against Followers 3 and 6."
      ]
    },
    {
      "cell_type": "markdown",
      "source": [
        "# Leader for Followers 1, 2, 4 & 5"
      ],
      "metadata": {
        "id": "YkJ1OnufxSkD"
      }
    },
    {
      "cell_type": "code",
      "source": [
        "class Leader_Mk_1_2_4_5(Leader):\n",
        "    def __init__(self, name, engine):\n",
        "        super().__init__(name, engine)\n",
        "\n",
        "        self.follower_name = \"Follower_Mk1\" # Change this to the name of the sheet containig follower agent historical data\n",
        "\n",
        "        self.c_L = 1 # given\n",
        "        self.lower_bound = 1\n",
        "        self.upper_bound = 1000 # very large (proportionally) to model infinity without overflow\n",
        "\n",
        "    def demand_L(self, u_L, u_F):\n",
        "        return 2 - u_L + (0.3 * u_F)\n",
        "\n",
        "    def profit_L(self, u_L, u_F):\n",
        "        return (u_L - self.c_L) * self.demand_L(u_L, u_F)\n",
        "\n",
        "    def get_historical_data(self, current_date):\n",
        "        historical_data = {}\n",
        "        i = 0\n",
        "        for date in range(1, current_date):\n",
        "            leader_price, follower_price = self.get_price_from_date(date)\n",
        "            historical_data[i] = (date, leader_price, follower_price)\n",
        "            i += 1\n",
        "        historical_data_df = pd.DataFrame.from_dict(historical_data, orient='index', columns=['t', 'u_L', 'u_F'])\n",
        "        return historical_data_df\n",
        "\n",
        "    def optimise_alpha(self, max_degree=5, num_splits=5):\n",
        "      \"\"\"\n",
        "      Finds the optimal alpha (recency weight decay factor) via cross-validation.\n",
        "\n",
        "      Args:\n",
        "          alpha_values (list): A list of alpha values to test.\n",
        "          max_degree (int): Maximum degree for polynomial features.\n",
        "          num_splits (int): Number of splits for K-Fold cross-validation.\n",
        "\n",
        "      Returns:\n",
        "          float: Best alpha value based on lowest cross-validated MSE.\n",
        "      \"\"\"\n",
        "      alpha_values = np.logspace(-4, 0, 10)  # 0.0001 to 1\n",
        "\n",
        "      X = self.historical_data[['u_L', 't']].values\n",
        "      y = self.historical_data['u_F'].values\n",
        "      t_min = self.historical_data['t'].min()\n",
        "\n",
        "      best_alpha = None\n",
        "      best_mse = float('inf')\n",
        "\n",
        "      for alpha in alpha_values:\n",
        "          kf = KFold(n_splits=num_splits, shuffle=True)\n",
        "          poly = PolynomialFeatures(max_degree)\n",
        "          X_poly = poly.fit_transform(X)\n",
        "\n",
        "          time_diff = self.historical_data['t'] - t_min\n",
        "          sample_weights = np.exp(alpha * time_diff)\n",
        "\n",
        "          mse_scores = []\n",
        "\n",
        "          for train_index, test_index in kf.split(X_poly):\n",
        "              X_train, X_val = X_poly[train_index], X_poly[test_index]\n",
        "              y_train, y_val = y[train_index], y[test_index]\n",
        "              weights_train = sample_weights.iloc[train_index]\n",
        "\n",
        "              model = LinearRegression()\n",
        "              model.fit(X_train, y_train, sample_weight=weights_train)\n",
        "              y_pred = model.predict(X_val)\n",
        "              mse = np.mean((y_val - y_pred) ** 2)\n",
        "              mse_scores.append(mse)\n",
        "\n",
        "          avg_mse = np.mean(mse_scores)\n",
        "\n",
        "          if avg_mse < best_mse:\n",
        "              best_mse = avg_mse\n",
        "              best_alpha = alpha\n",
        "\n",
        "      return best_alpha\n",
        "\n",
        "    def get_best_degree(self, max_degree=5, num_splits=5, alpha=1):\n",
        "        degrees = range(2, max_degree+1)\n",
        "        follower_models = {}\n",
        "        best_mse = float('inf')\n",
        "\n",
        "        kf = KFold(n_splits=num_splits, shuffle=True)\n",
        "        X = self.historical_data[['u_L', 't']].values\n",
        "        y = self.historical_data['u_F'].values\n",
        "\n",
        "        for degree in degrees:\n",
        "          mse_scores = []\n",
        "          poly = PolynomialFeatures(degree)\n",
        "          X_poly = poly.fit_transform(X)\n",
        "\n",
        "          t_min = self.historical_data['t'].min()\n",
        "          time_diffs = self.historical_data['t'] - t_min\n",
        "          sample_weights = np.exp(alpha * time_diffs)\n",
        "\n",
        "          for train_index, test_index in kf.split(self.historical_data):\n",
        "            X_train, X_val = X_poly[train_index], X_poly[test_index]\n",
        "            y_train, y_val = y[train_index], y[test_index]\n",
        "\n",
        "            weights = sample_weights[train_index]\n",
        "\n",
        "            model = LinearRegression()\n",
        "            model.fit(X_train, y_train, sample_weight=weights)\n",
        "            y_pred = model.predict(X_val)\n",
        "            mse = np.mean((y_val - y_pred)**2)\n",
        "            mse_scores.append(mse)\n",
        "\n",
        "          avg_mse = np.mean(mse_scores)\n",
        "          if avg_mse < best_mse:\n",
        "            best_mse = avg_mse\n",
        "            best_degree = degree\n",
        "\n",
        "        return best_degree\n",
        "\n",
        "    def train_follower_model(self, degree, alpha):\n",
        "      X = self.historical_data[['u_L', 't']].values\n",
        "      y = self.historical_data['u_F'].values\n",
        "\n",
        "      poly = PolynomialFeatures(degree)\n",
        "      X_poly = poly.fit_transform(X)\n",
        "\n",
        "      t_min = self.historical_data['t'].min()\n",
        "      time_diffs = self.historical_data['t'] - t_min\n",
        "      sample_weights = np.exp(alpha * time_diffs)\n",
        "\n",
        "      self.follower_model_poly = poly\n",
        "      self.follower_model = LinearRegression()\n",
        "      self.follower_model.fit(X_poly, y, sample_weight=sample_weights)\n",
        "\n",
        "    def optimise_follower_model(self, current_date):\n",
        "      self.historical_data = self.get_historical_data(current_date=current_date)\n",
        "      self.upper_bound = np.max(self.historical_data['u_L']) + 2 * np.std(self.historical_data['u_L'])\n",
        "      self.alpha = self.optimise_alpha()\n",
        "      self.degree = self.get_best_degree(max_degree=5, alpha=self.alpha)\n",
        "      self.train_follower_model(degree=self.degree, alpha=self.alpha)\n",
        "\n",
        "    def new_price(self, date: int):\n",
        "        \"\"\"\n",
        "        We predict the follower's price based on the leader's price and date.\n",
        "        We differentiate the follower's learned reaction function to maximise the leader's profit.\n",
        "\n",
        "        The process for choosing the leader's price is:\n",
        "          1. Differentiate the follower's reaction function with respect to u_L\n",
        "          2. Find any local maxima within the pricing bounds - [1.00, +inf) for Follower Mk2\n",
        "          3. Find profit at each local maxima, and the boundaries\n",
        "          4. Choose the point with the highest leader profit.\n",
        "\n",
        "        Args:\n",
        "            date (int): The current date.\n",
        "\n",
        "        Returns:\n",
        "            float: The chosen leader's price.\n",
        "        \"\"\"\n",
        "        self.optimise_follower_model(current_date=date)\n",
        "\n",
        "        u_L, t = sp.symbols(\"u_L t\")\n",
        "\n",
        "        # Construct follower reaction function u_F = f(u_L, t)\n",
        "        feature_names = self.follower_model_poly.get_feature_names_out(['u_L', 't'])\n",
        "        follower_expr = sum(\n",
        "            coef * sp.sympify(term.replace(\"^\", \"**\").replace(\" \", \"*\"))\n",
        "            for coef, term in zip(self.follower_model.coef_, feature_names)\n",
        "        ) + self.follower_model.intercept_\n",
        "\n",
        "        # Plug into the profit function\n",
        "        profit_expr = (u_L - self.c_L) * (2 - u_L + 0.3 * follower_expr)\n",
        "\n",
        "        # Derivative of profit\n",
        "        profit_derivative = sp.diff(profit_expr, u_L)\n",
        "\n",
        "        extrema = sp.solve(profit_derivative.subs(t, date), u_L)\n",
        "\n",
        "        candidates = [\n",
        "            self.lower_bound,\n",
        "            np.mean(self.historical_data['u_L']),\n",
        "            self.upper_bound\n",
        "        ]\n",
        "\n",
        "        extrema = sp.solve(profit_derivative, sp.Symbol(\"u_L\"))\n",
        "\n",
        "        for ext in extrema:\n",
        "          ext_value = ext.subs(sp.Symbol(\"t\"), date)\n",
        "          if ext_value.is_real and self.lower_bound <= ext_value <= self.upper_bound:\n",
        "            candidates.append(float(ext_value))\n",
        "\n",
        "        profits = {}\n",
        "        for u_L in candidates:\n",
        "          u_F = self.follower_model.predict(self.follower_model_poly.fit_transform([[u_L, date]]))[0]\n",
        "\n",
        "          profits[u_L] = self.profit_L(u_L, u_F)\n",
        "\n",
        "        best_u_L = max(profits, key=profits.get)\n",
        "\n",
        "        return best_u_L"
      ],
      "metadata": {
        "id": "RvPdm-DpxVS9"
      },
      "execution_count": 57,
      "outputs": []
    },
    {
      "cell_type": "markdown",
      "source": [
        "# Leader for Followers 3 & 6"
      ],
      "metadata": {
        "id": "7smfIf_T4Mdq"
      }
    },
    {
      "cell_type": "code",
      "source": [
        "class Leader_Mk_3_6(Leader):\n",
        "    def __init__(self, name, engine):\n",
        "        super().__init__(name, engine)\n",
        "\n",
        "        self.follower_name = \"Follower_Mk1\" # Change this to the name of the sheet containig follower agent historical data\n",
        "\n",
        "        self.c_L = 1 # given\n",
        "        self.lower_bound = 1\n",
        "        self.upper_bound = 2 # very large (proportionally) to model infinity without overflow\n",
        "\n",
        "    def demand_L(self, u_L, u_F):\n",
        "        return 2 - u_L + (0.3 * u_F)\n",
        "\n",
        "    def profit_L(self, u_L, u_F):\n",
        "        return (u_L - self.c_L) * self.demand_L(u_L, u_F)\n",
        "\n",
        "    def get_historical_data(self, current_date):\n",
        "        historical_data = {}\n",
        "        i = 0\n",
        "        for date in range(1, current_date):\n",
        "            leader_price, follower_price = self.get_price_from_date(date)\n",
        "            historical_data[i] = (date, leader_price, follower_price)\n",
        "            i += 1\n",
        "        historical_data_df = pd.DataFrame.from_dict(historical_data, orient='index', columns=['t', 'u_L', 'u_F'])\n",
        "        return historical_data_df\n",
        "\n",
        "    def optimise_alpha(self, max_degree=5, num_splits=5):\n",
        "      \"\"\"\n",
        "      Finds the optimal alpha (recency weight decay factor) via cross-validation.\n",
        "\n",
        "      Args:\n",
        "          alpha_values (list): A list of alpha values to test.\n",
        "          max_degree (int): Maximum degree for polynomial features.\n",
        "          num_splits (int): Number of splits for K-Fold cross-validation.\n",
        "\n",
        "      Returns:\n",
        "          float: Best alpha value based on lowest cross-validated MSE.\n",
        "      \"\"\"\n",
        "      alpha_values = np.logspace(-4, 0, 10)  # 0.0001 to 1\n",
        "\n",
        "      X = self.historical_data[['u_L', 't']].values\n",
        "      y = self.historical_data['u_F'].values\n",
        "      t_min = self.historical_data['t'].min()\n",
        "\n",
        "      best_alpha = None\n",
        "      best_mse = float('inf')\n",
        "\n",
        "      for alpha in alpha_values:\n",
        "          kf = KFold(n_splits=num_splits, shuffle=True)\n",
        "          poly = PolynomialFeatures(max_degree)\n",
        "          X_poly = poly.fit_transform(X)\n",
        "\n",
        "          time_diff = self.historical_data['t'] - t_min\n",
        "          sample_weights = np.exp(alpha * time_diff)\n",
        "\n",
        "          mse_scores = []\n",
        "\n",
        "          for train_index, test_index in kf.split(X_poly):\n",
        "              X_train, X_val = X_poly[train_index], X_poly[test_index]\n",
        "              y_train, y_val = y[train_index], y[test_index]\n",
        "              weights_train = sample_weights.iloc[train_index]\n",
        "\n",
        "              model = LinearRegression()\n",
        "              model.fit(X_train, y_train, sample_weight=weights_train)\n",
        "              y_pred = model.predict(X_val)\n",
        "              mse = np.mean((y_val - y_pred) ** 2)\n",
        "              mse_scores.append(mse)\n",
        "\n",
        "          avg_mse = np.mean(mse_scores)\n",
        "\n",
        "          if avg_mse < best_mse:\n",
        "              best_mse = avg_mse\n",
        "              best_alpha = alpha\n",
        "\n",
        "      return best_alpha\n",
        "\n",
        "    def get_best_degree(self, max_degree=5, num_splits=5, alpha=1):\n",
        "        degrees = range(2, max_degree+1)\n",
        "        follower_models = {}\n",
        "        best_mse = float('inf')\n",
        "\n",
        "        kf = KFold(n_splits=num_splits, shuffle=True)\n",
        "        X = self.historical_data[['u_L', 't']].values\n",
        "        y = self.historical_data['u_F'].values\n",
        "\n",
        "        for degree in degrees:\n",
        "          mse_scores = []\n",
        "          poly = PolynomialFeatures(degree)\n",
        "          X_poly = poly.fit_transform(X)\n",
        "\n",
        "          t_min = self.historical_data['t'].min()\n",
        "          time_diffs = self.historical_data['t'] - t_min\n",
        "          sample_weights = np.exp(alpha * time_diffs)\n",
        "\n",
        "          for train_index, test_index in kf.split(self.historical_data):\n",
        "            X_train, X_val = X_poly[train_index], X_poly[test_index]\n",
        "            y_train, y_val = y[train_index], y[test_index]\n",
        "\n",
        "            weights = sample_weights[train_index]\n",
        "\n",
        "            model = LinearRegression()\n",
        "            model.fit(X_train, y_train, sample_weight=weights)\n",
        "            y_pred = model.predict(X_val)\n",
        "            mse = np.mean((y_val - y_pred)**2)\n",
        "            mse_scores.append(mse)\n",
        "\n",
        "          avg_mse = np.mean(mse_scores)\n",
        "          if avg_mse < best_mse:\n",
        "            best_mse = avg_mse\n",
        "            best_degree = degree\n",
        "\n",
        "        return best_degree\n",
        "\n",
        "    def train_follower_model(self, degree, alpha):\n",
        "      X = self.historical_data[['u_L', 't']].values\n",
        "      y = self.historical_data['u_F'].values\n",
        "\n",
        "      poly = PolynomialFeatures(degree)\n",
        "      X_poly = poly.fit_transform(X)\n",
        "\n",
        "      t_min = self.historical_data['t'].min()\n",
        "      time_diffs = self.historical_data['t'] - t_min\n",
        "      sample_weights = np.exp(alpha * time_diffs)\n",
        "\n",
        "      self.follower_model_poly = poly\n",
        "      self.follower_model = LinearRegression()\n",
        "      self.follower_model.fit(X_poly, y, sample_weight=sample_weights)\n",
        "\n",
        "    def optimise_follower_model(self, current_date):\n",
        "      self.historical_data = self.get_historical_data(current_date=current_date)\n",
        "      self.alpha = self.optimise_alpha()\n",
        "      self.degree = self.get_best_degree(max_degree=5, alpha=self.alpha)\n",
        "      self.train_follower_model(degree=self.degree, alpha=self.alpha)\n",
        "\n",
        "    def new_price(self, date: int):\n",
        "        \"\"\"\n",
        "        We predict the follower's price based on the leader's price and date.\n",
        "        We differentiate the follower's learned reaction function to maximise the leader's profit.\n",
        "\n",
        "        The process for choosing the leader's price is:\n",
        "          1. Differentiate the follower's reaction function with respect to u_L\n",
        "          2. Find any local maxima within the pricing bounds - [1.00, +inf) for Follower Mk2\n",
        "          3. Find profit at each local maxima, and the boundaries\n",
        "          4. Choose the point with the highest leader profit.\n",
        "\n",
        "        Args:\n",
        "            date (int): The current date.\n",
        "\n",
        "        Returns:\n",
        "            float: The chosen leader's price.\n",
        "        \"\"\"\n",
        "        self.optimise_follower_model(current_date=date)\n",
        "\n",
        "        u_L, t = sp.symbols(\"u_L t\")\n",
        "\n",
        "        # Construct follower reaction function u_F = f(u_L, t)\n",
        "        feature_names = self.follower_model_poly.get_feature_names_out(['u_L', 't'])\n",
        "        follower_expr = sum(\n",
        "            coef * sp.sympify(term.replace(\"^\", \"**\").replace(\" \", \"*\"))\n",
        "            for coef, term in zip(self.follower_model.coef_, feature_names)\n",
        "        ) + self.follower_model.intercept_\n",
        "\n",
        "        # Plug into the profit function\n",
        "        profit_expr = (u_L - self.c_L) * (2 - u_L + 0.3 * follower_expr)\n",
        "\n",
        "        # Derivative of profit\n",
        "        profit_derivative = sp.diff(profit_expr, u_L)\n",
        "\n",
        "        extrema = sp.solve(profit_derivative.subs(t, date), u_L)\n",
        "\n",
        "        candidates = [\n",
        "            self.lower_bound,\n",
        "            np.mean(self.historical_data['u_L']),\n",
        "            self.upper_bound\n",
        "        ]\n",
        "\n",
        "        extrema = sp.solve(profit_derivative, sp.Symbol(\"u_L\"))\n",
        "\n",
        "        for ext in extrema:\n",
        "          ext_value = ext.subs(sp.Symbol(\"t\"), date)\n",
        "          if ext_value.is_real and self.lower_bound <= ext_value <= self.upper_bound:\n",
        "            candidates.append(float(ext_value))\n",
        "\n",
        "        profits = {}\n",
        "        for u_L in candidates:\n",
        "          u_F = self.follower_model.predict(self.follower_model_poly.fit_transform([[u_L, date]]))[0]\n",
        "\n",
        "          profits[u_L] = self.profit_L(u_L, u_F)\n",
        "\n",
        "        best_u_L = max(profits, key=profits.get)\n",
        "\n",
        "        return best_u_L"
      ],
      "metadata": {
        "id": "xRjEIzem4O7C"
      },
      "execution_count": 61,
      "outputs": []
    },
    {
      "cell_type": "markdown",
      "metadata": {
        "id": "d8G2tQmAYzCk"
      },
      "source": [
        "# Simulation"
      ]
    },
    {
      "cell_type": "markdown",
      "metadata": {
        "id": "VhbFqRH2Q6eh"
      },
      "source": [
        "Below is the GUI interface. Please select a leader from the dropdown menu and a follower from the dropdown menu, then click “Connect.” Once the status updates to “Connected to *your_selected_leader* and *your_selected_follower*” click “Start Simulation” to begin. If you wish to save the generated data, click “Export Data.” The dataset will be saved in the “run” folder."
      ]
    },
    {
      "cell_type": "code",
      "execution_count": 62,
      "metadata": {
        "colab": {
          "base_uri": "https://localhost:8080/",
          "height": 1213,
          "referenced_widgets": [
            "595efa041963417a8f18b9c9f6a8dba3",
            "55de9419f20b41efadfd9ec9f44e11c9",
            "c886f09010cb4ad8ac7de4d0915937cf",
            "d56f474f138c401ca56ea133573ca11b",
            "a5f1c66f051f4071973956e7b64623a4",
            "96d119acde424c8ba92ef27d2c486751",
            "dc11d7b1b2cb41ce95b51fc266b11114",
            "40ed91ddbc0644638076db768fd889cd",
            "c20420a2a2b74d399a22ac3027af50c7",
            "8e644a5028614857b56c6053847310da",
            "70eac5ff7b6f40e7872abe6a6d17a47b",
            "e041308a78584c2f9e91bbb8ba995586",
            "de81bdcca151400b99f1da97f137ad30",
            "08de381ab395425685cb5fac9fc6468c",
            "8179dc36dad14cf298b00028a413b811",
            "37123b7c5283460398ad2b1f16be868d",
            "19cca07e79b142379eec4a83afbbfafa",
            "3c60d7030e8c49359de45eb58ffed013",
            "21ead2ad63a74f7296006bb0f986363d",
            "833255268b9c4ce3b3cacad8036956c9",
            "33935d0034db40f8b0597b48922cd937",
            "99ef6d0636234736a248cac250050bfb",
            "c172895d599f477e9c77add83a9aea10",
            "b103945446e74e9db4a14f856de60415",
            "3103090e36cf4e9091cf6ab17676187b",
            "1d201108b71a4df89f8ef1bb8d8fa28d",
            "4756fd8668cd498997e06097c3237354",
            "a38a3b6d738742e7830ecfeeca771d4b",
            "5a1eb4cbded84b4eae5bcf0ca6b70c20",
            "fc68cf2593c94e9aae874cdc1bbc56b8",
            "2f27c82fc9a74f508966d19097bdf337",
            "81434c4ee9e14222bc274ffdc3708524",
            "ecad498a41c347329a5674268038a4ed",
            "2eb2e8de6bda448d90d19ed1b1e5a4bc",
            "b0d6d80ecb0d404a9f2339e33dbd4fb1",
            "e2cb129cc105453f991ada521ec77f53",
            "2332af33afd247a9af575778eaecd71b",
            "31934d3ed80d4723901414eed8a70ea3"
          ]
        },
        "id": "wxAO4hV3DQJg",
        "outputId": "836e1b04-d4ec-4aab-f76b-f4533428dece"
      },
      "outputs": [
        {
          "output_type": "display_data",
          "data": {
            "text/plain": [
              "<IPython.core.display.Javascript object>"
            ],
            "application/javascript": [
              "google.colab.output.setIframeHeight(0, true, {maxHeight: 5000})"
            ]
          },
          "metadata": {}
        },
        {
          "output_type": "display_data",
          "data": {
            "text/plain": [
              "VBox(children=(Dropdown(description='Leader:  ', layout=Layout(width='250px'), options=('LeaderMk1', 'Leader_M…"
            ],
            "application/vnd.jupyter.widget-view+json": {
              "version_major": 2,
              "version_minor": 0,
              "model_id": "595efa041963417a8f18b9c9f6a8dba3"
            }
          },
          "metadata": {}
        }
      ],
      "source": [
        "display(Javascript('''google.colab.output.setIframeHeight(0, true, {maxHeight: 5000})'''))\n",
        "engine = Engine()\n",
        "app = GUI(engine, Leader, group_num)"
      ]
    }
  ],
  "metadata": {
    "colab": {
      "collapsed_sections": [
        "sYHeuEsB6hZJ"
      ],
      "provenance": []
    },
    "kernelspec": {
      "display_name": "Python 3",
      "name": "python3"
    },
    "language_info": {
      "codemirror_mode": {
        "name": "ipython",
        "version": 3
      },
      "file_extension": ".py",
      "mimetype": "text/x-python",
      "name": "python",
      "nbconvert_exporter": "python",
      "pygments_lexer": "ipython3",
      "version": "3.10.0"
    },
    "widgets": {
      "application/vnd.jupyter.widget-state+json": {
        "595efa041963417a8f18b9c9f6a8dba3": {
          "model_module": "@jupyter-widgets/controls",
          "model_name": "VBoxModel",
          "model_module_version": "1.5.0",
          "state": {
            "_dom_classes": [],
            "_model_module": "@jupyter-widgets/controls",
            "_model_module_version": "1.5.0",
            "_model_name": "VBoxModel",
            "_view_count": null,
            "_view_module": "@jupyter-widgets/controls",
            "_view_module_version": "1.5.0",
            "_view_name": "VBoxView",
            "box_style": "",
            "children": [
              "IPY_MODEL_55de9419f20b41efadfd9ec9f44e11c9",
              "IPY_MODEL_c886f09010cb4ad8ac7de4d0915937cf",
              "IPY_MODEL_d56f474f138c401ca56ea133573ca11b",
              "IPY_MODEL_a5f1c66f051f4071973956e7b64623a4",
              "IPY_MODEL_96d119acde424c8ba92ef27d2c486751",
              "IPY_MODEL_dc11d7b1b2cb41ce95b51fc266b11114",
              "IPY_MODEL_40ed91ddbc0644638076db768fd889cd"
            ],
            "layout": "IPY_MODEL_c20420a2a2b74d399a22ac3027af50c7"
          }
        },
        "55de9419f20b41efadfd9ec9f44e11c9": {
          "model_module": "@jupyter-widgets/controls",
          "model_name": "DropdownModel",
          "model_module_version": "1.5.0",
          "state": {
            "_dom_classes": [],
            "_model_module": "@jupyter-widgets/controls",
            "_model_module_version": "1.5.0",
            "_model_name": "DropdownModel",
            "_options_labels": [
              "LeaderMk1",
              "Leader_Mk_1_2_4_5",
              "Leader_Mk_3_6"
            ],
            "_view_count": null,
            "_view_module": "@jupyter-widgets/controls",
            "_view_module_version": "1.5.0",
            "_view_name": "DropdownView",
            "description": "Leader:  ",
            "description_tooltip": null,
            "disabled": false,
            "index": 2,
            "layout": "IPY_MODEL_8e644a5028614857b56c6053847310da",
            "style": "IPY_MODEL_70eac5ff7b6f40e7872abe6a6d17a47b"
          }
        },
        "c886f09010cb4ad8ac7de4d0915937cf": {
          "model_module": "@jupyter-widgets/controls",
          "model_name": "DropdownModel",
          "model_module_version": "1.5.0",
          "state": {
            "_dom_classes": [],
            "_model_module": "@jupyter-widgets/controls",
            "_model_module_version": "1.5.0",
            "_model_name": "DropdownModel",
            "_options_labels": [
              "MK1",
              "MK2",
              "MK3"
            ],
            "_view_count": null,
            "_view_module": "@jupyter-widgets/controls",
            "_view_module_version": "1.5.0",
            "_view_name": "DropdownView",
            "description": "Follower:",
            "description_tooltip": null,
            "disabled": false,
            "index": 2,
            "layout": "IPY_MODEL_e041308a78584c2f9e91bbb8ba995586",
            "style": "IPY_MODEL_de81bdcca151400b99f1da97f137ad30"
          }
        },
        "d56f474f138c401ca56ea133573ca11b": {
          "model_module": "@jupyter-widgets/controls",
          "model_name": "IntSliderModel",
          "model_module_version": "1.5.0",
          "state": {
            "_dom_classes": [],
            "_model_module": "@jupyter-widgets/controls",
            "_model_module_version": "1.5.0",
            "_model_name": "IntSliderModel",
            "_view_count": null,
            "_view_module": "@jupyter-widgets/controls",
            "_view_module_version": "1.5.0",
            "_view_name": "IntSliderView",
            "continuous_update": true,
            "description": "Start Date:",
            "description_tooltip": null,
            "disabled": false,
            "layout": "IPY_MODEL_08de381ab395425685cb5fac9fc6468c",
            "max": 130,
            "min": 101,
            "orientation": "horizontal",
            "readout": true,
            "readout_format": "d",
            "step": 1,
            "style": "IPY_MODEL_8179dc36dad14cf298b00028a413b811",
            "value": 101
          }
        },
        "a5f1c66f051f4071973956e7b64623a4": {
          "model_module": "@jupyter-widgets/controls",
          "model_name": "IntSliderModel",
          "model_module_version": "1.5.0",
          "state": {
            "_dom_classes": [],
            "_model_module": "@jupyter-widgets/controls",
            "_model_module_version": "1.5.0",
            "_model_name": "IntSliderModel",
            "_view_count": null,
            "_view_module": "@jupyter-widgets/controls",
            "_view_module_version": "1.5.0",
            "_view_name": "IntSliderView",
            "continuous_update": true,
            "description": "End Date:  ",
            "description_tooltip": null,
            "disabled": false,
            "layout": "IPY_MODEL_37123b7c5283460398ad2b1f16be868d",
            "max": 130,
            "min": 101,
            "orientation": "horizontal",
            "readout": true,
            "readout_format": "d",
            "step": 1,
            "style": "IPY_MODEL_19cca07e79b142379eec4a83afbbfafa",
            "value": 130
          }
        },
        "96d119acde424c8ba92ef27d2c486751": {
          "model_module": "@jupyter-widgets/controls",
          "model_name": "HBoxModel",
          "model_module_version": "1.5.0",
          "state": {
            "_dom_classes": [],
            "_model_module": "@jupyter-widgets/controls",
            "_model_module_version": "1.5.0",
            "_model_name": "HBoxModel",
            "_view_count": null,
            "_view_module": "@jupyter-widgets/controls",
            "_view_module_version": "1.5.0",
            "_view_name": "HBoxView",
            "box_style": "",
            "children": [
              "IPY_MODEL_3c60d7030e8c49359de45eb58ffed013",
              "IPY_MODEL_21ead2ad63a74f7296006bb0f986363d"
            ],
            "layout": "IPY_MODEL_833255268b9c4ce3b3cacad8036956c9"
          }
        },
        "dc11d7b1b2cb41ce95b51fc266b11114": {
          "model_module": "@jupyter-widgets/controls",
          "model_name": "HBoxModel",
          "model_module_version": "1.5.0",
          "state": {
            "_dom_classes": [],
            "_model_module": "@jupyter-widgets/controls",
            "_model_module_version": "1.5.0",
            "_model_name": "HBoxModel",
            "_view_count": null,
            "_view_module": "@jupyter-widgets/controls",
            "_view_module_version": "1.5.0",
            "_view_name": "HBoxView",
            "box_style": "",
            "children": [
              "IPY_MODEL_33935d0034db40f8b0597b48922cd937",
              "IPY_MODEL_99ef6d0636234736a248cac250050bfb"
            ],
            "layout": "IPY_MODEL_c172895d599f477e9c77add83a9aea10"
          }
        },
        "40ed91ddbc0644638076db768fd889cd": {
          "model_module": "@jupyter-widgets/output",
          "model_name": "OutputModel",
          "model_module_version": "1.0.0",
          "state": {
            "_dom_classes": [],
            "_model_module": "@jupyter-widgets/output",
            "_model_module_version": "1.0.0",
            "_model_name": "OutputModel",
            "_view_count": null,
            "_view_module": "@jupyter-widgets/output",
            "_view_module_version": "1.0.0",
            "_view_name": "OutputView",
            "layout": "IPY_MODEL_81434c4ee9e14222bc274ffdc3708524",
            "msg_id": "",
            "outputs": [
              {
                "output_type": "display_data",
                "data": {
                  "text/plain": "HBox(children=(Output(), Output()), layout=Layout(justify_content='initial'))",
                  "application/vnd.jupyter.widget-view+json": {
                    "version_major": 2,
                    "version_minor": 0,
                    "model_id": "ecad498a41c347329a5674268038a4ed"
                  }
                },
                "metadata": {}
              }
            ]
          }
        },
        "c20420a2a2b74d399a22ac3027af50c7": {
          "model_module": "@jupyter-widgets/base",
          "model_name": "LayoutModel",
          "model_module_version": "1.2.0",
          "state": {
            "_model_module": "@jupyter-widgets/base",
            "_model_module_version": "1.2.0",
            "_model_name": "LayoutModel",
            "_view_count": null,
            "_view_module": "@jupyter-widgets/base",
            "_view_module_version": "1.2.0",
            "_view_name": "LayoutView",
            "align_content": null,
            "align_items": null,
            "align_self": null,
            "border": null,
            "bottom": null,
            "display": null,
            "flex": null,
            "flex_flow": null,
            "grid_area": null,
            "grid_auto_columns": null,
            "grid_auto_flow": null,
            "grid_auto_rows": null,
            "grid_column": null,
            "grid_gap": null,
            "grid_row": null,
            "grid_template_areas": null,
            "grid_template_columns": null,
            "grid_template_rows": null,
            "height": null,
            "justify_content": null,
            "justify_items": null,
            "left": null,
            "margin": null,
            "max_height": null,
            "max_width": null,
            "min_height": null,
            "min_width": null,
            "object_fit": null,
            "object_position": null,
            "order": null,
            "overflow": null,
            "overflow_x": null,
            "overflow_y": null,
            "padding": null,
            "right": null,
            "top": null,
            "visibility": null,
            "width": null
          }
        },
        "8e644a5028614857b56c6053847310da": {
          "model_module": "@jupyter-widgets/base",
          "model_name": "LayoutModel",
          "model_module_version": "1.2.0",
          "state": {
            "_model_module": "@jupyter-widgets/base",
            "_model_module_version": "1.2.0",
            "_model_name": "LayoutModel",
            "_view_count": null,
            "_view_module": "@jupyter-widgets/base",
            "_view_module_version": "1.2.0",
            "_view_name": "LayoutView",
            "align_content": null,
            "align_items": null,
            "align_self": null,
            "border": null,
            "bottom": null,
            "display": null,
            "flex": null,
            "flex_flow": null,
            "grid_area": null,
            "grid_auto_columns": null,
            "grid_auto_flow": null,
            "grid_auto_rows": null,
            "grid_column": null,
            "grid_gap": null,
            "grid_row": null,
            "grid_template_areas": null,
            "grid_template_columns": null,
            "grid_template_rows": null,
            "height": null,
            "justify_content": null,
            "justify_items": null,
            "left": null,
            "margin": null,
            "max_height": null,
            "max_width": null,
            "min_height": null,
            "min_width": null,
            "object_fit": null,
            "object_position": null,
            "order": null,
            "overflow": null,
            "overflow_x": null,
            "overflow_y": null,
            "padding": null,
            "right": null,
            "top": null,
            "visibility": null,
            "width": "250px"
          }
        },
        "70eac5ff7b6f40e7872abe6a6d17a47b": {
          "model_module": "@jupyter-widgets/controls",
          "model_name": "DescriptionStyleModel",
          "model_module_version": "1.5.0",
          "state": {
            "_model_module": "@jupyter-widgets/controls",
            "_model_module_version": "1.5.0",
            "_model_name": "DescriptionStyleModel",
            "_view_count": null,
            "_view_module": "@jupyter-widgets/base",
            "_view_module_version": "1.2.0",
            "_view_name": "StyleView",
            "description_width": "initial"
          }
        },
        "e041308a78584c2f9e91bbb8ba995586": {
          "model_module": "@jupyter-widgets/base",
          "model_name": "LayoutModel",
          "model_module_version": "1.2.0",
          "state": {
            "_model_module": "@jupyter-widgets/base",
            "_model_module_version": "1.2.0",
            "_model_name": "LayoutModel",
            "_view_count": null,
            "_view_module": "@jupyter-widgets/base",
            "_view_module_version": "1.2.0",
            "_view_name": "LayoutView",
            "align_content": null,
            "align_items": null,
            "align_self": null,
            "border": null,
            "bottom": null,
            "display": null,
            "flex": null,
            "flex_flow": null,
            "grid_area": null,
            "grid_auto_columns": null,
            "grid_auto_flow": null,
            "grid_auto_rows": null,
            "grid_column": null,
            "grid_gap": null,
            "grid_row": null,
            "grid_template_areas": null,
            "grid_template_columns": null,
            "grid_template_rows": null,
            "height": null,
            "justify_content": null,
            "justify_items": null,
            "left": null,
            "margin": null,
            "max_height": null,
            "max_width": null,
            "min_height": null,
            "min_width": null,
            "object_fit": null,
            "object_position": null,
            "order": null,
            "overflow": null,
            "overflow_x": null,
            "overflow_y": null,
            "padding": null,
            "right": null,
            "top": null,
            "visibility": null,
            "width": "250px"
          }
        },
        "de81bdcca151400b99f1da97f137ad30": {
          "model_module": "@jupyter-widgets/controls",
          "model_name": "DescriptionStyleModel",
          "model_module_version": "1.5.0",
          "state": {
            "_model_module": "@jupyter-widgets/controls",
            "_model_module_version": "1.5.0",
            "_model_name": "DescriptionStyleModel",
            "_view_count": null,
            "_view_module": "@jupyter-widgets/base",
            "_view_module_version": "1.2.0",
            "_view_name": "StyleView",
            "description_width": "initial"
          }
        },
        "08de381ab395425685cb5fac9fc6468c": {
          "model_module": "@jupyter-widgets/base",
          "model_name": "LayoutModel",
          "model_module_version": "1.2.0",
          "state": {
            "_model_module": "@jupyter-widgets/base",
            "_model_module_version": "1.2.0",
            "_model_name": "LayoutModel",
            "_view_count": null,
            "_view_module": "@jupyter-widgets/base",
            "_view_module_version": "1.2.0",
            "_view_name": "LayoutView",
            "align_content": null,
            "align_items": null,
            "align_self": null,
            "border": null,
            "bottom": null,
            "display": null,
            "flex": null,
            "flex_flow": null,
            "grid_area": null,
            "grid_auto_columns": null,
            "grid_auto_flow": null,
            "grid_auto_rows": null,
            "grid_column": null,
            "grid_gap": null,
            "grid_row": null,
            "grid_template_areas": null,
            "grid_template_columns": null,
            "grid_template_rows": null,
            "height": null,
            "justify_content": null,
            "justify_items": null,
            "left": null,
            "margin": null,
            "max_height": null,
            "max_width": null,
            "min_height": null,
            "min_width": null,
            "object_fit": null,
            "object_position": null,
            "order": null,
            "overflow": null,
            "overflow_x": null,
            "overflow_y": null,
            "padding": null,
            "right": null,
            "top": null,
            "visibility": null,
            "width": "300px"
          }
        },
        "8179dc36dad14cf298b00028a413b811": {
          "model_module": "@jupyter-widgets/controls",
          "model_name": "SliderStyleModel",
          "model_module_version": "1.5.0",
          "state": {
            "_model_module": "@jupyter-widgets/controls",
            "_model_module_version": "1.5.0",
            "_model_name": "SliderStyleModel",
            "_view_count": null,
            "_view_module": "@jupyter-widgets/base",
            "_view_module_version": "1.2.0",
            "_view_name": "StyleView",
            "description_width": "initial",
            "handle_color": null
          }
        },
        "37123b7c5283460398ad2b1f16be868d": {
          "model_module": "@jupyter-widgets/base",
          "model_name": "LayoutModel",
          "model_module_version": "1.2.0",
          "state": {
            "_model_module": "@jupyter-widgets/base",
            "_model_module_version": "1.2.0",
            "_model_name": "LayoutModel",
            "_view_count": null,
            "_view_module": "@jupyter-widgets/base",
            "_view_module_version": "1.2.0",
            "_view_name": "LayoutView",
            "align_content": null,
            "align_items": null,
            "align_self": null,
            "border": null,
            "bottom": null,
            "display": null,
            "flex": null,
            "flex_flow": null,
            "grid_area": null,
            "grid_auto_columns": null,
            "grid_auto_flow": null,
            "grid_auto_rows": null,
            "grid_column": null,
            "grid_gap": null,
            "grid_row": null,
            "grid_template_areas": null,
            "grid_template_columns": null,
            "grid_template_rows": null,
            "height": null,
            "justify_content": null,
            "justify_items": null,
            "left": null,
            "margin": null,
            "max_height": null,
            "max_width": null,
            "min_height": null,
            "min_width": null,
            "object_fit": null,
            "object_position": null,
            "order": null,
            "overflow": null,
            "overflow_x": null,
            "overflow_y": null,
            "padding": null,
            "right": null,
            "top": null,
            "visibility": null,
            "width": "300px"
          }
        },
        "19cca07e79b142379eec4a83afbbfafa": {
          "model_module": "@jupyter-widgets/controls",
          "model_name": "SliderStyleModel",
          "model_module_version": "1.5.0",
          "state": {
            "_model_module": "@jupyter-widgets/controls",
            "_model_module_version": "1.5.0",
            "_model_name": "SliderStyleModel",
            "_view_count": null,
            "_view_module": "@jupyter-widgets/base",
            "_view_module_version": "1.2.0",
            "_view_name": "StyleView",
            "description_width": "initial",
            "handle_color": null
          }
        },
        "3c60d7030e8c49359de45eb58ffed013": {
          "model_module": "@jupyter-widgets/controls",
          "model_name": "HTMLModel",
          "model_module_version": "1.5.0",
          "state": {
            "_dom_classes": [],
            "_model_module": "@jupyter-widgets/controls",
            "_model_module_version": "1.5.0",
            "_model_name": "HTMLModel",
            "_view_count": null,
            "_view_module": "@jupyter-widgets/controls",
            "_view_module_version": "1.5.0",
            "_view_name": "HTMLView",
            "description": "",
            "description_tooltip": null,
            "layout": "IPY_MODEL_b103945446e74e9db4a14f856de60415",
            "placeholder": "​",
            "style": "IPY_MODEL_3103090e36cf4e9091cf6ab17676187b",
            "value": "Status:<span style='color: green;'> Connected to Leader_Mk_3_6 and MK3"
          }
        },
        "21ead2ad63a74f7296006bb0f986363d": {
          "model_module": "@jupyter-widgets/controls",
          "model_name": "ButtonModel",
          "model_module_version": "1.5.0",
          "state": {
            "_dom_classes": [],
            "_model_module": "@jupyter-widgets/controls",
            "_model_module_version": "1.5.0",
            "_model_name": "ButtonModel",
            "_view_count": null,
            "_view_module": "@jupyter-widgets/controls",
            "_view_module_version": "1.5.0",
            "_view_name": "ButtonView",
            "button_style": "",
            "description": "Connect",
            "disabled": false,
            "icon": "",
            "layout": "IPY_MODEL_1d201108b71a4df89f8ef1bb8d8fa28d",
            "style": "IPY_MODEL_4756fd8668cd498997e06097c3237354",
            "tooltip": ""
          }
        },
        "833255268b9c4ce3b3cacad8036956c9": {
          "model_module": "@jupyter-widgets/base",
          "model_name": "LayoutModel",
          "model_module_version": "1.2.0",
          "state": {
            "_model_module": "@jupyter-widgets/base",
            "_model_module_version": "1.2.0",
            "_model_name": "LayoutModel",
            "_view_count": null,
            "_view_module": "@jupyter-widgets/base",
            "_view_module_version": "1.2.0",
            "_view_name": "LayoutView",
            "align_content": null,
            "align_items": null,
            "align_self": null,
            "border": null,
            "bottom": null,
            "display": null,
            "flex": null,
            "flex_flow": null,
            "grid_area": null,
            "grid_auto_columns": null,
            "grid_auto_flow": null,
            "grid_auto_rows": null,
            "grid_column": null,
            "grid_gap": null,
            "grid_row": null,
            "grid_template_areas": null,
            "grid_template_columns": null,
            "grid_template_rows": null,
            "height": null,
            "justify_content": null,
            "justify_items": null,
            "left": null,
            "margin": null,
            "max_height": null,
            "max_width": null,
            "min_height": null,
            "min_width": null,
            "object_fit": null,
            "object_position": null,
            "order": null,
            "overflow": null,
            "overflow_x": null,
            "overflow_y": null,
            "padding": null,
            "right": null,
            "top": null,
            "visibility": null,
            "width": null
          }
        },
        "33935d0034db40f8b0597b48922cd937": {
          "model_module": "@jupyter-widgets/controls",
          "model_name": "ButtonModel",
          "model_module_version": "1.5.0",
          "state": {
            "_dom_classes": [],
            "_model_module": "@jupyter-widgets/controls",
            "_model_module_version": "1.5.0",
            "_model_name": "ButtonModel",
            "_view_count": null,
            "_view_module": "@jupyter-widgets/controls",
            "_view_module_version": "1.5.0",
            "_view_name": "ButtonView",
            "button_style": "",
            "description": "Start Simulation",
            "disabled": false,
            "icon": "",
            "layout": "IPY_MODEL_a38a3b6d738742e7830ecfeeca771d4b",
            "style": "IPY_MODEL_5a1eb4cbded84b4eae5bcf0ca6b70c20",
            "tooltip": ""
          }
        },
        "99ef6d0636234736a248cac250050bfb": {
          "model_module": "@jupyter-widgets/controls",
          "model_name": "ButtonModel",
          "model_module_version": "1.5.0",
          "state": {
            "_dom_classes": [],
            "_model_module": "@jupyter-widgets/controls",
            "_model_module_version": "1.5.0",
            "_model_name": "ButtonModel",
            "_view_count": null,
            "_view_module": "@jupyter-widgets/controls",
            "_view_module_version": "1.5.0",
            "_view_name": "ButtonView",
            "button_style": "",
            "description": "Export Data",
            "disabled": false,
            "icon": "",
            "layout": "IPY_MODEL_fc68cf2593c94e9aae874cdc1bbc56b8",
            "style": "IPY_MODEL_2f27c82fc9a74f508966d19097bdf337",
            "tooltip": ""
          }
        },
        "c172895d599f477e9c77add83a9aea10": {
          "model_module": "@jupyter-widgets/base",
          "model_name": "LayoutModel",
          "model_module_version": "1.2.0",
          "state": {
            "_model_module": "@jupyter-widgets/base",
            "_model_module_version": "1.2.0",
            "_model_name": "LayoutModel",
            "_view_count": null,
            "_view_module": "@jupyter-widgets/base",
            "_view_module_version": "1.2.0",
            "_view_name": "LayoutView",
            "align_content": null,
            "align_items": null,
            "align_self": null,
            "border": null,
            "bottom": null,
            "display": null,
            "flex": null,
            "flex_flow": null,
            "grid_area": null,
            "grid_auto_columns": null,
            "grid_auto_flow": null,
            "grid_auto_rows": null,
            "grid_column": null,
            "grid_gap": null,
            "grid_row": null,
            "grid_template_areas": null,
            "grid_template_columns": null,
            "grid_template_rows": null,
            "height": null,
            "justify_content": null,
            "justify_items": null,
            "left": null,
            "margin": null,
            "max_height": null,
            "max_width": null,
            "min_height": null,
            "min_width": null,
            "object_fit": null,
            "object_position": null,
            "order": null,
            "overflow": null,
            "overflow_x": null,
            "overflow_y": null,
            "padding": null,
            "right": null,
            "top": null,
            "visibility": null,
            "width": null
          }
        },
        "b103945446e74e9db4a14f856de60415": {
          "model_module": "@jupyter-widgets/base",
          "model_name": "LayoutModel",
          "model_module_version": "1.2.0",
          "state": {
            "_model_module": "@jupyter-widgets/base",
            "_model_module_version": "1.2.0",
            "_model_name": "LayoutModel",
            "_view_count": null,
            "_view_module": "@jupyter-widgets/base",
            "_view_module_version": "1.2.0",
            "_view_name": "LayoutView",
            "align_content": null,
            "align_items": null,
            "align_self": null,
            "border": null,
            "bottom": null,
            "display": null,
            "flex": null,
            "flex_flow": null,
            "grid_area": null,
            "grid_auto_columns": null,
            "grid_auto_flow": null,
            "grid_auto_rows": null,
            "grid_column": null,
            "grid_gap": null,
            "grid_row": null,
            "grid_template_areas": null,
            "grid_template_columns": null,
            "grid_template_rows": null,
            "height": null,
            "justify_content": null,
            "justify_items": null,
            "left": null,
            "margin": null,
            "max_height": null,
            "max_width": null,
            "min_height": null,
            "min_width": null,
            "object_fit": null,
            "object_position": null,
            "order": null,
            "overflow": null,
            "overflow_x": null,
            "overflow_y": null,
            "padding": null,
            "right": null,
            "top": null,
            "visibility": null,
            "width": "300px"
          }
        },
        "3103090e36cf4e9091cf6ab17676187b": {
          "model_module": "@jupyter-widgets/controls",
          "model_name": "DescriptionStyleModel",
          "model_module_version": "1.5.0",
          "state": {
            "_model_module": "@jupyter-widgets/controls",
            "_model_module_version": "1.5.0",
            "_model_name": "DescriptionStyleModel",
            "_view_count": null,
            "_view_module": "@jupyter-widgets/base",
            "_view_module_version": "1.2.0",
            "_view_name": "StyleView",
            "description_width": ""
          }
        },
        "1d201108b71a4df89f8ef1bb8d8fa28d": {
          "model_module": "@jupyter-widgets/base",
          "model_name": "LayoutModel",
          "model_module_version": "1.2.0",
          "state": {
            "_model_module": "@jupyter-widgets/base",
            "_model_module_version": "1.2.0",
            "_model_name": "LayoutModel",
            "_view_count": null,
            "_view_module": "@jupyter-widgets/base",
            "_view_module_version": "1.2.0",
            "_view_name": "LayoutView",
            "align_content": null,
            "align_items": null,
            "align_self": null,
            "border": null,
            "bottom": null,
            "display": null,
            "flex": null,
            "flex_flow": null,
            "grid_area": null,
            "grid_auto_columns": null,
            "grid_auto_flow": null,
            "grid_auto_rows": null,
            "grid_column": null,
            "grid_gap": null,
            "grid_row": null,
            "grid_template_areas": null,
            "grid_template_columns": null,
            "grid_template_rows": null,
            "height": null,
            "justify_content": null,
            "justify_items": null,
            "left": null,
            "margin": null,
            "max_height": null,
            "max_width": null,
            "min_height": null,
            "min_width": null,
            "object_fit": null,
            "object_position": null,
            "order": null,
            "overflow": null,
            "overflow_x": null,
            "overflow_y": null,
            "padding": null,
            "right": null,
            "top": null,
            "visibility": null,
            "width": "100px"
          }
        },
        "4756fd8668cd498997e06097c3237354": {
          "model_module": "@jupyter-widgets/controls",
          "model_name": "ButtonStyleModel",
          "model_module_version": "1.5.0",
          "state": {
            "_model_module": "@jupyter-widgets/controls",
            "_model_module_version": "1.5.0",
            "_model_name": "ButtonStyleModel",
            "_view_count": null,
            "_view_module": "@jupyter-widgets/base",
            "_view_module_version": "1.2.0",
            "_view_name": "StyleView",
            "button_color": null,
            "font_weight": ""
          }
        },
        "a38a3b6d738742e7830ecfeeca771d4b": {
          "model_module": "@jupyter-widgets/base",
          "model_name": "LayoutModel",
          "model_module_version": "1.2.0",
          "state": {
            "_model_module": "@jupyter-widgets/base",
            "_model_module_version": "1.2.0",
            "_model_name": "LayoutModel",
            "_view_count": null,
            "_view_module": "@jupyter-widgets/base",
            "_view_module_version": "1.2.0",
            "_view_name": "LayoutView",
            "align_content": null,
            "align_items": null,
            "align_self": null,
            "border": null,
            "bottom": null,
            "display": null,
            "flex": null,
            "flex_flow": null,
            "grid_area": null,
            "grid_auto_columns": null,
            "grid_auto_flow": null,
            "grid_auto_rows": null,
            "grid_column": null,
            "grid_gap": null,
            "grid_row": null,
            "grid_template_areas": null,
            "grid_template_columns": null,
            "grid_template_rows": null,
            "height": null,
            "justify_content": null,
            "justify_items": null,
            "left": null,
            "margin": null,
            "max_height": null,
            "max_width": null,
            "min_height": null,
            "min_width": null,
            "object_fit": null,
            "object_position": null,
            "order": null,
            "overflow": null,
            "overflow_x": null,
            "overflow_y": null,
            "padding": null,
            "right": null,
            "top": null,
            "visibility": null,
            "width": "200px"
          }
        },
        "5a1eb4cbded84b4eae5bcf0ca6b70c20": {
          "model_module": "@jupyter-widgets/controls",
          "model_name": "ButtonStyleModel",
          "model_module_version": "1.5.0",
          "state": {
            "_model_module": "@jupyter-widgets/controls",
            "_model_module_version": "1.5.0",
            "_model_name": "ButtonStyleModel",
            "_view_count": null,
            "_view_module": "@jupyter-widgets/base",
            "_view_module_version": "1.2.0",
            "_view_name": "StyleView",
            "button_color": null,
            "font_weight": ""
          }
        },
        "fc68cf2593c94e9aae874cdc1bbc56b8": {
          "model_module": "@jupyter-widgets/base",
          "model_name": "LayoutModel",
          "model_module_version": "1.2.0",
          "state": {
            "_model_module": "@jupyter-widgets/base",
            "_model_module_version": "1.2.0",
            "_model_name": "LayoutModel",
            "_view_count": null,
            "_view_module": "@jupyter-widgets/base",
            "_view_module_version": "1.2.0",
            "_view_name": "LayoutView",
            "align_content": null,
            "align_items": null,
            "align_self": null,
            "border": null,
            "bottom": null,
            "display": null,
            "flex": null,
            "flex_flow": null,
            "grid_area": null,
            "grid_auto_columns": null,
            "grid_auto_flow": null,
            "grid_auto_rows": null,
            "grid_column": null,
            "grid_gap": null,
            "grid_row": null,
            "grid_template_areas": null,
            "grid_template_columns": null,
            "grid_template_rows": null,
            "height": null,
            "justify_content": null,
            "justify_items": null,
            "left": null,
            "margin": null,
            "max_height": null,
            "max_width": null,
            "min_height": null,
            "min_width": null,
            "object_fit": null,
            "object_position": null,
            "order": null,
            "overflow": null,
            "overflow_x": null,
            "overflow_y": null,
            "padding": null,
            "right": null,
            "top": null,
            "visibility": null,
            "width": "200px"
          }
        },
        "2f27c82fc9a74f508966d19097bdf337": {
          "model_module": "@jupyter-widgets/controls",
          "model_name": "ButtonStyleModel",
          "model_module_version": "1.5.0",
          "state": {
            "_model_module": "@jupyter-widgets/controls",
            "_model_module_version": "1.5.0",
            "_model_name": "ButtonStyleModel",
            "_view_count": null,
            "_view_module": "@jupyter-widgets/base",
            "_view_module_version": "1.2.0",
            "_view_name": "StyleView",
            "button_color": null,
            "font_weight": ""
          }
        },
        "81434c4ee9e14222bc274ffdc3708524": {
          "model_module": "@jupyter-widgets/base",
          "model_name": "LayoutModel",
          "model_module_version": "1.2.0",
          "state": {
            "_model_module": "@jupyter-widgets/base",
            "_model_module_version": "1.2.0",
            "_model_name": "LayoutModel",
            "_view_count": null,
            "_view_module": "@jupyter-widgets/base",
            "_view_module_version": "1.2.0",
            "_view_name": "LayoutView",
            "align_content": null,
            "align_items": null,
            "align_self": null,
            "border": null,
            "bottom": null,
            "display": null,
            "flex": null,
            "flex_flow": null,
            "grid_area": null,
            "grid_auto_columns": null,
            "grid_auto_flow": null,
            "grid_auto_rows": null,
            "grid_column": null,
            "grid_gap": null,
            "grid_row": null,
            "grid_template_areas": null,
            "grid_template_columns": null,
            "grid_template_rows": null,
            "height": null,
            "justify_content": null,
            "justify_items": null,
            "left": null,
            "margin": null,
            "max_height": null,
            "max_width": null,
            "min_height": null,
            "min_width": null,
            "object_fit": null,
            "object_position": null,
            "order": null,
            "overflow": null,
            "overflow_x": null,
            "overflow_y": null,
            "padding": null,
            "right": null,
            "top": null,
            "visibility": null,
            "width": null
          }
        },
        "ecad498a41c347329a5674268038a4ed": {
          "model_module": "@jupyter-widgets/controls",
          "model_name": "HBoxModel",
          "model_module_version": "1.5.0",
          "state": {
            "_dom_classes": [],
            "_model_module": "@jupyter-widgets/controls",
            "_model_module_version": "1.5.0",
            "_model_name": "HBoxModel",
            "_view_count": null,
            "_view_module": "@jupyter-widgets/controls",
            "_view_module_version": "1.5.0",
            "_view_name": "HBoxView",
            "box_style": "",
            "children": [
              "IPY_MODEL_2eb2e8de6bda448d90d19ed1b1e5a4bc",
              "IPY_MODEL_b0d6d80ecb0d404a9f2339e33dbd4fb1"
            ],
            "layout": "IPY_MODEL_e2cb129cc105453f991ada521ec77f53"
          }
        },
        "2eb2e8de6bda448d90d19ed1b1e5a4bc": {
          "model_module": "@jupyter-widgets/output",
          "model_name": "OutputModel",
          "model_module_version": "1.0.0",
          "state": {
            "_dom_classes": [],
            "_model_module": "@jupyter-widgets/output",
            "_model_module_version": "1.0.0",
            "_model_name": "OutputModel",
            "_view_count": null,
            "_view_module": "@jupyter-widgets/output",
            "_view_module_version": "1.0.0",
            "_view_name": "OutputView",
            "layout": "IPY_MODEL_2332af33afd247a9af575778eaecd71b",
            "msg_id": "",
            "outputs": [
              {
                "output_type": "display_data",
                "data": {
                  "text/plain": "      Leader Price  Follower Price  Cost\nDate                                    \n130              2        2.418260   1.0\n129              2        2.497440   1.0\n128              2        2.557310   1.0\n127              2        2.414607   1.0\n126              2        2.448628   1.0\n125              2        2.476118   1.0\n124              2        2.587852   1.0\n123              2        2.430148   1.0\n122              2        2.689748   1.0\n121              2        2.415858   1.0\n120              2        2.773859   1.0\n119              2        2.513613   1.0\n118              2        2.554402   1.0\n117              2        2.501540   1.0\n116              2        2.517372   1.0\n115              2        2.584081   1.0\n114              2        2.416113   1.0\n113              2        2.418129   1.0\n112              2        2.537054   1.0\n111              2        2.567937   1.0\n110              2        2.391037   1.0\n109              2        2.475655   1.0\n108              2        2.626959   1.0\n107              2        2.508233   1.0\n106              2        2.721802   1.0\n105              2        2.567303   1.0\n104              2        2.422746   1.0\n103              2        2.550941   1.0\n102              2        2.701088   1.0\n101              2        2.513894   1.0",
                  "text/html": "\n  <div id=\"df-670df208-af23-4d77-ae05-e72a070d30b0\" class=\"colab-df-container\">\n    <div>\n<style scoped>\n    .dataframe tbody tr th:only-of-type {\n        vertical-align: middle;\n    }\n\n    .dataframe tbody tr th {\n        vertical-align: top;\n    }\n\n    .dataframe thead th {\n        text-align: right;\n    }\n</style>\n<table border=\"1\" class=\"dataframe\">\n  <thead>\n    <tr style=\"text-align: right;\">\n      <th></th>\n      <th>Leader Price</th>\n      <th>Follower Price</th>\n      <th>Cost</th>\n    </tr>\n    <tr>\n      <th>Date</th>\n      <th></th>\n      <th></th>\n      <th></th>\n    </tr>\n  </thead>\n  <tbody>\n    <tr>\n      <th>130</th>\n      <td>2</td>\n      <td>2.418260</td>\n      <td>1.0</td>\n    </tr>\n    <tr>\n      <th>129</th>\n      <td>2</td>\n      <td>2.497440</td>\n      <td>1.0</td>\n    </tr>\n    <tr>\n      <th>128</th>\n      <td>2</td>\n      <td>2.557310</td>\n      <td>1.0</td>\n    </tr>\n    <tr>\n      <th>127</th>\n      <td>2</td>\n      <td>2.414607</td>\n      <td>1.0</td>\n    </tr>\n    <tr>\n      <th>126</th>\n      <td>2</td>\n      <td>2.448628</td>\n      <td>1.0</td>\n    </tr>\n    <tr>\n      <th>125</th>\n      <td>2</td>\n      <td>2.476118</td>\n      <td>1.0</td>\n    </tr>\n    <tr>\n      <th>124</th>\n      <td>2</td>\n      <td>2.587852</td>\n      <td>1.0</td>\n    </tr>\n    <tr>\n      <th>123</th>\n      <td>2</td>\n      <td>2.430148</td>\n      <td>1.0</td>\n    </tr>\n    <tr>\n      <th>122</th>\n      <td>2</td>\n      <td>2.689748</td>\n      <td>1.0</td>\n    </tr>\n    <tr>\n      <th>121</th>\n      <td>2</td>\n      <td>2.415858</td>\n      <td>1.0</td>\n    </tr>\n    <tr>\n      <th>120</th>\n      <td>2</td>\n      <td>2.773859</td>\n      <td>1.0</td>\n    </tr>\n    <tr>\n      <th>119</th>\n      <td>2</td>\n      <td>2.513613</td>\n      <td>1.0</td>\n    </tr>\n    <tr>\n      <th>118</th>\n      <td>2</td>\n      <td>2.554402</td>\n      <td>1.0</td>\n    </tr>\n    <tr>\n      <th>117</th>\n      <td>2</td>\n      <td>2.501540</td>\n      <td>1.0</td>\n    </tr>\n    <tr>\n      <th>116</th>\n      <td>2</td>\n      <td>2.517372</td>\n      <td>1.0</td>\n    </tr>\n    <tr>\n      <th>115</th>\n      <td>2</td>\n      <td>2.584081</td>\n      <td>1.0</td>\n    </tr>\n    <tr>\n      <th>114</th>\n      <td>2</td>\n      <td>2.416113</td>\n      <td>1.0</td>\n    </tr>\n    <tr>\n      <th>113</th>\n      <td>2</td>\n      <td>2.418129</td>\n      <td>1.0</td>\n    </tr>\n    <tr>\n      <th>112</th>\n      <td>2</td>\n      <td>2.537054</td>\n      <td>1.0</td>\n    </tr>\n    <tr>\n      <th>111</th>\n      <td>2</td>\n      <td>2.567937</td>\n      <td>1.0</td>\n    </tr>\n    <tr>\n      <th>110</th>\n      <td>2</td>\n      <td>2.391037</td>\n      <td>1.0</td>\n    </tr>\n    <tr>\n      <th>109</th>\n      <td>2</td>\n      <td>2.475655</td>\n      <td>1.0</td>\n    </tr>\n    <tr>\n      <th>108</th>\n      <td>2</td>\n      <td>2.626959</td>\n      <td>1.0</td>\n    </tr>\n    <tr>\n      <th>107</th>\n      <td>2</td>\n      <td>2.508233</td>\n      <td>1.0</td>\n    </tr>\n    <tr>\n      <th>106</th>\n      <td>2</td>\n      <td>2.721802</td>\n      <td>1.0</td>\n    </tr>\n    <tr>\n      <th>105</th>\n      <td>2</td>\n      <td>2.567303</td>\n      <td>1.0</td>\n    </tr>\n    <tr>\n      <th>104</th>\n      <td>2</td>\n      <td>2.422746</td>\n      <td>1.0</td>\n    </tr>\n    <tr>\n      <th>103</th>\n      <td>2</td>\n      <td>2.550941</td>\n      <td>1.0</td>\n    </tr>\n    <tr>\n      <th>102</th>\n      <td>2</td>\n      <td>2.701088</td>\n      <td>1.0</td>\n    </tr>\n    <tr>\n      <th>101</th>\n      <td>2</td>\n      <td>2.513894</td>\n      <td>1.0</td>\n    </tr>\n  </tbody>\n</table>\n</div>\n    <div class=\"colab-df-buttons\">\n\n  <div class=\"colab-df-container\">\n    <button class=\"colab-df-convert\" onclick=\"convertToInteractive('df-670df208-af23-4d77-ae05-e72a070d30b0')\"\n            title=\"Convert this dataframe to an interactive table.\"\n            style=\"display:none;\">\n\n  <svg xmlns=\"http://www.w3.org/2000/svg\" height=\"24px\" viewBox=\"0 -960 960 960\">\n    <path d=\"M120-120v-720h720v720H120Zm60-500h600v-160H180v160Zm220 220h160v-160H400v160Zm0 220h160v-160H400v160ZM180-400h160v-160H180v160Zm440 0h160v-160H620v160ZM180-180h160v-160H180v160Zm440 0h160v-160H620v160Z\"/>\n  </svg>\n    </button>\n\n  <style>\n    .colab-df-container {\n      display:flex;\n      gap: 12px;\n    }\n\n    .colab-df-convert {\n      background-color: #E8F0FE;\n      border: none;\n      border-radius: 50%;\n      cursor: pointer;\n      display: none;\n      fill: #1967D2;\n      height: 32px;\n      padding: 0 0 0 0;\n      width: 32px;\n    }\n\n    .colab-df-convert:hover {\n      background-color: #E2EBFA;\n      box-shadow: 0px 1px 2px rgba(60, 64, 67, 0.3), 0px 1px 3px 1px rgba(60, 64, 67, 0.15);\n      fill: #174EA6;\n    }\n\n    .colab-df-buttons div {\n      margin-bottom: 4px;\n    }\n\n    [theme=dark] .colab-df-convert {\n      background-color: #3B4455;\n      fill: #D2E3FC;\n    }\n\n    [theme=dark] .colab-df-convert:hover {\n      background-color: #434B5C;\n      box-shadow: 0px 1px 3px 1px rgba(0, 0, 0, 0.15);\n      filter: drop-shadow(0px 1px 2px rgba(0, 0, 0, 0.3));\n      fill: #FFFFFF;\n    }\n  </style>\n\n    <script>\n      const buttonEl =\n        document.querySelector('#df-670df208-af23-4d77-ae05-e72a070d30b0 button.colab-df-convert');\n      buttonEl.style.display =\n        google.colab.kernel.accessAllowed ? 'block' : 'none';\n\n      async function convertToInteractive(key) {\n        const element = document.querySelector('#df-670df208-af23-4d77-ae05-e72a070d30b0');\n        const dataTable =\n          await google.colab.kernel.invokeFunction('convertToInteractive',\n                                                    [key], {});\n        if (!dataTable) return;\n\n        const docLinkHtml = 'Like what you see? Visit the ' +\n          '<a target=\"_blank\" href=https://colab.research.google.com/notebooks/data_table.ipynb>data table notebook</a>'\n          + ' to learn more about interactive tables.';\n        element.innerHTML = '';\n        dataTable['output_type'] = 'display_data';\n        await google.colab.output.renderOutput(dataTable, element);\n        const docLink = document.createElement('div');\n        docLink.innerHTML = docLinkHtml;\n        element.appendChild(docLink);\n      }\n    </script>\n  </div>\n\n\n    <div id=\"df-950c0dcb-5f14-4884-a2a1-503b7fed659f\">\n      <button class=\"colab-df-quickchart\" onclick=\"quickchart('df-950c0dcb-5f14-4884-a2a1-503b7fed659f')\"\n                title=\"Suggest charts\"\n                style=\"display:none;\">\n\n<svg xmlns=\"http://www.w3.org/2000/svg\" height=\"24px\"viewBox=\"0 0 24 24\"\n     width=\"24px\">\n    <g>\n        <path d=\"M19 3H5c-1.1 0-2 .9-2 2v14c0 1.1.9 2 2 2h14c1.1 0 2-.9 2-2V5c0-1.1-.9-2-2-2zM9 17H7v-7h2v7zm4 0h-2V7h2v10zm4 0h-2v-4h2v4z\"/>\n    </g>\n</svg>\n      </button>\n\n<style>\n  .colab-df-quickchart {\n      --bg-color: #E8F0FE;\n      --fill-color: #1967D2;\n      --hover-bg-color: #E2EBFA;\n      --hover-fill-color: #174EA6;\n      --disabled-fill-color: #AAA;\n      --disabled-bg-color: #DDD;\n  }\n\n  [theme=dark] .colab-df-quickchart {\n      --bg-color: #3B4455;\n      --fill-color: #D2E3FC;\n      --hover-bg-color: #434B5C;\n      --hover-fill-color: #FFFFFF;\n      --disabled-bg-color: #3B4455;\n      --disabled-fill-color: #666;\n  }\n\n  .colab-df-quickchart {\n    background-color: var(--bg-color);\n    border: none;\n    border-radius: 50%;\n    cursor: pointer;\n    display: none;\n    fill: var(--fill-color);\n    height: 32px;\n    padding: 0;\n    width: 32px;\n  }\n\n  .colab-df-quickchart:hover {\n    background-color: var(--hover-bg-color);\n    box-shadow: 0 1px 2px rgba(60, 64, 67, 0.3), 0 1px 3px 1px rgba(60, 64, 67, 0.15);\n    fill: var(--button-hover-fill-color);\n  }\n\n  .colab-df-quickchart-complete:disabled,\n  .colab-df-quickchart-complete:disabled:hover {\n    background-color: var(--disabled-bg-color);\n    fill: var(--disabled-fill-color);\n    box-shadow: none;\n  }\n\n  .colab-df-spinner {\n    border: 2px solid var(--fill-color);\n    border-color: transparent;\n    border-bottom-color: var(--fill-color);\n    animation:\n      spin 1s steps(1) infinite;\n  }\n\n  @keyframes spin {\n    0% {\n      border-color: transparent;\n      border-bottom-color: var(--fill-color);\n      border-left-color: var(--fill-color);\n    }\n    20% {\n      border-color: transparent;\n      border-left-color: var(--fill-color);\n      border-top-color: var(--fill-color);\n    }\n    30% {\n      border-color: transparent;\n      border-left-color: var(--fill-color);\n      border-top-color: var(--fill-color);\n      border-right-color: var(--fill-color);\n    }\n    40% {\n      border-color: transparent;\n      border-right-color: var(--fill-color);\n      border-top-color: var(--fill-color);\n    }\n    60% {\n      border-color: transparent;\n      border-right-color: var(--fill-color);\n    }\n    80% {\n      border-color: transparent;\n      border-right-color: var(--fill-color);\n      border-bottom-color: var(--fill-color);\n    }\n    90% {\n      border-color: transparent;\n      border-bottom-color: var(--fill-color);\n    }\n  }\n</style>\n\n      <script>\n        async function quickchart(key) {\n          const quickchartButtonEl =\n            document.querySelector('#' + key + ' button');\n          quickchartButtonEl.disabled = true;  // To prevent multiple clicks.\n          quickchartButtonEl.classList.add('colab-df-spinner');\n          try {\n            const charts = await google.colab.kernel.invokeFunction(\n                'suggestCharts', [key], {});\n          } catch (error) {\n            console.error('Error during call to suggestCharts:', error);\n          }\n          quickchartButtonEl.classList.remove('colab-df-spinner');\n          quickchartButtonEl.classList.add('colab-df-quickchart-complete');\n        }\n        (() => {\n          let quickchartButtonEl =\n            document.querySelector('#df-950c0dcb-5f14-4884-a2a1-503b7fed659f button');\n          quickchartButtonEl.style.display =\n            google.colab.kernel.accessAllowed ? 'block' : 'none';\n        })();\n      </script>\n    </div>\n\n    </div>\n  </div>\n",
                  "application/vnd.google.colaboratory.intrinsic+json": {
                    "type": "dataframe",
                    "summary": "{\n  \"name\": \"app = GUI(engine, Leader, group_num)\",\n  \"rows\": 30,\n  \"fields\": [\n    {\n      \"column\": \"Date\",\n      \"properties\": {\n        \"dtype\": \"number\",\n        \"std\": 8,\n        \"min\": 101,\n        \"max\": 130,\n        \"num_unique_values\": 30,\n        \"samples\": [\n          103,\n          115,\n          107\n        ],\n        \"semantic_type\": \"\",\n        \"description\": \"\"\n      }\n    },\n    {\n      \"column\": \"Leader Price\",\n      \"properties\": {\n        \"dtype\": \"number\",\n        \"std\": 0,\n        \"min\": 2,\n        \"max\": 2,\n        \"num_unique_values\": 1,\n        \"samples\": [\n          2\n        ],\n        \"semantic_type\": \"\",\n        \"description\": \"\"\n      }\n    },\n    {\n      \"column\": \"Follower Price\",\n      \"properties\": {\n        \"dtype\": \"number\",\n        \"std\": 0.10028449285272385,\n        \"min\": 2.391037149744723,\n        \"max\": 2.7738586328372064,\n        \"num_unique_values\": 30,\n        \"samples\": [\n          2.550941019655251\n        ],\n        \"semantic_type\": \"\",\n        \"description\": \"\"\n      }\n    },\n    {\n      \"column\": \"Cost\",\n      \"properties\": {\n        \"dtype\": \"number\",\n        \"std\": 0.0,\n        \"min\": 1.0,\n        \"max\": 1.0,\n        \"num_unique_values\": 1,\n        \"samples\": [\n          1.0\n        ],\n        \"semantic_type\": \"\",\n        \"description\": \"\"\n      }\n    }\n  ]\n}"
                  }
                },
                "metadata": {}
              }
            ]
          }
        },
        "b0d6d80ecb0d404a9f2339e33dbd4fb1": {
          "model_module": "@jupyter-widgets/output",
          "model_name": "OutputModel",
          "model_module_version": "1.0.0",
          "state": {
            "_dom_classes": [],
            "_model_module": "@jupyter-widgets/output",
            "_model_module_version": "1.0.0",
            "_model_name": "OutputModel",
            "_view_count": null,
            "_view_module": "@jupyter-widgets/output",
            "_view_module_version": "1.0.0",
            "_view_name": "OutputView",
            "layout": "IPY_MODEL_31934d3ed80d4723901414eed8a70ea3",
            "msg_id": "",
            "outputs": [
              {
                "output_type": "display_data",
                "data": {
                  "text/plain": "<IPython.core.display.HTML object>",
                  "text/html": "<br><br><br><br><br><br><br><br><br><br><b style='font-size: 17px;'><u>Profit made: 22.739919181667478</u></b>"
                },
                "metadata": {}
              }
            ]
          }
        },
        "e2cb129cc105453f991ada521ec77f53": {
          "model_module": "@jupyter-widgets/base",
          "model_name": "LayoutModel",
          "model_module_version": "1.2.0",
          "state": {
            "_model_module": "@jupyter-widgets/base",
            "_model_module_version": "1.2.0",
            "_model_name": "LayoutModel",
            "_view_count": null,
            "_view_module": "@jupyter-widgets/base",
            "_view_module_version": "1.2.0",
            "_view_name": "LayoutView",
            "align_content": null,
            "align_items": null,
            "align_self": null,
            "border": null,
            "bottom": null,
            "display": null,
            "flex": null,
            "flex_flow": null,
            "grid_area": null,
            "grid_auto_columns": null,
            "grid_auto_flow": null,
            "grid_auto_rows": null,
            "grid_column": null,
            "grid_gap": null,
            "grid_row": null,
            "grid_template_areas": null,
            "grid_template_columns": null,
            "grid_template_rows": null,
            "height": null,
            "justify_content": "initial",
            "justify_items": null,
            "left": null,
            "margin": null,
            "max_height": null,
            "max_width": null,
            "min_height": null,
            "min_width": null,
            "object_fit": null,
            "object_position": null,
            "order": null,
            "overflow": null,
            "overflow_x": null,
            "overflow_y": null,
            "padding": null,
            "right": null,
            "top": null,
            "visibility": null,
            "width": null
          }
        },
        "2332af33afd247a9af575778eaecd71b": {
          "model_module": "@jupyter-widgets/base",
          "model_name": "LayoutModel",
          "model_module_version": "1.2.0",
          "state": {
            "_model_module": "@jupyter-widgets/base",
            "_model_module_version": "1.2.0",
            "_model_name": "LayoutModel",
            "_view_count": null,
            "_view_module": "@jupyter-widgets/base",
            "_view_module_version": "1.2.0",
            "_view_name": "LayoutView",
            "align_content": null,
            "align_items": null,
            "align_self": null,
            "border": null,
            "bottom": null,
            "display": null,
            "flex": null,
            "flex_flow": null,
            "grid_area": null,
            "grid_auto_columns": null,
            "grid_auto_flow": null,
            "grid_auto_rows": null,
            "grid_column": null,
            "grid_gap": null,
            "grid_row": null,
            "grid_template_areas": null,
            "grid_template_columns": null,
            "grid_template_rows": null,
            "height": null,
            "justify_content": null,
            "justify_items": null,
            "left": null,
            "margin": null,
            "max_height": null,
            "max_width": null,
            "min_height": null,
            "min_width": null,
            "object_fit": null,
            "object_position": null,
            "order": null,
            "overflow": null,
            "overflow_x": null,
            "overflow_y": null,
            "padding": null,
            "right": null,
            "top": null,
            "visibility": null,
            "width": null
          }
        },
        "31934d3ed80d4723901414eed8a70ea3": {
          "model_module": "@jupyter-widgets/base",
          "model_name": "LayoutModel",
          "model_module_version": "1.2.0",
          "state": {
            "_model_module": "@jupyter-widgets/base",
            "_model_module_version": "1.2.0",
            "_model_name": "LayoutModel",
            "_view_count": null,
            "_view_module": "@jupyter-widgets/base",
            "_view_module_version": "1.2.0",
            "_view_name": "LayoutView",
            "align_content": null,
            "align_items": null,
            "align_self": null,
            "border": null,
            "bottom": null,
            "display": null,
            "flex": null,
            "flex_flow": null,
            "grid_area": null,
            "grid_auto_columns": null,
            "grid_auto_flow": null,
            "grid_auto_rows": null,
            "grid_column": null,
            "grid_gap": null,
            "grid_row": null,
            "grid_template_areas": null,
            "grid_template_columns": null,
            "grid_template_rows": null,
            "height": null,
            "justify_content": null,
            "justify_items": null,
            "left": null,
            "margin": null,
            "max_height": null,
            "max_width": null,
            "min_height": null,
            "min_width": null,
            "object_fit": null,
            "object_position": null,
            "order": null,
            "overflow": null,
            "overflow_x": null,
            "overflow_y": null,
            "padding": null,
            "right": null,
            "top": null,
            "visibility": null,
            "width": null
          }
        }
      }
    }
  },
  "nbformat": 4,
  "nbformat_minor": 0
}